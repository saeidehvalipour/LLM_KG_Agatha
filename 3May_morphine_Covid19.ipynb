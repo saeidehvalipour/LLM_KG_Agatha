{
 "cells": [
  {
   "cell_type": "markdown",
   "id": "553ef616-05c8-4b07-b22a-bb7bbca12f7d",
   "metadata": {},
   "source": [
    "# 3rd May April: Morphine + Covid"
   ]
  },
  {
   "cell_type": "code",
   "execution_count": 13,
   "id": "e2687c68-cc1a-4494-8e6b-b16e79a66b6f",
   "metadata": {
    "execution": {
     "iopub.execute_input": "2024-05-06T17:03:34.035247Z",
     "iopub.status.busy": "2024-05-06T17:03:34.034792Z",
     "iopub.status.idle": "2024-05-06T17:03:37.266619Z",
     "shell.execute_reply": "2024-05-06T17:03:37.265284Z",
     "shell.execute_reply.started": "2024-05-06T17:03:34.035215Z"
    },
    "tags": []
   },
   "outputs": [],
   "source": [
    "import json\n",
    "import torch\n",
    "import os\n",
    "import pandas as pd\n",
    "import numpy as np\n",
    "from pathlib import Path\n",
    "from tqdm import tqdm\n",
    "import random\n",
    "import openai\n",
    "\n",
    "from pathlib import Path\n",
    "from openai import OpenAI\n",
    "from agatha.construct.semrep_handler import SemRepHandler\n",
    "from subgraph_retrieval import GraphContextManager\n",
    "from sentence_transformers import SentenceTransformer, util\n",
    "import warnings\n",
    "warnings.filterwarnings('ignore')\n",
    "os.environ[\"TOKENIZERS_PARALLELISM\"] = \"false\""
   ]
  },
  {
   "cell_type": "code",
   "execution_count": 27,
   "id": "1cb1e528-22c4-44ac-99c4-44c505703d9c",
   "metadata": {
    "execution": {
     "iopub.execute_input": "2024-05-06T15:24:39.100682Z",
     "iopub.status.busy": "2024-05-06T15:24:39.100280Z",
     "iopub.status.idle": "2024-05-06T15:24:39.104098Z",
     "shell.execute_reply": "2024-05-06T15:24:39.103443Z",
     "shell.execute_reply.started": "2024-05-06T15:24:39.100655Z"
    }
   },
   "outputs": [],
   "source": [
    "# pd.set_option('display.max_colwidth', None)"
   ]
  },
  {
   "cell_type": "markdown",
   "id": "20553792-289e-4b05-bc11-9cfbdd43f67f",
   "metadata": {
    "tags": []
   },
   "source": [
    "## 1. Ingestion"
   ]
  },
  {
   "cell_type": "markdown",
   "id": "9bf4bf33-73d5-4e3a-bff8-d8a323e148cd",
   "metadata": {},
   "source": [
    "### 1.1. (Used in Evaluator)Semantic-Type Negative Sampling dict('m:umls term', 'sematic-type') 400K"
   ]
  },
  {
   "cell_type": "code",
   "execution_count": 17,
   "id": "dcb83fd0-1dbe-42bf-839d-d9a428cd7456",
   "metadata": {
    "execution": {
     "iopub.execute_input": "2024-05-06T17:04:10.222276Z",
     "iopub.status.busy": "2024-05-06T17:04:10.221940Z",
     "iopub.status.idle": "2024-05-06T17:04:10.442874Z",
     "shell.execute_reply": "2024-05-06T17:04:10.441628Z",
     "shell.execute_reply.started": "2024-05-06T17:04:10.222235Z"
    },
    "tags": []
   },
   "outputs": [],
   "source": [
    "with open(\n",
    "    '/lustre/acslab/shared/Agatha_shared/2021_11_22/2021_11_22_semtypes_to_nodelbl_and_vv_dict.json', 'r'\n",
    ") as f:\n",
    "    st_nodelbl_dict = json.load(f)"
   ]
  },
  {
   "cell_type": "code",
   "execution_count": 18,
   "id": "0db8817c-f6c9-4fae-9760-8b229cd49351",
   "metadata": {
    "execution": {
     "iopub.execute_input": "2024-05-06T17:04:11.218065Z",
     "iopub.status.busy": "2024-05-06T17:04:11.217645Z",
     "iopub.status.idle": "2024-05-06T17:04:11.224420Z",
     "shell.execute_reply": "2024-05-06T17:04:11.223246Z",
     "shell.execute_reply.started": "2024-05-06T17:04:11.218037Z"
    },
    "tags": []
   },
   "outputs": [
    {
     "name": "stdout",
     "output_type": "stream",
     "text": [
      "m:c0000005: Pharmacologic Substance\n",
      "m:c0000039: Organic Chemical\n",
      "m:c0000052: Amino Acid, Peptide, or Protein\n",
      "m:c0000084: Amino Acid, Peptide, or Protein\n",
      "m:c0000096: Organic Chemical\n",
      "m:c0000097: Organic Chemical\n",
      "m:c0000098: Organic Chemical\n",
      "m:c0000102: Organic Chemical\n",
      "m:c0000103: Organic Chemical\n"
     ]
    }
   ],
   "source": [
    "for i, (key, value) in enumerate(st_nodelbl_dict.items()):\n",
    "    print(f\"{key}: {value}\")\n",
    "    if i == 8: \n",
    "        break"
   ]
  },
  {
   "cell_type": "code",
   "execution_count": 19,
   "id": "4b022d55-1fdf-493d-84da-b096659a98c8",
   "metadata": {
    "execution": {
     "iopub.execute_input": "2024-05-06T17:04:13.653074Z",
     "iopub.status.busy": "2024-05-06T17:04:13.652653Z",
     "iopub.status.idle": "2024-05-06T17:04:13.661357Z",
     "shell.execute_reply": "2024-05-06T17:04:13.660519Z",
     "shell.execute_reply.started": "2024-05-06T17:04:13.653045Z"
    },
    "tags": []
   },
   "outputs": [
    {
     "data": {
      "text/plain": [
       "414961"
      ]
     },
     "execution_count": 19,
     "metadata": {},
     "output_type": "execute_result"
    }
   ],
   "source": [
    "len(st_nodelbl_dict)"
   ]
  },
  {
   "cell_type": "markdown",
   "id": "744b536c-8676-4bf8-872a-5a9e4f3e95c2",
   "metadata": {},
   "source": [
    "### 1.2. PredicatorGraph -> a Subset of Semantic Graph with only UMLS term and Predicates"
   ]
  },
  {
   "cell_type": "code",
   "execution_count": 20,
   "id": "74d4785f-8b9d-4070-a34f-9ef7ac675fe5",
   "metadata": {
    "execution": {
     "iopub.execute_input": "2024-05-06T17:04:15.206019Z",
     "iopub.status.busy": "2024-05-06T17:04:15.205692Z",
     "iopub.status.idle": "2024-05-06T17:04:15.210844Z",
     "shell.execute_reply": "2024-05-06T17:04:15.210030Z",
     "shell.execute_reply.started": "2024-05-06T17:04:15.205993Z"
    }
   },
   "outputs": [],
   "source": [
    "workingFolder = \\\n",
    "    '/lustre/acslab/shared/Agatha_shared/2021_11_22'\n",
    "\n",
    "model_path = f'{workingFolder}/model_epoch5_darwin.pt'\n",
    "embedding_path = f'{workingFolder}/embeddings/predicate_subset'\n",
    "entity_db = f'{workingFolder}/predicate_entities.sqlite3'\n",
    "graph_db = f'{workingFolder}/predicate_graph.sqlite3'"
   ]
  },
  {
   "cell_type": "code",
   "execution_count": 21,
   "id": "24c40258-7ffc-450c-ad53-bcb90aa721a9",
   "metadata": {
    "execution": {
     "iopub.execute_input": "2024-05-06T17:04:22.702161Z",
     "iopub.status.busy": "2024-05-06T17:04:22.701621Z",
     "iopub.status.idle": "2024-05-06T17:04:24.080192Z",
     "shell.execute_reply": "2024-05-06T17:04:24.079162Z",
     "shell.execute_reply.started": "2024-05-06T17:04:22.702129Z"
    }
   },
   "outputs": [],
   "source": [
    "model = torch.load(model_path)\n",
    "\n",
    "model.configure_paths(\n",
    "  embedding_dir=embedding_path,\n",
    "  entity_db=entity_db,\n",
    "  graph_db=graph_db,\n",
    ")\n",
    "\n",
    "model = model.eval()"
   ]
  },
  {
   "cell_type": "code",
   "execution_count": 22,
   "id": "dfa89034-ae1a-4eee-9337-e742dfe610c0",
   "metadata": {
    "execution": {
     "iopub.execute_input": "2024-05-06T17:04:25.038923Z",
     "iopub.status.busy": "2024-05-06T17:04:25.037967Z",
     "iopub.status.idle": "2024-05-06T17:04:38.754548Z",
     "shell.execute_reply": "2024-05-06T17:04:38.753551Z",
     "shell.execute_reply.started": "2024-05-06T17:04:25.038893Z"
    }
   },
   "outputs": [
    {
     "data": {
      "text/plain": [
       "[0.8342379331588745]"
      ]
     },
     "execution_count": 22,
     "metadata": {},
     "output_type": "execute_result"
    }
   ],
   "source": [
    "model.predict_from_terms([('m:c0026549', 'm:c5203670')])"
   ]
  },
  {
   "cell_type": "code",
   "execution_count": 23,
   "id": "523ddde3-ea7f-4dee-a8fb-c005e485c1e9",
   "metadata": {
    "execution": {
     "iopub.execute_input": "2024-05-06T17:04:41.717040Z",
     "iopub.status.busy": "2024-05-06T17:04:41.716674Z",
     "iopub.status.idle": "2024-05-06T17:04:58.531957Z",
     "shell.execute_reply": "2024-05-06T17:04:58.531004Z",
     "shell.execute_reply.started": "2024-05-06T17:04:41.717016Z"
    },
    "tags": []
   },
   "outputs": [],
   "source": [
    "# subset of semantic graph, we cal predictor graph\n",
    "nodelist = model.graph.keys()"
   ]
  },
  {
   "cell_type": "code",
   "execution_count": 24,
   "id": "9832c4d7-f592-4bc4-ab3a-fc977765be52",
   "metadata": {
    "execution": {
     "iopub.execute_input": "2024-05-06T17:04:59.729009Z",
     "iopub.status.busy": "2024-05-06T17:04:59.728672Z",
     "iopub.status.idle": "2024-05-06T17:04:59.736195Z",
     "shell.execute_reply": "2024-05-06T17:04:59.735338Z",
     "shell.execute_reply.started": "2024-05-06T17:04:59.728982Z"
    },
    "tags": []
   },
   "outputs": [
    {
     "data": {
      "text/plain": [
       "26953485"
      ]
     },
     "execution_count": 24,
     "metadata": {},
     "output_type": "execute_result"
    }
   ],
   "source": [
    "len(nodelist)"
   ]
  },
  {
   "cell_type": "code",
   "execution_count": 25,
   "id": "ac723ce7-fce5-4480-a0f5-ff6cbe3e1769",
   "metadata": {
    "execution": {
     "iopub.execute_input": "2024-05-06T17:05:01.549934Z",
     "iopub.status.busy": "2024-05-06T17:05:01.549623Z",
     "iopub.status.idle": "2024-05-06T17:05:12.523309Z",
     "shell.execute_reply": "2024-05-06T17:05:12.522515Z",
     "shell.execute_reply.started": "2024-05-06T17:05:01.549908Z"
    },
    "tags": []
   },
   "outputs": [
    {
     "name": "stderr",
     "output_type": "stream",
     "text": [
      "100%|██████████████████████████████████████████████████████████████████████████████████████████████████████████████████████████████████████████████████████████████████████████████████████| 26953485/26953485 [00:10<00:00, 2458900.39it/s]\n"
     ]
    }
   ],
   "source": [
    "pred_pairs_list = [\n",
    "    p for p in tqdm(nodelist) if p[0] == 'p'\n",
    "]"
   ]
  },
  {
   "cell_type": "code",
   "execution_count": 26,
   "id": "e3395fbc-9788-442f-9764-5154ad7039ca",
   "metadata": {
    "execution": {
     "iopub.execute_input": "2024-05-06T17:05:14.019674Z",
     "iopub.status.busy": "2024-05-06T17:05:14.019479Z",
     "iopub.status.idle": "2024-05-06T17:06:00.101395Z",
     "shell.execute_reply": "2024-05-06T17:06:00.100457Z",
     "shell.execute_reply.started": "2024-05-06T17:05:14.019660Z"
    },
    "tags": []
   },
   "outputs": [
    {
     "name": "stderr",
     "output_type": "stream",
     "text": [
      "100%|███████████████████████████████████████████████████████████████████████████████████████████████████████████████████████████████████████████████████████████████████████████████████████| 26535915/26535915 [00:46<00:00, 575952.30it/s]\n"
     ]
    }
   ],
   "source": [
    "pred_cui_pairs_set = set()\n",
    "\n",
    "for p in tqdm(pred_pairs_list):\n",
    "    p_split = p.upper().split(':')\n",
    "    \n",
    "    s = p_split[1]\n",
    "    o = p_split[-1]\n",
    "    \n",
    "    pred_cui_pairs_set.add(\n",
    "        tuple(sorted([s,o]))\n",
    "    )"
   ]
  },
  {
   "cell_type": "code",
   "execution_count": 27,
   "id": "3db12e62-0e87-44b2-8f6e-73ea000dda09",
   "metadata": {
    "execution": {
     "iopub.execute_input": "2024-05-06T17:06:01.172844Z",
     "iopub.status.busy": "2024-05-06T17:06:01.172678Z",
     "iopub.status.idle": "2024-05-06T17:06:01.178109Z",
     "shell.execute_reply": "2024-05-06T17:06:01.177489Z",
     "shell.execute_reply.started": "2024-05-06T17:06:01.172830Z"
    },
    "tags": []
   },
   "outputs": [
    {
     "data": {
      "text/plain": [
       "19086440"
      ]
     },
     "execution_count": 27,
     "metadata": {},
     "output_type": "execute_result"
    }
   ],
   "source": [
    "len(pred_cui_pairs_set)"
   ]
  },
  {
   "cell_type": "code",
   "execution_count": 28,
   "id": "0ebc19d8-f09d-4a86-a993-0603a6099dd3",
   "metadata": {
    "execution": {
     "iopub.execute_input": "2024-05-06T17:06:02.066121Z",
     "iopub.status.busy": "2024-05-06T17:06:02.065705Z",
     "iopub.status.idle": "2024-05-06T17:06:02.070625Z",
     "shell.execute_reply": "2024-05-06T17:06:02.069493Z",
     "shell.execute_reply.started": "2024-05-06T17:06:02.066092Z"
    },
    "tags": []
   },
   "outputs": [],
   "source": [
    "# pred_cui_pairs_set\n",
    "# {('C0011860', 'C3880361'),\n",
    "#  ('C0008942', 'C0431128'),\n",
    "#  ('C0024880', 'C0281255'),\n",
    "#  ('C0229671', 'C0534397'),\n",
    "#  ('C0028633', 'C1826697'),\n",
    "#  ('C0015934', 'C0241910'),\n",
    "#  ('C0022742', 'C0851881'),"
   ]
  },
  {
   "cell_type": "markdown",
   "id": "b9429ef0-3ca4-4f69-8b05-c88a160cfc3d",
   "metadata": {
    "tags": []
   },
   "source": [
    "### 1.3. SemrepHandler ==> Identify Predicates"
   ]
  },
  {
   "cell_type": "code",
   "execution_count": 64,
   "id": "b80f886b-444a-4a53-b968-d5139c9e852b",
   "metadata": {
    "execution": {
     "iopub.execute_input": "2024-05-06T17:15:51.324197Z",
     "iopub.status.busy": "2024-05-06T17:15:51.323761Z",
     "iopub.status.idle": "2024-05-06T17:15:51.328967Z",
     "shell.execute_reply": "2024-05-06T17:15:51.328118Z",
     "shell.execute_reply.started": "2024-05-06T17:15:51.324165Z"
    },
    "tags": []
   },
   "outputs": [],
   "source": [
    "nlm_soft_folder = '/lustre/acslab/users/3281/SemRep'\n",
    "sr_temp_folder = '/lustre/acslab/users/3281/semrep_temp_4'\n",
    "sr_replace_utf8_path = '/lustre/acslab/users/3281/SemRep/replace_utf8.jar'"
   ]
  },
  {
   "cell_type": "code",
   "execution_count": 65,
   "id": "94cf5dd8-0699-4f4b-aaab-4ed24e0a4fd5",
   "metadata": {
    "execution": {
     "iopub.execute_input": "2024-05-06T17:15:52.343820Z",
     "iopub.status.busy": "2024-05-06T17:15:52.343319Z",
     "iopub.status.idle": "2024-05-06T17:15:52.528750Z",
     "shell.execute_reply": "2024-05-06T17:15:52.527322Z",
     "shell.execute_reply.started": "2024-05-06T17:15:52.343789Z"
    },
    "tags": []
   },
   "outputs": [],
   "source": [
    "t = SemRepHandler(\n",
    "    nlm_soft_path=nlm_soft_folder,\n",
    "    temp_folder=sr_temp_folder,\n",
    "    replace_utf8_path=sr_replace_utf8_path,\n",
    ")"
   ]
  },
  {
   "cell_type": "code",
   "execution_count": 66,
   "id": "bdf4fd30-b586-4d42-be65-3436b85655e2",
   "metadata": {
    "execution": {
     "iopub.execute_input": "2024-05-06T17:15:53.809216Z",
     "iopub.status.busy": "2024-05-06T17:15:53.808859Z",
     "iopub.status.idle": "2024-05-06T17:15:53.814495Z",
     "shell.execute_reply": "2024-05-06T17:15:53.813560Z",
     "shell.execute_reply.started": "2024-05-06T17:15:53.809185Z"
    },
    "tags": []
   },
   "outputs": [],
   "source": [
    "t.sr_binary_path = Path('/lustre/acslab/users/3281/SemRep/public_semrep/bin/semrep.v1.9_2021AB')"
   ]
  },
  {
   "cell_type": "code",
   "execution_count": 67,
   "id": "4a04779c-a365-466f-b266-c6fa6775c779",
   "metadata": {
    "execution": {
     "iopub.execute_input": "2024-05-06T17:15:54.940028Z",
     "iopub.status.busy": "2024-05-06T17:15:54.939744Z",
     "iopub.status.idle": "2024-05-06T17:16:04.873723Z",
     "shell.execute_reply": "2024-05-06T17:16:04.872452Z",
     "shell.execute_reply.started": "2024-05-06T17:15:54.940011Z"
    },
    "tags": []
   },
   "outputs": [
    {
     "name": "stdout",
     "output_type": "stream",
     "text": [
      "Run SemRep in interactive mode...\n",
      "Processing input with replace_utf8.jar utility...\n"
     ]
    },
    {
     "data": {
      "text/plain": [
       "{'s:user_input_0:1': {'sent_text': 'morphine and covid 19 ',\n",
       "  'terms': [{'CID': 'C0026549',\n",
       "    'pref_name': 'morphine',\n",
       "    'extracted_text': 'morphine',\n",
       "    'label': 'UMLS',\n",
       "    'sem_types': ['orch', 'phsu'],\n",
       "    'negated': False},\n",
       "   {'CID': 'C5203670',\n",
       "    'pref_name': 'COVID-19',\n",
       "    'extracted_text': 'covid 19',\n",
       "    'label': 'UMLS',\n",
       "    'sem_types': ['dsyn'],\n",
       "    'negated': False}],\n",
       "  'relations': []}}"
      ]
     },
     "execution_count": 67,
     "metadata": {},
     "output_type": "execute_result"
    }
   ],
   "source": [
    "t.ProcessList_parallel(['morphine and covid 19'])"
   ]
  },
  {
   "cell_type": "code",
   "execution_count": 18,
   "id": "3d842c21-2953-4304-b67c-24475adbe34c",
   "metadata": {
    "execution": {
     "iopub.execute_input": "2024-05-06T16:15:32.295287Z",
     "iopub.status.busy": "2024-05-06T16:15:32.294942Z",
     "iopub.status.idle": "2024-05-06T16:15:38.858467Z",
     "shell.execute_reply": "2024-05-06T16:15:38.857232Z",
     "shell.execute_reply.started": "2024-05-06T16:15:32.295256Z"
    },
    "tags": []
   },
   "outputs": [
    {
     "name": "stdout",
     "output_type": "stream",
     "text": [
      "Run SemRep in interactive mode...\n",
      "Processing input with replace_utf8.jar utility...\n"
     ]
    },
    {
     "data": {
      "text/html": [
       "<div>\n",
       "<style scoped>\n",
       "    .dataframe tbody tr th:only-of-type {\n",
       "        vertical-align: middle;\n",
       "    }\n",
       "\n",
       "    .dataframe tbody tr th {\n",
       "        vertical-align: top;\n",
       "    }\n",
       "\n",
       "    .dataframe thead th {\n",
       "        text-align: right;\n",
       "    }\n",
       "</style>\n",
       "<table border=\"1\" class=\"dataframe\">\n",
       "  <thead>\n",
       "    <tr style=\"text-align: right;\">\n",
       "      <th></th>\n",
       "      <th>CID</th>\n",
       "      <th>pref_name</th>\n",
       "      <th>extracted_text</th>\n",
       "      <th>label</th>\n",
       "      <th>sem_types</th>\n",
       "      <th>negated</th>\n",
       "    </tr>\n",
       "  </thead>\n",
       "  <tbody>\n",
       "    <tr>\n",
       "      <th>0</th>\n",
       "      <td>C0026549</td>\n",
       "      <td>morphine</td>\n",
       "      <td>morphine</td>\n",
       "      <td>UMLS</td>\n",
       "      <td>[orch, phsu]</td>\n",
       "      <td>False</td>\n",
       "    </tr>\n",
       "    <tr>\n",
       "      <th>1</th>\n",
       "      <td>C5203670</td>\n",
       "      <td>COVID-19</td>\n",
       "      <td>covid 19</td>\n",
       "      <td>UMLS</td>\n",
       "      <td>[dsyn]</td>\n",
       "      <td>False</td>\n",
       "    </tr>\n",
       "  </tbody>\n",
       "</table>\n",
       "</div>"
      ],
      "text/plain": [
       "        CID pref_name extracted_text label     sem_types  negated\n",
       "0  C0026549  morphine       morphine  UMLS  [orch, phsu]    False\n",
       "1  C5203670  COVID-19       covid 19  UMLS        [dsyn]    False"
      ]
     },
     "execution_count": 18,
     "metadata": {},
     "output_type": "execute_result"
    }
   ],
   "source": [
    "pd.DataFrame(t.ProcessList_parallel(['morphine and covid 19'])['s:user_input_0:1']['terms'])"
   ]
  },
  {
   "cell_type": "code",
   "execution_count": 19,
   "id": "9ee2a186-ce7b-40c4-ac2c-959b48be84cc",
   "metadata": {
    "execution": {
     "iopub.execute_input": "2024-05-04T14:31:03.817981Z",
     "iopub.status.busy": "2024-05-04T14:31:03.817556Z",
     "iopub.status.idle": "2024-05-04T14:31:10.478897Z",
     "shell.execute_reply": "2024-05-04T14:31:10.477878Z",
     "shell.execute_reply.started": "2024-05-04T14:31:03.817948Z"
    },
    "tags": []
   },
   "outputs": [
    {
     "name": "stdout",
     "output_type": "stream",
     "text": [
      "Run SemRep in interactive mode...\n",
      "Processing input with replace_utf8.jar utility...\n"
     ]
    },
    {
     "data": {
      "text/html": [
       "<div>\n",
       "<style scoped>\n",
       "    .dataframe tbody tr th:only-of-type {\n",
       "        vertical-align: middle;\n",
       "    }\n",
       "\n",
       "    .dataframe tbody tr th {\n",
       "        vertical-align: top;\n",
       "    }\n",
       "\n",
       "    .dataframe thead th {\n",
       "        text-align: right;\n",
       "    }\n",
       "</style>\n",
       "<table border=\"1\" class=\"dataframe\">\n",
       "  <thead>\n",
       "    <tr style=\"text-align: right;\">\n",
       "      <th></th>\n",
       "    </tr>\n",
       "  </thead>\n",
       "  <tbody>\n",
       "  </tbody>\n",
       "</table>\n",
       "</div>"
      ],
      "text/plain": [
       "Empty DataFrame\n",
       "Columns: []\n",
       "Index: []"
      ]
     },
     "execution_count": 19,
     "metadata": {},
     "output_type": "execute_result"
    }
   ],
   "source": [
    "pd.DataFrame(t.ProcessList_parallel(['morphine and covid 19'])['s:user_input_0:1']['relations'])"
   ]
  },
  {
   "cell_type": "markdown",
   "id": "dab8ee92-08ee-41bb-af95-73234af297cb",
   "metadata": {
    "tags": []
   },
   "source": [
    "## 2. Retrieval paths from Co-occurring Graph"
   ]
  },
  {
   "cell_type": "code",
   "execution_count": 31,
   "id": "1e4cd6ff-5725-4832-a98d-3b5b10a81c05",
   "metadata": {
    "execution": {
     "iopub.execute_input": "2024-05-06T17:07:12.812035Z",
     "iopub.status.busy": "2024-05-06T17:07:12.811613Z",
     "iopub.status.idle": "2024-05-06T17:07:12.853226Z",
     "shell.execute_reply": "2024-05-06T17:07:12.852541Z",
     "shell.execute_reply.started": "2024-05-06T17:07:12.812005Z"
    }
   },
   "outputs": [],
   "source": [
    "df = pd.read_pickle('pmid_cuis_bench_cooc_2021_only_agg_gt2_mini_df.pkl')"
   ]
  },
  {
   "cell_type": "code",
   "execution_count": 32,
   "id": "310ab7ca-f003-458c-9a5b-2a4749ba0d58",
   "metadata": {
    "execution": {
     "iopub.execute_input": "2024-05-06T17:07:14.104027Z",
     "iopub.status.busy": "2024-05-06T17:07:14.103620Z",
     "iopub.status.idle": "2024-05-06T17:07:14.335531Z",
     "shell.execute_reply": "2024-05-06T17:07:14.334427Z",
     "shell.execute_reply.started": "2024-05-06T17:07:14.104000Z"
    }
   },
   "outputs": [
    {
     "data": {
      "text/html": [
       "<div>\n",
       "<style scoped>\n",
       "    .dataframe tbody tr th:only-of-type {\n",
       "        vertical-align: middle;\n",
       "    }\n",
       "\n",
       "    .dataframe tbody tr th {\n",
       "        vertical-align: top;\n",
       "    }\n",
       "\n",
       "    .dataframe thead th {\n",
       "        text-align: right;\n",
       "    }\n",
       "</style>\n",
       "<table border=\"1\" class=\"dataframe\">\n",
       "  <thead>\n",
       "    <tr style=\"text-align: right;\">\n",
       "      <th></th>\n",
       "      <th>pair</th>\n",
       "      <th>abstr_lvl_cooc</th>\n",
       "      <th>abstr_lvl_cooc_len</th>\n",
       "      <th>source</th>\n",
       "      <th>target</th>\n",
       "      <th>source_st</th>\n",
       "      <th>target_st</th>\n",
       "      <th>source_name</th>\n",
       "      <th>target_name</th>\n",
       "      <th>context</th>\n",
       "      <th>context_len</th>\n",
       "      <th>sp_w_pmids</th>\n",
       "    </tr>\n",
       "  </thead>\n",
       "  <tbody>\n",
       "    <tr>\n",
       "      <th>13</th>\n",
       "      <td>C0002598 C0025153</td>\n",
       "      <td>{32493475, 32493478, 32616067}</td>\n",
       "      <td>3</td>\n",
       "      <td>C0002598</td>\n",
       "      <td>C0025153</td>\n",
       "      <td>{Pharmacologic Substance, Organic Chemical}</td>\n",
       "      <td>{Pharmacologic Substance, Organic Chemical}</td>\n",
       "      <td>amiodarone</td>\n",
       "      <td>mefloquine</td>\n",
       "      <td>[Efficacy of hydroxychloroquine for post-expos...</td>\n",
       "      <td>3</td>\n",
       "      <td>{('C0002598', 'C0002641', 'C0025153'): {'C0002...</td>\n",
       "    </tr>\n",
       "    <tr>\n",
       "      <th>224</th>\n",
       "      <td>C0026549 C5203670</td>\n",
       "      <td>{32588748, 32839778, 33612113, 33331392, 32387...</td>\n",
       "      <td>16</td>\n",
       "      <td>C0026549</td>\n",
       "      <td>C5203670</td>\n",
       "      <td>{Pharmacologic Substance, Organic Chemical}</td>\n",
       "      <td>{Disease or Syndrome}</td>\n",
       "      <td>morphine</td>\n",
       "      <td>COVID19 (disease)</td>\n",
       "      <td>[An audit of end-of-life symptom control in pa...</td>\n",
       "      <td>16</td>\n",
       "      <td>{('C0026549', 'C0021760', 'C5203670'): {'C0021...</td>\n",
       "    </tr>\n",
       "    <tr>\n",
       "      <th>296</th>\n",
       "      <td>C0039286 C5203670</td>\n",
       "      <td>{32663742, 32493494, 33651271, 33855640}</td>\n",
       "      <td>4</td>\n",
       "      <td>C0039286</td>\n",
       "      <td>C5203670</td>\n",
       "      <td>{Pharmacologic Substance, Organic Chemical}</td>\n",
       "      <td>{Disease or Syndrome}</td>\n",
       "      <td>tamoxifen</td>\n",
       "      <td>COVID19 (disease)</td>\n",
       "      <td>[Controlled, double-blind, randomized trial to...</td>\n",
       "      <td>4</td>\n",
       "      <td>{('C5203670', 'C0052796', 'C0039286'): {'C0052...</td>\n",
       "    </tr>\n",
       "    <tr>\n",
       "      <th>521</th>\n",
       "      <td>C0812198 C1412096</td>\n",
       "      <td>{34171401, 33149621, 32244545}</td>\n",
       "      <td>3</td>\n",
       "      <td>C0812198</td>\n",
       "      <td>C1412096</td>\n",
       "      <td>{Gene or Genome}</td>\n",
       "      <td>{Gene or Genome}</td>\n",
       "      <td>BAX gene</td>\n",
       "      <td>ABCG1 gene</td>\n",
       "      <td>[1, 6-O, O-Diacetylbritannilactone from Inula ...</td>\n",
       "      <td>3</td>\n",
       "      <td>{('C0812198', 'C0001047', 'C1412096'): {'C0001...</td>\n",
       "    </tr>\n",
       "    <tr>\n",
       "      <th>711</th>\n",
       "      <td>C1419407 C1565830</td>\n",
       "      <td>{32740646, 32882325, 33133130, 34249481}</td>\n",
       "      <td>4</td>\n",
       "      <td>C1419407</td>\n",
       "      <td>C1565830</td>\n",
       "      <td>{Gene or Genome}</td>\n",
       "      <td>{Amino Acid, Peptide, or Protein, Enzyme}</td>\n",
       "      <td>RNASE1 gene</td>\n",
       "      <td>PTGS1 protein, human</td>\n",
       "      <td>[Development and validation of a six-RNA bindi...</td>\n",
       "      <td>4</td>\n",
       "      <td>{('C1565830', 'C1414968', 'C1419407'): {'C1414...</td>\n",
       "    </tr>\n",
       "  </tbody>\n",
       "</table>\n",
       "</div>"
      ],
      "text/plain": [
       "                  pair                                     abstr_lvl_cooc  \\\n",
       "13   C0002598 C0025153                     {32493475, 32493478, 32616067}   \n",
       "224  C0026549 C5203670  {32588748, 32839778, 33612113, 33331392, 32387...   \n",
       "296  C0039286 C5203670           {32663742, 32493494, 33651271, 33855640}   \n",
       "521  C0812198 C1412096                     {34171401, 33149621, 32244545}   \n",
       "711  C1419407 C1565830           {32740646, 32882325, 33133130, 34249481}   \n",
       "\n",
       "     abstr_lvl_cooc_len    source    target  \\\n",
       "13                    3  C0002598  C0025153   \n",
       "224                  16  C0026549  C5203670   \n",
       "296                   4  C0039286  C5203670   \n",
       "521                   3  C0812198  C1412096   \n",
       "711                   4  C1419407  C1565830   \n",
       "\n",
       "                                       source_st  \\\n",
       "13   {Pharmacologic Substance, Organic Chemical}   \n",
       "224  {Pharmacologic Substance, Organic Chemical}   \n",
       "296  {Pharmacologic Substance, Organic Chemical}   \n",
       "521                             {Gene or Genome}   \n",
       "711                             {Gene or Genome}   \n",
       "\n",
       "                                       target_st  source_name  \\\n",
       "13   {Pharmacologic Substance, Organic Chemical}   amiodarone   \n",
       "224                        {Disease or Syndrome}     morphine   \n",
       "296                        {Disease or Syndrome}    tamoxifen   \n",
       "521                             {Gene or Genome}     BAX gene   \n",
       "711    {Amino Acid, Peptide, or Protein, Enzyme}  RNASE1 gene   \n",
       "\n",
       "              target_name                                            context  \\\n",
       "13             mefloquine  [Efficacy of hydroxychloroquine for post-expos...   \n",
       "224     COVID19 (disease)  [An audit of end-of-life symptom control in pa...   \n",
       "296     COVID19 (disease)  [Controlled, double-blind, randomized trial to...   \n",
       "521            ABCG1 gene  [1, 6-O, O-Diacetylbritannilactone from Inula ...   \n",
       "711  PTGS1 protein, human  [Development and validation of a six-RNA bindi...   \n",
       "\n",
       "     context_len                                         sp_w_pmids  \n",
       "13             3  {('C0002598', 'C0002641', 'C0025153'): {'C0002...  \n",
       "224           16  {('C0026549', 'C0021760', 'C5203670'): {'C0021...  \n",
       "296            4  {('C5203670', 'C0052796', 'C0039286'): {'C0052...  \n",
       "521            3  {('C0812198', 'C0001047', 'C1412096'): {'C0001...  \n",
       "711            4  {('C1565830', 'C1414968', 'C1419407'): {'C1414...  "
      ]
     },
     "execution_count": 32,
     "metadata": {},
     "output_type": "execute_result"
    }
   ],
   "source": [
    "df"
   ]
  },
  {
   "cell_type": "markdown",
   "id": "868a0413-c63f-455d-8fc7-3cdcb41d8c3d",
   "metadata": {},
   "source": [
    "### 2.1. Number of Paths between Morphine + Covid 19 => 15"
   ]
  },
  {
   "cell_type": "markdown",
   "id": "8b205e27-6e59-4c51-b33d-0babb68b637a",
   "metadata": {},
   "source": [
    "### 2.2. Reference: future abstract:\n",
    "we have 16 abstracts as refewrence, 1) as initial step we just summarize them. kept as a reference for Correctmess Evaluation. 2) you can use find-k-top func to choose among 16 to find best match among them."
   ]
  },
  {
   "cell_type": "code",
   "execution_count": 33,
   "id": "5babb4e1-9c2a-4416-abc8-90f0e64ed9db",
   "metadata": {
    "execution": {
     "iopub.execute_input": "2024-05-06T17:07:17.949073Z",
     "iopub.status.busy": "2024-05-06T17:07:17.948744Z",
     "iopub.status.idle": "2024-05-06T17:07:17.957649Z",
     "shell.execute_reply": "2024-05-06T17:07:17.956831Z",
     "shell.execute_reply.started": "2024-05-06T17:07:17.949046Z"
    },
    "scrolled": true
   },
   "outputs": [
    {
     "data": {
      "text/plain": [
       "['An audit of end-of-life symptom control in patients with corona virus disease 2019 (COVID-19) dying in a hospital in the United Kingdom. The literature contains limited information on the problems faced by dying patients with COVID-19 and the effectiveness of interventions to manage these. The aim of this audit was to assess the utility of our end-of-life care plan, and specifically the effectiveness of our standardised end-of-life care treatment algorithms, in dying patients with COVID-19. The audit primarily involved data extraction from the end-of-life care plan, which includes four hourly nursing (ward nurses) assessments of specific problems: patients with problems were managed according to standardised treatment algorithms, and the intervention was deemed to be effective if the problem was not present at subsequent assessments. This audit was undertaken at a general hospital in England, covered the 8 weeks from 16 March to 11 May 2020 and included all inpatients with COVID-19 who had an end-of-life care plan (and died). Sixty-one patients met the audit criteria: the commonest problem was shortness of breath (57.5%), which was generally controlled with conservative doses of morphine (10-20 mg/24 h via a syringe pump). Cough and audible respiratory secretions were relatively uncommon. The second most common problem was agitation/delirium (55.5%), which was generally controlled with standard pharmacological interventions. The cumulative number of patients with shortness of breath, agitation and audible respiratory secretions increased over the last 72 h of life, but most patients were symptom controlled at the point of death. Patients dying of COVID-19 experience similar end-of-life problems to other groups of patients. Moreover, they generally respond to standard interventions for these end-of-life problems. ',\n",
       " 'Delay in head and neck cancer care during the COVID-19 pandemic and its impact on health outcomes. The coronavirus disease 2019 (COVID-19) outbreak has created unprecedent challenges for healthcare systems worldwide. Oncology services have been reorganized to decrease the risk of nosocomial acquisition of SARS-CoV-2, but changes in treatment pathways and follow-up cancer care can result in patients receiving suboptimal or delayed care. Herein, we describe a cross-sectional nested cohort study conducted to evaluate delays in care for patients with head and neck cancer (HNC) in post-treatment follow-up or palliative care during the COVID-19 pandemic in Northeast Brazil and its impact on health outcomes. Information was extracted from medical records and supplemented by telephone interviews. We compared the following health outcomes: self-perception of anxiety or sadness, fear of COVID-19 infection, cancer-related complications during social isolation, self-medication, diagnosis of COVID-19, and death between patients with and without delayed cancer care. The Mann-Whitney U test was used to compare distributions of continuous variables and the Fisher exact test was used for categorical variables. Thirty-one HNC patients were included in the study, and no case of confirmed SARS-CoV-2 was found. Delayed cancer care due to restriction in health services was reported in 58.1% of cases, and there was no report of telemedicine use during the COVID-19 outbreak. Cancer-related complications during the COVID-19 pandemic were described for most patients (67.7%) and included pain or discomfort, swelling, and dyspnea. Eight (25.8%) patients reported use of prescribed morphine or codeine to manage pain and six (19.4%) patients reported self-medication with over-the-counter (OTC) non-steroidal anti-inflammatory drugs (NSAIDs). We found an association between delayed HNC care and the use of self-medication (p = 0.028). This study indicated that patients with delayed HNC care during the COVID-19 outbreak are more likely to use self-medication with NSAIDs for pain management. Better strategies to follow HNC patients in socioeconomically disadvantaged communities need to be discussed and implemented. ',\n",
       " 'Characteristics, Symptom Management, and Outcomes of 101 Patients With COVID-19 Referred for Hospital Palliative Care. Hospital palliative care is an essential part of the COVID-19 response but data are lacking. We identified symptom burden, management, response to treatment, and outcomes for a case series of 101 inpatients with confirmed COVID-19 referred to hospital palliative care. Patients (64 men, median [interquartile range {IQR}] age 82 [72-89] years, Elixhauser Comorbidity Index 6 [2-10], Australian-modified Karnofsky Performance Status 20 [10-20]) were most frequently referred for end-of-life care or symptom control. Median [IQR] days from hospital admission to referral was 4 [1-12] days. Most prevalent symptoms (n) were breathlessness (67), agitation (43), drowsiness (36), pain (23), and delirium (24). Fifty-eight patients were prescribed a subcutaneous infusion. Frequently used medicines (median [range] dose/24 hours) were opioids (morphine, 10 [5-30] mg; fentanyl, 100 [100-200] mcg; alfentanil, 500 [150-1000] mcg) and midazolam (10 [5-20] mg). Infusions were assessed as at least partially effective for 40/58 patients, while 13 patients died before review. Patients spent a median [IQR] of 2 [1-4] days under the palliative care team, who made 3 [2-5] contacts across patient, family, and clinicians. At March 30, 2020, 75 patients had died; 13 been discharged back to team, home, or hospice; and 13 continued to receive inpatient palliative care. Palliative care is an essential component to the COVID-19 response, and teams must rapidly adapt with new ways of working. Breathlessness and agitation are common but respond well to opioids and benzodiazepines. Availability of subcutaneous infusion pumps is essential. An international minimum data set for palliative care would accelerate finding answers to new questions as the COVID-19 pandemic develops. ',\n",
       " \"How mu-Opioid Receptor Recognizes Fentanyl. The opioid crisis has escalated during the COVID-19 pandemic. More than half of the overdose-related deaths are related to synthetic opioids represented by fentanyl which is a potent agonist of mu-opioid receptor (mOR). In recent years, crystal structures of mOR complexed with morphine derivatives have been determined; however, structural basis of mOR activation by fentanyl-like synthetic opioids remains lacking. Exploiting the X-ray structure of mOR bound to a morphinan ligand and several state-of-the-art simulation techniques, including weighted ensemble and continuous constant pH molecular dynamics, we elucidated the detailed binding mechanism of fentanyl with mOR. Surprisingly, in addition to the orthosteric site common to morphinan opiates, fentanyl can move deeper and bind mOR through hydrogen bonding with a conserved histidine H297, which has been shown to modulate mOR's ligand affinity and pH dependence in mutagenesis experiments, but its precise role remains unclear. Intriguingly, the secondary binding mode is only accessible when H297 adopts a neutral HID tautomer. Alternative binding modes and involvement of tautomer states may represent general mechanisms in G protein-coupled receptor (GPCR)-ligand recognition. Our work provides a starting point for understanding mOR activation by fentanyl analogs that are emerging at a rapid pace and assisting the design of safer analgesics to combat the opioid crisis. Current protein simulation studies employ standard protonation and tautomer states; our work demonstrates the need to move beyond the practice to advance our understanding of protein-ligand recognition. \",\n",
       " 'End-of-life care in COVID-19: An audit of pharmacological management in hospital inpatients. Hospital clinicians have had to rapidly develop expertise in managing the clinical manifestations of COVID-19 including symptoms common at the end of life, such as breathlessness and agitation. There is limited evidence exploring whether end-of-life symptom control in this group requires new or adapted guidance. To review whether prescribing for symptom control in patients dying with COVID-19 adhered to existing local guidance or whether there was deviation which may represent a need for revised guidance or specialist support in particular patient groups. A retrospective review of the electronic patient record of 61 hospital inpatients referred to the specialist palliative care team with swab-confirmed COVID-19 who subsequently died over a 1-month period. Intubated patients were excluded. In all, 83% (40/48) of patients were prescribed opioids at a starting dose consistent with existing local guidelines. In seven of eight patients where higher doses were prescribed, this was on specialist palliative care team advice. Mean total opioid dose required in the last 24 h of life was 14 mg morphine subcutaneous equivalent, and mean total midazolam dose was 9.5 mg. For three patients in whom non-invasive ventilation was in place higher doses were used. Prescription of end-of-life symptom control drugs for COVID-19 fell within the existing guidance when supported by specialist palliative care advice. While some patients may require increased doses, routine prescription of higher starting opioid and benzodiazepine doses beyond existing local guidance was not observed. ',\n",
       " 'Homecare and the COVID-19 Pandemic - Experience at an Urban Specialist Cancer Palliative Center. With the COVID-19 pandemic wreaking havoc globally, the extremely vulnerable subset of cancer palliative care patients has to go through the worst nightmare. Difficulty in accessing medical care in the event of increased symptom burden, obstacles in reaching hospitals at time of emergencies or end of life, limited access to medication, social distancing causing isolation, leading to psychosocial burden, lack of bereavement support, are few of the issues we identified. Palliative home care is an important tool to allay the anxieties and address the fears of cancer patients and caregivers, by ensuring continuity of care and providing the much needed handholding in these difficult times. This article aims to highlight the home-based care strategy and experience of the Cipla Palliative Care and Training Center during the COVID-19 lockdown. We have utilized the data of documentation of the process of designing the protocol, the data entered by the team on unique data management software that is used at the palliative care center to record all palliative care interventions and reflections of the team on their experience of home visits during this period. Continuity of care through home visits will ensure better management of patients in terms of physical symptoms, psychosocial support, allaying fears, and anxieties, as well as the ultimate goal of an improved quality of life. Physical symptoms (24%), morphine drop off (19%), psychosocial support (15%), end of life care (33%), and procedures (9%) were the major indications of visits. The COVID-19 pandemic has increased the need for support, thus reiterating the importance of continuity of care. With abundant precautions and protocols in place, home care through visits is possible. With the lockdown and restrictions now entering their fourth phase, we need to be ready now more than ever to adapt to changing times and evolving definitions of the \"New Normal.\" ',\n",
       " \"Providing Palliative Home Care during COVID-19 Pandemic Lockdown in India. The COVID-19 pandemic and subsequent lockdown in India affected all medical services including palliative care and most consultations were provided remotely through phone or video calls. During this period CanSupport also switched to tele-consultations for the safety of its patients and staff. Some patients still needed home visits so CanSupport developed need-based criteria in order to continue providing palliative homecare to those who suffered the most. CanSupport's homecare teams visited 847 patients during the lockdown decided by the criteria developed. Majority of the visits were for supplying morphine and other medications followed by patients with severe pain and those requiring procedures. If guidelines and safety measures are followed, home visits are possible in the present environment. \",\n",
       " \"How mu-Opioid Receptor Recognizes Fentanyl. In 2019, drug overdose has claimed over 70,000 lives in the United States. More than half of the deaths are related to synthetic opioids represented by fentanyl which is a potent agonist of mu-opioid receptor (mOR). In recent years, the crystal structures of mOR in complex with morphine derivatives have been determined; however, structural basis of mOR activation by fentanyl-like synthetic opioids remains lacking. Exploiting the X-ray structure of mOR bound to a morphinan ligand and several state-of-the-art simulation techniques, including weighted ensemble and continuous constant pH molecular dynamics, we elucidated the detailed binding mechanism of fentanyl with mOR. Surprisingly, in addition to forming a salt-bridge with Asp1473.32 in the orthosteric site common to morphinan opiates, fentanyl can move deeper and bind mOR through hydrogen bonding with a conserved histidine His2976.52, which has been shown to modulate mOR's ligand affinity and pH dependence in mutagenesis experiments, but its precise role remains unclear. Intriguingly, the secondary binding mode is only accessible when His297 adopts a neutral HID tautomer. Alternative binding modes and involvement of tautomer states may represent general mechanisms in G protein-coupled receptor (GPCR)-ligand recognition. Our work provides a starting point for understanding the molecular basis of mOR activation by fentanyl which has many analogs emerging at a rapid pace. The knowledge may also inform the design of safer analgesics to combat the opioid crisis. Current protein simulation studies employ standard protonation and tautomer states; our work demonstrates the need to move beyond the practice to advance our understanding of protein-ligand recognition. \",\n",
       " 'Palliative Care During COVID-19: Data and Visits From Loved Ones. A vital component of the coronavirus response is care of the dying COVID-19 patient. We document the demographics, symptoms experienced, medications required, effectiveness observed, and challenges to high-quality holistic palliative care in 31 patients. This will aid colleagues in primary and secondary care settings anticipate common symptoms and formulate management plans. A retrospective survey was conducted of patients referred to the hospital palliative care service in a tertiary hospital, south east of England between March 21 and April 26, 2020. Patients included had a confirmed laboratory diagnosis of COVID-19 via reverse transcription polymerase chain reaction nasopharyngeal swab for SARS-Cov-2 or radiological evidence of COVID-19. The thirty-one patients included were predominantly male (77%), elderly (median [interquartile range]: 84 [76-89]), and had multiple (4 [3-5]) comorbidities. Referral was made in the last 2 [1-3] days of life. Common symptoms were breathlessness (84%) and delirium (77%). Fifty-eight percent of patients received at least 1 \"as required\" dose of an opioid or midazolam in the 24 hours before death. Sixty percent of patients needed a continuous subcutaneous infusion and the median morphine dose was 10 mg S/C per 24 hours and midazolam 10 mg S/C per 24 hours. Nineteen percent of our cohort had a loved one or relative present when dying. We provide additional data to the internationally reported pool examining death arising from infection with SARS-CoV-19. The majority of patients had symptoms controlled with low doses of morphine and midazolam, and death was rapid. The impact of low visitation during dying needs exploring. ',\n",
       " 'Consideration of immunomodulatory actions of morphine in COVID-19 - Short report. Cytokine storm in COVID-19 is linked to disease severity and mortality. 40% of patients with severe COVID-19 require mechanical ventilation. Analgesia and sedation are used for treatment of pain, facilitation of mechanical ventilation, or management of acute agitation. Herein, we present the immunomodulating actions of morphine that may either improve or worsen the clinical course of COVID-19 once cytokine storm develops. A literature search was performed to find articles on potential immunomodulatory effects of morphine. Taken together, the results of in vitro and in vivo models in non-COVID-19 conditions suggest that morphine could have a beneficial effect by mitigating the cytokine storm in the early stages of severe COVID-19. In contrast, it could be potentially harmful in late stages of severe COVID-19, especially in the presence of septic shock. ',\n",
       " 'Availability of Internationally Controlled Essential Medicines in the COVID-19 Pandemic. Section 2 of the 2019 World Health Organization Model List of Essential Medicines includes opioid analgesics formulations commonly used for the control of pain and respiratory distress, as well as sedative and anxiolytic substances such as midazolam and diazepam. These medicines, essential to palliative care, are regulated under the international drug control conventions overseen by United Nations specialized agencies and treaty bodies and under national drug control laws. Those national laws and regulations directly affect bedside availability of Internationally Controlled Essential Medicines (ICEMs). The complex interaction between national regulatory systems and global supply chains (now impacted by COVID-19 pandemic) directly affects bedside availability of ICEMs and patient care. Despite decades of global civil society advocacy in the United Nations system, ICEMs have remained chronically unavailable, inaccessible, and unaffordable in low- and-middle-income countries, and there are recent reports of shortages in high-income countries as well. The most prevalent symptoms in COVID-19 are breathlessness, cough, drowsiness, anxiety, agitation, and delirium. Frequently used medicines include opioids such as morphine or fentanyl and midazolam, all of them listed as ICEMs. This paper describes the issues related to the lack of availability and limited access to ICEMs during the COVID-19 pandemic in both intensive and palliative care patients in countries of all income levels and makes recommendations for improving access. ',\n",
       " 'Opioid Dispensing Patterns from a Tertiary Care Cancer Hospital during the Nationwide Lockdown in COVID-19 Pandemic. During the current COVID-19 crisis, striking a balance between adequate pain relief in advanced malignancy patients and avoiding hospitals due to fear of contracting the infection has been the biggest challenge for patients as well as palliative care physicians. This study explored the trends in opioid dispensing for cancer pain before and during the lockdown. The trends were calculated based on an analysis of quantity of all opioids dispensed. March 24, 2020, was considered as a cutoff for analyzing before and during lockdown period dispensing trends. No information regarding individual patients was retrieved in the current study. There was a decrease in total morphine, tramadol, and fentanyl patch dispensing parallel to decrease in total number of patients visiting the outpatient department. However, there was a statistically significant increase in per capita opioid dispensing during the lockdown period. There was also an increase in the proportion of cancer pain patients that were dispensed morphine during the lockdown. Despite the lockdown, the palliative care team at Institute Rotary Cancer Hospital has continued to provide adequate pain relief to patients that could manage to reach the center. Policy-makers need to be cognizant of the pain relief needs of cancer patients in times when accessing hospitals is becoming increasingly difficult. Cancer-related pain and mortality could well be the next pandemic once the current COVID-19 begins to reduce. ',\n",
       " 'Scaffold morphing of arbidol (umifenovir) in search of multi-targeting therapy halting the interaction of SARS-CoV-2 with ACE2 and other proteases involved in COVID-19. The rapid emergence of novel coronavirus, SARS-coronavirus 2 (SARS-CoV-2), originated from Wuhan, China, imposed a global health emergency. Angiotensin-converting enzyme 2 (ACE2) receptor serves as an entry point for this deadly virus while the proteases like furin, transmembrane protease serine 2 (TMPRSS2) and 3 chymotrypsin-like protease (3CLpro) are involved in the further processing and replication of SARS-CoV-2. The interaction of SP with ACE2 and these proteases results in the SARS-CoV-2 invasion and fast epidemic spread. The small molecular inhibitors are reported to limit the interaction of SP with ACE2 and other proteases. Arbidol, a membrane fusion inhibitor approved for influenza virus is currently undergoing clinical trials against COVID-19. In this context, we report some analogues of arbidol designed by scaffold morphing and structure-based designing approaches with a superior therapeutic profile. The representative compounds A_BR4, A_BR9, A_BR18, A_BR22 and A_BR28 restricted the interaction of SARS-CoV-2 SP with ACE2 and host proteases furin and TMPRSS2. For 3CLPro, Compounds A_BR5, A_BR6, A_BR9 and A_BR18 exhibited high binding affinity, docking score and key residue interactions. Overall, A_BR18 and A_BR28 demonstrated multi-targeting potential against all the targets. Among these top-scoring molecules A_BR9, A_BR18, A_BR22 and A_BR28 were predicted to confer favorable ADME properties. ',\n",
       " \"Effect of Coronavirus Disease 2019 on the Psychology and Behavior of Patients on Methadone Maintenance Treatment in Wuhan, China: A Clinical Observational Study. Methadone maintenance treatment (MMT) is a national strategy adopted for the treatment of heroin dependency in China. The sudden outbreak of coronavirus disease 2019 (COVID-19) and the resultant social isolation in Wuhan have also had a significant negative impact on local patients undertaking MMT. In this study, 76 patients on MMT from the Wuhan First Health Clinic were selected as the research objects to investigate the effect of COVID-19 on the levels of stress, anxiety, and depression, as well as the withdrawal symptoms and craving and substance use. Our results revealed that, during the outbreak, the Perceived Stress Scale (PSS) score, HAMA score, HAMD score, and craving in the included patients was significantly higher than that at the baseline and post-epidemic (p < 0.01, p < 0.01, p < 0.01, p < 0.01, respectively); the positive rate of morphine and methamphetamine urine test was significantly lower than that the post-epidemic (p = 0.01, p < 0.01, respectively); the amount of tobacco used during the outbreak and the post-epidemic period was significantly higher than that at the baseline (p < 0.01, p < 0.01, respectively), while the amount of alcohol consumed at the outbreak was significantly higher than at the baseline and the post-epidemic (p < 0.01, p < 0.01, respectively). The negative emotions aroused by the COVID-19 outbreak and the accompanying social isolation to patients on MMT are an important factor of negative reinforcement that adversely affected the patients' craving for drugs and the consumption of legal substances. This finding suggests the need to strengthen the psychological counseling for patients on MMT during severe epidemic, actively alleviating the negative emotions, reducing the risk of substance abuse, and strengthening drug management after the epidemic to prevent the rise of substance (legal or illegal) abuse. \",\n",
       " 'Relation of severe COVID-19 to polypharmacy and prescribing of psychotropic drugs: the REACT-SCOT case-control study. The objective of this study was to investigate the relation of severe COVID-19 to prior drug prescribing. Severe cases were defined by entry to critical care or fatal outcome. For this matched case-control study (REACT-SCOT), all 4251 cases of severe COVID-19 in Scotland since the start of the epidemic were matched for age, sex and primary care practice to 36,738 controls from the population register. Records were linked to hospital discharges since June 2015 and dispensed prescriptions issued in primary care during the last 240 days. Severe COVID-19 was strongly associated with the number of non-cardiovascular drug classes dispensed. This association was strongest in those not resident in a care home, in whom the rate ratio (95% CI) associated with dispensing of 12 or more drug classes versus none was 10.8 (8.8, 13.3), and in those without any of the conditions designated as conferring increased risk of COVID-19. Of 17 drug classes postulated at the start of the epidemic to be \"medications compromising COVID\", all were associated with increased risk of severe COVID-19 and these associations were present in those without any of the designated risk conditions. The fraction of cases in the population attributable to exposure to these drug classes was 38%. The largest effect was for antipsychotic agents: rate ratio 4.18 (3.42, 5.11). Other drug classes with large effects included proton pump inhibitors (rate ratio 2.20 (1.72, 2.83) for = 2 defined daily doses/day), opioids (3.66 (2.68, 5.01) for = 50 mg morphine equivalent/day) and gabapentinoids. These associations persisted after adjusting for covariates and were stronger with recent than with non-recent exposure. Severe COVID-19 is associated with polypharmacy and with drugs that cause sedation, respiratory depression, or dyskinesia; have anticholinergic effects; or affect the gastrointestinal system. These associations are not easily explained by co-morbidity. Measures to reduce the burden of mortality and morbidity from COVID-19 should include reinforcing existing guidance on reducing overprescribing of these drug classes and limiting inappropriate polypharmacy. ENCEPP number EUPAS35558. ',\n",
       " \"Angiotensin converting enzyme-2 as therapeutic target in COVID-19. The pandemic of coronavirus disease 2019 (COVID-19) is a global health emergency that poses a significant threat to world people's health. This outbreak causes major challenges to healthcare systems. Given the lack of effective treatments or vaccine for it, the identification of novel and safe drugs against COVID-19 infection is an urgent need. Angiotensin-converting enzyme 2 (ACE2) is not only an entry receptor of the SARS-CoV-2 virus, the virus that causes COVID-19, but also can protect from lung injury. In this view, we highlighted potential approaches to address ACE2-mediated SARS-CoV-2 virus, including 1) delivering an excessive soluble form of ACE2 (recombinant human ACE2: rhACE2) and 2) inhibition of the interaction between SARS-CoV-2 virus and ACE2 by some compounds with competitive effects (morphine and codeine). Further clinical trials in this regard can reveal a more definite conclusion against the COVID-19 disaster. \"]"
      ]
     },
     "execution_count": 33,
     "metadata": {},
     "output_type": "execute_result"
    }
   ],
   "source": [
    "df['context'][224]"
   ]
  },
  {
   "cell_type": "markdown",
   "id": "3a3c2a6f-ec4c-49ee-baf2-54752e23f21c",
   "metadata": {},
   "source": [
    "Here is summarized version of Reference for morphine-covid19 path:\n",
    "\n",
    "###\n",
    "These abstracts explore the challenges and strategies related to COVID-19 symptom management, end-of-life care, and treatment adaptations. \n",
    "Several studies emphasize the effectiveness of opioids like morphine and fentanyl for symptom control, particularly breathlessness and agitation, in end-of-life COVID-19 care. \n",
    "However, delays in cancer care and restricted healthcare access have led to increased self-medication and psychosocial distress among patients, especially in disadvantaged communities. \n",
    "Structural studies of the mu-opioid receptor reveal fentanyl's unique binding mechanisms, which could inform safer analgesic design. \n",
    "Immunomodulatory effects of opioids and ACE2 inhibition are highlighted as potential therapeutic strategies against COVID-19. \n",
    "Despite lockdown challenges, tele-consultation and home-based palliative care have maintained continuity in patient management. \n",
    "The REACT-SCOT study links severe COVID-19 with polypharmacy and specific drug classes, advocating for reducing overprescribing. \n",
    "Lastly, scaffold morphing of arbidol offers multi-targeting potential, while COVID-19\n",
    "psychological impact on methadone patients underscores the need for enhanced mental health support.\n",
    "###"
   ]
  },
  {
   "cell_type": "code",
   "execution_count": 34,
   "id": "9d24bc24-ca7a-440a-a52f-acc21d89d634",
   "metadata": {
    "execution": {
     "iopub.execute_input": "2024-05-06T17:07:22.381266Z",
     "iopub.status.busy": "2024-05-06T17:07:22.380844Z",
     "iopub.status.idle": "2024-05-06T17:07:22.400271Z",
     "shell.execute_reply": "2024-05-06T17:07:22.399380Z",
     "shell.execute_reply.started": "2024-05-06T17:07:22.381228Z"
    },
    "scrolled": true
   },
   "outputs": [
    {
     "data": {
      "text/plain": [
       "{('C0026549',\n",
       "  'C0021760',\n",
       "  'C5203670'): {'C0021760 C0026549': ['Effect of intravenous pentoxifylline in inflammatory response in patients undergoing nephrolithotomy. To determine the potential efficacy of intravenous (IV) infusion of pentoxifylline (PTX) before nephrolithotomy on attenuating plasma level of the tumor necrosis factor (TNF)-alpha and interleukin (IL)-1, and to investigate whether it prevents postoperative pain. In a randomized, double-blind, placebo-controlled study, 32 patients (American Society of Anesthesiologists physical status 1 and 2) who were undergoing general anesthesia for nephrolithotomy were randomized to receive intravenous PTX (500 mg in 500 mL saline for 2 hours followed by 700 mg in 1000 mL saline for 6 hours), or placebo (1500 mL saline) before induction of the anesthesia. Two venous blood samples were obtained 10 minutes before PTX or placebo infusion and after surgery at 24 hours for laboratory examination. After surgery, the amount of narcotics consumption and intensity of pain (Visual Analog Scale and Verbal Rating Scale) were evaluated. At baseline, both placebo and PTX group had similar demographic, clinical, and laboratory characteristics. The use of narcotic analgesia (morphine, pethidine or both) was more common in the control group for pain relief. Also, pain intensity was significantly lower in patients who received PTX in comparison with those in the control group. Patients in the PTX group had lower postoperative plasma levels of TNF-alpha (0.27 pg/mL (0.06/0.74) v 3.35 pg/mL (0.83/6.41)) (median (25%/75%), P < 0.0001) and IL-6 (35.4 +/- 21.1 pg/mL (range 12-100) v 60.4 +/- 16.7 pg/mL (range 38-100), mean +/- standard deviation, P < 0.001) compared with the placebo receivers. There was no significant difference in surgery time, length of hospital stay, and fever occurrence after operation during in-hospital follow-up. Nausea and vomiting developed, however, in 5 (31.2%) of treatment patients. An infusion of IV PTX that is administered preoperatively could be applied to reduce inflammatory changes and pain intensity in patients undergoing nephrolithotomy; it causes no serious side effects. ',\n",
       "   'The effect of morphine upon DNA methylation in ten regions of the rat brain. Morphine is one of the most effective analgesics in medicine. However, its use is associated with the development of tolerance and dependence. Recent studies demonstrating epigenetic changes in the brain after exposure to opiates have provided insight into mechanisms possibly underlying addiction. In this study, we sought to identify epigenetic changes in ten regions of the rat brain following acute and chronic morphine exposure. We analyzed DNA methylation of six nuclear-encoded genes implicated in brain function (Bdnf, Comt, Il1b, Il6, Nr3c1, and Tnf) and three mitochondrially-encoded genes (Mtco1, Mtco2, and Mtco3), and measured global 5-methylcytosine (5mC) and 5-hydroxymethylcytosine (5 hmC) levels. We observed differential methylation of Bdnf and Il6 in the pons, Nr3c1 in the cerebellum, and Il1b in the hippocampus in response to acute morphine exposure (all P value < 0.05). Chronic exposure was associated with differential methylation of Bdnf and Comt in the pons, Nr3c1 in the hippocampus and Il1b in the medulla oblongata (all P value < 0.05). Global 5mC levels significantly decreased in the superior colliculus following both acute and chronic morphine exposure, and increased in the hypothalamus following chronic exposure. Chronic exposure was also associated with significantly increased global 5hmC levels in the cerebral cortex, hippocampus, and hypothalamus, but significantly decreased in the midbrain. Our results demonstrate, for the first time, highly localized epigenetic changes in the rat brain following acute and chronic morphine exposure. Further work is required to elucidate the potential role of these changes in the formation of tolerance and dependence. ',\n",
       "   'Passage of cytokines across the blood-brain barrier. One mechanism by which blood-borne cytokines might affect the function of the central nervous system (CNS) is by crossing the blood-brain barrier (BBB) for direct interaction with CNS tissue. Saturable transport systems from blood to the CNS have been described for interleukin (IL)-1 alpha, IL-1 beta, IL-1 receptor antagonist (IL-1ra), IL-6, and tumor necrosis factor-alpha (TNF-alpha). Blood-borne cytokines have been shown to cross the BBB to enter cerebrospinal fluid and interstitial fluid spaces of the brain and spinal cord. IL-2 does not cross the BBB by a saturable transport system. The blood-to-brain uptakes of IL-1 alpha, IL-beta, and IL-1ra are interrelated for most brain sites, but the posterior division of the septum shows selective uptake of blood-borne IL-1 alpha. The saturable transport systems for IL-6 and TNF-alpha are distinguishable from each other and from the IL-1 systems. The amount of blood-borne cytokines entering the brain is modest but comparable to that of other water-soluble compounds, such as morphine, known to cross the BBB in sufficient amounts to affect brain function. CNS to blood efflux of cytokines has also been shown to occur, but the mechanism of passage is unclear. Taken together, the evidence shows that passage of cytokines across the BBB occurs, providing a route by which blood-borne cytokines could potentially affect brain function. '], 'C0021760 C5203670': [\"Simple predictive models identify patients with COVID-19 pneumonia and poor prognosis. Identification of SARS-CoV-2-infected patients at high-risk of poor prognosis is crucial. We aimed to establish predictive models for COVID-19 pneumonia severity in hospitalized patients. Retrospective study of 430 patients admitted in Vall d'Hebron Hospital (Barcelona) between 03-12-2020 and 04-28-2020 due to COVID-19 pneumonia. Two models to identify the patients who required high-flow-oxygen-support were generated, one using baseline data and another with also follow-up analytical results. Calibration was performed by a 1000-bootstrap replication model. 249 were male, mean age 57.9 years. Overall, 135 (31.4%) required high-flow-oxygen-support. The baseline predictive model showed a ROC of 0.800 based on: SpO2/FiO2 (adjusted Hazard Ratio-aHR = 8), chest x-ray (aHR = 4), prior immunosuppressive therapy (aHR = 4), obesity (aHR = 2), IL-6 (aHR = 2), platelets (aHR = 0.5). The cut-off of 11 presented a specificity of 94.8%. The second model included changes on the analytical parameters: ferritin (aHR = 7.5 if >=200ng/mL) and IL-6 (aHR = 18 if >=64pg/mL) plus chest x-ray (aHR = 2) showing a ROC of 0.877. The cut-off of 12 exhibited a negative predictive value of 92%. SpO2/FiO2 and chest x-ray on admission or changes on inflammatory parameters as IL-6 and ferritin allow us early identification of COVID-19 patients at risk of high-flow-oxygen-support that may benefit from a more intensive disease management. \",\n",
       "   'Early Viral Clearance and Antibody Kinetics of COVID-19 Among Asymptomatic Carriers. Asymptomatic carriers contribute to the spread of Coronavirus Disease 2019 (COVID-19), but their clinical characteristics, viral kinetics, and antibody responses remain unclear. A total of 56 COVID-19 patients without symptoms at admission and 19 age-matched symptomatic patients were enrolled. RNA of SARS-CoV-2 was tested using transcriptase quantitative PCR, and the total antibodies (Ab), IgG, IgA, and IgM against the SARS-CoV-2 were tested using Chemiluminescence Microparticle Immuno Assay. Among 56 patients without symptoms at admission, 33 cases displayed symptoms and 23 remained asymptomatic throughout the follow-up period. 43.8% of the asymptomatic carriers were children and none of the asymptomatic cases had recognizable changes in C-reactive protein or interleukin-6, except one 64-year-old patient. The initial threshold cycle value of nasopharyngeal SARS-CoV-2 in asymptomatic carriers was similar to that in pre-symptomatic and symptomatic patients, but the positive viral nucleic acid detection period of asymptomatic carriers (9.63 days) was shorter than pre-symptomatic patients (13.6 days). There were no obvious differences in the seropositive conversion rate of total Ab, IgG, and IgA among the three groups, though the rates of IgM varied largely. The average peak IgG and IgM COI of asymptomatic cases was 3.5 and 0.8, respectively, which is also lower than those in symptomatic patients with peaked IgG and IgM COI of 4.5 and 2.4 (p < 0.05). Young COVID-19 patients seem to be asymptomatic cases with early clearance of SARS-CoV-2 and low levels of IgM generation but high total Ab, IgG, and IgA. Our findings provide empirical information for viral clearance and antibody kinetics of asymptomatic COVID-19 patients. ',\n",
       "   'Single-Cell RNA Sequencing of Tocilizumab-Treated Peripheral Blood Mononuclear Cells as an in vitro Model of Inflammation. COVID-19 has posed a significant threat to global health. Early data has revealed that IL-6, a key regulatory cytokine, plays an important role in the cytokine storm of COVID-19. Multiple trials are therefore looking at the effects of Tocilizumab, an IL-6 receptor antibody that inhibits IL-6 activity, on treatment of COVID-19, with promising findings. As part of a clinical trial looking at the effects of Tocilizumab treatment on kidney transplant recipients with subclinical rejection, we performed single-cell RNA sequencing of comparing stimulated PBMCs before and after Tocilizumab treatment. We leveraged this data to create an in vitro cytokine storm model, to better understand the effects of Tocilizumab in the presence of inflammation. Tocilizumab-treated cells had reduced expression of inflammatory-mediated genes and biologic pathways, particularly amongst monocytes. These results support the hypothesis that Tocilizumab may hinder the cytokine storm of COVID-19, through a demonstration of biologic impact at the single-cell level. ']},\n",
       " ('C0026549',\n",
       "  'C0021756',\n",
       "  'C5203670'): {'C0021756 C0026549': ['Impact of HACA on Immunomodulation and Treatment Toxicity Following ch14.18/CHO Long-Term Infusion with Interleukin-2: Results from a SIOPEN Phase 2 Trial. GD2-directed immunotherapies improve survival of high-risk neuroblastoma (NB) patients (pts). Treatment with chimeric anti-GD2 antibodies (Ab), such as ch14.18, can induce development of human anti-chimeric Ab (HACA). Here, we report HACA effects on ch14.18/CHO pharmacokinetics, pharmacodynamics and pain intensity in pts treated by long-term infusion (LTI) of ch14.18/CHO combined with IL-2. 124 pts received up to 5 cycles of ch14.18/CHO 10 days (d) infusion (10 mg/m2/d; d8-18) combined with s.c. IL-2 (6 * 106 IU/m2/d; d1-5, d8-12). HACA, treatment toxicity, ch14.18/CHO levels, Ab-dependent cellular- (ADCC) and complement-dependent cytotoxicity (CDC) were assessed using respective validated assays. HACA-negative pts showed a steadily decreased pain in cycle 1 (74% pts without morphine by d5 of LTI) with further decrease in subsequent cycles. Ch14.18/CHO peak concentrations of 11.26 +/- 0.50 ug/mL found in cycle 1 were further elevated in subsequent cycles and resulted in robust GD2-specific CDC and ADCC. Development of HACA (21% of pts) resulted in strong reduction of ch14.18/CHO levels, abrogated CDC and ADCC. Surprisingly, no difference in pain toxicity between HACA-positive and -negative pts was found. In conclusion, ch14.18/CHO LTI combined with IL-2 results in strong activation of Ab effector functions. Importantly, HACA response abrogated CDC but did not affect pain intensity indicating CDC-independent pain induction. ',\n",
       "   'Impact of IL-2 on Treatment Tolerance in Patients With High-Risk Neuroblastoma Treated With Dinutuximab Beta-Based Immunotherapy. Patients with high-risk neuroblastoma treated with continuous long-term infusion of anti-GD2 antibody dinutuximab beta (DB) in combination with IL-2 show an acceptable safety profile. Here, we compared treatment tolerance with and without IL-2. Ninety-nine patients with high-risk neuroblastoma received up to five cycles of DB given as long-term infusion (10 mg/m2/d, 100 mg/m2; per cycle) with IL-2 (53 patients; regimen A; 6 * 106 IU/m2/d; 60 * 106 IU/m2/cycle) and without IL-2 (46 patients; regimen B) in a single-center compassionate use program. Clinical parameters (body temperature, vital signs, Lansky performance score), laboratory values [C-reactive protein, IFN-gamma, IL-6, and IL-18 (cycle 1)], and requirement of i.v. co-medication (e.g., morphine, metamizole) were systematically assessed. Patients with stable clinical parameters and that did not require co-medication were defined as potential \"outpatient candidates.\" Patients showed higher levels of body temperature and CRP in regimen A compared to B. However, IL-6 serum concentrations were similar in pts of both cohorts in the first cycle. Patients receiving regimen B showed a shorter time to achieve normal vital parameters and required less co-medication compared to patients in regimen A that resulted in a shorter median time period to discharge and to achieve a potential outpatient status (6d regimen A and 3-5d regimen B after start of antibody infusion, respectively). This study shows that omitting IL-2 from immunotherapy with DB allows reduced co-medication and hospitalization time and therefore results in improved quality of life in patients with high-risk neuroblastoma. ',\n",
       "   'Opioid dependency and T-helper cell functions in rhesus monkey. Administration of morphine sulfate to rhesus monkeys may activate the quiescent lymphocyte for proliferation, induce a transient increase in the T cell proliferative response to mitogens, and cause an enhanced interleukin-2 release from the mitogen-stimulated lymphocytes. However, longitudinal studies of the animals dependent upon morphine or L-a-acetyl-methadol, a long-acting opioid, revealed an overall immunosuppression of T helper functions. In vitro studies using morphine and its antagonist naloxone suggested that the immunosuppression was not a result of a direct interaction between the opioids and conventional opiate receptors which might have been present on the lymphocytes. The studies also showed the importance of measuring [3H]thymidine incorporation rather than its uptake into cells to assess T cell activation. '], 'C0021756 C5203670': [\"Continuous tracking of COVID-19 patients' immune status. COVID-19 is threating human health worldwide. We aim to investigate the dynamic changes of immune status in COVID-19 patients with clinical evolution. Sixty-one COVID-19 patients (42 mild cases and 19 severe cases, 51 cases without secondary infection as non-infection group and 10 cases with secondary bacterial/fungal infection as infection group) and 52 healthy controls (HCs) were enrolled from our hospital. Leucocyte classification, lymphocyte subsets and cytokines were detected by full-automatic blood cell analyzer and flow cytometer, respectively. Upon admission, eosinophils and lymphocyte subsets decreased significantly, while neutrophils, monocytes, basophils, IL-2, IL-6, IL-10 and IFN-gamma increased significantly in COVID-19 patients compared to HCs. CD3+ T and DN (CD3+CD4-CD8-) cells appeared sustained decline, leucocytes, neutrophils and IL-10 showed sustained increase in severe group compared to mild group. Compared with the non-infection group, we observed a depletion of eosinophils, CD3+ T and CD4+ T cells, but leucocytes, neutrophils, IL-6 and IL-10 on the contrary in the infection group. Besides, in severe group of COVID-19 patients, DN cells were negatively correlated with IL-10, and DP (CD3+CD4+CD8+) cells were negatively correlated with IL-6. Lymphocytes, eosinophils, CD3+ T cells, CD4+ T cells, IL-6 and IL-10 all had great diagnostic efficacy (AUC, 0.905-0.975) for COVID-19. The laboratory indicators of COVID-19 patients with improved condition also showed a recovery trend with time. The immune status of COVID-19 patients is different in each stage, and dynamic monitoring of related indicators can help predict the disease and may avoid cytokine storms. \",\n",
       "   'Dynamics of cytokines and lymphocyte subsets associated with the poor prognosis of severe COVID-19. We aimed to study the dynamics of cytokines and lymphocyte subsets and their correlation with the prognosis of patients with severe COVID-19. The lymphocyte subsets and cytokines of 31 patients with severe COVID-19 (7 deaths and 24 survivals) were longitudinally analyzed. The mean age of enrolled patients was 64 years, 24 (77.4%) patients were men, and 23 (74.2%) patients had comorbidities. Compared with survival group, the death group showed significant and sustained increases in the levels of IL-6, IL-8, and IL-10 from baseline to 28 days after admission (all p<0.05). No significant differences were observed in the levels of TNF-alpha, IL-1b, IL-2, IL-4, IL-5, IL-12P70, IL-17, IFN-alpha, and IFN-gamma between the death group and survival group during the follow-up (all p>0.05). The absolute counts of CD3+ T cells, CD4+ T cells, CD8+ T cells, and CD45+ T cells were lower in both survival group and death group patients from hospital admission to 3 days after admission, and gradually recovered in 4 to 35 days in the survival group, but continually stayed at low levels in the death group during the follow-up. The kinetic changes of cytokines and lymphocyte subsets are related with the prognosis of patients with severe COVID-19. ',\n",
       "   'The effect of drugs used in rheumatology for treating SARS-CoV2 infection. SARS-CoV-2 is a novel coronavirus that was first isolated from a group of patients hospitalized with pneumonia in China at the end of 2019, and, in February 2020, the syndrome it caused was named coronavirus disease 2019 (COVID-19) by the World Health Organization. In the absence of specific antiviral treatments capable of neutralizing the etiological agent, one therapeutic approach is to control the cytokine storm responsible for the most severe forms of the disease. The characteristic cytokine profile of severely affected patients is increased levels of interleukin (IL)-1beta, IL-2, IL-6, IL-7, IL-8, and tumor necrosis factor alpha (TNF-alpha). This article discusses the pathogenesis of COVID-19 as a rationale for using the biological and targeted synthetic drugs used in rheumatology (anti-TNF, anti-IL-1 and anti-IL-6 agents and baricitinib) to treat the disease, and provides key information concerning their potential benefits and adverse effects. Interleukin inhibition seems to be a promising means of treating COVID-19 patients when respiratory function declines (or even earlier) if there are laboratory data indicating the presence of a cytokine storm because the interleukins are key drivers of inflammation. However, it is important to consider the risks and benefits of biological agents carefully, and critically analyze the evidence concerning their use in COVID-19 patients. ']},\n",
       " ('C0026549',\n",
       "  'C0085295',\n",
       "  'C5203670'): {'C0026549 C0085295': ['Differential involvement of RelB in morphine-induced modulation of chemotaxis, NO, and cytokine production in murine macrophages and lymphocytes. Acute morphine impairs innate and acquired immunity. The mechanisms involved in immunosuppression have not been well defined yet. The transcription factor NF-kappaB is a central regulator of immunity, and of the NF-kappaB family, RelB is particularly involved in the expression of genes important in immune responses. We investigated the involvement of RelB in morphine-induced immunosuppression in mice deficient for the RelB factor. RelB-/- mice and wild-type (WT) controls were injected s.c. with morphine 20 mg/Kg, and 1 h later, immune parameters were evaluated. Morphine significantly reduced macrophage production of the proinflammatory cytokines IL-1beta, TNF-alpha, and IL-12 in WT animals, and the drug failed to diminish the production of these cytokines in the RelB-/- mice. In contrast, the anti-inflammatory cytokine IL-10 was similarly affected in the two strains. Macrophage NO production was modulated by morphine in WT animals only, and morphine similarly decreased macrophage chemotaxis in the presence or in the absence of RelB. When Th1 and Th2 cytokines were evaluated, we observed a clear morphine-induced reduction of IL-2 and IFN-gamma production by WT splenocytes, whereas no effect of the drug was observed in RelB-/- mice. On the contrary, the production of the Th2 cytokines IL-4 and IL-10 was lessened to the same degree by morphine in WT and RelB-/- mice. In conclusion, our data suggest that RelB is an important target for morphine modulation of proinflammatory and Th1 cytokines. They also indicate that morphine uses multiple intracellular pathways to exert its generalized immunosuppression. ',\n",
       "   'A role for proinflammatory cytokines and fractalkine in analgesia, tolerance, and subsequent pain facilitation induced by chronic intrathecal morphine. The present experiments examined the role of spinal proinflammatory cytokines [interleukin-1beta (IL-1)] and chemokines (fractalkine) in acute analgesia and in the development of analgesic tolerance, thermal hyperalgesia, and tactile allodynia in response to chronic intrathecal morphine. Chronic (5 d), but not acute (1 d), intrathecal morphine was associated with a rapid increase in proinflammatory cytokine protein and/or mRNA in dorsal spinal cord and lumbosacral CSF. To determine whether IL-1 release modulates the effects of morphine, intrathecal morphine was coadministered with intrathecal IL-1 receptor antagonist (IL-1ra). This regimen potentiated acute morphine analgesia and inhibited the development of hyperalgesia, allodynia, and analgesic tolerance. Similarly, intrathecal IL-1ra administered after the establishment of morphine tolerance reversed hyperalgesia and prevented the additional development of tolerance and allodynia. Fractalkine also appears to modulate the effects of intrathecal morphine because coadministration of morphine with intrathecal neutralizing antibody against the fractalkine receptor (CX3CR1) potentiated acute morphine analgesia and attenuated the development of tolerance, hyperalgesia, and allodynia. Fractalkine may be exerting these effects via IL-1 because fractalkine (CX3CL1) induced the release of IL-1 from acutely isolated dorsal spinal cord in vitro. Finally, gene therapy with an adenoviral vector encoding for the release of the anti-inflammatory cytokine IL-10 also potentiated acute morphine analgesia and attenuated the development of tolerance, hyperalgesia, and allodynia. Taken together, these results suggest that IL-1 and fractalkine are endogenous regulators of morphine analgesia and are involved in the increases in pain sensitivity that occur after chronic opiates. ',\n",
       "   \"Serum IL-10 involved in morphine tolerance development during adjuvant-induced arthritis. Opioid receptors play an important role in modulation of hyperalgesia in inflamed tissues, but chronic morphine application induces such side effects as tolerance. There is near communications between cytokines and mu opioid receptor expression. This study was aimed to assess the role of serum IL-10 in morphine tolerance development during adjuvant-induced arthritis. Adjuvant arthritis (AA) was induced on day 0 by single injection of Complete Freund's Adjuvant (CFA) into the rats' hindpaw. Hyperalgesia, edema, and spinal mu opioid receptor (mOR) variations were assessed on 0, 7, 14, and 21 days of the study. For assessment of the morphine tolerance development, morphine effective dose (4 mg/kg) was administered from the 14th day after CFA injection and continued until the morphine post-dose paw withdrawal latency (PWL); it did not significantly differ from the baseline. For assessment of the effects of IL-10 on tolerance induction, a neutralizing dose (ND50) of anti-IL-10 was administered daily during different stages of the study. AA induction in the right hindpaw of rats resulted in unilateral inflammation and hyperalgesia within 21 days of the study. Anti-IL-10 antibody administration in the AA rats induced marked elevation of hyperalgesia compared to the AA control group. Our data also indicated that morphine effective anti-hyperalgesic dose significantly decreased in the AA rats compared to the control group, which this symptom was aligned with spinal mu opioid receptor (mOR) expression increase during AA. Moreover, there was a significant difference in morphine tolerance induction between the AA and control rats, and our results also demonstrated that IL-10 played an important role in tolerance-induction process. It can be concluded that morphine tolerance slowly progressed when administered morphine effective dose was reduced during AA chronic inflammation. On the other hand, it seems that increased level of serum IL-10 may affect morphine tolerance development during inflammation. \"], 'C0085295 C5203670': ['Analysis of cytokines in SARS-CoV-2 or COVID-19 patients in Erbil city, Kurdistan Region of Iraq. The emergence of the novel coronavirus and then pandemic outbreak was coined 2019- nCoV or COVID-19 (or SARS-CoV-2 disease 2019). This disease has a mortality rate of about 3.7 percent, and successful therapy is desperately needed to combat it. The exact cellular mechanisms of COVID-19 need to be illustrated in detail. This study aimed to evaluate serum cytokines in COVID-19 patients. In this study, serum was collected from volunteer individuals, moderate COVID-19 patients, severe cases of COVID-19 patients, and patients who recovered from COVID-19 (n = 122). The serum concentrations of interleukins such as IL-1, IL-4, IL-6, IL-8, IL-10, and tumor necrosis factor-alpha (TNF-alpha), were measured by enzyme-linked immunosorbent assays (ELISA). The concentrations of IL-1 and TNF-alpha were did not differ significantly among groups. However, the concentration of IL-6 was significantly higher in moderate COVID-19 and severe cases of COVID-19 groups compared to control and recovered groups indicating it to be an independent predictor in the coronavirus disease. The levels of IFN-gamma and IL-4 were significantly lower in the recovery group than the severe case of the COVID-19 group. In contrast, the level of IL-10 in recovered COVID-19 patients was significantly higher in compare to severe cases, COVID-19 patients. Varying levels of cytokines were detected in COVID-19 group than control group suggesting distinct immunoregulatory mechanisms involved in COVID-19 pathogenesis. However, additional investigations are needed to be to be performed to understand the exact cellular mechanism of this disease. ',\n",
       "   'Correlation analysis between disease severity and inflammation-related parameters in patients with COVID-19: a retrospective study. COVID-19 is highly contagious, and the crude mortality rate could reach 49% in critical patients. Inflammation concerns on disease progression. This study analyzed blood inflammation indicators among mild, severe and critical patients, helping to identify severe or critical patients early. In this cross-sectional study, 100 patients were included and divided into mild, severe or critical groups according to disease condition. Correlation of peripheral blood inflammation-related indicators with disease criticality was analyzed. Cut-off values for critically ill patients were speculated through the ROC curve. Significantly, disease severity was associated with age (R = -0.564, P < 0.001), interleukin-2 receptor (IL2R) (R = -0.534, P < 0.001), interleukin-6 (IL-6) (R = -0.535, P < 0.001), interleukin-8 (IL-8) (R = -0.308, P < 0.001), interleukin-10 (IL-10) (R = -0.422, P < 0.001), tumor necrosis factor alpha (TNFalpha) (R = -0.322, P < 0.001), C-reactive protein (CRP) (R = -0.604, P < 0.001), ferroprotein (R = -0.508, P < 0.001), procalcitonin (R = -0.650, P < 0.001), white cell counts (WBC) (R = -0.54, P < 0.001), lymphocyte counts (LC) (R = 0.56, P < 0.001), neutrophil count (NC) (R = -0.585, P < 0.001) and eosinophil counts (EC) (R = 0.299, P < 0.001). With IL2R > 793.5 U/mL or CRP > 30.7 ng/mL, the progress of COVID-19 to critical stage should be closely observed and possibly prevented. Inflammation is closely related to severity of COVID-19, and IL-6 and TNFalpha might be promising therapeutic targets. ',\n",
       "   'Antiviral effect of fufang yinhua jiedu (FFYH) granules against influenza A virus through regulating the inflammatory responses by TLR7/MyD88 signaling pathway. Fufang-Yinhua-Jiedu Granules (FFYH) optimized from a Yin-Qiao-San, as traditional Chinese medicine (TCM), was used to treat influenza and upper respiratory tract infection and was recommended for the prevention and treatment of SARS in 2003 and current COVID-19 in Anhui Province in 2020. In the clinical studies, FFYH was very effective for the treatment of influenza, but the mechanism of action against influenza A virus remains unclear. In the present study, we investigated the antiviral effect of FFYH against influenza A virus in vitro and vivo. Moreover, the potential mechanism of FFYH against influenza A virus in vivo was investigated for the first time. CPE inhibition assay and HA assay were used to evaluate the in vitro antiviral effects of FFYH against influenza A virus H1N1, H3N2, H5N1, H7N9 and H9N2. Mice were used to evaluate the antiviral effect of FFYH in vivo with ribavirin and lianhuaqingwen as positive controls. RT-PCR was used to quantify the mRNA transcription of TNF-alpha, IL-6, IFN-gamma, IP10, and IL-1beta mRNA. ELISA was used to examine the expression of inflammatory factors such as TNF-alpha, IL-6, IFN-gamma, IP10, and IL-1beta in sera. The blood parameters were analyzed with auto hematology analyzer. Moreover, the potential mechanism of FFYH against influenza A virus in vivo was also investigated. FFYH showed a broad-spectrum of antiviral activity against H1N1, H3N2, H5N1, H7N9, and H9N2 influenza A viruses. Furthermore, FFYH dose-dependently increased the survival rate, significantly prolonged the median survival time of mice, and markedly reduced lung injury caused by influenza A virus. Also, FFYH significantly improve the sick signs, food taken, weight loss, blood parameters, lung index, and lung pathological changes. Moreover, FFYH could markedly inhibit the inflammatory cytokine expression of TNF-alpha, IL-6, IFN-gamma, IP10, IL-10, and IL-1beta mRNA or protein via inhibition of the TLR7/MyD88/NF-kappaB signaling pathway in vivo. FFYH not only showed a broad-spectrum of anti-influenza virus activity in vitro, but also exhibited a significant protective effect against lethal influenza virus infection in vivo. Furthermore, our results indicated that the in vivo antiviral effect of FFYH against influenza virus may be attributed to suppressing the expression of inflammatory cytokines via regulating the TLR7/MyD88/NF-kappaB signaling pathway. These findings provide evidence for the clinical treatment of influenza A virus infection with FFYH. ']},\n",
       " ('C0026549',\n",
       "  'C1448177',\n",
       "  'C5203670'): {'C0026549 C1448177': ['Withdrawal from morphine in mice suppresses splenic macrophage function, cytokine production, and costimulatory molecules. We have previously shown that abstinence from morphine by either abrupt (AW) or precipitated (PW) withdrawal induces greater than 80% suppression in the capacity to mount an in vitro plaque-forming cell (PFC) response to sheep red blood cells at 24-h post withdrawal. Present studies on the mechanisms of immunosuppression showed that addition of normal unfractionated spleen cells, macrophage-enriched adherent cells, or CD11b(+) purified macrophages, to spleen cells taken from withdrawn mice, restored immune responses. Spleen cells from mice undergoing withdrawal also had decreased splenic mRNA and/or protein levels of IL-1beta, IL-1Ra, TNF-alpha, IL-12, and IFN-gamma. Addition of IL-1beta or IFN-gamma to AW cultures was able to reverse their immunosuppression. These results strongly suggest that morphine withdrawal results in a deficit of macrophage function. ',\n",
       "   'Repeated morphine treatment-mediated hyperalgesia, allodynia and spinal glial activation are blocked by co-administration of a selective cannabinoid receptor type-2 agonist. Spinal glial activation has been implicated in sustained morphine-mediated paradoxical pain sensitization. Since activation of glial CB2 cannabinoid receptors attenuates spinal glial activation in neuropathies, we hypothesized that CB2 agonists may also attenuate sustained morphine-mediated spinal glial activation and pain sensitization. Our data indicate that co-administration of a CB2-selective agonist (AM 1241) attenuates morphine (intraperitoneal; twice daily; 6 days)-mediated thermal hyperalgesia and tactile allodynia in rats. A CB2 (AM 630) but not a CB1 (AM 251) antagonist mitigated this effect. AM 1241 co-treatment also attenuated spinal astrocyte and microglial marker and pro-inflammatory mediator (IL-1beta, TNFalpha) immunoreactivities in morphine-treated rats, suggesting that CB2 agonists may be useful to prevent the neuroinflammatory consequences of sustained morphine treatment. ',\n",
       "   'Comparative analysis of mu-opioid receptor expression in immune and neuronal cells. Morphine modulates neuronal and immune cell functions via mu-opioid receptors. In primary and Jurkat T cells, and Raji B cells mu-opioid receptor transcripts were detected only after stimulation of the cells with IL-4 or TNF-alpha. Moreover, the amount of the induced mu-opioid receptor mRNA in the immune cells was 15 to 200 times less than those in primary cortical and SH SY5Y neuronal cells. Nevertheless, mu-opioid receptor mRNA in immune cells is processed to functional receptors, as demonstrated by morphine-mediated phosphorylation of mitogen activated protein kinase, morphine-mediated up-regulation of IL-4 mRNA and coupling to adenylyl cyclase in Jurkat cells. '], 'C1448177 C5203670': ['Inflammation and kidney involvement in human viral diseases caused by SARS-CoV-2, HIV, HCV and HBV. Inflammation is closely related to renal diseases. This is particularly true for renal diseases caused by infections as in viral diseases. In this review, we highlight the inflammatory mechanisms that underlie kidney dysfunction in SARS-CoV-2, human immunodeficiency (HIV), hepatitis C (HCV), and hepatitis B (HBV) infections. The pathophysiology of renal involvement in COVID-19 is complex, but kidney damage is frequent, and the prognosis is worse when it happens. Virus-like particles were demonstrated mostly in renal tubular epithelial cells and podocytes, which suggest that SARS-CoV-2 directly affects the kidneys. SARS-CoV-2 uses the angiotensin-converting enzyme 2 receptor, which is found in endothelial cells, to infect the human host cells. Critical patients with SARS-CoV-2-associated acute kidney injury (AKI) show an increase in inflammatory cytokines (IL-1beta, IL-8, IFN-gamma, TNF-alpha), known as cytokine storm that favors renal dysfunction by causing intrarenal inflammation, increased vascular permeability, volume depletion, thromboembolic events in microvasculature and persistent local inflammation. Besides AKI, SARS-CoV-2 can also cause glomerular disease, as other viral infections such as in HIV, HBV and HCV. HIV-infected patients present chronic inflammation that can lead to a number of renal diseases. Proinflammatory cytokines and TNF-induced apoptosis are some of the underlying mechanisms that may explain the virus-induced renal diseases that are here reviewed. ',\n",
       "   'Potential mechanism underlying the effect of matrine on COVID-19 patients revealed through network pharmacological approaches and molecular docking analysis. The clinical efficacy of matrine in treating coronavirus disease (COVID-19) has been confirmed; however, its underlying mechanism of action remains unknown. TCMSP, SwissTargetPrediction, SEA, GeneCards, CTD, and TTD were used to identify potential targets for matrine in SARS-CoV-2. Cytoscape software was used to determine the target-pathway network for topographical analysis. The online STRING analysis platform and Cytoscape were together used to generate a PPI network and for GO and KEGG pathway enrichment analysis. Finally, molecular docking simulations were performed to study matrine-Mpro, matrine-ACE2, and matrine-RdRp interactions. Ten common matrine targets were obtained, particularly including TNF-alpha, IL-6, and CASP3. GO and KEGG pathway enrichment analysis revealed five significantly enriched signalling pathways involved in cell proliferation, apoptosis, programmed cell death, and immune responses. During COVID-19 treatment, matrine regulates viral replication, host cell apoptosis, and inflammation by targeting the TNF-alpha, IL-6, and CASP3 in the TNF signalling pathway. ',\n",
       "   \"IFN- gamma and TNF- alpha drive a CXCL10 + CCL2 + macrophage phenotype expanded in severe COVID-19 and other diseases with tissue inflammation. Immunosuppressive and anti-cytokine treatment may have a protective effect for patients with COVID-19. Understanding the immune cell states shared between COVID-19 and other inflammatory diseases with established therapies may help nominate immunomodulatory therapies. Using an integrative strategy, we built a reference by meta-analyzing > 300,000 immune cells from COVID-19 and 5 inflammatory diseases including rheumatoid arthritis (RA), Crohn's disease (CD), ulcerative colitis (UC), lupus, and interstitial lung disease. Our cross-disease analysis revealed that an FCN1 + inflammatory macrophage state is common to COVID-19 bronchoalveolar lavage samples, RA synovium, CD ileum, and UC colon. We also observed that a CXCL10 + CCL2 + inflammatory macrophage state is abundant in severe COVID-19, inflamed CD and RA, and expresses inflammatory genes such as GBP1, STAT1 , and IL1B . We found that the CXCL10 + CCL2 + macrophages are transcriptionally similar to blood-derived macrophages stimulated with TNF- alpha and IFN- gamma ex vivo . Our findings suggest that IFN- gamma , alongside TNF- alpha , might be a key driver of this abundant inflammatory macrophage phenotype in severe COVID-19 and other inflammatory diseases, which may be targeted by existing immunomodulatory therapies. \"]},\n",
       " ('C0026549',\n",
       "  'C0042679',\n",
       "  'C5203670'): {'C0026549 C0042679': ['Impact of anti-cancer drugs and other determinants on serum protein binding of morphine 6-glucuronide. The aim of the present study was to examine factors that may influence the protein binding of morphine 6-glucuronide (M6G), the most active metabolite of morphine. An enzyme-linked immunoabsorbent assay technique was used to measure the M6G concentration in serum of 18 healthy adults, 18 neonatal and 7 children with cancer. Total and free M6G concentrations were measured following equilibrium dialysis for 3 hrs and at physiological pH at 37 degrees C. The influence of vincristine, methotrexate, 6-mercaptopurine, morphine, human albumin, alpha-1-acid glycoprotein, palmitic acid, oleic acid and pH on M6G protein binding was examined. M6G was 66.87+/-0.73 percent free in human serum at physiological pH and temperature. The percentage free (unbound) was increased significantly by vincristine (4.33%) and methotrexate (9.68%), but 6- mercaptopurine and morphine had no significant effect on it. Free percentages of M6G was reduced by decreasing serum albumin concentration but was unaffected by the presence of alpa-1-acid glycoprotein (AAG) or changes in serum pH. Similar results were obtained in human serum albumin (HAS) solutions. Addition of palmitic acid and oleic acid reduced protein binding significantly by 6.3% and 7.4%, respectively. Although M6G in this study was not highly bounded, but because of its high analgesic potency, any change in its free concentration due to concurrent medication or disease caused significant changes in its effects. This dearth of evidence has been implicated in the reluctance of professionals to be cautious in prescribing them to children, particularly in the neonatal period. ',\n",
       "   'Crystal structure of vinorine synthase, the first representative of the BAHD superfamily. Vinorine synthase is an acetyltransferase that occupies a central role in the biosynthesis of the antiarrhythmic monoterpenoid indole alkaloid ajmaline in the plant Rauvolfia. Vinorine synthase belongs to the benzylalcohol acetyl-, anthocyanin-O-hydroxy-cinnamoyl-, anthranilate-N-hydroxy-cinnamoyl/benzoyl-, deacetylvindoline acetyltransferase (BAHD) enzyme superfamily, members of which are involved in the biosynthesis of several important drugs, such as morphine, Taxol, or vindoline, a precursor of the anti-cancer drugs vincaleucoblastine and vincristine. The x-ray structure of vinorine synthase is described at 2.6-angstrom resolution. Despite low sequence identity, the two-domain structure of vinorine synthase shows surprising similarity with structures of several CoA-dependent acyltransferases such as dihydrolipoyl transacetylase, polyketide-associated protein A5, and carnitine acetyltransferase. All conserved residues typical for the BAHD family are found in domain 1. His160 of the HXXXD motif functions as a general base during catalysis. It is located in the center of the reaction channel at the interface of both domains and is accessible from both sides. The channel runs through the entire molecule, allowing the substrate and co-substrate to bind independently. Asp164 points away from the catalytic site and seems to be of structural rather than catalytic importance. Surprisingly, the DFGWG motif, which is indispensable for the catalyzed reaction and unique to the BAHD family, is located far away from the active site and seems to play only a structural role. Vinorine synthase represents the first solved protein structure of the BAHD superfamily. ',\n",
       "   'A Rare Case of Vincristine-Induced Neuropathy Presenting as Foot Drop in the Postoperative Period. Patients with cancer receiving chemotherapy are at risk of neuropathy development. Many of them may have subclinical neuropathies, which may be missed before planning anesthesia, especially in emergency scenarios. This case report highlights the importance of a thorough neurologic examination in patients with subclinical neuropathy to avoid any complications and medicolegal issues. A patient with a diagnosis of diffuse large B-cell lymphoma being treated with vincristine-based chemotherapy was scheduled for an emergency laparotomy. There was no history of any neurologic deficit before surgery. The surgery was done using general anesthesia, and intrathecal morphine was given for postoperative analgesia. This patient experienced bilateral foot drop postoperatively. A bilateral lower limb and upper limb sensory-motor neuropathy was detected on a nerve conduction study, probably due to vincristine-induced peripheral neuropathy. The literature is deficient regarding manifestations of neurologic complications in previously asymptomatic patients in the immediate postoperative period. These patients pose a diagnostic dilemma perioperatively that may lead to medicolegal challenges to the anesthesia provider. Anesthesia providers should be wary of the possibility of exacerbation of any subclinical neuropathy in patients with cancer receiving neurotoxic chemotherapy and should probably avoid any neuraxial intervention in such patients if possible. '], 'C0042679 C5203670': ['Lymphocyte-to-C-Reactive Protein Ratio: A Novel Predictor of Adverse Outcomes in COVID-19. Systemic inflammation elicited by a cytokine storm is considered a hallmark of coronavirus disease 2019 (COVID-19). This study aims to assess the validity and clinical utility of the lymphocyte-to-C-reactive protein (CRP) ratio (LCR), typically used for gastric carcinoma prognostication, versus the neutrophil-to-lymphocyte ratio (NLR) for predicting in-hospital outcomes in COVID-19. A retrospective cohort study was performed to determine the association of LCR and NLR with the need for invasive mechanical ventilation (IMV), dialysis, upgrade to an intensive care unit (ICU) and mortality. Independent t-test and multivariate logistic regression analysis were performed to calculate mean differences and adjusted odds ratios (aORs) with its 95% confidence interval (CI), respectively. The mean age for NLR patients was 63.6 versus 61.6, and for LCR groups, it was 62.6 versus 63.7 years, respectively. The baseline comorbidities across all groups were comparable except that the higher LCR group had female predominance. The mean NLR was significantly higher for patients who died during hospitalization (19 vs. 7, P <= 0.001) and those requiring IMV (12 vs. 7, P = 0.01). Compared to alive patients, a significantly lower mean LCR was observed in patients who did not survive hospitalization (1,011 vs. 632, P = 0.04). For patients with a higher NLR (> 10), the unadjusted odds of mortality (odds ratios (ORs) 11.0, 3.6 - 33.0, P < 0.0001) and need for IMV (OR 3.3, 95% CI 1.4 - 7.7, P = 0.008) were significantly higher compared to patients with lower NLR. By contrast, for patients with lower LCR (< 100), the odds of in-hospital all-cause mortality were significantly higher compared to patients with a higher LCR (OR 0.2, 0.06 - 0.47, P = 0.001). The aORs controlled for baseline comorbidities and medications mirrored the overall results, indicating a genuinely significant correlation between these biomarkers and outcomes. A high NLR and decreased LCR value predict higher odds of in-hospital mortality. A high LCR at presentation might indicate impending clinical deterioration and the need for IMV. ',\n",
       "   'COVID-19 pneumonia in a patient with adult T-cell leukemia-lymphoma. Although some patients with COVID-19 develop only mild symptoms, fatal complications have been observed among those with comorbidities. As patients with cancer are immunocompromised, they are thought to have a high risk of severe illness associated with COVID-19. We report a COVID-19 patient with adult T-cell leukemia-lymphoma (ATL) who was treated using favipiravir. A 69-year-old woman with lymphoma-type ATL was treated using cyclophosphamide, doxorubicin, vincristine, prednisolone and mogamulizumab (M-CHOP) with substantial efficacy. However, in cycle 4 of M-CHOP therapy, she developed fever with mild cough. The patient was admitted to the hospital and CT revealed bilateral ground-glass opacities. SARS-CoV-2 was detected by RT-PCR and the patient was diagnosed with COVID-19. Considering severe immunosuppression caused by ATL, we initiated favipiravir therapy. Subsequently, the fever improved without antipyretics and her C-reactive protein level decreased rapidly. SARS-CoV-2 PCR tests were negative on days 17 and 18 of favipiravir therapy, and the patient was discharged without residual disease on the final CT. This is the first documented case of COVID-19 in a patient with ATL. Although severe immunosuppression caused by ATL was present, severe COVID-19 pneumonia did not develop. The immunosuppressed condition caused by hematological malignancy may not always be a risk factor for severe illness associated with COVID-19. Further accumulation of data regarding COVID-19 in patients with hematological malignancies is warranted to clarify the risk factors for severe illness, the best-in-class antiviral agent, and the optimal treatment strategy in this population. ',\n",
       "   'Clinical Profiles, Characteristics, and Outcomes of the First 100 Admitted COVID-19 Patients in Pakistan: A Single-Center Retrospective Study in a Tertiary Care Hospital of Karachi. Background and objective COVID-19 is a highly disseminating viral disease imparted by severe acute respiratory syndrome coronavirus 2 (SARS-COV-2), which was declared a global pandemic by the World Health Organization. In our study, we aimed to describe the clinical characteristics of the first 100 hospitalized patients of confirmed COVID-19 in a developing country. Materials and methods The study included all the admitted patients (n = 100) having COVID-19 polymerase chain reaction (PCR) positive, and evaluated clinical profiles and characteristics of the patients linking to disease severity. Results Out of the 100 patients, 67 were in the ward, 33 were in ICU, 78 of them recovered, while 22 deaths reported. The mean age was 52.58 +/- 15.68, with most frequent comorbidities are diabetes and hypertension while frequent symptoms are fever and dry cough. Bilateral lower zone patchy infiltrates are frequent chest radiographic findings. Amongst the patients admitted in ICU, there were significant differences in the total leukocyte count (P = 0.001), neutrophils and lymphocytes (P =< 0.001), monocytes (P = 0.027), urea (P =< 0.001), creatinine (P = 0.002), neutrophil-to-lymphocyte ratio (NLR) and platelet-to-lymphocyte ratio (PLR) increasing with disease severity, lymphocyte-to-monocyte ratio (LMR) and lymphocyte-to-C-reactive protein ratio (LCR) decreasing with mortalities. Gamma-glutamyl transferase (GGT) followed by aspartate aminotransferase (AST) are frequent hepatic derangements, while C-reactive protein (CRP) levels predicting ICU admission with area under the curve (AUC): 0.806, positive predictive value (PPV): 85.1% and lactate dehydrogenase (LDH) predicting mortality with AUC: 0.877, PPV: 97.3%, while NLR (AUC: 0.806, PPV: 95.8%) for mortality and neutrophils (AUC: 0.773, PPV: 87.5%) for ICU patients. Conclusion A number of factors are linked with disease severity and mortality along with dynamic changes of the laboratory investigations during hospital stay affecting prognosis. ']},\n",
       " ('C0026549',\n",
       "  'C0011777',\n",
       "  'C5203670'): {'C0011777 C0026549': ['2-Allylphenol Reduces IL-1beta and TNF-alpha, Promoting Antinociception through Adenosinergic, Anti-Inflammatory, and Antioxidant Mechanisms. 2-Allylphenol (2-AP) is a synthetic phenylpropanoid, structurally related to cardanol, thymol, and ortho-eugenol. Phenylpropanoids are described in the literature as being capable of promoting biological activity. Due to the similarity between 2-AP and other bioactive phenylpropanoids, the present research aims at evaluating the antioxidant, antinociceptive, and anti-inflammatory potential of 2-AP in silico, in vitro, and in vivo. At 30 min prior to the start of in vivo pharmacological testing, administration of 2-AP (25, 50, 75, and 100 mg/kg i.p.), morphine (6 mg/kg i.p.), dexamethasone (2 mg/kg s.c.), or vehicle alone was performed. In the acetic acid-induced abdominal writhing tests, pretreatment with 2-AP significantly reduced the number of abdominal writhes, as well as decreased licking times in the glutamate and formalin tests. Investigation of the mechanism of action using the formalin model led to the conclusion that the opioid system does not participate in its activity. However, the adenosinergic system is involved. In the peritonitis tests, 2-AP inhibited leukocyte migration and reduced releases of proinflammatory mediators TNF-alpha and IL-1beta. In vitro antioxidant assays demonstrated that 2-AP presents significant ability to sequester superoxide radicals. In silico docking studies confirmed interaction between 2-AP and the adenosine A2a receptor through hydrogen bonds with the critical asparagine 253 residues present in the active site. Investigation of 2-AP demonstrated its nociception inhibition and ability to reduce reactive oxygen species. Its interaction with A2a receptors may well be related to proinflammatory cytokines TNF-alpha and IL-1beta reduction activity, corroborating its antinociceptive effect. ',\n",
       "   'A comparison of dexamethasone, ondansetron, and dexamethasone plus ondansetron as prophylactic antiemetic and antipruritic therapy in patients receiving intrathecal morphine for major orthopedic surgery. In a prospective, double-blinded, randomized trial, we evaluated the efficacy of IV (a) dexamethasone 8 mg, (b) ondansetron 8 mg, and (c) dexamethasone 8 mg plus ondansetron 4 mg for the prevention of postoperative nausea, vomiting (PONV), and pruritus in 130 (ASA physical status I to III) patients undergoing elective major orthopedic surgery after spinal anesthesia with hyperbaric 0.5% bupivacaine and intrathecal morphine. After spinal anesthesia, patients were randomized to one of three groups. Failure of PONV prophylaxis in the 24-h postoperative period occurred more frequently in patients who received dexamethasone alone (29 of 40; 73%) compared with those who received either ondansetron alone (23 of 47; 49%) (P = 0.02) or dexamethasone plus ondansetron together (19 of 43; 44%)(P = 0.01). There was no difference in the incidence of failure of prophylaxis of pruritus (70%, 72%, and 70% in dexamethasone 8 mg, ondansetron 8 mg, and dexamethasone 8 mg plus ondansetron 4 mg, respectively) (P > 0.1) in the 24-h postoperative period. We conclude that the administration of dexamethasone 8 mg with ondansetron 4 mg has no added benefit compared with ondansetron 8 mg alone in the prophylaxis of PONV and pruritus. Postoperative nausea and vomiting (PONV) and pruritus are common side effects after spinal opioid administration. In this study, dexamethasone 8 mg plus ondansetron 4 mg was as effective as ondansetron 8 mg. The administration of dexamethasone alone was associated with a frequent incidence of PONV, demonstrating a lack of efficacy. This has important cost implications. ',\n",
       "   'Acceptable effect of multimodal analgesic treatment after a Bascom cleft lift operation. Information on multimodal analgesic efficacy in patients undergoing a Bascom cleft lift operation is limited. The aim of this prospective consecutive study was to evaluate early post-operative pain in patients receiving a standardised multimodal analgesic regimen. A total of 48 patients undergoing a Bascom cleft lift operation were included over an 8-month period in a day-case set-up. The operation was performed under saddle block. In addition, patients received a standardised multi-modal analgesic regimen consisting of gabapentin, ketorolac, dexamethasone, acetaminophen (paracetamol) and ibuprofen. The intensity of pain was registered preoperatively and at 2, 24, 48 h, and 30 days post-operatively. Nausea, vomiting, dizziness, ability to void, morphine consumption and post-anaesthesia care unit (PACU) time were registered. Thirty patients were available for analysis. Post-operative visual analogue scale pain scores were low (at 2, 24, and 48 h (median values: 0 (range: 0-40), 25 (0-70), and 30 (0-60), respectively), but changed significantly over time (p < 0.001). The median overall morphine consumption was 0 (range: 0-30). None of the patients experienced vomiting or dizziness. Only two patients reported mild nausea during the stay in the PACU. This study suggests that the Bascom cleft lift operation is feasible with minimal post-operative pain when using a multimodal analgesic regimen together with saddle block. not relevant. ClinicalTrials.gov: NCT02196727. Regional Ethics Committee Reg. no.: H-3-2013-073. Danish Data Protection Agency Reg. no.: HVH-2013-031, with I-Suite no.: 02408. '], 'C0011777 C5203670': ['Essential medicine selection during the COVID-19 pandemic: Enabling access in uncharted territory. The COVID-19 pandemic requires urgent decisions regarding treatment policy in the face of rapidly evolving evidence. In response, the South African Essential Medicines List Committee established a subcommittee to systematically review and appraise emerging evidence, within very short timelines, in order to inform the National Department of Health COVID-19 treatment guidelines. To date, the subcommittee has reviewed 14 potential treatments, and made recommendations based on local context, feasibility, resource requirements and equity. Here we describe the rapid review and evidence-to-decision process, using remdesivir and dexamethasone as examples. Our experience is that conducting rapid reviews is a practical and efficient way to address medicine policy questions under pandemic conditions. ',\n",
       "   'Bringing evidence from press release to the clinic in the era of COVID-19. The urgent need to develop effective therapeutics and disseminate information from clinical studies has led to data from clinical trials being made available by alternate methods prior to peer-reviewed publication, including press releases, social media and pre-print papers. While this allows clinicians more open access to these data, a trust has to be placed with the investigators releasing these data without the availability of scientifically rigorous peer review. The examples of results from trials studying dexamethasone and hydroxychloroquine for treatment of COVID-19 have had contrasting outcomes, including the potential for significant numbers of lives saved with the early release of results from the RECOVERY trial studying dexamethasone contrasting with unsubstantiated data being presented from trials studying hydroxychloroquine. Clinicians and researchers must maintain a healthy scepticism when reviewing results prior to peer-reviewed publication, but also consider when these opportunities may allow for early implementation of potentially lifesaving interventions for people infected with COVID-19. ',\n",
       "   \"Treatment of moderate to severe respiratory COVID-19: a cost-utility analysis. Despite COVID-19's significant morbidity and mortality, considering cost-effectiveness of pharmacologic treatment strategies for hospitalized patients remains critical to support healthcare resource decisions within budgetary constraints. As such, we calculated the cost-effectiveness of using remdesivir and dexamethasone for moderate to severe COVID-19 respiratory infections using the United States health care system as a representative model. A decision analytic model modelled a base case scenario of a 60-year-old patient admitted to hospital with COVID-19. Patients requiring oxygen were considered moderate severity, and patients with severe COVID-19 required intubation with intensive care. Strategies modelled included giving remdesivir to all patients, remdesivir in only moderate and only severe infections, dexamethasone to all patients, dexamethasone in severe infections, remdesivir in moderate/dexamethasone in severe infections, and best supportive care. Data for the model came from the published literature. The time horizon was 1 year; no discounting was performed due to the short duration. The perspective was of the payer in the United States health care system. Supportive care for moderate/severe COVID-19 cost $11,112.98 with 0.7155 quality adjusted life-year (QALY) obtained. Using dexamethasone for all patients was the most-cost effective with an incremental cost-effectiveness ratio of $980.84/QALY; all remdesivir strategies were more costly and less effective. Probabilistic sensitivity analyses showed dexamethasone for all patients was most cost-effective in 98.3% of scenarios. Dexamethasone for moderate-severe COVID-19 infections was the most cost-effective strategy and would have minimal budget impact. Based on current data, remdesivir is unlikely to be a cost-effective treatment for COVID-19. \"]},\n",
       " ('C0026549',\n",
       "  'C0014563',\n",
       "  'C5203670'): {'C0014563 C0026549': ['A combined chest drain and intrapleural catheter for post-thoracotomy pain relief. This study examined the effectiveness of a new type of chest drain, which incorporates an additional lumen within its wall to facilitate the administration of intrapleural bupivacaine. Nine patients who received a bolus dose of 1.5 mg.kg-1 bupivacaine with 1:200,000 adrenaline through this chest drain used less morphine, and had lower visual analogue pain scores in the first 6 h after thoracotomy than patients in whom a standard chest drain had been used. Bupivacaine levels were found to be within safe limits in all patients. ',\n",
       "   'The Chitranjan Ranawat Award: Periarticular injections and femoral & sciatic blocks provide similar pain relief after TKA: a randomized clinical trial. Two of the more common methods of pain management after TKA are peripheral nerve blocks and intraarticular/periarticular injections. However, we are not aware of any study directly comparing the commonly used combination of a continuous femoral block given with a single-shot sciatic block with that of a periarticular injection after TKA. This randomized clinical trial compared a combined femoral and sciatic nerve block with periarticular injection as part of a multimodal pain protocol after total knee arthroplasty with respect to (1) pain; (2) narcotic use; (3) quadriceps function and length of stay; and (4) peripheral nerve complications. One hundred sixty patients completed randomization into two treatment arms: (1) peripheral nerve blocks (PNB; n=79) with an indwelling femoral nerve catheter and a single shot sciatic block; or (2) periarticular injection (PAI; n=81) using ropivacaine, epinephrine, ketorolac, and morphine. All patients received standardized general anesthesia and oral medications. The primary outcome was postoperative pain, on a 0 to 10 scale, measured on the afternoon of postoperative day 1 (POD 1). Secondary outcomes were narcotic use, quadriceps function, length of stay, and peripheral nerve complications. Mean pain scores on the afternoon of POD 1 were not different between groups (PNB group: 2.9 [SD 2.4]; PAI group: 3.0 [SD 2.2]; 95% confidence interval, -0.8 to 0.6; p=0.76). Mean pain scores taken at three times points on POD 1 were also similar between groups. Hospital length of stay was shorter for the PAI group (2.44 days [SD 0.65] versus 2.84 days [SD 1.34] for the PNB group; p=0.02). Narcotic consumption was higher the day of surgery for the PAI group (PAI group: 11.7 mg morphine equivalents [SD 13.1]; PNB group: 4.6 mg [SD 9.1]; p<0.001), but thereafter, there was no difference. More patients in the PNB group had sequelae of peripheral nerve injury (mainly dysesthesia) at 6-week followup (nine [12%] versus one [1%]; p=0.009). Patients receiving periarticular injections had similar pain scores, shorter lengths of stay, less likelihood of peripheral nerve dysesthesia, but greater narcotic use on the day of surgery compared with patients receiving peripheral nerve blocks. Periarticular injections provide adequate pain relief, are simple to use, and avoid the potential complications associated with nerve blocks. Level I, therapeutic study. See Guidelines for Authors for a complete description of levels of evidence. ',\n",
       "   \"Morphine-3-glucuronide: hyperglycemic and neuroendocrine potentiating effects. The greater potency of morphine-6-glucuronide (M6G) as well as the inactivity of morphine-3-glucuronide (M3G) with respect to the antinociceptive effects of the parent molecule, morphine (MOR), have been well established. It has been suggested that M3G is an antagonist of MOR's antinociceptive and respiratory depressive effects. The present study addressed the central nervous system (CNS) interaction of these opiate metabolites on their metabolic and hormonal effects. Whole body glucose kinetics were assessed on conscious, chronically catheterized, unrestrained rats. M3G (5 microg) or H2O (5 microl) was injected intracerebroventricularly (i.c.v.) 15 min prior to the bolus administration of H2O (5 microl), M6G (1 microg), or MOR (80 microg). i.c.v. M3G (5 microg) resulted in behavioral excitation, hyperglycemia (+50%), stimulation of glucose rate of appearance (Ra; +100%), glucose rate of disappearance (Rd; +70%), and metabolic clearance rate (MCR; +33%) within 30 min after injection with no alterations in hormone concentrations. i.c.v. M6G and MOR produced progressive hyperglycemia with significantly high catecholamine and corticosterone levels. M3G pretreatment resulted in enhanced elevations in plasma glucose levels (+52% and + 18%), plasma lactate (+138% and +108%), norepinephrine (+96% and +30%), and epinephrine (+62% and +67%) in response to both i.c.v. MOR and M6G administration. These findings suggest a non-opiate and non-hormonal mechanism for M3G-induced hyperglycemia. In contrast, the metabolic and hormonal responses to i.c.v. M6G and MOR are associated with elevations in catecholamine and corticosterone levels. which are remarkably enhanced by M3G pretreatment, most likely through accelerated catecholamine release. Our findings suggest a modulatory role for MOR glucuronidation, not only by rendering it inactive, as in the case of M3G, but by an interplay of the metabolic effects of the parent molecule and its metabolite. \"], 'C0014563 C5203670': ['Extracorporeal Membrane Oxygenation for COVID-19-Associated Multisystem Inflammatory Syndrome in a 5-year-old. Severe acute respiratory distress syndrome coronavirus 2 (SARS-CoV-2) is associated with multisystem inflammatory syndrome in children (MIS-C) that ranges from mild symptoms to cardiopulmonary collapse. A 5-year-old girl presented with shock and a rapid decline in left ventricular function requiring intubation. SARS-CoV-2 was diagnosed by viral Polymerase Chain Reaction (PCR), and she received remdesivir and COVID-19 convalescent plasma. Initial echocardiogram (ECHO) demonstrated low normal left ventricular function and mild left anterior descending coronary artery dilation. She remained hypotensive, despite high-dose epinephrine and norepinephrine infusions as well as stress-dose hydrocortisone. Admission SARS-CoV-2 IgG assay was positive, meeting the criteria for MIS-C. An ECHO 9 hours after admission demonstrated a severe decline in left ventricular function. Due to severe cardiogenic shock, she was cannulated for venoarterial extracorporeal support (ECMO). During her ECMO course, she was treated with remdesivir, intravenous methylprednisolone, intravenous immunoglobulin, and anakinra. She was decannulated on ECMO day 7, extubated the following day, and discharged home 2 weeks later without respiratory or cardiac support. The use of ECMO for cardiopulmonary support for pediatric patients with MIS-C is feasible and should be considered early as part of the treatment algorithm for patients with severe cardiopulmonary dysfunction. ',\n",
       "   'Acute myocarditis and multisystem inflammatory emerging disease following SARS-CoV-2 infection in critically ill children. A recent increase in children admitted with hypotensive shock and fever in the context of the COVID-19 outbreak requires an urgent characterization and assessment of the involvement of SARS-CoV-2 infection. This is a case series performed at 4 academic tertiary care centers in Paris of all the children admitted to the pediatric intensive care unit (PICU) with shock, fever and suspected SARS-CoV-2 infection between April 15th and April 27th, 2020. 20 critically ill children admitted for shock had an acute myocarditis (left ventricular ejection fraction, 35% (25-55); troponin, 269 ng/mL (31-4607)), and arterial hypotension with mainly vasoplegic clinical presentation. The first symptoms before PICU admission were intense abdominal pain and fever for 6 days (1-10). All children had highly elevated C-reactive protein (> 94 mg/L) and procalcitonin (> 1.6 ng/mL) without microbial cause. At least one feature of Kawasaki disease was found in all children (fever, n = 20, skin rash, n = 10; conjunctivitis, n = 6; cheilitis, n = 5; adenitis, n = 2), but none had the typical form. SARS-CoV-2 PCR and serology were positive for 10 and 15 children, respectively. One child had both negative SARS-CoV-2 PCR and serology, but had a typical SARS-CoV-2 chest tomography scan. All children but one needed an inotropic/vasoactive drug support (epinephrine, n = 12; milrinone, n = 10; dobutamine, n = 6, norepinephrine, n = 4) and 8 were intubated. All children received intravenous immunoglobulin (2 g per kilogram) with adjuvant corticosteroids (n = 2), IL 1 receptor antagonist (n = 1) or a monoclonal antibody against IL-6 receptor (n = 1). All children survived and were afebrile with a full left ventricular function recovery at PICU discharge. Acute myocarditis with intense systemic inflammation and atypical Kawasaki disease is an emerging severe pediatric disease following SARS-CoV-2 infection. Early recognition of this disease is needed and referral to an expert center is recommended. A delayed and inappropriate host immunological response is suspected. While underlying mechanisms remain unclear, further investigations are required to target an optimal treatment. ',\n",
       "   'Acute Epiglottitis Due to COVID-19 Infection. A 53-year-old man presented acutely to the Accident and Emergency department with a 2-day history of progressive odynophagia and shortness of breath. The patient had stridor at rest and acute epiglottitis was suspected. The patient was transferred urgently to theatre for intubation but due to a severely oedematous airway, this was unsuccessful and emergency tracheotomy was performed by the ENT team. Throughout admission the only positive microbiological sample was a nasopharyngeal swab for SARS-CoV-2 infection. In the absence of other positive microbiology, it is highly likely that COVID-19 was the aetiological cause of acute epiglottitis in this instance. COVID-19 infection is a novel disease with multiple presentations; it should be considered as a possible causative organism in patients presenting with acute epiglottitis.Due to the time delay in taking samples for microbiology and results being available, treatment should be commenced with antibiotics, nebulised adrenaline and steroids to cover bacterial infection. Presentation can occur following a delayed inflammatory response and treatment should target the organ system involved. ']},\n",
       " ('C0026549',\n",
       "  'C0009079',\n",
       "  'C5203670'): {'C0009079 C0026549': ['Olanzapine- and clozapine-induced stuttering. A case series. Drug-induced stuttering has been described in association with several drugs, in particular antidepressants and low-potency neuroleptics. Here we describe a case series of stuttering induced by the atypical neuroleptics olanzapine and clozapine. Patients receiving neuroleptic treatment were carefully screened for stuttering as a possible side effect. We have studied all patients in the outpatient department (800 per year) as well as most inpatients (1300 per year) within 3 years. Seven cases of drug-induced stuttering were observed. Six patients suffered from stuttering in association with olanzapine treatment, and one received clozapine. Stuttering arose on average 2-21 days after initiation of treatment and ceased 2-5 days after discontinuation. Most patients suffered from additional diseases, such as brain pathology due to cortical atrophy or celiac disease, or received concomitant medication (i.e. intrathecal morphine pump). Our case series suggests that the atypical neuroleptic olanzapine can induce stuttering in the absence of a history of stuttering without accompanying akathisia or general decline of function. It appears that preexisting brain pathology or concomitant anti-depressant medication might predispose some patients to this side effect. ',\n",
       "   'Effects of clozapine and sulpiride on morphine state-dependent memory in the step-down passive avoidance test. The effects of antipsychotic drugs sulpiride and clozapine on morphine state-dependent memory of passive avoidance task were examined in mice. Post-training administration of morphine (5 mg/kg) led to state-dependent learning with impaired memory retrieval on the test day which was reversed by pre-test administration of the same dose of the opioid (5 mg/kg). In animals where memory was impaired by post-training morphine, the administration of either sulpiride or clozapine before pre-test morphine reduced the improvement of memory produced by the opioid. Co-administration of sulpiride with clozapine did not potentiate their antagonistic response. In conclusion, the inhibition of improvement of memory retrieval by morphine treatment on the test day by the two dopamine receptor antagonists seems to be induced through two different receptor mechanisms. ',\n",
       "   'Blockade of cannabinoid (CB1) receptors by 141716 selectively antagonizes drug-induced reinstatement of exploratory behaviour in gerbils. A cannabinoid hypothesis of schizophrenia has been proposed according to which cognitive dysfunction could be associated with dysregulation of an endogenous cannabinoid system. The present study investigated whether SR 141716, a selective CB1 receptor antagonist, was able to reduce the hyperactivity induced in gerbils by various stimulant drugs known to produce or exacerbate schizophrenic symptoms. Cocaine, d-amphetamine, morphine, and Win 55212-2 were administered intraperitoneally (IP) either immediately before placing the animals in the test apparatus (non-habituated gerbils) or after a 2- to 3-h habituation period in the actimeter (habituated gerbils). SR 141716 was given IP 30 min before the injection of stimulant drugs. Horizontal activity was recorded every 10 min for 1 h in Digiscan activity monitor. SR 141716 (0.3-3 mg/kg) dose-dependently suppressed the enhanced locomotor activity induced by each stimulant drug in habituated gerbils, but not in non-habituated animals. Clozapine, an atypical antipsychotic compound, but not haloperidol, shared with SR 141716, the ability to differentially affect drug-induced hyperactivity in habituated versus non-habituated gerbils. The activation of cannabinoid systems is a required, permissive element in the ability of cocaine, d-amphetamine, morphine, and Win 55212-2 to reinstate behaviour, i.e., to override stimulus satiation. '], 'C0009079 C5203670': ['Psychoses by Attacks from Subverted Mast Cells: A Role for Arterial Intramural Flow Badly Steered by the Nasal Ganglia? Mechanisms of cortical psychoses are approached by complementing big data-driven genetics and imaging with a putatively subverted neurovascular \"reverse plumbing\" by arteries. The \"cortical spread\" of grey matter loss in schizophrenia and the mid-pericallosal \"congestion\" in fMRI of periodic catatonia - treatable electromagnetically along arteries - are interpreted in terms of the fastest interstitial outflow through the Cerebral IntraMural Reverse Arterial Flow-engine (CIMURAF, Treviranus 2018-19) draining \"waste\" via arterio-adventitial lymphatics to the neck. Such repetitively sliding segments of CIMURAF are wrung downstream by muscles likely steered by the neurovascular pterygopalatine ganglion. At the pericallosal artery, along its ideal long straight segment, this likely happens diverging from the mid-callosum towards the front and the back. In the case of a convergent inversion a mid-callosal clash will result, which is observable in psychoses as a mid-callosal high-flow-spot simultaneously with hyper-perfusions of branches and \"backwatering\" of pial vessels with reactive waste - till date interpreted psycho-mathematically. CIMURAF might also accelerate the perivascular intrusion of MCs by flushing autocrine signals (of which electro-magnetism moves the dipoles) through a putative periadventitial counter-current. Psychoses plausible occur through tryptase-mediated attacks operated by mast cells against oligodendrocytes\\' cytoskeleton (Medic 2009) and probably via complement-4 (Schizophrenia WG, 2014) against neurons. Usually MCs are essential long-lived \"orchestrators\" of homeostases and immune or barrier defences interacting with nerves, immunocytes, organs, and routes. MCs after somatic programming as to \"destination & destiny\" (Treviranus 2017a, 6.2., 2018) rapidly intrude also into the brain\\'s parenchyma, first within the lymphatics and then putatively by crossing-over to extraluminal arterial routes. MCs transverse the BBBs, while macrophages only trespass in \"disease\" (Faraco et al. 2017). Both can be \"subverted\" by a list of microbes (and putatively blown up by COVID-19 within walls). Enuresis and MCs\\' reactions to clozapine add to the interactive support from (epi-)genetics and imaging. ',\n",
       "   'Clozapine prescribing in COVID-19 positive medical inpatients: a case series. There is both uncertainty regarding the safety of clozapine in COVID-19 patients owing to limited published data and a lack of consensus on continuing clozapine in patients with severe respiratory infections. COVID-19 is known to induce an acute immune response which can affect haematological parameters associated with clozapine monitoring, and systemic infection may reduce clozapine clearance. Clozapine, which has been associated with worse outcomes in some pneumonias, may in theory worsen outcomes in COVID-19. Despite these concerns, there are some data to indicate it is safe to continue clozapine in COVID-19 infection. In this retrospective case series, we describe our experiences of clozapine prescribing and disease progression of eight SARS-CoV-2 positive patients on medical wards in a major London teaching hospital. In four cases clozapine was stopped during the hospital admission. A COVID-19 pneumonia developed in four patients: three of these required intensive care unit admission for an average of 34 days. At the time of writing, three patients had died (two directly from COVID-19 pneumonia), two remained in general hospital wards, two were recovering in the community and one had been transferred to an inpatient psychiatric hospital. Follow-up length varied but in each case was not more than 104 days. Delirium was the most common adverse neuropsychiatric event, and in one case a relapse of psychosis occurred after cessation of clozapine. This retrospective case series illustrates the safe use of clozapine during COVID-19 infection. Our experiences suggest that consideration should be made to continuing clozapine even in those most unwell with COVID-19. We also identify areas which require larger scale hypothesis-testing research. ',\n",
       "   \"Challenges in Prescribing Clozapine in the Era of COVID-19: A Review Focused on Immunological Implications. The global COVID-19 pandemic has disrupted every aspect of the healthcare system. Apart from the issues surrounding COVID-19 itself, care for existing patients has met many challenges. One such challenge is caring for patients who are on clozapine treatment and have been confirmed positive for COVID-19. Schizophrenia has been considered to have a deep connection with the immune system, and clozapine can induce further changes in this system. COVID-19 can ravage the compromised immune system and aggravate tissue damage. The intricate relations between schizophrenia, clozapine, and COVID-19 make it difficult to predict the clinical course of COVID-19 in clozapine-treated patients. However, the rigid prohibition on using clozapine if COVID-19 is confirmed may harm patients. Patients who have to use clozapine are often refractory cases with no alternatives. Therefore, the decision to maintain or stop clozapine must be made after a comprehensive review of the patient's unique situation. To do this, theoretical and practical issues surrounding the use of clozapine in COVID-19 should be reviewed and discussed. In this review, we gather useful information surrounding this issue and present an overview. Focusing on the immune system, various theoretical possibilities that could arise from schizophrenia, clozapine, and COVID-19 were carefully examined, and practical checklists for the care of these patients were explored. It is hoped that this review will convince many clinicians to pay attention to this momentous issue and facilitate more active sharing of clinical experiences. \"]},\n",
       " ('C0026549',\n",
       "  'C2976303',\n",
       "  'C5203670'): {'C0026549 C2976303': ['Direct-acting antiviral interactions with opioids, alcohol or illicit drugs of abuse in HCV-infected patients. The hepatitis C virus (HCV) prevalence is extremely high in patients who consume and inject illicit drugs. Concerns about poor adherence and fear of interaction with drugs of abuse could constitute further disincentive for treatment initiation in these patients. We discussed the pharmacokinetics (PKs) and pharmacodynamics (PD) of currently prescribed direct antiviral agents (NSA5 inhibitors: daclatasvir, elbasvir, ledipasvir, pibrentasvir, velpatasvir; NS5B inhibitor: sofosbuvir; NS3/4A protease inhibitors: glecaprevir, grazoprevir, voxilaprevir) and most common substances of abuse (opioids: buprenorphine, fentanyl, heroin, methadone, morphine, oxycodone; stimulants: amphetamines, cathinones, cocaine; cannabinoids; ethanol). Overall, most direct-acting antivirals (DAAs) are substrates and inhibitors of the transmembrane transporter P-glycoprotein (P-gp), and several of them are metabolized by cytochrome P450 enzymes. Clinically relevant interactions are associated with P-gp and CYP3A modulators. Most substances of abuse are eliminated by Phase I and Phase II metabolizing enzymes, but none of them are either major inhibitors or inducers. PK studies did not show any relevant interactions between DAA and methadone or buprenorphine. Based on pharmacological considerations, neither efficacy loss nor adverse drug event associated with detrimental interaction are expected with opioids, stimulants, cannabinoids and ethanol. In summary, our literature review shows that the interaction potential of DAA with most opioids and illicit drugs is limited and should not be a hurdle to the initiate DAA. '], 'C2976303 C5203670': ['Small-molecule antiviral agents in ongoing clinical trials for COVID-19. The coronavirus disease 2019 (COVID-19) pandemic, due to the novel severe acute respiratory syndrome coronavirus 2 (SARS-CoV-2), emerged in December 2019 and has rapidly spread globally. As the confirmed number of cases has reached to 83 million worldwide, the potential severity and the deadly complications of the disease requires urgent development of effective drugs for prevention and treatment. No proven effective treatment for this virus currently exists. Most of the antiviral discovery efforts are focused on the repurposing of approved or clinical stage drugs. This review highlights the small-molecule repurposed antiviral agents that are currently under investigation in clinical trials for COVID19. These include viral polymerase and protease inhibitors remdesivir, galidesivir, favipiravir, ribavirin, sofosbuvir, tenofovir/emtricitabine, baloxavir marboxil, EIDD-2801, lopinavir/ritonavir; virus-/host-directed viral entry and fusion inhibitors arbidol chloroquine/hydroxychloroquine, chlorpromazine, camostat mesylate, nafamostat mesylate, bromhexine and agents with diverse/unclear mechanism of actions as oseltamivir, triazavirin, ivermectin, nitazoxanide, niclosamide and BLD-2660. The published preclinical and clinical data to date on these drugs as well as the mechanisms of action are reviewed. ',\n",
       "   \"Minimum costs to manufacture new treatments for COVID-19. 'Repurposing' existing drugs to treat COVID-19 is vital to reducing mortality and controlling the pandemic. Several promising drugs have been identified and are in various stages of clinical trials globally. If efficacy of these drugs is demonstrated, rapid, mass availability at an affordable cost would be essential to ensuring equity and access especially amongst low- and middle-income economies. Minimum costs of production were estimated from the costs of active pharmaceutical ingredients using established methodology, which had good predictive accuracy for medicines for hepatitis C and HIV amongst others. Data were extracted from global export shipment records or analysis of the route of chemical synthesis. The estimated costs were compared with list prices from a range of countries where pricing data were available. Minimum estimated costs of production were US $0.93/day for remdesivir, $1.45/day for favipiravir, $0.08/day for hydroxychloroquine, $0.02/day for chloroquine, $0.10/day for azithromycin, $0.28/day for lopinavir/ritonavir, $0.39/day for sofosbuvir/daclatasvir and $1.09/day for pirfenidone. Costs of production ranged between $0.30 and $31 per treatment course (10-28 days). Current prices of these drugs were far higher than the costs of production, particularly in the US. Should repurposed drugs demonstrate efficacy against COVID-19, they could be manufactured profitably at very low costs, for much less than current list prices. Estimations for the minimum production costs can strengthen price negotiations and help ensure affordable access to vital treatment for COVID-19 at low prices globally. \",\n",
       "   'Nucleotide Analogues as Inhibitors of SARS-CoV-2 Polymerase, a Key Drug Target for COVID-19. SARS-CoV-2 is responsible for the current COVID-19 pandemic. On the basis of our analysis of hepatitis C virus and coronavirus replication, and the molecular structures and activities of viral inhibitors, we previously demonstrated that three nucleotide analogues (the triphosphates of Sofosbuvir, Alovudine, and AZT) inhibit the SARS-CoV RNA-dependent RNA polymerase (RdRp). We also demonstrated that a library of additional nucleotide analogues terminate RNA synthesis catalyzed by the SARS-CoV-2 RdRp, a well-established drug target for COVID-19. Here, we used polymerase extension experiments to demonstrate that the active triphosphate form of Sofosbuvir (an FDA-approved hepatitis C drug) is incorporated by SARS-CoV-2 RdRp and blocks further incorporation. Using the molecular insight gained from the previous studies, we selected the active triphosphate forms of six other antiviral agents, Alovudine, Tenofovir alafenamide, AZT, Abacavir, Lamivudine, and Emtricitabine, for evaluation as inhibitors of the SARS-CoV-2 RdRp and demonstrated the ability of these viral polymerase inhibitors to be incorporated by SARS-CoV-2 RdRp, where they terminate further polymerase extension with varying efficiency. These results provide a molecular basis for inhibition of the SARS-CoV-2 RdRp by these nucleotide analogues. If sufficient efficacy of some of these FDA-approved drugs in inhibiting viral replication in cell culture is established, they may be explored as potential COVID-19 therapeutics. ']},\n",
       " ('C0026549',\n",
       "  'C0006560',\n",
       "  'C5203670'): {'C0006560 C0026549': ['Intravenous Dexamethasone Injection Reduces Pain From 12 to 21 Hours After Total Knee Arthroplasty: A Double-Blind, Randomized, Placebo-Controlled Trial. Pain after total knee arthroplasty (TKA) affects postoperative recovery and patient satisfaction. The analgesic benefits of corticosteroids have not been well studied. We, therefore, investigated the analgesic effects of intravenous (IV) dexamethasone (DEX) in patients undergoing a TKA. This was a randomized, double-blind, placebo-controlled trial of 0.15 mg/kg of IV DEX vs saline placebo in unilateral TKA. Fifty patients/arm were recruited. Primary outcomes were pain level, determined by a visual analog scale, and the amount of morphine consumption (mg) <=48 hours post-TKA. Secondary outcomes were rates of nausea and vomiting, C-reactive protein concentrations, and functional outcomes. The DEX group had a significantly lower mean visual analog scale score both at rest and during motion at 12, 15, 18, and 21 hours (P < .05). At 21 hours, the mean difference (Delta) in pain at rest was -11 points (95% confidence interval [CI], -21 to -2 points; P = .02) while the mean difference in pain during motion was -15 points (95% CI, -25 to -5 points; P = .004). The DEX group also had lower rates of nausea and vomiting: 29/50 (58%) vs 42/50 (84%) (P = .008) and lower mean C-reactive protein level: 89 vs 167, Delta = -78 mg/L (95% CI, -100 to -58 mg/L, P < .0001). There were no significant differences in mean morphine consumption by 48 hours, modified Western Ontario and McMaster University Osteoarthritis Index scores, and range of motion of the knee at 3-month follow-up (P > .05). IV DEX relieves postoperative pain between 12 to 21 hours after TKA and may be a useful adjunct for controlling pain in patients undergoing TKA. ',\n",
       "   'Morphine consumption during pregnancy exacerbates neonatal hypoxia-ischemia injury in rats. Hypoxia-Ischemia (HI) is the most common cause of death and disability in human infants. The use of opiate in pregnant women affects their children. The aim of this study was to evaluate the effect of morphine consumption during pregnancy and lactation on vulnerability to neonatal HI in rats. Female Wistar rats were randomly assigned into two groups: Group 1-Rats that did not receive any treatment during pregnancy and lactation and Group 2-Rats that received morphine during pregnancy and lactation. After delivery, male offspring were divided into four groups including: (a) SHAM, (b) SHAM/Morphine (SHAM/MO), (c) HI, (d) HI/Morphine (HI/MO). Seven days after HI induction, neurobehavioral tests were performed, and then, brain tissue was taken from the skull to measure cerebral edema, infarct volume, inflammatory factors, oxidative stress, and brain-derived neurotrophic factor (BDNF). Total antioxidant capacity (TAC) and BDNF levels in the HI/MO group were significantly lower than HI and SHAM groups. TNF-alpha, C-reactive protein and total oxidant capacity levels in the HI/MO group were significantly higher than HI and SHAM groups. Cerebral edema and infarct volume in the HI/MO group were significantly higher than the HI group. Based on the results, morphine consumption during pregnancy and lactation enhanced the deleterious effects of HI injury in pups. ',\n",
       "   'Do Corticosteroids Attenuate the Peri-Operative Acute Phase Response After Total Knee Arthroplasty? Following tissue injury, the acute phase response (APR) functions to survive and then repair injured tissue. An exuberant APR, which can be evoked by total knee arthroplasty (TKA), results in a hyper-inflammatory state, leading to pain, nausea, venous thromboembolism, or potentially life-threatening complications. Here, we observed the effects of peri-operative dexamethasone on the APR following TKA by trending C-reactive protein (CRP, mg/L) and fibrinogen (mg/dL). We hypothesize that the anti-inflammatory effects of dexamethasone can attenuate the APR after TKA and will be associated with decreased post-operative pain and nausea. A retrospective case-control study was performed on 188 unilateral TKA procedures. The patients were divided into a group receiving dexamethasone (10 mg intra-operatively and on post-operative day [POD] 1) and a group receiving no corticosteroids. Post-operative CRP, fibrinogen, morphine equivalents, and anti-emetic doses were recorded. Compared to the non-steroid group, patients receiving dexamethasone yielded a significantly decreased CRP on POD0 (5.5 vs 8.3), POD1 (11.8 vs 22.0), and POD2 (85.5 vs 148.9). A significant decrease in fibrinogen in patients receiving dexamethasone was seen on POD2 (460.0 vs 530.2). There was an increase in fibrinogen within the dexamethasone cohort at the 2-week visit (535.4 vs 488.9). Post-operative morphine equivalents administered were significantly decreased in patients receiving dexamethasone, but no difference in anti-emetic use was appreciated. These data support the hypothesis that the APR following TKA can be attenuated pharmacologically by corticosteroids. Further studies are needed to determine whether the attenuation of the APR with the use of corticosteroids prevents complications following TKA. '], 'C0006560 C5203670': ['Diabetes mellitus as a comorbidity in COVID-19 infection in the United Arab Emirates. To compare risk factors and clinical outcomes among COVID-19 patients with or without diabetes in the United Arab Emirates (UAE). Data of 350 COVID-19 positive patients, admitted to Al Kuwait Hospital in Dubai, UAE, from February to May 2020 was collected retrospectively, including demographic data, clinical symptoms, blood tests, as well as radiographical assessments, and clinical outcomes of COVID-19. The design of the study is a retrospective cohort study. COVID-19 patients with diabetes belong to an older age group, had a higher percentage of male patients, exhibited more lymphopenia and neutrophilia, and higher ferritin levels. Additionally, patients with diabetes presented fever and shortness of breath (SOB), displayed more bilateral airspace consolidation and opacities in their chest x-ray and CT scans, compared to non-diabetics. A higher percentage of critical, ICU-admitted, and death of COVID-19 cases in the diabetic group was also reported. This was along with a concomitant increase in C-reactive protein, procalcitonin, and lactate dehydrogenase levels. Diabetes is considered a comorbidity as diabetic patients showed more severe COVID-19 symptoms that led to critical clinical outcomes such as ICU admission and death. ',\n",
       "   'COVID-19 anosmia and gustatory symptoms as a prognosis factor: a subanalysis of the HOPE COVID-19 (Health Outcome Predictive Evaluation for COVID-19) registry. Olfactory and gustatory dysfunctions (OGD) are a frequent symptom of coronavirus disease 2019 (COVID-19). It has been proposed that the neuroinvasive potential of the novel SARS-CoV-2 could be due to olfactory bulb invasion, conversely studies suggest it could be a good prognostic factor. The aim of the current study was to investigate the prognosis value of OGD in COVID-19. These symptoms were recorded on admission from a cohort study of 5868 patients with confirmed or highly suspected COVID-19 infection included in the multicenter international HOPE Registry (NCT04334291). There was statistical relation in multivariate analysis for OGD in gender, more frequent in female 12.41% vs 8.67% in male, related to age, more frequent under 65 years, presence of hypertension, dyslipidemia, diabetes, smoke, renal insufficiency, lung, heart, cancer and neurological disease. We did not find statistical differences in pregnant (p = 0.505), patient suffering cognitive (p = 0.484), liver (p = 0.1) or immune disease (p = 0.32). There was inverse relation (protective) between OGD and prone positioning (0.005) and death (< 0.0001), but no with ICU (0.165) or mechanical ventilation (0.292). On univariable logistic regression, OGD was found to be inversely related to death in COVID-19 patients. The odds ratio was 0.26 (0.15-0.44) (p < 0.001) and Z was - 5.05. The presence of anosmia is fundamental in the diagnosis of SARS.CoV-2 infection, but also could be important in classifying patients and in therapeutic decisions. Even more knowing that it is an early symptom of the disease. Knowing that other situations as being Afro-American or Latino-American, hypertension, renal insufficiency, or increase of C-reactive protein (CRP) imply a worse prognosis we can make a clinical score to estimate the vital prognosis of the patient. The exact pathogenesis of SARS-CoV-2 that causes olfactory and gustative disorders remains unknown but seems related to the prognosis. This point is fundamental, insomuch as could be a plausible way to find a treatment. ',\n",
       "   'Differential Diagnosis of COVID-19: Importance of Measuring Blood Lymphocytes, Serum Electrolytes, and Olfactory and Taste Functions. Coronavirus disease 2019 (COVID-19) is associated with various symptoms and changes in hematological and biochemical variables. However, clinical features, which can differentiate COVID-19 from non-COVID-19, are not clear. We therefore examined the key clinical features of COVID-19 and non-COVID-19 patients. This study included 60 COVID-19 patients and 100 non-COVID-19 patients, diagnosed by PCR, and no significant differences in the age and sex were seen between the two groups. The frequencies of fatigue, loose stool, diarrhea, nasal obstruction, olfactory dysfunction, taste dysfunction, underlying hyperlipidemia, and the prescription of angiotensin II receptor blocker (ARB) were significantly higher in COVID-19 patients than those in non-COVID-19 patients. The counts of leucocytes, neutrophils, lymphocytes, eosinophils, monocytes, and basophils and the levels of chloride and calcium in blood of COVID-19 patients were significantly lower than those of non-COVID-19 patients. The frequencies of atypical lymphocytes and the levels of lactate dehydrogenase (LDH) and potassium were significantly higher in COVID-19 than those in non-COVID-19. The C-reactive protein (CRP) level in COVID-19 patients was significantly lower than that in non-COVID-19 patients, when we compared CRP levels among patients with elevated CRP. This study is the first to indicate that electrolyte levels and the frequency of atypical lymphocytes in COVID-19 are significantly different from those in non-COVID-19. Fatigue, loose stool, diarrhea, nasal obstruction, olfactory dysfunction, and taste dysfunction were the key symptoms of COVID-19. Furthermore, hyperlipidemia and ARB may be risk factors of COVID-19. In conclusion, leucocytes, leucocyte fractions, CRP, LDH, and electrolytes are useful indicators for COVID-19 diagnosis. ']},\n",
       " ('C0026549',\n",
       "  'C0008269',\n",
       "  'C5203670'): {'C0008269 C0026549': ['Inhibiting effects of morphine, chloroquine, nonsteroidal and steroidal anti-inflammatory drugs on electrically-induced contractions of guinea-pig ileum and the reversing effect of prostaglandins. Twelve different non steroidal antiinflammatory drugs (NSAID), five steroidal antinflammatory drugs, morphine and chloroquine have been added at various concentrations to in vitro electrically-stimulated preparations of guinea-pig ileum. They all inhibit the electrically-induced contractions. Prostaglandins E as well as nicotine reverse this inhibition. These reversing effects are less evident on totally inhibiting drug concentrations than on partially inhibiting drug concentrations. It is suggested that this inhibiting effect could be due mostly to nervous as well as muscular membrane permeability changes induced by these drugs and not to inhibition of prostaglandin synthesis which could be only proposed as partial explanation for NSAID effects. The reversing action of nicotine could be related to a release of acetylcholine while a sensitization of guinea-pig ileum smooth muscle to acetylcholine could explain the reversing properties of prostaglandins. ',\n",
       "   'Binding of organic compounds to rat liver and lung. The binding of various radioisotopically labeled organic compounds to rat liver and lung was investigated in vitro. Pieces of rat lung and slices of rat liver were incubated at 37 degrees C under a nitrogen atmosphere in a modified Krebs-Ringer phosphate solution (pH 7.4) CONTAININg the compound to be studied. Of the neutral compounds investigated, digitoxin, digoxin and dexamethasone were highly bound to both liver and lung tissue, whereas the degree of binding of amitrole, erythritol, and ouabain was 20% or less. The weak acids which were bound to the greatest extent in both liver and lung were phenobarbital, pentobarbital, and diphenylhydantoin. Barbital was poorly bound, and there was no evidence for the binding of 5,5-dimethyloxazolidine-2,4-dione or p-aminohippuric acid in either tissue. Binding of the cardiac glycosides and the barbiturates directly paralleled their lipid solubilities. The degree of binding of neutral compounds and weak acids to lung and liver tissue did not vary greatly with concentration, even though broad concentration ranges were studied. This was also true of the weak base morphine. On the other hand, the binding to liver and lung of the organic bases nicotine, pilocarpine, d-amphetamine, lidocaine, erythromycin, and chloroquine, did vary with concentration. The quaternary ammonium compound decamethonium was bound only to liver, and this binding also varied with concentration. Two additional quaternary ammonium compounds, tetraethylammonium and N1-methylnicotinamide, were not significantly bound to either tissue. Comparisons on the basis of equal content of solids revealed that the binding of diverse organic compounds in liver is greater than or equal to that in lung. ',\n",
       "   'The spinal inhibition of N-type voltage-gated calcium channels selectively prevents scratching behavior in mice. The present study investigated the effects of pharmacological spinal inhibition of voltage-gated calcium channels (VGCC) in mouse pruritus. The epidural administration of P/Q-type MVIIC or PhTx3.3, L-type verapamil, T-type NNC 55-0396 or R-type SNX-482 VGCC blockers failed to alter the scratching behavior caused by the proteinase-activated receptor 2 (PAR-2) activator trypsin, injected into the mouse nape skin. Otherwise, trypsin-elicited pruritus was markedly reduced by the spinal administration of preferential N-type VGCC inhibitors MVIIA and Phalpha1beta. Time-course experiments revealed that Conus magus-derived toxin MVIIA displayed significant effects when dosed from 1h to 4h before trypsin, while the anti-pruritic effects of Phalpha1beta from Phoneutria nigriventer remained significant for up to 12h. In addition to reducing trypsin-evoked itching, MVIIA or Phalpha1beta also prevented the itching elicited by intradermal (i.d.) injection of SLIGRL-NH2, compound 48/80 or chloroquine, although they did not affect H2O2-induced scratching behavior. Furthermore, the co-administration of MVIIA or Phalpha1beta markedly inhibited the pruritus caused by the spinal injection of gastrin-releasing peptide (GRP), but not morphine. Notably, the epidural administration of MVIIA or Phalpha1beta greatly prevented the chronic pruritus allied to dry skin model. However, either tested toxin failed to alter the edema formation or neutrophil influx caused by trypsin, whereas they significantly reduced the c-Fos activation in laminas I, II and III of the spinal cord. Our data bring novel evidence on itching transmission mechanisms, pointing out the therapeutic relevance of N-type VGCC inhibitors to control refractory pruritus. '], 'C0008269 C5203670': ['Chloroquine or hydroxychloroquine for prophylaxis of COVID-19. ',\n",
       "   'Risk Assessment of Drug-Induced Long QT Syndrome for Some COVID-19 Repurposed Drugs. The risk-benefit ratio associated with the use of repurposed drugs to treat severe acute respiratory syndrome-coronavirus 2 (SARS-CoV-2)-related infectious coronavirus disease 2019 (COVID-19) is complicated because benefits are awaited, not proven. A thorough literature search was conducted to source information on the pharmacological properties of 5 drugs and 1 combination (azithromycin, chloroquine, favipiravir, hydroxychloroquine, remdesivir, and lopinavir/ritonavir) repurposed to treat COVID-19. A risk assessment of drug-induced long QT syndrome (LQTS) associated with COVID-19 repurposed drugs was performed and compared with 23 well-known torsadogenic and 10 low torsadogenic risk compounds. Computer calculations were performed using pharmacokinetic and pharmacodynamic data, including affinity to block the rapid component of the delayed rectifier cardiac potassium current (IKr ) encoded by the human ether-a-go-go gene (hERG), propensity to prolong cardiac repolarization (QT interval) and cause torsade de pointes (TdP). Seven different LQTS indices were calculated and compared. The US Food and Drug Administration (FDA) Adverse Event Reporting System (FAERS) database was queried with specific key words relating to arrhythmogenic events. Estimators of LQTS risk levels indicated a very high or moderate risk for all COVID-19 repurposed drugs with the exception for azithromycin, although cases of TdP have been reported with this drug. There was excellent agreement among the various indices used to assess risk of drug-induced LQTS for the 6 repurposed medications and 23 torsadogenic compounds. Based on our results, monitoring of the QT interval shall be performed when some COVID-19 repurposed drugs are used, as such monitoring is possible for hospitalized patients or with the use of biodevices for outpatients. ',\n",
       "   'Characteristics of registered studies for Coronavirus disease 2019 (COVID-19): A systematic review. The World Health Organization characterized the Coronavirus disease 2019 (COVID-19) as a pandemic on March 11th. Many clinical trials on COVID-19 have been registered, and we aim to review the study characteristics and provide guidance for future trials to avoid duplicated effort. Studies on COVID-19 registered before March 3rd, 2020 on eight registry platforms worldwide were searched and the data of design, participants, interventions, and outcomes were extracted and analyzed. Three hundred and ninety-three studies were identified and 380 (96.7%) were from mainland China, while 3 in Japan, 3 in France, 2 in the US, and 3 were international collaborative studies. Two hundred and sixty-six (67.7%) aimed at therapeutic effect, others were for prevention, diagnosis, prognosis, etc. Two hundred and two studies (51.4%) were randomized controlled trials. Two third of therapeutic studies tested Western medicines including antiviral drugs (17.7%), stem cell and cord blood therapy (10.2%), chloroquine and derivatives (8.3%), 16 (6.0%) on Chinese medicines, and 73 (27.4%) on integrated therapy of Western and Chinese medicines. Thirty-one studies among 266 therapeutic studies (11.7%) used mortality as primary outcome, while the most designed secondary outcomes were symptoms and signs (47.0%). Half of the studies (45.5%) had not started recruiting till March 3rd. Inappropriate outcome setting, delayed recruitment and insufficient numbers of new cases in China implied many studies may fail to complete. Strategies and protocols of the studies with robust and rapid data sharing are warranted for emergency public health events, helping the timely evidence-based decision-making. ']},\n",
       " ('C0026549',\n",
       "  'C0085149',\n",
       "  'C5203670'): {'C0026549 C0085149': ['Therapeutic drug monitoring of non-anticancer drugs in cancer patients. Therapeutic drug monitoring (TDM) or the measurement of drug concentrations in plasma, serum or blood, aims to improve clinical activity, avoid toxicity, and reduce the costs of drug treatment. Specific conditions for TDM to be reasonably applied include the availability of a validated assay, a considerable interindividual pharmacokinetic variability, a high correlation between drug concentration and toxicity, and a narrow therapeutic index. Cancer patients are especially prone to drug-drug interactions due to significant comedication, impaired liver and kidney function and hypoalbuminemia with altered drug binding. This article discusses TDM for various broadly used non-anticancer drugs in cancer patients and gives specific recommendations. Selected drugs covered in this article include those regularly used in febrile neutropenic patients such as the glycopeptide antibiotics, aminoglycosides, the antifungal agents, including flucytosine and azole compounds, the anticonvulsants phenytoin, carbamazepine and valproate, the tricyclic antidepressants, selective-serotonin-reuptake inhibitors, lithium, morphine, digitalis glycosides and the immunosupressants cyclosporin A, tacrolimus, sirolimus and mycophenolate mofetil, crucial compounds in the setting of bone marrow transplantation. In all cases, treating physicians have to consider the variability in patient age, disease stage, comedication, organ function and protein level to weigh the pros and cons of TDM in the individual cancer patient. ',\n",
       "   'High-alert medications for pediatric patients: an international modified Delphi study. The available knowledge about high-alert medications for children is limited. Because children are particularly vulnerable to medication errors, a list of high-alert medication specifically for children would help to develop effective strategies to prevent patient harm. Therefore, we conducted an international modified Delphi study and validated the results with reports on medication incidents in children based on national data. The objective of this study was to generate an internationally accepted list of high-alert medications for a pediatric inpatient population from birth to 18-years old. The rating panel consisted of 34 experts from 13 countries. In total, 14 medications and 4 medication classes were included with the predefined level of consensus of 75%. The high-alert medications were: amiodarone, digoxin, dopamine, epinephrine, fentanyl, gentamycin, heparine, insulin, morphine, norepinephrine, phenytoin, potassium, propofol and tacrolimus. The high-alert medication classes included in the final list were: chemotherapeutic drugs, immunosuppressive medications, lipid/total parenteral nutrition and opioids. An international group of experts defined 14 medications and 4 medication classes as high-alert for children. This list might be helpful as a starting point for individual hospitals to develop their own high-alert list tailored to their unique situation. ',\n",
       "   'Inhibition by immunophilin ligands of morphine-induced tolerance and dependence in guinea pig ileum. Immunophilin ligands, cyclosporine A and FK506 (tacrolimus), besides their immunosuppressive action, have several effects on different neural functions, such as modulation of the release of many neurotransmitters, the reduction of nitric oxide (NO) production by the inhibition of dephosphorylation of neuronal nitric oxide synthase (nNOS) and the alteration of the expression of certain genes. Many of these actions apparently occur through the inhibition of calcineurin, a calcium-calmodulin-dependent phosphatase. On the other hand, several studies have shown that NO has a critical role in opioid-induced tolerance and dependence in both in vivo and in vitro models. In the present study, the effect of cyclosporine A and FK506 on the development of tolerance to and dependence on morphine in the guinea pig ileum was assessed. Morphine inhibited electrically stimulated twitch of ileum in a concentration-dependent manner (pD(2)=7.45+/-0.07). Tolerance to this effect was induced by incubation of ileum with 2 x IC(50) or 4 x IC(50) of morphine for 2 h that induced a degree of tolerance of 6.81 and 18.10, respectively. The co-incubation of ileum with morphine along with either cyclosporine A or FK506 reduced the degree of tolerance significantly (P<0.05) and restored the sensitivity of ileum to the morphine inhibitory effect. Dependence was induced by incubation with 4 x IC(50) of morphine for 2 h and was assessed based on naloxone-induced contractions (10(-5) M). Cyclosporine A (10(-9) M) and FK506 (10(-9) M) can attenuate the development of dependence to morphine as shown by the significant decrease in naloxone-induced contractions (P<0.05). These results suggest that immunophilin ligands at very low concentrations (nanomolar) can reduce the induction of acute tolerance to and dependence on morphine in the myenteric plexus of guinea pig ileum. '], 'C0085149 C5203670': [\"Unexpected better outcome in a liver transplant recipient with COVID-19: a beneficial effect of tacrolimus? Coronavirus disease 2019 (COVID-19) is a serious respiratory illness caused by SARS-CoV-2. There is controversy about whether their immunosuppressive status is a risk factor or a protective factor for developing severe disease. We report herein the clinical outcome of three family members that had COVID-19 infection, presenting with and without different risk factors that have been described in more severe disease. Paradoxically, the patient with more risks of developing a severe disease, a 64-year-old woman, 2-years liver transplant recipient under treatment with tacrolimus, presented a similar outcome compared to the two other members of the family. She showed shorter hospitalization time, similar clinical outcome with fewer oxygen needs. The present clinical observation raises the question about the possible beneficial effect of tacrolimus in patients with COVID-19. Indeed, tacrolimus (FK-506) have an inhibitory effect on human coronaviruses by: 1) an antiviral effect by binding to the FK-506-binding proteins (FKBP) with a subsequent inhibition of their peptidyl-prolyl cis/trans isomerase (PPIase) activity, which seems to be important for the coronavirus life cycle; and 2) regulating the immune response by the inhibition of the activity of the nuclear factor of activated T-cells (NFAT) required for immunosuppression. The present observation states that liver recipients' patients with COVID-19 may not have worse outcomes when compared with other patients that have COVID-19 risk factors and puts in evidence the two mechanisms related to tacrolimus. \",\n",
       "   'COVID-19 infection in a kidney transplant recipient-special emphasis on pharmacokinetic interactions: A case report. Solid organ transplant recipients are considered to be at high-risk of developing coronavirus disease 2019 (COVID-19)-related complications. The optimal treatment for this patient group is unknown. Consequently, the treatment of COVID-19 in kidney transplant recipients should be determined individually, considering patient age and comorbidities, as well as graft function, time of transplant, and immunosuppressive treatment. Immunosuppressive treatments may give rise to severe COVID-19. On the contrary, they may also lead to a milder and atypical presentation by diminishing the immune system overdrive. A 50-year old female kidney transplant recipient presented to the transplant clinic with a progressive dry cough and fever that started three days ago. Although the COVID-19 test was found to be negative, chest computed tomography images showed consolidation typical of the disease; thus, following hospital admission, anti-bacterial and COVID-19 treatments were initiated. However, despite clinical improvement of the lung consolidation, her creatinine levels continued to increase. Ultrasound of the graft showed no pathology. The tacrolimus blood level was determined and the elevation in creatinine was found to be related to an interaction between tacrolimus and azithromycin. During the COVID-19 pandemic, various single or combination drugs have been utilized to find an effective treatment regimen. This has increased the possibility of drug interactions. A limited number of studies published in the literature have highlighted some of these pharmacokinetic interactions. Treatments used for COVID-19 therapy; azithromycin, atazanavir, lopinavir/ritonavir, remdesivir, favipiravir, chloroquine, hydroxychloroquine, nitazoxanide, ribavirin, and tocilizumab, interact with immunosuppressive treatments, most importantly with calcineurin inhibitors. Thus, their levels should be frequently monitored to prevent toxicity. ',\n",
       "   'Spectrum of Coronavirus Disease 2019 Outcomes in Kidney Transplant Recipients: A Single-Center Experience. We reviewed the clinical experience of kidney transplant recipients diagnosed with severe acute respiratory syndrome coronavirus 2 infection in order to understand the impact of the current coronavirus disease 2019 (COVID-19) pandemic infection on transplant recipients. Given that early reports from heavily affected areas demonstrated a very high mortality rate amongst kidney transplant recipients, ranging between 30% and 40%, we sought to evaluate outcomes at a center with a high burden of cases but not experiencing acute crisis due to COVID-19. In this single center retrospective observational study, medical records of all kidney transplant recipients at the UCLA Medical Center were reviewed for a diagnosis of COVID-19 by polymerase chain reaction, followed by chart review to determine kidney transplant characteristics and clinical course. A total of 41 kidney transplant recipients were identified with COVID-19 positive polymerase chain reaction. Recipients had been transplanted for a median of 47 months before diagnosis. The large proportion of infected individuals were minorities (Hispanic 65.9%, black 14.6%), on prednisone, tacrolimus, and mycophenolate mofetil (95.1%, 87.8%, and 87.8%, respectively), and had excellent allograft function (median 1.25 mg/dL). The most common presenting symptoms were fever, dyspnea, or cough. Most patients were hospitalized (63.4%); mortality was 9.8% and occurred only in patients in the intensive care unit. The most common treatment was reduction or removal of antimetabolite (77.8%). Approximately 26.9% presented with AKI. COVID-19 infection in kidney transplant recipients results in a higher rate of hospitalization and mortality than in the general population. In an area with a high number of infections, the mortality rate was lower compared with earlier reports from areas experiencing early surge and strain on the medical system. Minorities were disproportionately affected. Future studies are needed to determine optimal approach to treatment and management of immunosuppression in kidney transplant recipients with COVID-19 infection. ']},\n",
       " ('C0026549',\n",
       "  'C0209368',\n",
       "  'C5203670'): {'C0026549 C0209368': ['Therapeutic drug monitoring of non-anticancer drugs in cancer patients. Therapeutic drug monitoring (TDM) or the measurement of drug concentrations in plasma, serum or blood, aims to improve clinical activity, avoid toxicity, and reduce the costs of drug treatment. Specific conditions for TDM to be reasonably applied include the availability of a validated assay, a considerable interindividual pharmacokinetic variability, a high correlation between drug concentration and toxicity, and a narrow therapeutic index. Cancer patients are especially prone to drug-drug interactions due to significant comedication, impaired liver and kidney function and hypoalbuminemia with altered drug binding. This article discusses TDM for various broadly used non-anticancer drugs in cancer patients and gives specific recommendations. Selected drugs covered in this article include those regularly used in febrile neutropenic patients such as the glycopeptide antibiotics, aminoglycosides, the antifungal agents, including flucytosine and azole compounds, the anticonvulsants phenytoin, carbamazepine and valproate, the tricyclic antidepressants, selective-serotonin-reuptake inhibitors, lithium, morphine, digitalis glycosides and the immunosupressants cyclosporin A, tacrolimus, sirolimus and mycophenolate mofetil, crucial compounds in the setting of bone marrow transplantation. In all cases, treating physicians have to consider the variability in patient age, disease stage, comedication, organ function and protein level to weigh the pros and cons of TDM in the individual cancer patient. '], 'C0209368 C5203670': ['COVID-19 morbidity in patients after orthotopic heart transplantation - single center clinical observation. The study is a prospective clinical observation of patients after orthotopic heart transplantation in a large academic medical center in relation to COVID-19 morbidity. The study population was comprised of 552 patients. All patients were consulted and advised by telephone as regards the prophylaxis of SARS-CoV-2 infection. Hospital and outpatient follow-ups were limited to the minimum. Preventive modification of immunosuppression was not recommended in relation to the pandemic. Three patients with multiple comorbidities (a woman aged 60, a man aged 59, and another man aged 83; 2.25 years, 5.5 years, and 7.5 years after heart transplantation, respectively) and one patient with concomitant arterial hypertension (a woman aged 48, 5.5 years after heart transplantation) presented with a symptomatic COVID-19 infection. Three of the patients were on tacrolimus immunosuppression, and both female patients were additionally on therapy with mycophenolate mofetil, which was discontinued following the diagnosis of infection. One male patient received combined therapy of cyclosporine A and mycophenolate mofetil. The 60-year-old woman presented with gastrointestinal manifestations of the COVID-19 infection which were of moderate severity. The recovery was achieved. The 59-year-old man presented with myocardial infarction, exacerbated renal insufficiency that required hemodialysis and cardiorespiratory failure complicated by bacterial sepsis. As a result, the patient died. The 83-year-old male patient reporting fever, myalgia, fatigue, cough and dyspnea was admitted to hospital and deceased due to septic shock two days after admission. The 48-year old woman who presented with mild symptoms of the upper respiratory tract infection recovered after two weeks. Symptomatic treatment was used in all the patients. Another male patient (aged 45 years, 8 years after orthotopic heart transplant with no significant comorbidities) was an asymptomatic carrier of SARS-CoV-2 and remained under hospital care. Of 552 patients after orthotopic heart transplantation, two SARS-CoV-2-related deaths were reported. ',\n",
       "   'Immunosuppressive and immunomodulator therapy for rare or uncommon skin disorders in pandemic days. Immunosuppressive and immunomodulatory therapies are important in dermatology, but indications are influenced by SARS-CoV-2. We will focus on skin disorders such as autoimmune connective tissue disorders, neutrophilic dermatoses, and vasculitis. Immunomodulators such as colchicine and antimalarials can easily be preferred taking their beneficial effects on COVID-19 into consideration and also given their wide spectrum of action. Among the conventional therapies, methotrexate, azathioprine, and mycophenolate mofetil increase the risk of infection, and thus their use is recommended only when necessary and at low doses. On the other hand, use of cyclosporine is also not recommended as it increases the risk of hypertension, which is susceptible to COVID-19. Anti-TNF agents from among the biological therapies appear to be slightly risky in terms of susceptibility to infection. However, there are ongoing studies which suggest that some biological treatments may reduce cytokine storm impeding the COVID-19 progression as a result, in spite of their susceptibilities to COVID-19. Patients, who will be started on immunosuppressive therapy, should be tested for COVID-19 prior to the therapy, and in the event that COVID-19 is suspected, the therapy should be discontinued. ',\n",
       "   'Outcomes of coronavirus disease 2019 in patients with neuromyelitis optica and associated disorders. Outcomes of coronavirus disease 2019 (COVID-19) in patients with neuromyelitis optica spectrum disorders (NMOSD) or myelin oligodendrocyte glycoprotein antibody-associated disease (MOGAD), often treated with immunosuppressive therapies, are still unknown. We conducted a multicenter, retrospective, observational cohort study among all French expert centers for neuromyelitis optica and related disorders. Patients with NMOSD or MOGAD included in the study received a confirmed or highly suspected diagnosis of COVID-19 between 1 March 2020 and 30 June 2020. Main outcome was COVID-19 severity score assessed on a seven-point ordinal scale ranging from 1 (not hospitalized with no limitations on activities) to 7 (death). Fifteen cases (mean [SD] age: 39.3 [14.3] years, 11 female) were included. Five patients (33.3%) were hospitalized, all receiving rituximab. A 24-year-old patient with positive aquaporine-4 antibody, with obesity as comorbidity, needed mechanical ventilation. Outpatients were receiving anti-CD20 (5), mycophenolate mofetil (3) or azathioprine (3). They were younger (mean [SD] age: 37.0 [13.4] years), with a longer disease duration (mean [SD]: 8.3 [6.3] years) and had a lower expanded disability severity score (EDSS) score (median [range] EDSS: 2.5 [0-4]) relative to patients requiring hospitalization (mean [SD] age: 44.0 [16.4] years, mean [SD] disease duration: 5.8 [5.5] years, median [range] EDSS: 4 [0-6.5]). COVID-19 outcome was overall favorable in this cohort. Larger international studies are needed to identify risk factors of severe COVID-19; however, we recommend personal protective measures to reduce risk of SARS-CoV-2 infection in this immunocompromised population. ']},\n",
       " ('C0026549',\n",
       "  'C0020336',\n",
       "  'C5203670'): {'C0020336 C0026549': ['Hypertrophic Osteoarthropathy and Follicular Thyroid Cancer: A Rare Paraneoplastic Syndrome. Hypertrophic osteoarthropathy (HOA) is a rare condition characterized by bone and joint pain and digital clubbing usually associated with bronchopulmonary diseases. Primary HOA is rare and the pathogenesis remains unclear. Cases of HOA as a paraneoplastic syndrome associated with thyroid carcinoma are very rare - only 2 cases have been described in the literature. We present the first case of a 40-year-old patient affected by HOA associated with invasive differentiated follicular thyroid carcinoma operated in 2 stages. Both operations were followed by radioiodine ablation, and then a rapid unresectable local recurrence developed requiring cervical radiotherapy (70 Gy). A second treatment with 100 mCi of (131)I confirmed it was a refractory thyroid cancer. Further surgery confirmed a poorly differentiated follicular cancer and 12 cycles of chemotherapy by gemcitabine and oxaliplatin followed. During the 8 years of follow-up, cervical recurrence was stable, but severe episodes of hemoptysis occurred requiring iterative embolization of the bronchial and tracheal arteries. Other lung diseases were excluded. Digital clubbing appeared, which was associated with arthritis, bone pain and inflammatory syndrome. X-rays and magnetic resonance imaging found periosteal apposition in the long bones; bone scintigraphy confirmed the HOA diagnosis. Other causes of arthritis were eliminated. She was treated with colchicine, corticosteroids and nonsteroidal anti-inflammatory drugs, but only the combination of methotrexate and hydroxychloroquine reduced the morphine requirements. HOA is exceptionally associated with thyroid cancer and we raised the hypothesis of the secretion of a circulating factor in a patient with invasive and recurrent follicular thyroid cancer, refractory to radioiodine. '], 'C0020336 C5203670': ['',\n",
       "   'The Role of Hydroxychloroquine in COVID-19: A Systematic Review and Meta-Analysis. A systematic review and meta-analysis was carried out to examine the role of hydroxychloroquine (HCQ) in the treatment of COVID-19. We performed a systematic search in PubMed, Scopus, Embase, CochraneLibrary, Web of Science, Google Scholar, and medRxiv pre-print databases using available MeSH terms for COVID-19 and hydroxychloroquine. Data from all studies that focused on the effectiveness of HCQ with or without the addition of azithromycin (AZM) in confirmed COVID-19 patients, which were published up to 12 September 2020, were collated for analysis using CMA v.2.2.064. Our systematic review retrieved 41 studies. Among these, 37 studies including 45,913 participants fulfilled the criteria for subsequent meta-analysis. The data showed no significant difference in treatment efficacy between the HCQ and control groups (RR: 1.02, 95% CI, 0.81-1.27). Combination of HCQ with AZM also did not lead to improved treatment outcomes (RR: 1.26, 95% CI, 0.91-1.74). Furthermore, the mortality difference was not significant, neither in HCQ treatment group (RR: 0.86, 95% CI, 0.71-1.03) nor in HCQ plus AZM treatment group (RR: 1.28, 95% CI, 0.76-2.14) in comparison to controls. Meta-regression analysis showed that age was the factor that significantly affected mortality (P<0.00001). The meta-analysis found that there was no clinical benefit of using either HCQ by itself or in combination with AZM for the treatment of COVID-19 patients. Hence, it may be prudent for clinicians and researchers to focus on other therapeutic options that may show greater promise in this disease. ',\n",
       "   'Clinical characteristics of patients hospitalized with COVID-19 in Spain: Results from the SEMI-COVID-19 Registry. Spain has been one of the countries most affected by the COVID-19 pandemic. To create a registry of patients with COVID-19 hospitalized in Spain, in order to improve our knowledge of the clinical, diagnostic, therapeutic, and prognostic aspects of this disease. A multicentre retrospective cohort study, including consecutive patients hospitalized with confirmed COVID-19 throughout Spain. Epidemiological and clinical data, additional tests at admission and at seven days, treatments administered, and progress at 30 days of hospitalization were collected from electronic medical records. Up to June 30th 2020, 15,111 patients from 150 hospitals were included. Their median age was 69.4 years (range: 18-102 years) and 57.2% were male. Prevalences of hypertension, dyslipidemia, and diabetes mellitus were 50.9%, 39.7%, and 19.4%, respectively. The most frequent symptoms were fever (84.2%) and cough (73.5%). High values of ferritin (73.5%), lactate dehydrogenase (73.9%), and D-dimer (63.8%), as well as lymphopenia (52.8%), were frequent. The most used antiviral drugs were hydroxychloroquine (85.6%) and lopinavir/ritonavir (61.4%); 33.1% developed respiratory distress. Overall mortality rate was 21.0%, with a marked increase with age (50-59 years: 4.7%, 60-69 years: 10.5%, 70-79 years: 26.9%, >=80 years: 46.0%). The SEMI-COVID-19 Network provides data on the clinical characteristics of patients with COVID-19 hospitalized in Spain. Patients with COVID-19 hospitalized in Spain are mostly severe cases, as one in three patients developed respiratory distress and one in five patients died. These findings confirm a close relationship between advanced age and mortality. ']},\n",
       " ('C0026549',\n",
       "  'C1609165',\n",
       "  'C5203670'): {'C0026549 C1609165': ['Gateways to clinical trials. Aclidinium bromide, AE-37, Alemtuzumab, AMA1-C1/ISA 720, Amlodipine besylate/atorvastatin calcium, Arachidonic acid, Arbaclofen placarbil, Aripiprazole, ARQ-621, Azelnidipine, Azilsartan medoxomil potassium; Bevacizumab, Biphasic insulin aspart, Bortezomib; Choriogonadotropin alfa, CTS-1027; Dapagliflozin, Dasatinib, Deforolimus, Degarelix acetate, Denufosol tetrasodium, Desvenlafaxine succinate, Dronedarone hydrochloride, Duloxetine hydrochloride, Dutasteride; Enfuvirtide, Entecavir, Etaracizumab, Everolimus, Exenatide, Ezetimibe; Ferric carboxymaltose, Fludarabine, Foretinib; Gefitinib, GFT-505, GSK-256066; HPV-6/11/16/18, HuM195/rGel, HyperAcute-Lung cancer vaccine; I5NP, Imatinib mesylate, Imexon, Insulin detemir, Insulin glargine, Ivabradine hydrochloride; L2G7, Lacosamide, Lapatinib ditosylate, Lenalidomide, Lidocaine/prilocaine, Liposomal vincristine, Liraglutide, Lixivaptan; Meningococcal (groups A, C, Y and W-135) oligosaccharide diphtheria CRM197 conjugate vaccine, Methoxy polyethylene glycol-epoetin-beta, Mirabegron, Morphine/oxycodone, MR Vaccine, MSC-1936369B, Mycophenolic acid sodium salt; Narlaprevir, N-Desmethylclozapine; Ocriplasmin, Olaparib, Olmesartan medoxomil, Olmesartan medoxomil/azelnidipine, ONO-5334, ONO-8539; Palifermin, Panitumumab, Pardoprunox hydrochloride, PCV7, Peginterferon alfa-2a, Peginterferon alfa-2b, Pemetrexed disodium, Pexelizumab, PF-337210, Pitavastatin calcium; Raltegravir potassium, Recombinant interleukin-7, Regadenoson, Reniale, Roflumilast, Rosuvastatin calcium; Safinamide mesilate, SB-1518, SCH-527123, Selumetinib, Sipuleucel-T, Solifenacin succinate, Sorafenib, Sunitinib malate; Tadalafil, Talaporfin sodium, Tanespimycin, Technosphere/Insulin, Telaprevir, Telatinib, Telcagepant, Telmisartan/hydrochlorothiazide, Teriparatide, Testosterone transdermal gel, TH-302, Tiotropium bromide, Tocilizumab, Trabedersen, Tremelimumab; Valsartan/amlodipine besylate, Vernakalant hydrochloride, Visilizumab, Voreloxin, Vorinostat. '], 'C1609165 C5203670': ['Spread of OXA-48-producing Klebsiella pneumoniae among COVID-19-infected patients: The storm after the storm. The impact of secondary infections by multidrug-resistant bacteria in COVID-19- infected patients has yet to be evaluated. Here, we report the clinical and molecular features of an outbreak of seven patients carrying CTX-M-15- and OXA-48-producing Klebsiella pneumoniae belonging to ST326 during COVID-19 pandemic in an ICU in northern Spain. Those patients were admitted to beds close to each other, two of them developed ventilator-associated pneumonia (VAP), one exhibited primary bacteremia and the remaining four were considered to be colonized. None of them was colonized prior to admission to the ICU an all, except one of those who developed VAP, were discharged. Hydroxychloroquine and lopinavir/ritonavir were administered to all of them as COVID-19 therapy and additionally, three of them received tocilizumab and corticosteroids, respectively. Reusing of personal protective equipment due to its initial shortage, relaxation in infection control measures and negative-pressure air in ICU rooms recommended for the protection of health care workers (HCWs), could have contributed to this outbreak. Maximization of infection control measures is essential to avoid secondary infections by MDR bacteria in COVID-infected patients. ',\n",
       "   'Epigenetic susceptibility to severe respiratory viral infections and its therapeutic implications: a narrative review. The emergence of highly pathogenic strains of influenza virus and coronavirus (CoV) has been responsible for large epidemic and pandemic outbreaks characterised by severe pulmonary illness associated with high morbidity and mortality. One major challenge for critical care is to stratify and minimise the risk of multi-organ failure during the stay in the intensive care unit (ICU). Epigenetic-sensitive mechanisms, including deoxyribonucleic acid (DNA) and ribonucleic acid (RNA) methylation, histone modifications, and non-coding RNAs may lead to perturbations of the host immune-related transcriptional programmes by regulating chromatin structure and gene expression patterns. Viruses causing severe pulmonary illness can use epigenetic-regulated mechanisms during host-pathogen interaction to interfere with innate and adaptive immunity, adequacy of inflammatory response, and overall outcome of viral infections. For example, Middle East respiratory syndrome-CoV and H5N1 can affect host antigen presentation through DNA methylation and histone modifications. The same mechanisms would presumably occur in patients with coronavirus disease 2019, in which tocilizumab may epigenetically reduce microvascular damage. Targeting epigenetic pathways by immune modulators (e.g. tocilizumab) or repurposed drugs (e.g. statins) may provide novel therapeutic opportunities to control viral-host interaction during critical illness. In this review, we provide an update on epigenetic-sensitive mechanisms and repurposed drugs interfering with epigenetic pathways which may be clinically suitable for risk stratification and beneficial for treatment of patients affected by severe viral respiratory infections. ',\n",
       "   'SAFETY PROFILE OF TREATMENTS ADMINISTERED IN COVID 19 INFECTION IN PREGNANT WOMEN. SARS-CoV-2 infection has unexpectedly arrived in our society. In pregnant women, the situation has been similar to general population. Some drugs have been used empirically, and obstetricians have to consider whether the same treatments used in the general population were valid for pregnant women with severe disease, according to their safety profile for both the mother and the foetus. There has been a wide experience with the use of hydroxychloroquine and lopinavir/ritonavir in pregnant women. Tocilizumab and interferon beta could be used if benefits exceed risks. There is no experience using remdesivir in pregnancy. ']}}"
      ]
     },
     "execution_count": 34,
     "metadata": {},
     "output_type": "execute_result"
    }
   ],
   "source": [
    "df['sp_w_pmids'][224]"
   ]
  },
  {
   "cell_type": "code",
   "execution_count": 35,
   "id": "7b6a1482-9e32-4b2b-bd93-9f58294165a8",
   "metadata": {
    "execution": {
     "iopub.execute_input": "2024-05-06T17:07:25.658627Z",
     "iopub.status.busy": "2024-05-06T17:07:25.658298Z",
     "iopub.status.idle": "2024-05-06T17:07:25.664934Z",
     "shell.execute_reply": "2024-05-06T17:07:25.664083Z",
     "shell.execute_reply.started": "2024-05-06T17:07:25.658599Z"
    }
   },
   "outputs": [
    {
     "data": {
      "text/plain": [
       "dict_keys([('C0026549', 'C0021760', 'C5203670'), ('C0026549', 'C0021756', 'C5203670'), ('C0026549', 'C0085295', 'C5203670'), ('C0026549', 'C1448177', 'C5203670'), ('C0026549', 'C0042679', 'C5203670'), ('C0026549', 'C0011777', 'C5203670'), ('C0026549', 'C0014563', 'C5203670'), ('C0026549', 'C0009079', 'C5203670'), ('C0026549', 'C2976303', 'C5203670'), ('C0026549', 'C0006560', 'C5203670'), ('C0026549', 'C0008269', 'C5203670'), ('C0026549', 'C0085149', 'C5203670'), ('C0026549', 'C0209368', 'C5203670'), ('C0026549', 'C0020336', 'C5203670'), ('C0026549', 'C1609165', 'C5203670')])"
      ]
     },
     "execution_count": 35,
     "metadata": {},
     "output_type": "execute_result"
    }
   ],
   "source": [
    "morphine_covid19_paths = df['sp_w_pmids'][224].keys()\n",
    "morphine_covid19_paths"
   ]
  },
  {
   "cell_type": "code",
   "execution_count": 36,
   "id": "822617a0-b4a3-47e2-afa5-bbc3d2dd8693",
   "metadata": {
    "execution": {
     "iopub.execute_input": "2024-05-06T17:07:26.467958Z",
     "iopub.status.busy": "2024-05-06T17:07:26.467638Z",
     "iopub.status.idle": "2024-05-06T17:07:26.474050Z",
     "shell.execute_reply": "2024-05-06T17:07:26.473175Z",
     "shell.execute_reply.started": "2024-05-06T17:07:26.467933Z"
    },
    "scrolled": true
   },
   "outputs": [
    {
     "data": {
      "text/plain": [
       "15"
      ]
     },
     "execution_count": 36,
     "metadata": {},
     "output_type": "execute_result"
    }
   ],
   "source": [
    "num_path_morphine_Covid = len(df['sp_w_pmids'][224].keys())\n",
    "num_path_morphine_Covid"
   ]
  },
  {
   "cell_type": "code",
   "execution_count": 37,
   "id": "ac2dc3a8-764a-4767-984c-81a0e22629ee",
   "metadata": {
    "execution": {
     "iopub.execute_input": "2024-05-06T17:07:27.351359Z",
     "iopub.status.busy": "2024-05-06T17:07:27.351022Z",
     "iopub.status.idle": "2024-05-06T17:07:27.357643Z",
     "shell.execute_reply": "2024-05-06T17:07:27.356843Z",
     "shell.execute_reply.started": "2024-05-06T17:07:27.351333Z"
    }
   },
   "outputs": [
    {
     "data": {
      "text/plain": [
       "dict_keys(['C0021760 C0026549', 'C0021760 C5203670'])"
      ]
     },
     "execution_count": 37,
     "metadata": {},
     "output_type": "execute_result"
    }
   ],
   "source": [
    "df['sp_w_pmids'][224][('C0026549', 'C0021760', 'C5203670')].keys()"
   ]
  },
  {
   "cell_type": "markdown",
   "id": "36034210-294c-41b7-acaa-d9df18be6437",
   "metadata": {},
   "source": [
    "### 2.3. Take one Path "
   ]
  },
  {
   "cell_type": "code",
   "execution_count": 38,
   "id": "40681d0c-c05b-4de4-abff-57ac6415b173",
   "metadata": {
    "execution": {
     "iopub.execute_input": "2024-05-06T17:07:34.458840Z",
     "iopub.status.busy": "2024-05-06T17:07:34.458177Z",
     "iopub.status.idle": "2024-05-06T17:07:34.465426Z",
     "shell.execute_reply": "2024-05-06T17:07:34.464585Z",
     "shell.execute_reply.started": "2024-05-06T17:07:34.458806Z"
    }
   },
   "outputs": [
    {
     "data": {
      "text/plain": [
       "dict_values([['Effect of intravenous pentoxifylline in inflammatory response in patients undergoing nephrolithotomy. To determine the potential efficacy of intravenous (IV) infusion of pentoxifylline (PTX) before nephrolithotomy on attenuating plasma level of the tumor necrosis factor (TNF)-alpha and interleukin (IL)-1, and to investigate whether it prevents postoperative pain. In a randomized, double-blind, placebo-controlled study, 32 patients (American Society of Anesthesiologists physical status 1 and 2) who were undergoing general anesthesia for nephrolithotomy were randomized to receive intravenous PTX (500 mg in 500 mL saline for 2 hours followed by 700 mg in 1000 mL saline for 6 hours), or placebo (1500 mL saline) before induction of the anesthesia. Two venous blood samples were obtained 10 minutes before PTX or placebo infusion and after surgery at 24 hours for laboratory examination. After surgery, the amount of narcotics consumption and intensity of pain (Visual Analog Scale and Verbal Rating Scale) were evaluated. At baseline, both placebo and PTX group had similar demographic, clinical, and laboratory characteristics. The use of narcotic analgesia (morphine, pethidine or both) was more common in the control group for pain relief. Also, pain intensity was significantly lower in patients who received PTX in comparison with those in the control group. Patients in the PTX group had lower postoperative plasma levels of TNF-alpha (0.27 pg/mL (0.06/0.74) v 3.35 pg/mL (0.83/6.41)) (median (25%/75%), P < 0.0001) and IL-6 (35.4 +/- 21.1 pg/mL (range 12-100) v 60.4 +/- 16.7 pg/mL (range 38-100), mean +/- standard deviation, P < 0.001) compared with the placebo receivers. There was no significant difference in surgery time, length of hospital stay, and fever occurrence after operation during in-hospital follow-up. Nausea and vomiting developed, however, in 5 (31.2%) of treatment patients. An infusion of IV PTX that is administered preoperatively could be applied to reduce inflammatory changes and pain intensity in patients undergoing nephrolithotomy; it causes no serious side effects. ', 'The effect of morphine upon DNA methylation in ten regions of the rat brain. Morphine is one of the most effective analgesics in medicine. However, its use is associated with the development of tolerance and dependence. Recent studies demonstrating epigenetic changes in the brain after exposure to opiates have provided insight into mechanisms possibly underlying addiction. In this study, we sought to identify epigenetic changes in ten regions of the rat brain following acute and chronic morphine exposure. We analyzed DNA methylation of six nuclear-encoded genes implicated in brain function (Bdnf, Comt, Il1b, Il6, Nr3c1, and Tnf) and three mitochondrially-encoded genes (Mtco1, Mtco2, and Mtco3), and measured global 5-methylcytosine (5mC) and 5-hydroxymethylcytosine (5 hmC) levels. We observed differential methylation of Bdnf and Il6 in the pons, Nr3c1 in the cerebellum, and Il1b in the hippocampus in response to acute morphine exposure (all P value < 0.05). Chronic exposure was associated with differential methylation of Bdnf and Comt in the pons, Nr3c1 in the hippocampus and Il1b in the medulla oblongata (all P value < 0.05). Global 5mC levels significantly decreased in the superior colliculus following both acute and chronic morphine exposure, and increased in the hypothalamus following chronic exposure. Chronic exposure was also associated with significantly increased global 5hmC levels in the cerebral cortex, hippocampus, and hypothalamus, but significantly decreased in the midbrain. Our results demonstrate, for the first time, highly localized epigenetic changes in the rat brain following acute and chronic morphine exposure. Further work is required to elucidate the potential role of these changes in the formation of tolerance and dependence. ', 'Passage of cytokines across the blood-brain barrier. One mechanism by which blood-borne cytokines might affect the function of the central nervous system (CNS) is by crossing the blood-brain barrier (BBB) for direct interaction with CNS tissue. Saturable transport systems from blood to the CNS have been described for interleukin (IL)-1 alpha, IL-1 beta, IL-1 receptor antagonist (IL-1ra), IL-6, and tumor necrosis factor-alpha (TNF-alpha). Blood-borne cytokines have been shown to cross the BBB to enter cerebrospinal fluid and interstitial fluid spaces of the brain and spinal cord. IL-2 does not cross the BBB by a saturable transport system. The blood-to-brain uptakes of IL-1 alpha, IL-beta, and IL-1ra are interrelated for most brain sites, but the posterior division of the septum shows selective uptake of blood-borne IL-1 alpha. The saturable transport systems for IL-6 and TNF-alpha are distinguishable from each other and from the IL-1 systems. The amount of blood-borne cytokines entering the brain is modest but comparable to that of other water-soluble compounds, such as morphine, known to cross the BBB in sufficient amounts to affect brain function. CNS to blood efflux of cytokines has also been shown to occur, but the mechanism of passage is unclear. Taken together, the evidence shows that passage of cytokines across the BBB occurs, providing a route by which blood-borne cytokines could potentially affect brain function. '], [\"Simple predictive models identify patients with COVID-19 pneumonia and poor prognosis. Identification of SARS-CoV-2-infected patients at high-risk of poor prognosis is crucial. We aimed to establish predictive models for COVID-19 pneumonia severity in hospitalized patients. Retrospective study of 430 patients admitted in Vall d'Hebron Hospital (Barcelona) between 03-12-2020 and 04-28-2020 due to COVID-19 pneumonia. Two models to identify the patients who required high-flow-oxygen-support were generated, one using baseline data and another with also follow-up analytical results. Calibration was performed by a 1000-bootstrap replication model. 249 were male, mean age 57.9 years. Overall, 135 (31.4%) required high-flow-oxygen-support. The baseline predictive model showed a ROC of 0.800 based on: SpO2/FiO2 (adjusted Hazard Ratio-aHR = 8), chest x-ray (aHR = 4), prior immunosuppressive therapy (aHR = 4), obesity (aHR = 2), IL-6 (aHR = 2), platelets (aHR = 0.5). The cut-off of 11 presented a specificity of 94.8%. The second model included changes on the analytical parameters: ferritin (aHR = 7.5 if >=200ng/mL) and IL-6 (aHR = 18 if >=64pg/mL) plus chest x-ray (aHR = 2) showing a ROC of 0.877. The cut-off of 12 exhibited a negative predictive value of 92%. SpO2/FiO2 and chest x-ray on admission or changes on inflammatory parameters as IL-6 and ferritin allow us early identification of COVID-19 patients at risk of high-flow-oxygen-support that may benefit from a more intensive disease management. \", 'Early Viral Clearance and Antibody Kinetics of COVID-19 Among Asymptomatic Carriers. Asymptomatic carriers contribute to the spread of Coronavirus Disease 2019 (COVID-19), but their clinical characteristics, viral kinetics, and antibody responses remain unclear. A total of 56 COVID-19 patients without symptoms at admission and 19 age-matched symptomatic patients were enrolled. RNA of SARS-CoV-2 was tested using transcriptase quantitative PCR, and the total antibodies (Ab), IgG, IgA, and IgM against the SARS-CoV-2 were tested using Chemiluminescence Microparticle Immuno Assay. Among 56 patients without symptoms at admission, 33 cases displayed symptoms and 23 remained asymptomatic throughout the follow-up period. 43.8% of the asymptomatic carriers were children and none of the asymptomatic cases had recognizable changes in C-reactive protein or interleukin-6, except one 64-year-old patient. The initial threshold cycle value of nasopharyngeal SARS-CoV-2 in asymptomatic carriers was similar to that in pre-symptomatic and symptomatic patients, but the positive viral nucleic acid detection period of asymptomatic carriers (9.63 days) was shorter than pre-symptomatic patients (13.6 days). There were no obvious differences in the seropositive conversion rate of total Ab, IgG, and IgA among the three groups, though the rates of IgM varied largely. The average peak IgG and IgM COI of asymptomatic cases was 3.5 and 0.8, respectively, which is also lower than those in symptomatic patients with peaked IgG and IgM COI of 4.5 and 2.4 (p < 0.05). Young COVID-19 patients seem to be asymptomatic cases with early clearance of SARS-CoV-2 and low levels of IgM generation but high total Ab, IgG, and IgA. Our findings provide empirical information for viral clearance and antibody kinetics of asymptomatic COVID-19 patients. ', 'Single-Cell RNA Sequencing of Tocilizumab-Treated Peripheral Blood Mononuclear Cells as an in vitro Model of Inflammation. COVID-19 has posed a significant threat to global health. Early data has revealed that IL-6, a key regulatory cytokine, plays an important role in the cytokine storm of COVID-19. Multiple trials are therefore looking at the effects of Tocilizumab, an IL-6 receptor antibody that inhibits IL-6 activity, on treatment of COVID-19, with promising findings. As part of a clinical trial looking at the effects of Tocilizumab treatment on kidney transplant recipients with subclinical rejection, we performed single-cell RNA sequencing of comparing stimulated PBMCs before and after Tocilizumab treatment. We leveraged this data to create an in vitro cytokine storm model, to better understand the effects of Tocilizumab in the presence of inflammation. Tocilizumab-treated cells had reduced expression of inflammatory-mediated genes and biologic pathways, particularly amongst monocytes. These results support the hypothesis that Tocilizumab may hinder the cytokine storm of COVID-19, through a demonstration of biologic impact at the single-cell level. ']])"
      ]
     },
     "execution_count": 38,
     "metadata": {},
     "output_type": "execute_result"
    }
   ],
   "source": [
    "path1_C0021760_CGF = df['sp_w_pmids'][224][('C0026549', 'C0021760', 'C5203670')].values()\n",
    "path1_C0021760_CGF\n"
   ]
  },
  {
   "cell_type": "markdown",
   "id": "6b7d073d-3394-4c24-8b16-ea8adc09952a",
   "metadata": {},
   "source": [
    "### 2.4. path1 abstract"
   ]
  },
  {
   "cell_type": "code",
   "execution_count": 39,
   "id": "703d7560-165b-4b9d-ae10-13dfc80c9647",
   "metadata": {
    "execution": {
     "iopub.execute_input": "2024-05-06T17:07:36.303226Z",
     "iopub.status.busy": "2024-05-06T17:07:36.302909Z",
     "iopub.status.idle": "2024-05-06T17:07:36.308812Z",
     "shell.execute_reply": "2024-05-06T17:07:36.308214Z",
     "shell.execute_reply.started": "2024-05-06T17:07:36.303200Z"
    }
   },
   "outputs": [
    {
     "data": {
      "text/plain": [
       "['Effect of intravenous pentoxifylline in inflammatory response in patients undergoing nephrolithotomy. To determine the potential efficacy of intravenous (IV) infusion of pentoxifylline (PTX) before nephrolithotomy on attenuating plasma level of the tumor necrosis factor (TNF)-alpha and interleukin (IL)-1, and to investigate whether it prevents postoperative pain. In a randomized, double-blind, placebo-controlled study, 32 patients (American Society of Anesthesiologists physical status 1 and 2) who were undergoing general anesthesia for nephrolithotomy were randomized to receive intravenous PTX (500 mg in 500 mL saline for 2 hours followed by 700 mg in 1000 mL saline for 6 hours), or placebo (1500 mL saline) before induction of the anesthesia. Two venous blood samples were obtained 10 minutes before PTX or placebo infusion and after surgery at 24 hours for laboratory examination. After surgery, the amount of narcotics consumption and intensity of pain (Visual Analog Scale and Verbal Rating Scale) were evaluated. At baseline, both placebo and PTX group had similar demographic, clinical, and laboratory characteristics. The use of narcotic analgesia (morphine, pethidine or both) was more common in the control group for pain relief. Also, pain intensity was significantly lower in patients who received PTX in comparison with those in the control group. Patients in the PTX group had lower postoperative plasma levels of TNF-alpha (0.27 pg/mL (0.06/0.74) v 3.35 pg/mL (0.83/6.41)) (median (25%/75%), P < 0.0001) and IL-6 (35.4 +/- 21.1 pg/mL (range 12-100) v 60.4 +/- 16.7 pg/mL (range 38-100), mean +/- standard deviation, P < 0.001) compared with the placebo receivers. There was no significant difference in surgery time, length of hospital stay, and fever occurrence after operation during in-hospital follow-up. Nausea and vomiting developed, however, in 5 (31.2%) of treatment patients. An infusion of IV PTX that is administered preoperatively could be applied to reduce inflammatory changes and pain intensity in patients undergoing nephrolithotomy; it causes no serious side effects. ',\n",
       " 'The effect of morphine upon DNA methylation in ten regions of the rat brain. Morphine is one of the most effective analgesics in medicine. However, its use is associated with the development of tolerance and dependence. Recent studies demonstrating epigenetic changes in the brain after exposure to opiates have provided insight into mechanisms possibly underlying addiction. In this study, we sought to identify epigenetic changes in ten regions of the rat brain following acute and chronic morphine exposure. We analyzed DNA methylation of six nuclear-encoded genes implicated in brain function (Bdnf, Comt, Il1b, Il6, Nr3c1, and Tnf) and three mitochondrially-encoded genes (Mtco1, Mtco2, and Mtco3), and measured global 5-methylcytosine (5mC) and 5-hydroxymethylcytosine (5 hmC) levels. We observed differential methylation of Bdnf and Il6 in the pons, Nr3c1 in the cerebellum, and Il1b in the hippocampus in response to acute morphine exposure (all P value < 0.05). Chronic exposure was associated with differential methylation of Bdnf and Comt in the pons, Nr3c1 in the hippocampus and Il1b in the medulla oblongata (all P value < 0.05). Global 5mC levels significantly decreased in the superior colliculus following both acute and chronic morphine exposure, and increased in the hypothalamus following chronic exposure. Chronic exposure was also associated with significantly increased global 5hmC levels in the cerebral cortex, hippocampus, and hypothalamus, but significantly decreased in the midbrain. Our results demonstrate, for the first time, highly localized epigenetic changes in the rat brain following acute and chronic morphine exposure. Further work is required to elucidate the potential role of these changes in the formation of tolerance and dependence. ',\n",
       " 'Passage of cytokines across the blood-brain barrier. One mechanism by which blood-borne cytokines might affect the function of the central nervous system (CNS) is by crossing the blood-brain barrier (BBB) for direct interaction with CNS tissue. Saturable transport systems from blood to the CNS have been described for interleukin (IL)-1 alpha, IL-1 beta, IL-1 receptor antagonist (IL-1ra), IL-6, and tumor necrosis factor-alpha (TNF-alpha). Blood-borne cytokines have been shown to cross the BBB to enter cerebrospinal fluid and interstitial fluid spaces of the brain and spinal cord. IL-2 does not cross the BBB by a saturable transport system. The blood-to-brain uptakes of IL-1 alpha, IL-beta, and IL-1ra are interrelated for most brain sites, but the posterior division of the septum shows selective uptake of blood-borne IL-1 alpha. The saturable transport systems for IL-6 and TNF-alpha are distinguishable from each other and from the IL-1 systems. The amount of blood-borne cytokines entering the brain is modest but comparable to that of other water-soluble compounds, such as morphine, known to cross the BBB in sufficient amounts to affect brain function. CNS to blood efflux of cytokines has also been shown to occur, but the mechanism of passage is unclear. Taken together, the evidence shows that passage of cytokines across the BBB occurs, providing a route by which blood-borne cytokines could potentially affect brain function. ',\n",
       " \"Simple predictive models identify patients with COVID-19 pneumonia and poor prognosis. Identification of SARS-CoV-2-infected patients at high-risk of poor prognosis is crucial. We aimed to establish predictive models for COVID-19 pneumonia severity in hospitalized patients. Retrospective study of 430 patients admitted in Vall d'Hebron Hospital (Barcelona) between 03-12-2020 and 04-28-2020 due to COVID-19 pneumonia. Two models to identify the patients who required high-flow-oxygen-support were generated, one using baseline data and another with also follow-up analytical results. Calibration was performed by a 1000-bootstrap replication model. 249 were male, mean age 57.9 years. Overall, 135 (31.4%) required high-flow-oxygen-support. The baseline predictive model showed a ROC of 0.800 based on: SpO2/FiO2 (adjusted Hazard Ratio-aHR = 8), chest x-ray (aHR = 4), prior immunosuppressive therapy (aHR = 4), obesity (aHR = 2), IL-6 (aHR = 2), platelets (aHR = 0.5). The cut-off of 11 presented a specificity of 94.8%. The second model included changes on the analytical parameters: ferritin (aHR = 7.5 if >=200ng/mL) and IL-6 (aHR = 18 if >=64pg/mL) plus chest x-ray (aHR = 2) showing a ROC of 0.877. The cut-off of 12 exhibited a negative predictive value of 92%. SpO2/FiO2 and chest x-ray on admission or changes on inflammatory parameters as IL-6 and ferritin allow us early identification of COVID-19 patients at risk of high-flow-oxygen-support that may benefit from a more intensive disease management. \",\n",
       " 'Early Viral Clearance and Antibody Kinetics of COVID-19 Among Asymptomatic Carriers. Asymptomatic carriers contribute to the spread of Coronavirus Disease 2019 (COVID-19), but their clinical characteristics, viral kinetics, and antibody responses remain unclear. A total of 56 COVID-19 patients without symptoms at admission and 19 age-matched symptomatic patients were enrolled. RNA of SARS-CoV-2 was tested using transcriptase quantitative PCR, and the total antibodies (Ab), IgG, IgA, and IgM against the SARS-CoV-2 were tested using Chemiluminescence Microparticle Immuno Assay. Among 56 patients without symptoms at admission, 33 cases displayed symptoms and 23 remained asymptomatic throughout the follow-up period. 43.8% of the asymptomatic carriers were children and none of the asymptomatic cases had recognizable changes in C-reactive protein or interleukin-6, except one 64-year-old patient. The initial threshold cycle value of nasopharyngeal SARS-CoV-2 in asymptomatic carriers was similar to that in pre-symptomatic and symptomatic patients, but the positive viral nucleic acid detection period of asymptomatic carriers (9.63 days) was shorter than pre-symptomatic patients (13.6 days). There were no obvious differences in the seropositive conversion rate of total Ab, IgG, and IgA among the three groups, though the rates of IgM varied largely. The average peak IgG and IgM COI of asymptomatic cases was 3.5 and 0.8, respectively, which is also lower than those in symptomatic patients with peaked IgG and IgM COI of 4.5 and 2.4 (p < 0.05). Young COVID-19 patients seem to be asymptomatic cases with early clearance of SARS-CoV-2 and low levels of IgM generation but high total Ab, IgG, and IgA. Our findings provide empirical information for viral clearance and antibody kinetics of asymptomatic COVID-19 patients. ',\n",
       " 'Single-Cell RNA Sequencing of Tocilizumab-Treated Peripheral Blood Mononuclear Cells as an in vitro Model of Inflammation. COVID-19 has posed a significant threat to global health. Early data has revealed that IL-6, a key regulatory cytokine, plays an important role in the cytokine storm of COVID-19. Multiple trials are therefore looking at the effects of Tocilizumab, an IL-6 receptor antibody that inhibits IL-6 activity, on treatment of COVID-19, with promising findings. As part of a clinical trial looking at the effects of Tocilizumab treatment on kidney transplant recipients with subclinical rejection, we performed single-cell RNA sequencing of comparing stimulated PBMCs before and after Tocilizumab treatment. We leveraged this data to create an in vitro cytokine storm model, to better understand the effects of Tocilizumab in the presence of inflammation. Tocilizumab-treated cells had reduced expression of inflammatory-mediated genes and biologic pathways, particularly amongst monocytes. These results support the hypothesis that Tocilizumab may hinder the cytokine storm of COVID-19, through a demonstration of biologic impact at the single-cell level. ']"
      ]
     },
     "execution_count": 39,
     "metadata": {},
     "output_type": "execute_result"
    }
   ],
   "source": [
    "dict_values_abstracts = df['sp_w_pmids'][224][('C0026549', 'C0021760', 'C5203670')].values()\n",
    "\n",
    "path1_C0021760_CGF = [abstract for sublist in dict_values_abstracts for abstract in sublist]\n",
    "path1_C0021760_CGF"
   ]
  },
  {
   "cell_type": "code",
   "execution_count": 19,
   "id": "e578a607-7f77-47f3-9ae8-c2bb0d5f4d72",
   "metadata": {
    "execution": {
     "iopub.execute_input": "2024-05-06T15:03:46.725750Z",
     "iopub.status.busy": "2024-05-06T15:03:46.724713Z",
     "iopub.status.idle": "2024-05-06T15:03:46.787460Z",
     "shell.execute_reply": "2024-05-06T15:03:46.786457Z",
     "shell.execute_reply.started": "2024-05-06T15:03:46.725718Z"
    },
    "scrolled": true
   },
   "outputs": [
    {
     "name": "stdout",
     "output_type": "stream",
     "text": [
      "Path: ('C0026549', 'C0021760', 'C5203670') -> Values: [['Effect of intravenous pentoxifylline in inflammatory response in patients undergoing nephrolithotomy. To determine the potential efficacy of intravenous (IV) infusion of pentoxifylline (PTX) before nephrolithotomy on attenuating plasma level of the tumor necrosis factor (TNF)-alpha and interleukin (IL)-1, and to investigate whether it prevents postoperative pain. In a randomized, double-blind, placebo-controlled study, 32 patients (American Society of Anesthesiologists physical status 1 and 2) who were undergoing general anesthesia for nephrolithotomy were randomized to receive intravenous PTX (500 mg in 500 mL saline for 2 hours followed by 700 mg in 1000 mL saline for 6 hours), or placebo (1500 mL saline) before induction of the anesthesia. Two venous blood samples were obtained 10 minutes before PTX or placebo infusion and after surgery at 24 hours for laboratory examination. After surgery, the amount of narcotics consumption and intensity of pain (Visual Analog Scale and Verbal Rating Scale) were evaluated. At baseline, both placebo and PTX group had similar demographic, clinical, and laboratory characteristics. The use of narcotic analgesia (morphine, pethidine or both) was more common in the control group for pain relief. Also, pain intensity was significantly lower in patients who received PTX in comparison with those in the control group. Patients in the PTX group had lower postoperative plasma levels of TNF-alpha (0.27 pg/mL (0.06/0.74) v 3.35 pg/mL (0.83/6.41)) (median (25%/75%), P < 0.0001) and IL-6 (35.4 +/- 21.1 pg/mL (range 12-100) v 60.4 +/- 16.7 pg/mL (range 38-100), mean +/- standard deviation, P < 0.001) compared with the placebo receivers. There was no significant difference in surgery time, length of hospital stay, and fever occurrence after operation during in-hospital follow-up. Nausea and vomiting developed, however, in 5 (31.2%) of treatment patients. An infusion of IV PTX that is administered preoperatively could be applied to reduce inflammatory changes and pain intensity in patients undergoing nephrolithotomy; it causes no serious side effects. ', 'The effect of morphine upon DNA methylation in ten regions of the rat brain. Morphine is one of the most effective analgesics in medicine. However, its use is associated with the development of tolerance and dependence. Recent studies demonstrating epigenetic changes in the brain after exposure to opiates have provided insight into mechanisms possibly underlying addiction. In this study, we sought to identify epigenetic changes in ten regions of the rat brain following acute and chronic morphine exposure. We analyzed DNA methylation of six nuclear-encoded genes implicated in brain function (Bdnf, Comt, Il1b, Il6, Nr3c1, and Tnf) and three mitochondrially-encoded genes (Mtco1, Mtco2, and Mtco3), and measured global 5-methylcytosine (5mC) and 5-hydroxymethylcytosine (5 hmC) levels. We observed differential methylation of Bdnf and Il6 in the pons, Nr3c1 in the cerebellum, and Il1b in the hippocampus in response to acute morphine exposure (all P value < 0.05). Chronic exposure was associated with differential methylation of Bdnf and Comt in the pons, Nr3c1 in the hippocampus and Il1b in the medulla oblongata (all P value < 0.05). Global 5mC levels significantly decreased in the superior colliculus following both acute and chronic morphine exposure, and increased in the hypothalamus following chronic exposure. Chronic exposure was also associated with significantly increased global 5hmC levels in the cerebral cortex, hippocampus, and hypothalamus, but significantly decreased in the midbrain. Our results demonstrate, for the first time, highly localized epigenetic changes in the rat brain following acute and chronic morphine exposure. Further work is required to elucidate the potential role of these changes in the formation of tolerance and dependence. ', 'Passage of cytokines across the blood-brain barrier. One mechanism by which blood-borne cytokines might affect the function of the central nervous system (CNS) is by crossing the blood-brain barrier (BBB) for direct interaction with CNS tissue. Saturable transport systems from blood to the CNS have been described for interleukin (IL)-1 alpha, IL-1 beta, IL-1 receptor antagonist (IL-1ra), IL-6, and tumor necrosis factor-alpha (TNF-alpha). Blood-borne cytokines have been shown to cross the BBB to enter cerebrospinal fluid and interstitial fluid spaces of the brain and spinal cord. IL-2 does not cross the BBB by a saturable transport system. The blood-to-brain uptakes of IL-1 alpha, IL-beta, and IL-1ra are interrelated for most brain sites, but the posterior division of the septum shows selective uptake of blood-borne IL-1 alpha. The saturable transport systems for IL-6 and TNF-alpha are distinguishable from each other and from the IL-1 systems. The amount of blood-borne cytokines entering the brain is modest but comparable to that of other water-soluble compounds, such as morphine, known to cross the BBB in sufficient amounts to affect brain function. CNS to blood efflux of cytokines has also been shown to occur, but the mechanism of passage is unclear. Taken together, the evidence shows that passage of cytokines across the BBB occurs, providing a route by which blood-borne cytokines could potentially affect brain function. '], [\"Simple predictive models identify patients with COVID-19 pneumonia and poor prognosis. Identification of SARS-CoV-2-infected patients at high-risk of poor prognosis is crucial. We aimed to establish predictive models for COVID-19 pneumonia severity in hospitalized patients. Retrospective study of 430 patients admitted in Vall d'Hebron Hospital (Barcelona) between 03-12-2020 and 04-28-2020 due to COVID-19 pneumonia. Two models to identify the patients who required high-flow-oxygen-support were generated, one using baseline data and another with also follow-up analytical results. Calibration was performed by a 1000-bootstrap replication model. 249 were male, mean age 57.9 years. Overall, 135 (31.4%) required high-flow-oxygen-support. The baseline predictive model showed a ROC of 0.800 based on: SpO2/FiO2 (adjusted Hazard Ratio-aHR = 8), chest x-ray (aHR = 4), prior immunosuppressive therapy (aHR = 4), obesity (aHR = 2), IL-6 (aHR = 2), platelets (aHR = 0.5). The cut-off of 11 presented a specificity of 94.8%. The second model included changes on the analytical parameters: ferritin (aHR = 7.5 if >=200ng/mL) and IL-6 (aHR = 18 if >=64pg/mL) plus chest x-ray (aHR = 2) showing a ROC of 0.877. The cut-off of 12 exhibited a negative predictive value of 92%. SpO2/FiO2 and chest x-ray on admission or changes on inflammatory parameters as IL-6 and ferritin allow us early identification of COVID-19 patients at risk of high-flow-oxygen-support that may benefit from a more intensive disease management. \", 'Early Viral Clearance and Antibody Kinetics of COVID-19 Among Asymptomatic Carriers. Asymptomatic carriers contribute to the spread of Coronavirus Disease 2019 (COVID-19), but their clinical characteristics, viral kinetics, and antibody responses remain unclear. A total of 56 COVID-19 patients without symptoms at admission and 19 age-matched symptomatic patients were enrolled. RNA of SARS-CoV-2 was tested using transcriptase quantitative PCR, and the total antibodies (Ab), IgG, IgA, and IgM against the SARS-CoV-2 were tested using Chemiluminescence Microparticle Immuno Assay. Among 56 patients without symptoms at admission, 33 cases displayed symptoms and 23 remained asymptomatic throughout the follow-up period. 43.8% of the asymptomatic carriers were children and none of the asymptomatic cases had recognizable changes in C-reactive protein or interleukin-6, except one 64-year-old patient. The initial threshold cycle value of nasopharyngeal SARS-CoV-2 in asymptomatic carriers was similar to that in pre-symptomatic and symptomatic patients, but the positive viral nucleic acid detection period of asymptomatic carriers (9.63 days) was shorter than pre-symptomatic patients (13.6 days). There were no obvious differences in the seropositive conversion rate of total Ab, IgG, and IgA among the three groups, though the rates of IgM varied largely. The average peak IgG and IgM COI of asymptomatic cases was 3.5 and 0.8, respectively, which is also lower than those in symptomatic patients with peaked IgG and IgM COI of 4.5 and 2.4 (p < 0.05). Young COVID-19 patients seem to be asymptomatic cases with early clearance of SARS-CoV-2 and low levels of IgM generation but high total Ab, IgG, and IgA. Our findings provide empirical information for viral clearance and antibody kinetics of asymptomatic COVID-19 patients. ', 'Single-Cell RNA Sequencing of Tocilizumab-Treated Peripheral Blood Mononuclear Cells as an in vitro Model of Inflammation. COVID-19 has posed a significant threat to global health. Early data has revealed that IL-6, a key regulatory cytokine, plays an important role in the cytokine storm of COVID-19. Multiple trials are therefore looking at the effects of Tocilizumab, an IL-6 receptor antibody that inhibits IL-6 activity, on treatment of COVID-19, with promising findings. As part of a clinical trial looking at the effects of Tocilizumab treatment on kidney transplant recipients with subclinical rejection, we performed single-cell RNA sequencing of comparing stimulated PBMCs before and after Tocilizumab treatment. We leveraged this data to create an in vitro cytokine storm model, to better understand the effects of Tocilizumab in the presence of inflammation. Tocilizumab-treated cells had reduced expression of inflammatory-mediated genes and biologic pathways, particularly amongst monocytes. These results support the hypothesis that Tocilizumab may hinder the cytokine storm of COVID-19, through a demonstration of biologic impact at the single-cell level. ']]\n",
      "Path: ('C0026549', 'C0021756', 'C5203670') -> Values: [['Impact of HACA on Immunomodulation and Treatment Toxicity Following ch14.18/CHO Long-Term Infusion with Interleukin-2: Results from a SIOPEN Phase 2 Trial. GD2-directed immunotherapies improve survival of high-risk neuroblastoma (NB) patients (pts). Treatment with chimeric anti-GD2 antibodies (Ab), such as ch14.18, can induce development of human anti-chimeric Ab (HACA). Here, we report HACA effects on ch14.18/CHO pharmacokinetics, pharmacodynamics and pain intensity in pts treated by long-term infusion (LTI) of ch14.18/CHO combined with IL-2. 124 pts received up to 5 cycles of ch14.18/CHO 10 days (d) infusion (10 mg/m2/d; d8-18) combined with s.c. IL-2 (6 * 106 IU/m2/d; d1-5, d8-12). HACA, treatment toxicity, ch14.18/CHO levels, Ab-dependent cellular- (ADCC) and complement-dependent cytotoxicity (CDC) were assessed using respective validated assays. HACA-negative pts showed a steadily decreased pain in cycle 1 (74% pts without morphine by d5 of LTI) with further decrease in subsequent cycles. Ch14.18/CHO peak concentrations of 11.26 +/- 0.50 ug/mL found in cycle 1 were further elevated in subsequent cycles and resulted in robust GD2-specific CDC and ADCC. Development of HACA (21% of pts) resulted in strong reduction of ch14.18/CHO levels, abrogated CDC and ADCC. Surprisingly, no difference in pain toxicity between HACA-positive and -negative pts was found. In conclusion, ch14.18/CHO LTI combined with IL-2 results in strong activation of Ab effector functions. Importantly, HACA response abrogated CDC but did not affect pain intensity indicating CDC-independent pain induction. ', 'Impact of IL-2 on Treatment Tolerance in Patients With High-Risk Neuroblastoma Treated With Dinutuximab Beta-Based Immunotherapy. Patients with high-risk neuroblastoma treated with continuous long-term infusion of anti-GD2 antibody dinutuximab beta (DB) in combination with IL-2 show an acceptable safety profile. Here, we compared treatment tolerance with and without IL-2. Ninety-nine patients with high-risk neuroblastoma received up to five cycles of DB given as long-term infusion (10 mg/m2/d, 100 mg/m2; per cycle) with IL-2 (53 patients; regimen A; 6 * 106 IU/m2/d; 60 * 106 IU/m2/cycle) and without IL-2 (46 patients; regimen B) in a single-center compassionate use program. Clinical parameters (body temperature, vital signs, Lansky performance score), laboratory values [C-reactive protein, IFN-gamma, IL-6, and IL-18 (cycle 1)], and requirement of i.v. co-medication (e.g., morphine, metamizole) were systematically assessed. Patients with stable clinical parameters and that did not require co-medication were defined as potential \"outpatient candidates.\" Patients showed higher levels of body temperature and CRP in regimen A compared to B. However, IL-6 serum concentrations were similar in pts of both cohorts in the first cycle. Patients receiving regimen B showed a shorter time to achieve normal vital parameters and required less co-medication compared to patients in regimen A that resulted in a shorter median time period to discharge and to achieve a potential outpatient status (6d regimen A and 3-5d regimen B after start of antibody infusion, respectively). This study shows that omitting IL-2 from immunotherapy with DB allows reduced co-medication and hospitalization time and therefore results in improved quality of life in patients with high-risk neuroblastoma. ', 'Opioid dependency and T-helper cell functions in rhesus monkey. Administration of morphine sulfate to rhesus monkeys may activate the quiescent lymphocyte for proliferation, induce a transient increase in the T cell proliferative response to mitogens, and cause an enhanced interleukin-2 release from the mitogen-stimulated lymphocytes. However, longitudinal studies of the animals dependent upon morphine or L-a-acetyl-methadol, a long-acting opioid, revealed an overall immunosuppression of T helper functions. In vitro studies using morphine and its antagonist naloxone suggested that the immunosuppression was not a result of a direct interaction between the opioids and conventional opiate receptors which might have been present on the lymphocytes. The studies also showed the importance of measuring [3H]thymidine incorporation rather than its uptake into cells to assess T cell activation. '], [\"Continuous tracking of COVID-19 patients' immune status. COVID-19 is threating human health worldwide. We aim to investigate the dynamic changes of immune status in COVID-19 patients with clinical evolution. Sixty-one COVID-19 patients (42 mild cases and 19 severe cases, 51 cases without secondary infection as non-infection group and 10 cases with secondary bacterial/fungal infection as infection group) and 52 healthy controls (HCs) were enrolled from our hospital. Leucocyte classification, lymphocyte subsets and cytokines were detected by full-automatic blood cell analyzer and flow cytometer, respectively. Upon admission, eosinophils and lymphocyte subsets decreased significantly, while neutrophils, monocytes, basophils, IL-2, IL-6, IL-10 and IFN-gamma increased significantly in COVID-19 patients compared to HCs. CD3+ T and DN (CD3+CD4-CD8-) cells appeared sustained decline, leucocytes, neutrophils and IL-10 showed sustained increase in severe group compared to mild group. Compared with the non-infection group, we observed a depletion of eosinophils, CD3+ T and CD4+ T cells, but leucocytes, neutrophils, IL-6 and IL-10 on the contrary in the infection group. Besides, in severe group of COVID-19 patients, DN cells were negatively correlated with IL-10, and DP (CD3+CD4+CD8+) cells were negatively correlated with IL-6. Lymphocytes, eosinophils, CD3+ T cells, CD4+ T cells, IL-6 and IL-10 all had great diagnostic efficacy (AUC, 0.905-0.975) for COVID-19. The laboratory indicators of COVID-19 patients with improved condition also showed a recovery trend with time. The immune status of COVID-19 patients is different in each stage, and dynamic monitoring of related indicators can help predict the disease and may avoid cytokine storms. \", 'Dynamics of cytokines and lymphocyte subsets associated with the poor prognosis of severe COVID-19. We aimed to study the dynamics of cytokines and lymphocyte subsets and their correlation with the prognosis of patients with severe COVID-19. The lymphocyte subsets and cytokines of 31 patients with severe COVID-19 (7 deaths and 24 survivals) were longitudinally analyzed. The mean age of enrolled patients was 64 years, 24 (77.4%) patients were men, and 23 (74.2%) patients had comorbidities. Compared with survival group, the death group showed significant and sustained increases in the levels of IL-6, IL-8, and IL-10 from baseline to 28 days after admission (all p<0.05). No significant differences were observed in the levels of TNF-alpha, IL-1b, IL-2, IL-4, IL-5, IL-12P70, IL-17, IFN-alpha, and IFN-gamma between the death group and survival group during the follow-up (all p>0.05). The absolute counts of CD3+ T cells, CD4+ T cells, CD8+ T cells, and CD45+ T cells were lower in both survival group and death group patients from hospital admission to 3 days after admission, and gradually recovered in 4 to 35 days in the survival group, but continually stayed at low levels in the death group during the follow-up. The kinetic changes of cytokines and lymphocyte subsets are related with the prognosis of patients with severe COVID-19. ', 'The effect of drugs used in rheumatology for treating SARS-CoV2 infection. SARS-CoV-2 is a novel coronavirus that was first isolated from a group of patients hospitalized with pneumonia in China at the end of 2019, and, in February 2020, the syndrome it caused was named coronavirus disease 2019 (COVID-19) by the World Health Organization. In the absence of specific antiviral treatments capable of neutralizing the etiological agent, one therapeutic approach is to control the cytokine storm responsible for the most severe forms of the disease. The characteristic cytokine profile of severely affected patients is increased levels of interleukin (IL)-1beta, IL-2, IL-6, IL-7, IL-8, and tumor necrosis factor alpha (TNF-alpha). This article discusses the pathogenesis of COVID-19 as a rationale for using the biological and targeted synthetic drugs used in rheumatology (anti-TNF, anti-IL-1 and anti-IL-6 agents and baricitinib) to treat the disease, and provides key information concerning their potential benefits and adverse effects. Interleukin inhibition seems to be a promising means of treating COVID-19 patients when respiratory function declines (or even earlier) if there are laboratory data indicating the presence of a cytokine storm because the interleukins are key drivers of inflammation. However, it is important to consider the risks and benefits of biological agents carefully, and critically analyze the evidence concerning their use in COVID-19 patients. ']]\n",
      "Path: ('C0026549', 'C0085295', 'C5203670') -> Values: [['Differential involvement of RelB in morphine-induced modulation of chemotaxis, NO, and cytokine production in murine macrophages and lymphocytes. Acute morphine impairs innate and acquired immunity. The mechanisms involved in immunosuppression have not been well defined yet. The transcription factor NF-kappaB is a central regulator of immunity, and of the NF-kappaB family, RelB is particularly involved in the expression of genes important in immune responses. We investigated the involvement of RelB in morphine-induced immunosuppression in mice deficient for the RelB factor. RelB-/- mice and wild-type (WT) controls were injected s.c. with morphine 20 mg/Kg, and 1 h later, immune parameters were evaluated. Morphine significantly reduced macrophage production of the proinflammatory cytokines IL-1beta, TNF-alpha, and IL-12 in WT animals, and the drug failed to diminish the production of these cytokines in the RelB-/- mice. In contrast, the anti-inflammatory cytokine IL-10 was similarly affected in the two strains. Macrophage NO production was modulated by morphine in WT animals only, and morphine similarly decreased macrophage chemotaxis in the presence or in the absence of RelB. When Th1 and Th2 cytokines were evaluated, we observed a clear morphine-induced reduction of IL-2 and IFN-gamma production by WT splenocytes, whereas no effect of the drug was observed in RelB-/- mice. On the contrary, the production of the Th2 cytokines IL-4 and IL-10 was lessened to the same degree by morphine in WT and RelB-/- mice. In conclusion, our data suggest that RelB is an important target for morphine modulation of proinflammatory and Th1 cytokines. They also indicate that morphine uses multiple intracellular pathways to exert its generalized immunosuppression. ', 'A role for proinflammatory cytokines and fractalkine in analgesia, tolerance, and subsequent pain facilitation induced by chronic intrathecal morphine. The present experiments examined the role of spinal proinflammatory cytokines [interleukin-1beta (IL-1)] and chemokines (fractalkine) in acute analgesia and in the development of analgesic tolerance, thermal hyperalgesia, and tactile allodynia in response to chronic intrathecal morphine. Chronic (5 d), but not acute (1 d), intrathecal morphine was associated with a rapid increase in proinflammatory cytokine protein and/or mRNA in dorsal spinal cord and lumbosacral CSF. To determine whether IL-1 release modulates the effects of morphine, intrathecal morphine was coadministered with intrathecal IL-1 receptor antagonist (IL-1ra). This regimen potentiated acute morphine analgesia and inhibited the development of hyperalgesia, allodynia, and analgesic tolerance. Similarly, intrathecal IL-1ra administered after the establishment of morphine tolerance reversed hyperalgesia and prevented the additional development of tolerance and allodynia. Fractalkine also appears to modulate the effects of intrathecal morphine because coadministration of morphine with intrathecal neutralizing antibody against the fractalkine receptor (CX3CR1) potentiated acute morphine analgesia and attenuated the development of tolerance, hyperalgesia, and allodynia. Fractalkine may be exerting these effects via IL-1 because fractalkine (CX3CL1) induced the release of IL-1 from acutely isolated dorsal spinal cord in vitro. Finally, gene therapy with an adenoviral vector encoding for the release of the anti-inflammatory cytokine IL-10 also potentiated acute morphine analgesia and attenuated the development of tolerance, hyperalgesia, and allodynia. Taken together, these results suggest that IL-1 and fractalkine are endogenous regulators of morphine analgesia and are involved in the increases in pain sensitivity that occur after chronic opiates. ', \"Serum IL-10 involved in morphine tolerance development during adjuvant-induced arthritis. Opioid receptors play an important role in modulation of hyperalgesia in inflamed tissues, but chronic morphine application induces such side effects as tolerance. There is near communications between cytokines and mu opioid receptor expression. This study was aimed to assess the role of serum IL-10 in morphine tolerance development during adjuvant-induced arthritis. Adjuvant arthritis (AA) was induced on day 0 by single injection of Complete Freund's Adjuvant (CFA) into the rats' hindpaw. Hyperalgesia, edema, and spinal mu opioid receptor (mOR) variations were assessed on 0, 7, 14, and 21 days of the study. For assessment of the morphine tolerance development, morphine effective dose (4 mg/kg) was administered from the 14th day after CFA injection and continued until the morphine post-dose paw withdrawal latency (PWL); it did not significantly differ from the baseline. For assessment of the effects of IL-10 on tolerance induction, a neutralizing dose (ND50) of anti-IL-10 was administered daily during different stages of the study. AA induction in the right hindpaw of rats resulted in unilateral inflammation and hyperalgesia within 21 days of the study. Anti-IL-10 antibody administration in the AA rats induced marked elevation of hyperalgesia compared to the AA control group. Our data also indicated that morphine effective anti-hyperalgesic dose significantly decreased in the AA rats compared to the control group, which this symptom was aligned with spinal mu opioid receptor (mOR) expression increase during AA. Moreover, there was a significant difference in morphine tolerance induction between the AA and control rats, and our results also demonstrated that IL-10 played an important role in tolerance-induction process. It can be concluded that morphine tolerance slowly progressed when administered morphine effective dose was reduced during AA chronic inflammation. On the other hand, it seems that increased level of serum IL-10 may affect morphine tolerance development during inflammation. \"], ['Analysis of cytokines in SARS-CoV-2 or COVID-19 patients in Erbil city, Kurdistan Region of Iraq. The emergence of the novel coronavirus and then pandemic outbreak was coined 2019- nCoV or COVID-19 (or SARS-CoV-2 disease 2019). This disease has a mortality rate of about 3.7 percent, and successful therapy is desperately needed to combat it. The exact cellular mechanisms of COVID-19 need to be illustrated in detail. This study aimed to evaluate serum cytokines in COVID-19 patients. In this study, serum was collected from volunteer individuals, moderate COVID-19 patients, severe cases of COVID-19 patients, and patients who recovered from COVID-19 (n = 122). The serum concentrations of interleukins such as IL-1, IL-4, IL-6, IL-8, IL-10, and tumor necrosis factor-alpha (TNF-alpha), were measured by enzyme-linked immunosorbent assays (ELISA). The concentrations of IL-1 and TNF-alpha were did not differ significantly among groups. However, the concentration of IL-6 was significantly higher in moderate COVID-19 and severe cases of COVID-19 groups compared to control and recovered groups indicating it to be an independent predictor in the coronavirus disease. The levels of IFN-gamma and IL-4 were significantly lower in the recovery group than the severe case of the COVID-19 group. In contrast, the level of IL-10 in recovered COVID-19 patients was significantly higher in compare to severe cases, COVID-19 patients. Varying levels of cytokines were detected in COVID-19 group than control group suggesting distinct immunoregulatory mechanisms involved in COVID-19 pathogenesis. However, additional investigations are needed to be to be performed to understand the exact cellular mechanism of this disease. ', 'Correlation analysis between disease severity and inflammation-related parameters in patients with COVID-19: a retrospective study. COVID-19 is highly contagious, and the crude mortality rate could reach 49% in critical patients. Inflammation concerns on disease progression. This study analyzed blood inflammation indicators among mild, severe and critical patients, helping to identify severe or critical patients early. In this cross-sectional study, 100 patients were included and divided into mild, severe or critical groups according to disease condition. Correlation of peripheral blood inflammation-related indicators with disease criticality was analyzed. Cut-off values for critically ill patients were speculated through the ROC curve. Significantly, disease severity was associated with age (R = -0.564, P < 0.001), interleukin-2 receptor (IL2R) (R = -0.534, P < 0.001), interleukin-6 (IL-6) (R = -0.535, P < 0.001), interleukin-8 (IL-8) (R = -0.308, P < 0.001), interleukin-10 (IL-10) (R = -0.422, P < 0.001), tumor necrosis factor alpha (TNFalpha) (R = -0.322, P < 0.001), C-reactive protein (CRP) (R = -0.604, P < 0.001), ferroprotein (R = -0.508, P < 0.001), procalcitonin (R = -0.650, P < 0.001), white cell counts (WBC) (R = -0.54, P < 0.001), lymphocyte counts (LC) (R = 0.56, P < 0.001), neutrophil count (NC) (R = -0.585, P < 0.001) and eosinophil counts (EC) (R = 0.299, P < 0.001). With IL2R > 793.5 U/mL or CRP > 30.7 ng/mL, the progress of COVID-19 to critical stage should be closely observed and possibly prevented. Inflammation is closely related to severity of COVID-19, and IL-6 and TNFalpha might be promising therapeutic targets. ', 'Antiviral effect of fufang yinhua jiedu (FFYH) granules against influenza A virus through regulating the inflammatory responses by TLR7/MyD88 signaling pathway. Fufang-Yinhua-Jiedu Granules (FFYH) optimized from a Yin-Qiao-San, as traditional Chinese medicine (TCM), was used to treat influenza and upper respiratory tract infection and was recommended for the prevention and treatment of SARS in 2003 and current COVID-19 in Anhui Province in 2020. In the clinical studies, FFYH was very effective for the treatment of influenza, but the mechanism of action against influenza A virus remains unclear. In the present study, we investigated the antiviral effect of FFYH against influenza A virus in vitro and vivo. Moreover, the potential mechanism of FFYH against influenza A virus in vivo was investigated for the first time. CPE inhibition assay and HA assay were used to evaluate the in vitro antiviral effects of FFYH against influenza A virus H1N1, H3N2, H5N1, H7N9 and H9N2. Mice were used to evaluate the antiviral effect of FFYH in vivo with ribavirin and lianhuaqingwen as positive controls. RT-PCR was used to quantify the mRNA transcription of TNF-alpha, IL-6, IFN-gamma, IP10, and IL-1beta mRNA. ELISA was used to examine the expression of inflammatory factors such as TNF-alpha, IL-6, IFN-gamma, IP10, and IL-1beta in sera. The blood parameters were analyzed with auto hematology analyzer. Moreover, the potential mechanism of FFYH against influenza A virus in vivo was also investigated. FFYH showed a broad-spectrum of antiviral activity against H1N1, H3N2, H5N1, H7N9, and H9N2 influenza A viruses. Furthermore, FFYH dose-dependently increased the survival rate, significantly prolonged the median survival time of mice, and markedly reduced lung injury caused by influenza A virus. Also, FFYH significantly improve the sick signs, food taken, weight loss, blood parameters, lung index, and lung pathological changes. Moreover, FFYH could markedly inhibit the inflammatory cytokine expression of TNF-alpha, IL-6, IFN-gamma, IP10, IL-10, and IL-1beta mRNA or protein via inhibition of the TLR7/MyD88/NF-kappaB signaling pathway in vivo. FFYH not only showed a broad-spectrum of anti-influenza virus activity in vitro, but also exhibited a significant protective effect against lethal influenza virus infection in vivo. Furthermore, our results indicated that the in vivo antiviral effect of FFYH against influenza virus may be attributed to suppressing the expression of inflammatory cytokines via regulating the TLR7/MyD88/NF-kappaB signaling pathway. These findings provide evidence for the clinical treatment of influenza A virus infection with FFYH. ']]\n",
      "Path: ('C0026549', 'C1448177', 'C5203670') -> Values: [['Withdrawal from morphine in mice suppresses splenic macrophage function, cytokine production, and costimulatory molecules. We have previously shown that abstinence from morphine by either abrupt (AW) or precipitated (PW) withdrawal induces greater than 80% suppression in the capacity to mount an in vitro plaque-forming cell (PFC) response to sheep red blood cells at 24-h post withdrawal. Present studies on the mechanisms of immunosuppression showed that addition of normal unfractionated spleen cells, macrophage-enriched adherent cells, or CD11b(+) purified macrophages, to spleen cells taken from withdrawn mice, restored immune responses. Spleen cells from mice undergoing withdrawal also had decreased splenic mRNA and/or protein levels of IL-1beta, IL-1Ra, TNF-alpha, IL-12, and IFN-gamma. Addition of IL-1beta or IFN-gamma to AW cultures was able to reverse their immunosuppression. These results strongly suggest that morphine withdrawal results in a deficit of macrophage function. ', 'Repeated morphine treatment-mediated hyperalgesia, allodynia and spinal glial activation are blocked by co-administration of a selective cannabinoid receptor type-2 agonist. Spinal glial activation has been implicated in sustained morphine-mediated paradoxical pain sensitization. Since activation of glial CB2 cannabinoid receptors attenuates spinal glial activation in neuropathies, we hypothesized that CB2 agonists may also attenuate sustained morphine-mediated spinal glial activation and pain sensitization. Our data indicate that co-administration of a CB2-selective agonist (AM 1241) attenuates morphine (intraperitoneal; twice daily; 6 days)-mediated thermal hyperalgesia and tactile allodynia in rats. A CB2 (AM 630) but not a CB1 (AM 251) antagonist mitigated this effect. AM 1241 co-treatment also attenuated spinal astrocyte and microglial marker and pro-inflammatory mediator (IL-1beta, TNFalpha) immunoreactivities in morphine-treated rats, suggesting that CB2 agonists may be useful to prevent the neuroinflammatory consequences of sustained morphine treatment. ', 'Comparative analysis of mu-opioid receptor expression in immune and neuronal cells. Morphine modulates neuronal and immune cell functions via mu-opioid receptors. In primary and Jurkat T cells, and Raji B cells mu-opioid receptor transcripts were detected only after stimulation of the cells with IL-4 or TNF-alpha. Moreover, the amount of the induced mu-opioid receptor mRNA in the immune cells was 15 to 200 times less than those in primary cortical and SH SY5Y neuronal cells. Nevertheless, mu-opioid receptor mRNA in immune cells is processed to functional receptors, as demonstrated by morphine-mediated phosphorylation of mitogen activated protein kinase, morphine-mediated up-regulation of IL-4 mRNA and coupling to adenylyl cyclase in Jurkat cells. '], ['Inflammation and kidney involvement in human viral diseases caused by SARS-CoV-2, HIV, HCV and HBV. Inflammation is closely related to renal diseases. This is particularly true for renal diseases caused by infections as in viral diseases. In this review, we highlight the inflammatory mechanisms that underlie kidney dysfunction in SARS-CoV-2, human immunodeficiency (HIV), hepatitis C (HCV), and hepatitis B (HBV) infections. The pathophysiology of renal involvement in COVID-19 is complex, but kidney damage is frequent, and the prognosis is worse when it happens. Virus-like particles were demonstrated mostly in renal tubular epithelial cells and podocytes, which suggest that SARS-CoV-2 directly affects the kidneys. SARS-CoV-2 uses the angiotensin-converting enzyme 2 receptor, which is found in endothelial cells, to infect the human host cells. Critical patients with SARS-CoV-2-associated acute kidney injury (AKI) show an increase in inflammatory cytokines (IL-1beta, IL-8, IFN-gamma, TNF-alpha), known as cytokine storm that favors renal dysfunction by causing intrarenal inflammation, increased vascular permeability, volume depletion, thromboembolic events in microvasculature and persistent local inflammation. Besides AKI, SARS-CoV-2 can also cause glomerular disease, as other viral infections such as in HIV, HBV and HCV. HIV-infected patients present chronic inflammation that can lead to a number of renal diseases. Proinflammatory cytokines and TNF-induced apoptosis are some of the underlying mechanisms that may explain the virus-induced renal diseases that are here reviewed. ', 'Potential mechanism underlying the effect of matrine on COVID-19 patients revealed through network pharmacological approaches and molecular docking analysis. The clinical efficacy of matrine in treating coronavirus disease (COVID-19) has been confirmed; however, its underlying mechanism of action remains unknown. TCMSP, SwissTargetPrediction, SEA, GeneCards, CTD, and TTD were used to identify potential targets for matrine in SARS-CoV-2. Cytoscape software was used to determine the target-pathway network for topographical analysis. The online STRING analysis platform and Cytoscape were together used to generate a PPI network and for GO and KEGG pathway enrichment analysis. Finally, molecular docking simulations were performed to study matrine-Mpro, matrine-ACE2, and matrine-RdRp interactions. Ten common matrine targets were obtained, particularly including TNF-alpha, IL-6, and CASP3. GO and KEGG pathway enrichment analysis revealed five significantly enriched signalling pathways involved in cell proliferation, apoptosis, programmed cell death, and immune responses. During COVID-19 treatment, matrine regulates viral replication, host cell apoptosis, and inflammation by targeting the TNF-alpha, IL-6, and CASP3 in the TNF signalling pathway. ', \"IFN- gamma and TNF- alpha drive a CXCL10 + CCL2 + macrophage phenotype expanded in severe COVID-19 and other diseases with tissue inflammation. Immunosuppressive and anti-cytokine treatment may have a protective effect for patients with COVID-19. Understanding the immune cell states shared between COVID-19 and other inflammatory diseases with established therapies may help nominate immunomodulatory therapies. Using an integrative strategy, we built a reference by meta-analyzing > 300,000 immune cells from COVID-19 and 5 inflammatory diseases including rheumatoid arthritis (RA), Crohn's disease (CD), ulcerative colitis (UC), lupus, and interstitial lung disease. Our cross-disease analysis revealed that an FCN1 + inflammatory macrophage state is common to COVID-19 bronchoalveolar lavage samples, RA synovium, CD ileum, and UC colon. We also observed that a CXCL10 + CCL2 + inflammatory macrophage state is abundant in severe COVID-19, inflamed CD and RA, and expresses inflammatory genes such as GBP1, STAT1 , and IL1B . We found that the CXCL10 + CCL2 + macrophages are transcriptionally similar to blood-derived macrophages stimulated with TNF- alpha and IFN- gamma ex vivo . Our findings suggest that IFN- gamma , alongside TNF- alpha , might be a key driver of this abundant inflammatory macrophage phenotype in severe COVID-19 and other inflammatory diseases, which may be targeted by existing immunomodulatory therapies. \"]]\n",
      "Path: ('C0026549', 'C0042679', 'C5203670') -> Values: [['Impact of anti-cancer drugs and other determinants on serum protein binding of morphine 6-glucuronide. The aim of the present study was to examine factors that may influence the protein binding of morphine 6-glucuronide (M6G), the most active metabolite of morphine. An enzyme-linked immunoabsorbent assay technique was used to measure the M6G concentration in serum of 18 healthy adults, 18 neonatal and 7 children with cancer. Total and free M6G concentrations were measured following equilibrium dialysis for 3 hrs and at physiological pH at 37 degrees C. The influence of vincristine, methotrexate, 6-mercaptopurine, morphine, human albumin, alpha-1-acid glycoprotein, palmitic acid, oleic acid and pH on M6G protein binding was examined. M6G was 66.87+/-0.73 percent free in human serum at physiological pH and temperature. The percentage free (unbound) was increased significantly by vincristine (4.33%) and methotrexate (9.68%), but 6- mercaptopurine and morphine had no significant effect on it. Free percentages of M6G was reduced by decreasing serum albumin concentration but was unaffected by the presence of alpa-1-acid glycoprotein (AAG) or changes in serum pH. Similar results were obtained in human serum albumin (HAS) solutions. Addition of palmitic acid and oleic acid reduced protein binding significantly by 6.3% and 7.4%, respectively. Although M6G in this study was not highly bounded, but because of its high analgesic potency, any change in its free concentration due to concurrent medication or disease caused significant changes in its effects. This dearth of evidence has been implicated in the reluctance of professionals to be cautious in prescribing them to children, particularly in the neonatal period. ', 'Crystal structure of vinorine synthase, the first representative of the BAHD superfamily. Vinorine synthase is an acetyltransferase that occupies a central role in the biosynthesis of the antiarrhythmic monoterpenoid indole alkaloid ajmaline in the plant Rauvolfia. Vinorine synthase belongs to the benzylalcohol acetyl-, anthocyanin-O-hydroxy-cinnamoyl-, anthranilate-N-hydroxy-cinnamoyl/benzoyl-, deacetylvindoline acetyltransferase (BAHD) enzyme superfamily, members of which are involved in the biosynthesis of several important drugs, such as morphine, Taxol, or vindoline, a precursor of the anti-cancer drugs vincaleucoblastine and vincristine. The x-ray structure of vinorine synthase is described at 2.6-angstrom resolution. Despite low sequence identity, the two-domain structure of vinorine synthase shows surprising similarity with structures of several CoA-dependent acyltransferases such as dihydrolipoyl transacetylase, polyketide-associated protein A5, and carnitine acetyltransferase. All conserved residues typical for the BAHD family are found in domain 1. His160 of the HXXXD motif functions as a general base during catalysis. It is located in the center of the reaction channel at the interface of both domains and is accessible from both sides. The channel runs through the entire molecule, allowing the substrate and co-substrate to bind independently. Asp164 points away from the catalytic site and seems to be of structural rather than catalytic importance. Surprisingly, the DFGWG motif, which is indispensable for the catalyzed reaction and unique to the BAHD family, is located far away from the active site and seems to play only a structural role. Vinorine synthase represents the first solved protein structure of the BAHD superfamily. ', 'A Rare Case of Vincristine-Induced Neuropathy Presenting as Foot Drop in the Postoperative Period. Patients with cancer receiving chemotherapy are at risk of neuropathy development. Many of them may have subclinical neuropathies, which may be missed before planning anesthesia, especially in emergency scenarios. This case report highlights the importance of a thorough neurologic examination in patients with subclinical neuropathy to avoid any complications and medicolegal issues. A patient with a diagnosis of diffuse large B-cell lymphoma being treated with vincristine-based chemotherapy was scheduled for an emergency laparotomy. There was no history of any neurologic deficit before surgery. The surgery was done using general anesthesia, and intrathecal morphine was given for postoperative analgesia. This patient experienced bilateral foot drop postoperatively. A bilateral lower limb and upper limb sensory-motor neuropathy was detected on a nerve conduction study, probably due to vincristine-induced peripheral neuropathy. The literature is deficient regarding manifestations of neurologic complications in previously asymptomatic patients in the immediate postoperative period. These patients pose a diagnostic dilemma perioperatively that may lead to medicolegal challenges to the anesthesia provider. Anesthesia providers should be wary of the possibility of exacerbation of any subclinical neuropathy in patients with cancer receiving neurotoxic chemotherapy and should probably avoid any neuraxial intervention in such patients if possible. '], ['Lymphocyte-to-C-Reactive Protein Ratio: A Novel Predictor of Adverse Outcomes in COVID-19. Systemic inflammation elicited by a cytokine storm is considered a hallmark of coronavirus disease 2019 (COVID-19). This study aims to assess the validity and clinical utility of the lymphocyte-to-C-reactive protein (CRP) ratio (LCR), typically used for gastric carcinoma prognostication, versus the neutrophil-to-lymphocyte ratio (NLR) for predicting in-hospital outcomes in COVID-19. A retrospective cohort study was performed to determine the association of LCR and NLR with the need for invasive mechanical ventilation (IMV), dialysis, upgrade to an intensive care unit (ICU) and mortality. Independent t-test and multivariate logistic regression analysis were performed to calculate mean differences and adjusted odds ratios (aORs) with its 95% confidence interval (CI), respectively. The mean age for NLR patients was 63.6 versus 61.6, and for LCR groups, it was 62.6 versus 63.7 years, respectively. The baseline comorbidities across all groups were comparable except that the higher LCR group had female predominance. The mean NLR was significantly higher for patients who died during hospitalization (19 vs. 7, P <= 0.001) and those requiring IMV (12 vs. 7, P = 0.01). Compared to alive patients, a significantly lower mean LCR was observed in patients who did not survive hospitalization (1,011 vs. 632, P = 0.04). For patients with a higher NLR (> 10), the unadjusted odds of mortality (odds ratios (ORs) 11.0, 3.6 - 33.0, P < 0.0001) and need for IMV (OR 3.3, 95% CI 1.4 - 7.7, P = 0.008) were significantly higher compared to patients with lower NLR. By contrast, for patients with lower LCR (< 100), the odds of in-hospital all-cause mortality were significantly higher compared to patients with a higher LCR (OR 0.2, 0.06 - 0.47, P = 0.001). The aORs controlled for baseline comorbidities and medications mirrored the overall results, indicating a genuinely significant correlation between these biomarkers and outcomes. A high NLR and decreased LCR value predict higher odds of in-hospital mortality. A high LCR at presentation might indicate impending clinical deterioration and the need for IMV. ', 'COVID-19 pneumonia in a patient with adult T-cell leukemia-lymphoma. Although some patients with COVID-19 develop only mild symptoms, fatal complications have been observed among those with comorbidities. As patients with cancer are immunocompromised, they are thought to have a high risk of severe illness associated with COVID-19. We report a COVID-19 patient with adult T-cell leukemia-lymphoma (ATL) who was treated using favipiravir. A 69-year-old woman with lymphoma-type ATL was treated using cyclophosphamide, doxorubicin, vincristine, prednisolone and mogamulizumab (M-CHOP) with substantial efficacy. However, in cycle 4 of M-CHOP therapy, she developed fever with mild cough. The patient was admitted to the hospital and CT revealed bilateral ground-glass opacities. SARS-CoV-2 was detected by RT-PCR and the patient was diagnosed with COVID-19. Considering severe immunosuppression caused by ATL, we initiated favipiravir therapy. Subsequently, the fever improved without antipyretics and her C-reactive protein level decreased rapidly. SARS-CoV-2 PCR tests were negative on days 17 and 18 of favipiravir therapy, and the patient was discharged without residual disease on the final CT. This is the first documented case of COVID-19 in a patient with ATL. Although severe immunosuppression caused by ATL was present, severe COVID-19 pneumonia did not develop. The immunosuppressed condition caused by hematological malignancy may not always be a risk factor for severe illness associated with COVID-19. Further accumulation of data regarding COVID-19 in patients with hematological malignancies is warranted to clarify the risk factors for severe illness, the best-in-class antiviral agent, and the optimal treatment strategy in this population. ', 'Clinical Profiles, Characteristics, and Outcomes of the First 100 Admitted COVID-19 Patients in Pakistan: A Single-Center Retrospective Study in a Tertiary Care Hospital of Karachi. Background and objective COVID-19 is a highly disseminating viral disease imparted by severe acute respiratory syndrome coronavirus 2 (SARS-COV-2), which was declared a global pandemic by the World Health Organization. In our study, we aimed to describe the clinical characteristics of the first 100 hospitalized patients of confirmed COVID-19 in a developing country. Materials and methods The study included all the admitted patients (n = 100) having COVID-19 polymerase chain reaction (PCR) positive, and evaluated clinical profiles and characteristics of the patients linking to disease severity. Results Out of the 100 patients, 67 were in the ward, 33 were in ICU, 78 of them recovered, while 22 deaths reported. The mean age was 52.58 +/- 15.68, with most frequent comorbidities are diabetes and hypertension while frequent symptoms are fever and dry cough. Bilateral lower zone patchy infiltrates are frequent chest radiographic findings. Amongst the patients admitted in ICU, there were significant differences in the total leukocyte count (P = 0.001), neutrophils and lymphocytes (P =< 0.001), monocytes (P = 0.027), urea (P =< 0.001), creatinine (P = 0.002), neutrophil-to-lymphocyte ratio (NLR) and platelet-to-lymphocyte ratio (PLR) increasing with disease severity, lymphocyte-to-monocyte ratio (LMR) and lymphocyte-to-C-reactive protein ratio (LCR) decreasing with mortalities. Gamma-glutamyl transferase (GGT) followed by aspartate aminotransferase (AST) are frequent hepatic derangements, while C-reactive protein (CRP) levels predicting ICU admission with area under the curve (AUC): 0.806, positive predictive value (PPV): 85.1% and lactate dehydrogenase (LDH) predicting mortality with AUC: 0.877, PPV: 97.3%, while NLR (AUC: 0.806, PPV: 95.8%) for mortality and neutrophils (AUC: 0.773, PPV: 87.5%) for ICU patients. Conclusion A number of factors are linked with disease severity and mortality along with dynamic changes of the laboratory investigations during hospital stay affecting prognosis. ']]\n",
      "Path: ('C0026549', 'C0011777', 'C5203670') -> Values: [['2-Allylphenol Reduces IL-1beta and TNF-alpha, Promoting Antinociception through Adenosinergic, Anti-Inflammatory, and Antioxidant Mechanisms. 2-Allylphenol (2-AP) is a synthetic phenylpropanoid, structurally related to cardanol, thymol, and ortho-eugenol. Phenylpropanoids are described in the literature as being capable of promoting biological activity. Due to the similarity between 2-AP and other bioactive phenylpropanoids, the present research aims at evaluating the antioxidant, antinociceptive, and anti-inflammatory potential of 2-AP in silico, in vitro, and in vivo. At 30 min prior to the start of in vivo pharmacological testing, administration of 2-AP (25, 50, 75, and 100 mg/kg i.p.), morphine (6 mg/kg i.p.), dexamethasone (2 mg/kg s.c.), or vehicle alone was performed. In the acetic acid-induced abdominal writhing tests, pretreatment with 2-AP significantly reduced the number of abdominal writhes, as well as decreased licking times in the glutamate and formalin tests. Investigation of the mechanism of action using the formalin model led to the conclusion that the opioid system does not participate in its activity. However, the adenosinergic system is involved. In the peritonitis tests, 2-AP inhibited leukocyte migration and reduced releases of proinflammatory mediators TNF-alpha and IL-1beta. In vitro antioxidant assays demonstrated that 2-AP presents significant ability to sequester superoxide radicals. In silico docking studies confirmed interaction between 2-AP and the adenosine A2a receptor through hydrogen bonds with the critical asparagine 253 residues present in the active site. Investigation of 2-AP demonstrated its nociception inhibition and ability to reduce reactive oxygen species. Its interaction with A2a receptors may well be related to proinflammatory cytokines TNF-alpha and IL-1beta reduction activity, corroborating its antinociceptive effect. ', 'A comparison of dexamethasone, ondansetron, and dexamethasone plus ondansetron as prophylactic antiemetic and antipruritic therapy in patients receiving intrathecal morphine for major orthopedic surgery. In a prospective, double-blinded, randomized trial, we evaluated the efficacy of IV (a) dexamethasone 8 mg, (b) ondansetron 8 mg, and (c) dexamethasone 8 mg plus ondansetron 4 mg for the prevention of postoperative nausea, vomiting (PONV), and pruritus in 130 (ASA physical status I to III) patients undergoing elective major orthopedic surgery after spinal anesthesia with hyperbaric 0.5% bupivacaine and intrathecal morphine. After spinal anesthesia, patients were randomized to one of three groups. Failure of PONV prophylaxis in the 24-h postoperative period occurred more frequently in patients who received dexamethasone alone (29 of 40; 73%) compared with those who received either ondansetron alone (23 of 47; 49%) (P = 0.02) or dexamethasone plus ondansetron together (19 of 43; 44%)(P = 0.01). There was no difference in the incidence of failure of prophylaxis of pruritus (70%, 72%, and 70% in dexamethasone 8 mg, ondansetron 8 mg, and dexamethasone 8 mg plus ondansetron 4 mg, respectively) (P > 0.1) in the 24-h postoperative period. We conclude that the administration of dexamethasone 8 mg with ondansetron 4 mg has no added benefit compared with ondansetron 8 mg alone in the prophylaxis of PONV and pruritus. Postoperative nausea and vomiting (PONV) and pruritus are common side effects after spinal opioid administration. In this study, dexamethasone 8 mg plus ondansetron 4 mg was as effective as ondansetron 8 mg. The administration of dexamethasone alone was associated with a frequent incidence of PONV, demonstrating a lack of efficacy. This has important cost implications. ', 'Acceptable effect of multimodal analgesic treatment after a Bascom cleft lift operation. Information on multimodal analgesic efficacy in patients undergoing a Bascom cleft lift operation is limited. The aim of this prospective consecutive study was to evaluate early post-operative pain in patients receiving a standardised multimodal analgesic regimen. A total of 48 patients undergoing a Bascom cleft lift operation were included over an 8-month period in a day-case set-up. The operation was performed under saddle block. In addition, patients received a standardised multi-modal analgesic regimen consisting of gabapentin, ketorolac, dexamethasone, acetaminophen (paracetamol) and ibuprofen. The intensity of pain was registered preoperatively and at 2, 24, 48 h, and 30 days post-operatively. Nausea, vomiting, dizziness, ability to void, morphine consumption and post-anaesthesia care unit (PACU) time were registered. Thirty patients were available for analysis. Post-operative visual analogue scale pain scores were low (at 2, 24, and 48 h (median values: 0 (range: 0-40), 25 (0-70), and 30 (0-60), respectively), but changed significantly over time (p < 0.001). The median overall morphine consumption was 0 (range: 0-30). None of the patients experienced vomiting or dizziness. Only two patients reported mild nausea during the stay in the PACU. This study suggests that the Bascom cleft lift operation is feasible with minimal post-operative pain when using a multimodal analgesic regimen together with saddle block. not relevant. ClinicalTrials.gov: NCT02196727. Regional Ethics Committee Reg. no.: H-3-2013-073. Danish Data Protection Agency Reg. no.: HVH-2013-031, with I-Suite no.: 02408. '], ['Essential medicine selection during the COVID-19 pandemic: Enabling access in uncharted territory. The COVID-19 pandemic requires urgent decisions regarding treatment policy in the face of rapidly evolving evidence. In response, the South African Essential Medicines List Committee established a subcommittee to systematically review and appraise emerging evidence, within very short timelines, in order to inform the National Department of Health COVID-19 treatment guidelines. To date, the subcommittee has reviewed 14 potential treatments, and made recommendations based on local context, feasibility, resource requirements and equity. Here we describe the rapid review and evidence-to-decision process, using remdesivir and dexamethasone as examples. Our experience is that conducting rapid reviews is a practical and efficient way to address medicine policy questions under pandemic conditions. ', 'Bringing evidence from press release to the clinic in the era of COVID-19. The urgent need to develop effective therapeutics and disseminate information from clinical studies has led to data from clinical trials being made available by alternate methods prior to peer-reviewed publication, including press releases, social media and pre-print papers. While this allows clinicians more open access to these data, a trust has to be placed with the investigators releasing these data without the availability of scientifically rigorous peer review. The examples of results from trials studying dexamethasone and hydroxychloroquine for treatment of COVID-19 have had contrasting outcomes, including the potential for significant numbers of lives saved with the early release of results from the RECOVERY trial studying dexamethasone contrasting with unsubstantiated data being presented from trials studying hydroxychloroquine. Clinicians and researchers must maintain a healthy scepticism when reviewing results prior to peer-reviewed publication, but also consider when these opportunities may allow for early implementation of potentially lifesaving interventions for people infected with COVID-19. ', \"Treatment of moderate to severe respiratory COVID-19: a cost-utility analysis. Despite COVID-19's significant morbidity and mortality, considering cost-effectiveness of pharmacologic treatment strategies for hospitalized patients remains critical to support healthcare resource decisions within budgetary constraints. As such, we calculated the cost-effectiveness of using remdesivir and dexamethasone for moderate to severe COVID-19 respiratory infections using the United States health care system as a representative model. A decision analytic model modelled a base case scenario of a 60-year-old patient admitted to hospital with COVID-19. Patients requiring oxygen were considered moderate severity, and patients with severe COVID-19 required intubation with intensive care. Strategies modelled included giving remdesivir to all patients, remdesivir in only moderate and only severe infections, dexamethasone to all patients, dexamethasone in severe infections, remdesivir in moderate/dexamethasone in severe infections, and best supportive care. Data for the model came from the published literature. The time horizon was 1 year; no discounting was performed due to the short duration. The perspective was of the payer in the United States health care system. Supportive care for moderate/severe COVID-19 cost $11,112.98 with 0.7155 quality adjusted life-year (QALY) obtained. Using dexamethasone for all patients was the most-cost effective with an incremental cost-effectiveness ratio of $980.84/QALY; all remdesivir strategies were more costly and less effective. Probabilistic sensitivity analyses showed dexamethasone for all patients was most cost-effective in 98.3% of scenarios. Dexamethasone for moderate-severe COVID-19 infections was the most cost-effective strategy and would have minimal budget impact. Based on current data, remdesivir is unlikely to be a cost-effective treatment for COVID-19. \"]]\n",
      "Path: ('C0026549', 'C0014563', 'C5203670') -> Values: [['A combined chest drain and intrapleural catheter for post-thoracotomy pain relief. This study examined the effectiveness of a new type of chest drain, which incorporates an additional lumen within its wall to facilitate the administration of intrapleural bupivacaine. Nine patients who received a bolus dose of 1.5 mg.kg-1 bupivacaine with 1:200,000 adrenaline through this chest drain used less morphine, and had lower visual analogue pain scores in the first 6 h after thoracotomy than patients in whom a standard chest drain had been used. Bupivacaine levels were found to be within safe limits in all patients. ', 'The Chitranjan Ranawat Award: Periarticular injections and femoral & sciatic blocks provide similar pain relief after TKA: a randomized clinical trial. Two of the more common methods of pain management after TKA are peripheral nerve blocks and intraarticular/periarticular injections. However, we are not aware of any study directly comparing the commonly used combination of a continuous femoral block given with a single-shot sciatic block with that of a periarticular injection after TKA. This randomized clinical trial compared a combined femoral and sciatic nerve block with periarticular injection as part of a multimodal pain protocol after total knee arthroplasty with respect to (1) pain; (2) narcotic use; (3) quadriceps function and length of stay; and (4) peripheral nerve complications. One hundred sixty patients completed randomization into two treatment arms: (1) peripheral nerve blocks (PNB; n=79) with an indwelling femoral nerve catheter and a single shot sciatic block; or (2) periarticular injection (PAI; n=81) using ropivacaine, epinephrine, ketorolac, and morphine. All patients received standardized general anesthesia and oral medications. The primary outcome was postoperative pain, on a 0 to 10 scale, measured on the afternoon of postoperative day 1 (POD 1). Secondary outcomes were narcotic use, quadriceps function, length of stay, and peripheral nerve complications. Mean pain scores on the afternoon of POD 1 were not different between groups (PNB group: 2.9 [SD 2.4]; PAI group: 3.0 [SD 2.2]; 95% confidence interval, -0.8 to 0.6; p=0.76). Mean pain scores taken at three times points on POD 1 were also similar between groups. Hospital length of stay was shorter for the PAI group (2.44 days [SD 0.65] versus 2.84 days [SD 1.34] for the PNB group; p=0.02). Narcotic consumption was higher the day of surgery for the PAI group (PAI group: 11.7 mg morphine equivalents [SD 13.1]; PNB group: 4.6 mg [SD 9.1]; p<0.001), but thereafter, there was no difference. More patients in the PNB group had sequelae of peripheral nerve injury (mainly dysesthesia) at 6-week followup (nine [12%] versus one [1%]; p=0.009). Patients receiving periarticular injections had similar pain scores, shorter lengths of stay, less likelihood of peripheral nerve dysesthesia, but greater narcotic use on the day of surgery compared with patients receiving peripheral nerve blocks. Periarticular injections provide adequate pain relief, are simple to use, and avoid the potential complications associated with nerve blocks. Level I, therapeutic study. See Guidelines for Authors for a complete description of levels of evidence. ', \"Morphine-3-glucuronide: hyperglycemic and neuroendocrine potentiating effects. The greater potency of morphine-6-glucuronide (M6G) as well as the inactivity of morphine-3-glucuronide (M3G) with respect to the antinociceptive effects of the parent molecule, morphine (MOR), have been well established. It has been suggested that M3G is an antagonist of MOR's antinociceptive and respiratory depressive effects. The present study addressed the central nervous system (CNS) interaction of these opiate metabolites on their metabolic and hormonal effects. Whole body glucose kinetics were assessed on conscious, chronically catheterized, unrestrained rats. M3G (5 microg) or H2O (5 microl) was injected intracerebroventricularly (i.c.v.) 15 min prior to the bolus administration of H2O (5 microl), M6G (1 microg), or MOR (80 microg). i.c.v. M3G (5 microg) resulted in behavioral excitation, hyperglycemia (+50%), stimulation of glucose rate of appearance (Ra; +100%), glucose rate of disappearance (Rd; +70%), and metabolic clearance rate (MCR; +33%) within 30 min after injection with no alterations in hormone concentrations. i.c.v. M6G and MOR produced progressive hyperglycemia with significantly high catecholamine and corticosterone levels. M3G pretreatment resulted in enhanced elevations in plasma glucose levels (+52% and + 18%), plasma lactate (+138% and +108%), norepinephrine (+96% and +30%), and epinephrine (+62% and +67%) in response to both i.c.v. MOR and M6G administration. These findings suggest a non-opiate and non-hormonal mechanism for M3G-induced hyperglycemia. In contrast, the metabolic and hormonal responses to i.c.v. M6G and MOR are associated with elevations in catecholamine and corticosterone levels. which are remarkably enhanced by M3G pretreatment, most likely through accelerated catecholamine release. Our findings suggest a modulatory role for MOR glucuronidation, not only by rendering it inactive, as in the case of M3G, but by an interplay of the metabolic effects of the parent molecule and its metabolite. \"], ['Extracorporeal Membrane Oxygenation for COVID-19-Associated Multisystem Inflammatory Syndrome in a 5-year-old. Severe acute respiratory distress syndrome coronavirus 2 (SARS-CoV-2) is associated with multisystem inflammatory syndrome in children (MIS-C) that ranges from mild symptoms to cardiopulmonary collapse. A 5-year-old girl presented with shock and a rapid decline in left ventricular function requiring intubation. SARS-CoV-2 was diagnosed by viral Polymerase Chain Reaction (PCR), and she received remdesivir and COVID-19 convalescent plasma. Initial echocardiogram (ECHO) demonstrated low normal left ventricular function and mild left anterior descending coronary artery dilation. She remained hypotensive, despite high-dose epinephrine and norepinephrine infusions as well as stress-dose hydrocortisone. Admission SARS-CoV-2 IgG assay was positive, meeting the criteria for MIS-C. An ECHO 9 hours after admission demonstrated a severe decline in left ventricular function. Due to severe cardiogenic shock, she was cannulated for venoarterial extracorporeal support (ECMO). During her ECMO course, she was treated with remdesivir, intravenous methylprednisolone, intravenous immunoglobulin, and anakinra. She was decannulated on ECMO day 7, extubated the following day, and discharged home 2 weeks later without respiratory or cardiac support. The use of ECMO for cardiopulmonary support for pediatric patients with MIS-C is feasible and should be considered early as part of the treatment algorithm for patients with severe cardiopulmonary dysfunction. ', 'Acute myocarditis and multisystem inflammatory emerging disease following SARS-CoV-2 infection in critically ill children. A recent increase in children admitted with hypotensive shock and fever in the context of the COVID-19 outbreak requires an urgent characterization and assessment of the involvement of SARS-CoV-2 infection. This is a case series performed at 4 academic tertiary care centers in Paris of all the children admitted to the pediatric intensive care unit (PICU) with shock, fever and suspected SARS-CoV-2 infection between April 15th and April 27th, 2020. 20 critically ill children admitted for shock had an acute myocarditis (left ventricular ejection fraction, 35% (25-55); troponin, 269 ng/mL (31-4607)), and arterial hypotension with mainly vasoplegic clinical presentation. The first symptoms before PICU admission were intense abdominal pain and fever for 6 days (1-10). All children had highly elevated C-reactive protein (> 94 mg/L) and procalcitonin (> 1.6 ng/mL) without microbial cause. At least one feature of Kawasaki disease was found in all children (fever, n = 20, skin rash, n = 10; conjunctivitis, n = 6; cheilitis, n = 5; adenitis, n = 2), but none had the typical form. SARS-CoV-2 PCR and serology were positive for 10 and 15 children, respectively. One child had both negative SARS-CoV-2 PCR and serology, but had a typical SARS-CoV-2 chest tomography scan. All children but one needed an inotropic/vasoactive drug support (epinephrine, n = 12; milrinone, n = 10; dobutamine, n = 6, norepinephrine, n = 4) and 8 were intubated. All children received intravenous immunoglobulin (2 g per kilogram) with adjuvant corticosteroids (n = 2), IL 1 receptor antagonist (n = 1) or a monoclonal antibody against IL-6 receptor (n = 1). All children survived and were afebrile with a full left ventricular function recovery at PICU discharge. Acute myocarditis with intense systemic inflammation and atypical Kawasaki disease is an emerging severe pediatric disease following SARS-CoV-2 infection. Early recognition of this disease is needed and referral to an expert center is recommended. A delayed and inappropriate host immunological response is suspected. While underlying mechanisms remain unclear, further investigations are required to target an optimal treatment. ', 'Acute Epiglottitis Due to COVID-19 Infection. A 53-year-old man presented acutely to the Accident and Emergency department with a 2-day history of progressive odynophagia and shortness of breath. The patient had stridor at rest and acute epiglottitis was suspected. The patient was transferred urgently to theatre for intubation but due to a severely oedematous airway, this was unsuccessful and emergency tracheotomy was performed by the ENT team. Throughout admission the only positive microbiological sample was a nasopharyngeal swab for SARS-CoV-2 infection. In the absence of other positive microbiology, it is highly likely that COVID-19 was the aetiological cause of acute epiglottitis in this instance. COVID-19 infection is a novel disease with multiple presentations; it should be considered as a possible causative organism in patients presenting with acute epiglottitis.Due to the time delay in taking samples for microbiology and results being available, treatment should be commenced with antibiotics, nebulised adrenaline and steroids to cover bacterial infection. Presentation can occur following a delayed inflammatory response and treatment should target the organ system involved. ']]\n",
      "Path: ('C0026549', 'C0009079', 'C5203670') -> Values: [['Olanzapine- and clozapine-induced stuttering. A case series. Drug-induced stuttering has been described in association with several drugs, in particular antidepressants and low-potency neuroleptics. Here we describe a case series of stuttering induced by the atypical neuroleptics olanzapine and clozapine. Patients receiving neuroleptic treatment were carefully screened for stuttering as a possible side effect. We have studied all patients in the outpatient department (800 per year) as well as most inpatients (1300 per year) within 3 years. Seven cases of drug-induced stuttering were observed. Six patients suffered from stuttering in association with olanzapine treatment, and one received clozapine. Stuttering arose on average 2-21 days after initiation of treatment and ceased 2-5 days after discontinuation. Most patients suffered from additional diseases, such as brain pathology due to cortical atrophy or celiac disease, or received concomitant medication (i.e. intrathecal morphine pump). Our case series suggests that the atypical neuroleptic olanzapine can induce stuttering in the absence of a history of stuttering without accompanying akathisia or general decline of function. It appears that preexisting brain pathology or concomitant anti-depressant medication might predispose some patients to this side effect. ', 'Effects of clozapine and sulpiride on morphine state-dependent memory in the step-down passive avoidance test. The effects of antipsychotic drugs sulpiride and clozapine on morphine state-dependent memory of passive avoidance task were examined in mice. Post-training administration of morphine (5 mg/kg) led to state-dependent learning with impaired memory retrieval on the test day which was reversed by pre-test administration of the same dose of the opioid (5 mg/kg). In animals where memory was impaired by post-training morphine, the administration of either sulpiride or clozapine before pre-test morphine reduced the improvement of memory produced by the opioid. Co-administration of sulpiride with clozapine did not potentiate their antagonistic response. In conclusion, the inhibition of improvement of memory retrieval by morphine treatment on the test day by the two dopamine receptor antagonists seems to be induced through two different receptor mechanisms. ', 'Blockade of cannabinoid (CB1) receptors by 141716 selectively antagonizes drug-induced reinstatement of exploratory behaviour in gerbils. A cannabinoid hypothesis of schizophrenia has been proposed according to which cognitive dysfunction could be associated with dysregulation of an endogenous cannabinoid system. The present study investigated whether SR 141716, a selective CB1 receptor antagonist, was able to reduce the hyperactivity induced in gerbils by various stimulant drugs known to produce or exacerbate schizophrenic symptoms. Cocaine, d-amphetamine, morphine, and Win 55212-2 were administered intraperitoneally (IP) either immediately before placing the animals in the test apparatus (non-habituated gerbils) or after a 2- to 3-h habituation period in the actimeter (habituated gerbils). SR 141716 was given IP 30 min before the injection of stimulant drugs. Horizontal activity was recorded every 10 min for 1 h in Digiscan activity monitor. SR 141716 (0.3-3 mg/kg) dose-dependently suppressed the enhanced locomotor activity induced by each stimulant drug in habituated gerbils, but not in non-habituated animals. Clozapine, an atypical antipsychotic compound, but not haloperidol, shared with SR 141716, the ability to differentially affect drug-induced hyperactivity in habituated versus non-habituated gerbils. The activation of cannabinoid systems is a required, permissive element in the ability of cocaine, d-amphetamine, morphine, and Win 55212-2 to reinstate behaviour, i.e., to override stimulus satiation. '], ['Psychoses by Attacks from Subverted Mast Cells: A Role for Arterial Intramural Flow Badly Steered by the Nasal Ganglia? Mechanisms of cortical psychoses are approached by complementing big data-driven genetics and imaging with a putatively subverted neurovascular \"reverse plumbing\" by arteries. The \"cortical spread\" of grey matter loss in schizophrenia and the mid-pericallosal \"congestion\" in fMRI of periodic catatonia - treatable electromagnetically along arteries - are interpreted in terms of the fastest interstitial outflow through the Cerebral IntraMural Reverse Arterial Flow-engine (CIMURAF, Treviranus 2018-19) draining \"waste\" via arterio-adventitial lymphatics to the neck. Such repetitively sliding segments of CIMURAF are wrung downstream by muscles likely steered by the neurovascular pterygopalatine ganglion. At the pericallosal artery, along its ideal long straight segment, this likely happens diverging from the mid-callosum towards the front and the back. In the case of a convergent inversion a mid-callosal clash will result, which is observable in psychoses as a mid-callosal high-flow-spot simultaneously with hyper-perfusions of branches and \"backwatering\" of pial vessels with reactive waste - till date interpreted psycho-mathematically. CIMURAF might also accelerate the perivascular intrusion of MCs by flushing autocrine signals (of which electro-magnetism moves the dipoles) through a putative periadventitial counter-current. Psychoses plausible occur through tryptase-mediated attacks operated by mast cells against oligodendrocytes\\' cytoskeleton (Medic 2009) and probably via complement-4 (Schizophrenia WG, 2014) against neurons. Usually MCs are essential long-lived \"orchestrators\" of homeostases and immune or barrier defences interacting with nerves, immunocytes, organs, and routes. MCs after somatic programming as to \"destination & destiny\" (Treviranus 2017a, 6.2., 2018) rapidly intrude also into the brain\\'s parenchyma, first within the lymphatics and then putatively by crossing-over to extraluminal arterial routes. MCs transverse the BBBs, while macrophages only trespass in \"disease\" (Faraco et al. 2017). Both can be \"subverted\" by a list of microbes (and putatively blown up by COVID-19 within walls). Enuresis and MCs\\' reactions to clozapine add to the interactive support from (epi-)genetics and imaging. ', 'Clozapine prescribing in COVID-19 positive medical inpatients: a case series. There is both uncertainty regarding the safety of clozapine in COVID-19 patients owing to limited published data and a lack of consensus on continuing clozapine in patients with severe respiratory infections. COVID-19 is known to induce an acute immune response which can affect haematological parameters associated with clozapine monitoring, and systemic infection may reduce clozapine clearance. Clozapine, which has been associated with worse outcomes in some pneumonias, may in theory worsen outcomes in COVID-19. Despite these concerns, there are some data to indicate it is safe to continue clozapine in COVID-19 infection. In this retrospective case series, we describe our experiences of clozapine prescribing and disease progression of eight SARS-CoV-2 positive patients on medical wards in a major London teaching hospital. In four cases clozapine was stopped during the hospital admission. A COVID-19 pneumonia developed in four patients: three of these required intensive care unit admission for an average of 34 days. At the time of writing, three patients had died (two directly from COVID-19 pneumonia), two remained in general hospital wards, two were recovering in the community and one had been transferred to an inpatient psychiatric hospital. Follow-up length varied but in each case was not more than 104 days. Delirium was the most common adverse neuropsychiatric event, and in one case a relapse of psychosis occurred after cessation of clozapine. This retrospective case series illustrates the safe use of clozapine during COVID-19 infection. Our experiences suggest that consideration should be made to continuing clozapine even in those most unwell with COVID-19. We also identify areas which require larger scale hypothesis-testing research. ', \"Challenges in Prescribing Clozapine in the Era of COVID-19: A Review Focused on Immunological Implications. The global COVID-19 pandemic has disrupted every aspect of the healthcare system. Apart from the issues surrounding COVID-19 itself, care for existing patients has met many challenges. One such challenge is caring for patients who are on clozapine treatment and have been confirmed positive for COVID-19. Schizophrenia has been considered to have a deep connection with the immune system, and clozapine can induce further changes in this system. COVID-19 can ravage the compromised immune system and aggravate tissue damage. The intricate relations between schizophrenia, clozapine, and COVID-19 make it difficult to predict the clinical course of COVID-19 in clozapine-treated patients. However, the rigid prohibition on using clozapine if COVID-19 is confirmed may harm patients. Patients who have to use clozapine are often refractory cases with no alternatives. Therefore, the decision to maintain or stop clozapine must be made after a comprehensive review of the patient's unique situation. To do this, theoretical and practical issues surrounding the use of clozapine in COVID-19 should be reviewed and discussed. In this review, we gather useful information surrounding this issue and present an overview. Focusing on the immune system, various theoretical possibilities that could arise from schizophrenia, clozapine, and COVID-19 were carefully examined, and practical checklists for the care of these patients were explored. It is hoped that this review will convince many clinicians to pay attention to this momentous issue and facilitate more active sharing of clinical experiences. \"]]\n",
      "Path: ('C0026549', 'C2976303', 'C5203670') -> Values: [['Direct-acting antiviral interactions with opioids, alcohol or illicit drugs of abuse in HCV-infected patients. The hepatitis C virus (HCV) prevalence is extremely high in patients who consume and inject illicit drugs. Concerns about poor adherence and fear of interaction with drugs of abuse could constitute further disincentive for treatment initiation in these patients. We discussed the pharmacokinetics (PKs) and pharmacodynamics (PD) of currently prescribed direct antiviral agents (NSA5 inhibitors: daclatasvir, elbasvir, ledipasvir, pibrentasvir, velpatasvir; NS5B inhibitor: sofosbuvir; NS3/4A protease inhibitors: glecaprevir, grazoprevir, voxilaprevir) and most common substances of abuse (opioids: buprenorphine, fentanyl, heroin, methadone, morphine, oxycodone; stimulants: amphetamines, cathinones, cocaine; cannabinoids; ethanol). Overall, most direct-acting antivirals (DAAs) are substrates and inhibitors of the transmembrane transporter P-glycoprotein (P-gp), and several of them are metabolized by cytochrome P450 enzymes. Clinically relevant interactions are associated with P-gp and CYP3A modulators. Most substances of abuse are eliminated by Phase I and Phase II metabolizing enzymes, but none of them are either major inhibitors or inducers. PK studies did not show any relevant interactions between DAA and methadone or buprenorphine. Based on pharmacological considerations, neither efficacy loss nor adverse drug event associated with detrimental interaction are expected with opioids, stimulants, cannabinoids and ethanol. In summary, our literature review shows that the interaction potential of DAA with most opioids and illicit drugs is limited and should not be a hurdle to the initiate DAA. '], ['Small-molecule antiviral agents in ongoing clinical trials for COVID-19. The coronavirus disease 2019 (COVID-19) pandemic, due to the novel severe acute respiratory syndrome coronavirus 2 (SARS-CoV-2), emerged in December 2019 and has rapidly spread globally. As the confirmed number of cases has reached to 83 million worldwide, the potential severity and the deadly complications of the disease requires urgent development of effective drugs for prevention and treatment. No proven effective treatment for this virus currently exists. Most of the antiviral discovery efforts are focused on the repurposing of approved or clinical stage drugs. This review highlights the small-molecule repurposed antiviral agents that are currently under investigation in clinical trials for COVID19. These include viral polymerase and protease inhibitors remdesivir, galidesivir, favipiravir, ribavirin, sofosbuvir, tenofovir/emtricitabine, baloxavir marboxil, EIDD-2801, lopinavir/ritonavir; virus-/host-directed viral entry and fusion inhibitors arbidol chloroquine/hydroxychloroquine, chlorpromazine, camostat mesylate, nafamostat mesylate, bromhexine and agents with diverse/unclear mechanism of actions as oseltamivir, triazavirin, ivermectin, nitazoxanide, niclosamide and BLD-2660. The published preclinical and clinical data to date on these drugs as well as the mechanisms of action are reviewed. ', \"Minimum costs to manufacture new treatments for COVID-19. 'Repurposing' existing drugs to treat COVID-19 is vital to reducing mortality and controlling the pandemic. Several promising drugs have been identified and are in various stages of clinical trials globally. If efficacy of these drugs is demonstrated, rapid, mass availability at an affordable cost would be essential to ensuring equity and access especially amongst low- and middle-income economies. Minimum costs of production were estimated from the costs of active pharmaceutical ingredients using established methodology, which had good predictive accuracy for medicines for hepatitis C and HIV amongst others. Data were extracted from global export shipment records or analysis of the route of chemical synthesis. The estimated costs were compared with list prices from a range of countries where pricing data were available. Minimum estimated costs of production were US $0.93/day for remdesivir, $1.45/day for favipiravir, $0.08/day for hydroxychloroquine, $0.02/day for chloroquine, $0.10/day for azithromycin, $0.28/day for lopinavir/ritonavir, $0.39/day for sofosbuvir/daclatasvir and $1.09/day for pirfenidone. Costs of production ranged between $0.30 and $31 per treatment course (10-28 days). Current prices of these drugs were far higher than the costs of production, particularly in the US. Should repurposed drugs demonstrate efficacy against COVID-19, they could be manufactured profitably at very low costs, for much less than current list prices. Estimations for the minimum production costs can strengthen price negotiations and help ensure affordable access to vital treatment for COVID-19 at low prices globally. \", 'Nucleotide Analogues as Inhibitors of SARS-CoV-2 Polymerase, a Key Drug Target for COVID-19. SARS-CoV-2 is responsible for the current COVID-19 pandemic. On the basis of our analysis of hepatitis C virus and coronavirus replication, and the molecular structures and activities of viral inhibitors, we previously demonstrated that three nucleotide analogues (the triphosphates of Sofosbuvir, Alovudine, and AZT) inhibit the SARS-CoV RNA-dependent RNA polymerase (RdRp). We also demonstrated that a library of additional nucleotide analogues terminate RNA synthesis catalyzed by the SARS-CoV-2 RdRp, a well-established drug target for COVID-19. Here, we used polymerase extension experiments to demonstrate that the active triphosphate form of Sofosbuvir (an FDA-approved hepatitis C drug) is incorporated by SARS-CoV-2 RdRp and blocks further incorporation. Using the molecular insight gained from the previous studies, we selected the active triphosphate forms of six other antiviral agents, Alovudine, Tenofovir alafenamide, AZT, Abacavir, Lamivudine, and Emtricitabine, for evaluation as inhibitors of the SARS-CoV-2 RdRp and demonstrated the ability of these viral polymerase inhibitors to be incorporated by SARS-CoV-2 RdRp, where they terminate further polymerase extension with varying efficiency. These results provide a molecular basis for inhibition of the SARS-CoV-2 RdRp by these nucleotide analogues. If sufficient efficacy of some of these FDA-approved drugs in inhibiting viral replication in cell culture is established, they may be explored as potential COVID-19 therapeutics. ']]\n",
      "Path: ('C0026549', 'C0006560', 'C5203670') -> Values: [['Intravenous Dexamethasone Injection Reduces Pain From 12 to 21 Hours After Total Knee Arthroplasty: A Double-Blind, Randomized, Placebo-Controlled Trial. Pain after total knee arthroplasty (TKA) affects postoperative recovery and patient satisfaction. The analgesic benefits of corticosteroids have not been well studied. We, therefore, investigated the analgesic effects of intravenous (IV) dexamethasone (DEX) in patients undergoing a TKA. This was a randomized, double-blind, placebo-controlled trial of 0.15 mg/kg of IV DEX vs saline placebo in unilateral TKA. Fifty patients/arm were recruited. Primary outcomes were pain level, determined by a visual analog scale, and the amount of morphine consumption (mg) <=48 hours post-TKA. Secondary outcomes were rates of nausea and vomiting, C-reactive protein concentrations, and functional outcomes. The DEX group had a significantly lower mean visual analog scale score both at rest and during motion at 12, 15, 18, and 21 hours (P < .05). At 21 hours, the mean difference (Delta) in pain at rest was -11 points (95% confidence interval [CI], -21 to -2 points; P = .02) while the mean difference in pain during motion was -15 points (95% CI, -25 to -5 points; P = .004). The DEX group also had lower rates of nausea and vomiting: 29/50 (58%) vs 42/50 (84%) (P = .008) and lower mean C-reactive protein level: 89 vs 167, Delta = -78 mg/L (95% CI, -100 to -58 mg/L, P < .0001). There were no significant differences in mean morphine consumption by 48 hours, modified Western Ontario and McMaster University Osteoarthritis Index scores, and range of motion of the knee at 3-month follow-up (P > .05). IV DEX relieves postoperative pain between 12 to 21 hours after TKA and may be a useful adjunct for controlling pain in patients undergoing TKA. ', 'Morphine consumption during pregnancy exacerbates neonatal hypoxia-ischemia injury in rats. Hypoxia-Ischemia (HI) is the most common cause of death and disability in human infants. The use of opiate in pregnant women affects their children. The aim of this study was to evaluate the effect of morphine consumption during pregnancy and lactation on vulnerability to neonatal HI in rats. Female Wistar rats were randomly assigned into two groups: Group 1-Rats that did not receive any treatment during pregnancy and lactation and Group 2-Rats that received morphine during pregnancy and lactation. After delivery, male offspring were divided into four groups including: (a) SHAM, (b) SHAM/Morphine (SHAM/MO), (c) HI, (d) HI/Morphine (HI/MO). Seven days after HI induction, neurobehavioral tests were performed, and then, brain tissue was taken from the skull to measure cerebral edema, infarct volume, inflammatory factors, oxidative stress, and brain-derived neurotrophic factor (BDNF). Total antioxidant capacity (TAC) and BDNF levels in the HI/MO group were significantly lower than HI and SHAM groups. TNF-alpha, C-reactive protein and total oxidant capacity levels in the HI/MO group were significantly higher than HI and SHAM groups. Cerebral edema and infarct volume in the HI/MO group were significantly higher than the HI group. Based on the results, morphine consumption during pregnancy and lactation enhanced the deleterious effects of HI injury in pups. ', 'Do Corticosteroids Attenuate the Peri-Operative Acute Phase Response After Total Knee Arthroplasty? Following tissue injury, the acute phase response (APR) functions to survive and then repair injured tissue. An exuberant APR, which can be evoked by total knee arthroplasty (TKA), results in a hyper-inflammatory state, leading to pain, nausea, venous thromboembolism, or potentially life-threatening complications. Here, we observed the effects of peri-operative dexamethasone on the APR following TKA by trending C-reactive protein (CRP, mg/L) and fibrinogen (mg/dL). We hypothesize that the anti-inflammatory effects of dexamethasone can attenuate the APR after TKA and will be associated with decreased post-operative pain and nausea. A retrospective case-control study was performed on 188 unilateral TKA procedures. The patients were divided into a group receiving dexamethasone (10 mg intra-operatively and on post-operative day [POD] 1) and a group receiving no corticosteroids. Post-operative CRP, fibrinogen, morphine equivalents, and anti-emetic doses were recorded. Compared to the non-steroid group, patients receiving dexamethasone yielded a significantly decreased CRP on POD0 (5.5 vs 8.3), POD1 (11.8 vs 22.0), and POD2 (85.5 vs 148.9). A significant decrease in fibrinogen in patients receiving dexamethasone was seen on POD2 (460.0 vs 530.2). There was an increase in fibrinogen within the dexamethasone cohort at the 2-week visit (535.4 vs 488.9). Post-operative morphine equivalents administered were significantly decreased in patients receiving dexamethasone, but no difference in anti-emetic use was appreciated. These data support the hypothesis that the APR following TKA can be attenuated pharmacologically by corticosteroids. Further studies are needed to determine whether the attenuation of the APR with the use of corticosteroids prevents complications following TKA. '], ['Diabetes mellitus as a comorbidity in COVID-19 infection in the United Arab Emirates. To compare risk factors and clinical outcomes among COVID-19 patients with or without diabetes in the United Arab Emirates (UAE). Data of 350 COVID-19 positive patients, admitted to Al Kuwait Hospital in Dubai, UAE, from February to May 2020 was collected retrospectively, including demographic data, clinical symptoms, blood tests, as well as radiographical assessments, and clinical outcomes of COVID-19. The design of the study is a retrospective cohort study. COVID-19 patients with diabetes belong to an older age group, had a higher percentage of male patients, exhibited more lymphopenia and neutrophilia, and higher ferritin levels. Additionally, patients with diabetes presented fever and shortness of breath (SOB), displayed more bilateral airspace consolidation and opacities in their chest x-ray and CT scans, compared to non-diabetics. A higher percentage of critical, ICU-admitted, and death of COVID-19 cases in the diabetic group was also reported. This was along with a concomitant increase in C-reactive protein, procalcitonin, and lactate dehydrogenase levels. Diabetes is considered a comorbidity as diabetic patients showed more severe COVID-19 symptoms that led to critical clinical outcomes such as ICU admission and death. ', 'COVID-19 anosmia and gustatory symptoms as a prognosis factor: a subanalysis of the HOPE COVID-19 (Health Outcome Predictive Evaluation for COVID-19) registry. Olfactory and gustatory dysfunctions (OGD) are a frequent symptom of coronavirus disease 2019 (COVID-19). It has been proposed that the neuroinvasive potential of the novel SARS-CoV-2 could be due to olfactory bulb invasion, conversely studies suggest it could be a good prognostic factor. The aim of the current study was to investigate the prognosis value of OGD in COVID-19. These symptoms were recorded on admission from a cohort study of 5868 patients with confirmed or highly suspected COVID-19 infection included in the multicenter international HOPE Registry (NCT04334291). There was statistical relation in multivariate analysis for OGD in gender, more frequent in female 12.41% vs 8.67% in male, related to age, more frequent under 65 years, presence of hypertension, dyslipidemia, diabetes, smoke, renal insufficiency, lung, heart, cancer and neurological disease. We did not find statistical differences in pregnant (p = 0.505), patient suffering cognitive (p = 0.484), liver (p = 0.1) or immune disease (p = 0.32). There was inverse relation (protective) between OGD and prone positioning (0.005) and death (< 0.0001), but no with ICU (0.165) or mechanical ventilation (0.292). On univariable logistic regression, OGD was found to be inversely related to death in COVID-19 patients. The odds ratio was 0.26 (0.15-0.44) (p < 0.001) and Z was - 5.05. The presence of anosmia is fundamental in the diagnosis of SARS.CoV-2 infection, but also could be important in classifying patients and in therapeutic decisions. Even more knowing that it is an early symptom of the disease. Knowing that other situations as being Afro-American or Latino-American, hypertension, renal insufficiency, or increase of C-reactive protein (CRP) imply a worse prognosis we can make a clinical score to estimate the vital prognosis of the patient. The exact pathogenesis of SARS-CoV-2 that causes olfactory and gustative disorders remains unknown but seems related to the prognosis. This point is fundamental, insomuch as could be a plausible way to find a treatment. ', 'Differential Diagnosis of COVID-19: Importance of Measuring Blood Lymphocytes, Serum Electrolytes, and Olfactory and Taste Functions. Coronavirus disease 2019 (COVID-19) is associated with various symptoms and changes in hematological and biochemical variables. However, clinical features, which can differentiate COVID-19 from non-COVID-19, are not clear. We therefore examined the key clinical features of COVID-19 and non-COVID-19 patients. This study included 60 COVID-19 patients and 100 non-COVID-19 patients, diagnosed by PCR, and no significant differences in the age and sex were seen between the two groups. The frequencies of fatigue, loose stool, diarrhea, nasal obstruction, olfactory dysfunction, taste dysfunction, underlying hyperlipidemia, and the prescription of angiotensin II receptor blocker (ARB) were significantly higher in COVID-19 patients than those in non-COVID-19 patients. The counts of leucocytes, neutrophils, lymphocytes, eosinophils, monocytes, and basophils and the levels of chloride and calcium in blood of COVID-19 patients were significantly lower than those of non-COVID-19 patients. The frequencies of atypical lymphocytes and the levels of lactate dehydrogenase (LDH) and potassium were significantly higher in COVID-19 than those in non-COVID-19. The C-reactive protein (CRP) level in COVID-19 patients was significantly lower than that in non-COVID-19 patients, when we compared CRP levels among patients with elevated CRP. This study is the first to indicate that electrolyte levels and the frequency of atypical lymphocytes in COVID-19 are significantly different from those in non-COVID-19. Fatigue, loose stool, diarrhea, nasal obstruction, olfactory dysfunction, and taste dysfunction were the key symptoms of COVID-19. Furthermore, hyperlipidemia and ARB may be risk factors of COVID-19. In conclusion, leucocytes, leucocyte fractions, CRP, LDH, and electrolytes are useful indicators for COVID-19 diagnosis. ']]\n",
      "Path: ('C0026549', 'C0008269', 'C5203670') -> Values: [['Inhibiting effects of morphine, chloroquine, nonsteroidal and steroidal anti-inflammatory drugs on electrically-induced contractions of guinea-pig ileum and the reversing effect of prostaglandins. Twelve different non steroidal antiinflammatory drugs (NSAID), five steroidal antinflammatory drugs, morphine and chloroquine have been added at various concentrations to in vitro electrically-stimulated preparations of guinea-pig ileum. They all inhibit the electrically-induced contractions. Prostaglandins E as well as nicotine reverse this inhibition. These reversing effects are less evident on totally inhibiting drug concentrations than on partially inhibiting drug concentrations. It is suggested that this inhibiting effect could be due mostly to nervous as well as muscular membrane permeability changes induced by these drugs and not to inhibition of prostaglandin synthesis which could be only proposed as partial explanation for NSAID effects. The reversing action of nicotine could be related to a release of acetylcholine while a sensitization of guinea-pig ileum smooth muscle to acetylcholine could explain the reversing properties of prostaglandins. ', 'Binding of organic compounds to rat liver and lung. The binding of various radioisotopically labeled organic compounds to rat liver and lung was investigated in vitro. Pieces of rat lung and slices of rat liver were incubated at 37 degrees C under a nitrogen atmosphere in a modified Krebs-Ringer phosphate solution (pH 7.4) CONTAININg the compound to be studied. Of the neutral compounds investigated, digitoxin, digoxin and dexamethasone were highly bound to both liver and lung tissue, whereas the degree of binding of amitrole, erythritol, and ouabain was 20% or less. The weak acids which were bound to the greatest extent in both liver and lung were phenobarbital, pentobarbital, and diphenylhydantoin. Barbital was poorly bound, and there was no evidence for the binding of 5,5-dimethyloxazolidine-2,4-dione or p-aminohippuric acid in either tissue. Binding of the cardiac glycosides and the barbiturates directly paralleled their lipid solubilities. The degree of binding of neutral compounds and weak acids to lung and liver tissue did not vary greatly with concentration, even though broad concentration ranges were studied. This was also true of the weak base morphine. On the other hand, the binding to liver and lung of the organic bases nicotine, pilocarpine, d-amphetamine, lidocaine, erythromycin, and chloroquine, did vary with concentration. The quaternary ammonium compound decamethonium was bound only to liver, and this binding also varied with concentration. Two additional quaternary ammonium compounds, tetraethylammonium and N1-methylnicotinamide, were not significantly bound to either tissue. Comparisons on the basis of equal content of solids revealed that the binding of diverse organic compounds in liver is greater than or equal to that in lung. ', 'The spinal inhibition of N-type voltage-gated calcium channels selectively prevents scratching behavior in mice. The present study investigated the effects of pharmacological spinal inhibition of voltage-gated calcium channels (VGCC) in mouse pruritus. The epidural administration of P/Q-type MVIIC or PhTx3.3, L-type verapamil, T-type NNC 55-0396 or R-type SNX-482 VGCC blockers failed to alter the scratching behavior caused by the proteinase-activated receptor 2 (PAR-2) activator trypsin, injected into the mouse nape skin. Otherwise, trypsin-elicited pruritus was markedly reduced by the spinal administration of preferential N-type VGCC inhibitors MVIIA and Phalpha1beta. Time-course experiments revealed that Conus magus-derived toxin MVIIA displayed significant effects when dosed from 1h to 4h before trypsin, while the anti-pruritic effects of Phalpha1beta from Phoneutria nigriventer remained significant for up to 12h. In addition to reducing trypsin-evoked itching, MVIIA or Phalpha1beta also prevented the itching elicited by intradermal (i.d.) injection of SLIGRL-NH2, compound 48/80 or chloroquine, although they did not affect H2O2-induced scratching behavior. Furthermore, the co-administration of MVIIA or Phalpha1beta markedly inhibited the pruritus caused by the spinal injection of gastrin-releasing peptide (GRP), but not morphine. Notably, the epidural administration of MVIIA or Phalpha1beta greatly prevented the chronic pruritus allied to dry skin model. However, either tested toxin failed to alter the edema formation or neutrophil influx caused by trypsin, whereas they significantly reduced the c-Fos activation in laminas I, II and III of the spinal cord. Our data bring novel evidence on itching transmission mechanisms, pointing out the therapeutic relevance of N-type VGCC inhibitors to control refractory pruritus. '], ['Chloroquine or hydroxychloroquine for prophylaxis of COVID-19. ', 'Risk Assessment of Drug-Induced Long QT Syndrome for Some COVID-19 Repurposed Drugs. The risk-benefit ratio associated with the use of repurposed drugs to treat severe acute respiratory syndrome-coronavirus 2 (SARS-CoV-2)-related infectious coronavirus disease 2019 (COVID-19) is complicated because benefits are awaited, not proven. A thorough literature search was conducted to source information on the pharmacological properties of 5 drugs and 1 combination (azithromycin, chloroquine, favipiravir, hydroxychloroquine, remdesivir, and lopinavir/ritonavir) repurposed to treat COVID-19. A risk assessment of drug-induced long QT syndrome (LQTS) associated with COVID-19 repurposed drugs was performed and compared with 23 well-known torsadogenic and 10 low torsadogenic risk compounds. Computer calculations were performed using pharmacokinetic and pharmacodynamic data, including affinity to block the rapid component of the delayed rectifier cardiac potassium current (IKr ) encoded by the human ether-a-go-go gene (hERG), propensity to prolong cardiac repolarization (QT interval) and cause torsade de pointes (TdP). Seven different LQTS indices were calculated and compared. The US Food and Drug Administration (FDA) Adverse Event Reporting System (FAERS) database was queried with specific key words relating to arrhythmogenic events. Estimators of LQTS risk levels indicated a very high or moderate risk for all COVID-19 repurposed drugs with the exception for azithromycin, although cases of TdP have been reported with this drug. There was excellent agreement among the various indices used to assess risk of drug-induced LQTS for the 6 repurposed medications and 23 torsadogenic compounds. Based on our results, monitoring of the QT interval shall be performed when some COVID-19 repurposed drugs are used, as such monitoring is possible for hospitalized patients or with the use of biodevices for outpatients. ', 'Characteristics of registered studies for Coronavirus disease 2019 (COVID-19): A systematic review. The World Health Organization characterized the Coronavirus disease 2019 (COVID-19) as a pandemic on March 11th. Many clinical trials on COVID-19 have been registered, and we aim to review the study characteristics and provide guidance for future trials to avoid duplicated effort. Studies on COVID-19 registered before March 3rd, 2020 on eight registry platforms worldwide were searched and the data of design, participants, interventions, and outcomes were extracted and analyzed. Three hundred and ninety-three studies were identified and 380 (96.7%) were from mainland China, while 3 in Japan, 3 in France, 2 in the US, and 3 were international collaborative studies. Two hundred and sixty-six (67.7%) aimed at therapeutic effect, others were for prevention, diagnosis, prognosis, etc. Two hundred and two studies (51.4%) were randomized controlled trials. Two third of therapeutic studies tested Western medicines including antiviral drugs (17.7%), stem cell and cord blood therapy (10.2%), chloroquine and derivatives (8.3%), 16 (6.0%) on Chinese medicines, and 73 (27.4%) on integrated therapy of Western and Chinese medicines. Thirty-one studies among 266 therapeutic studies (11.7%) used mortality as primary outcome, while the most designed secondary outcomes were symptoms and signs (47.0%). Half of the studies (45.5%) had not started recruiting till March 3rd. Inappropriate outcome setting, delayed recruitment and insufficient numbers of new cases in China implied many studies may fail to complete. Strategies and protocols of the studies with robust and rapid data sharing are warranted for emergency public health events, helping the timely evidence-based decision-making. ']]\n",
      "Path: ('C0026549', 'C0085149', 'C5203670') -> Values: [['Therapeutic drug monitoring of non-anticancer drugs in cancer patients. Therapeutic drug monitoring (TDM) or the measurement of drug concentrations in plasma, serum or blood, aims to improve clinical activity, avoid toxicity, and reduce the costs of drug treatment. Specific conditions for TDM to be reasonably applied include the availability of a validated assay, a considerable interindividual pharmacokinetic variability, a high correlation between drug concentration and toxicity, and a narrow therapeutic index. Cancer patients are especially prone to drug-drug interactions due to significant comedication, impaired liver and kidney function and hypoalbuminemia with altered drug binding. This article discusses TDM for various broadly used non-anticancer drugs in cancer patients and gives specific recommendations. Selected drugs covered in this article include those regularly used in febrile neutropenic patients such as the glycopeptide antibiotics, aminoglycosides, the antifungal agents, including flucytosine and azole compounds, the anticonvulsants phenytoin, carbamazepine and valproate, the tricyclic antidepressants, selective-serotonin-reuptake inhibitors, lithium, morphine, digitalis glycosides and the immunosupressants cyclosporin A, tacrolimus, sirolimus and mycophenolate mofetil, crucial compounds in the setting of bone marrow transplantation. In all cases, treating physicians have to consider the variability in patient age, disease stage, comedication, organ function and protein level to weigh the pros and cons of TDM in the individual cancer patient. ', 'High-alert medications for pediatric patients: an international modified Delphi study. The available knowledge about high-alert medications for children is limited. Because children are particularly vulnerable to medication errors, a list of high-alert medication specifically for children would help to develop effective strategies to prevent patient harm. Therefore, we conducted an international modified Delphi study and validated the results with reports on medication incidents in children based on national data. The objective of this study was to generate an internationally accepted list of high-alert medications for a pediatric inpatient population from birth to 18-years old. The rating panel consisted of 34 experts from 13 countries. In total, 14 medications and 4 medication classes were included with the predefined level of consensus of 75%. The high-alert medications were: amiodarone, digoxin, dopamine, epinephrine, fentanyl, gentamycin, heparine, insulin, morphine, norepinephrine, phenytoin, potassium, propofol and tacrolimus. The high-alert medication classes included in the final list were: chemotherapeutic drugs, immunosuppressive medications, lipid/total parenteral nutrition and opioids. An international group of experts defined 14 medications and 4 medication classes as high-alert for children. This list might be helpful as a starting point for individual hospitals to develop their own high-alert list tailored to their unique situation. ', 'Inhibition by immunophilin ligands of morphine-induced tolerance and dependence in guinea pig ileum. Immunophilin ligands, cyclosporine A and FK506 (tacrolimus), besides their immunosuppressive action, have several effects on different neural functions, such as modulation of the release of many neurotransmitters, the reduction of nitric oxide (NO) production by the inhibition of dephosphorylation of neuronal nitric oxide synthase (nNOS) and the alteration of the expression of certain genes. Many of these actions apparently occur through the inhibition of calcineurin, a calcium-calmodulin-dependent phosphatase. On the other hand, several studies have shown that NO has a critical role in opioid-induced tolerance and dependence in both in vivo and in vitro models. In the present study, the effect of cyclosporine A and FK506 on the development of tolerance to and dependence on morphine in the guinea pig ileum was assessed. Morphine inhibited electrically stimulated twitch of ileum in a concentration-dependent manner (pD(2)=7.45+/-0.07). Tolerance to this effect was induced by incubation of ileum with 2 x IC(50) or 4 x IC(50) of morphine for 2 h that induced a degree of tolerance of 6.81 and 18.10, respectively. The co-incubation of ileum with morphine along with either cyclosporine A or FK506 reduced the degree of tolerance significantly (P<0.05) and restored the sensitivity of ileum to the morphine inhibitory effect. Dependence was induced by incubation with 4 x IC(50) of morphine for 2 h and was assessed based on naloxone-induced contractions (10(-5) M). Cyclosporine A (10(-9) M) and FK506 (10(-9) M) can attenuate the development of dependence to morphine as shown by the significant decrease in naloxone-induced contractions (P<0.05). These results suggest that immunophilin ligands at very low concentrations (nanomolar) can reduce the induction of acute tolerance to and dependence on morphine in the myenteric plexus of guinea pig ileum. '], [\"Unexpected better outcome in a liver transplant recipient with COVID-19: a beneficial effect of tacrolimus? Coronavirus disease 2019 (COVID-19) is a serious respiratory illness caused by SARS-CoV-2. There is controversy about whether their immunosuppressive status is a risk factor or a protective factor for developing severe disease. We report herein the clinical outcome of three family members that had COVID-19 infection, presenting with and without different risk factors that have been described in more severe disease. Paradoxically, the patient with more risks of developing a severe disease, a 64-year-old woman, 2-years liver transplant recipient under treatment with tacrolimus, presented a similar outcome compared to the two other members of the family. She showed shorter hospitalization time, similar clinical outcome with fewer oxygen needs. The present clinical observation raises the question about the possible beneficial effect of tacrolimus in patients with COVID-19. Indeed, tacrolimus (FK-506) have an inhibitory effect on human coronaviruses by: 1) an antiviral effect by binding to the FK-506-binding proteins (FKBP) with a subsequent inhibition of their peptidyl-prolyl cis/trans isomerase (PPIase) activity, which seems to be important for the coronavirus life cycle; and 2) regulating the immune response by the inhibition of the activity of the nuclear factor of activated T-cells (NFAT) required for immunosuppression. The present observation states that liver recipients' patients with COVID-19 may not have worse outcomes when compared with other patients that have COVID-19 risk factors and puts in evidence the two mechanisms related to tacrolimus. \", 'COVID-19 infection in a kidney transplant recipient-special emphasis on pharmacokinetic interactions: A case report. Solid organ transplant recipients are considered to be at high-risk of developing coronavirus disease 2019 (COVID-19)-related complications. The optimal treatment for this patient group is unknown. Consequently, the treatment of COVID-19 in kidney transplant recipients should be determined individually, considering patient age and comorbidities, as well as graft function, time of transplant, and immunosuppressive treatment. Immunosuppressive treatments may give rise to severe COVID-19. On the contrary, they may also lead to a milder and atypical presentation by diminishing the immune system overdrive. A 50-year old female kidney transplant recipient presented to the transplant clinic with a progressive dry cough and fever that started three days ago. Although the COVID-19 test was found to be negative, chest computed tomography images showed consolidation typical of the disease; thus, following hospital admission, anti-bacterial and COVID-19 treatments were initiated. However, despite clinical improvement of the lung consolidation, her creatinine levels continued to increase. Ultrasound of the graft showed no pathology. The tacrolimus blood level was determined and the elevation in creatinine was found to be related to an interaction between tacrolimus and azithromycin. During the COVID-19 pandemic, various single or combination drugs have been utilized to find an effective treatment regimen. This has increased the possibility of drug interactions. A limited number of studies published in the literature have highlighted some of these pharmacokinetic interactions. Treatments used for COVID-19 therapy; azithromycin, atazanavir, lopinavir/ritonavir, remdesivir, favipiravir, chloroquine, hydroxychloroquine, nitazoxanide, ribavirin, and tocilizumab, interact with immunosuppressive treatments, most importantly with calcineurin inhibitors. Thus, their levels should be frequently monitored to prevent toxicity. ', 'Spectrum of Coronavirus Disease 2019 Outcomes in Kidney Transplant Recipients: A Single-Center Experience. We reviewed the clinical experience of kidney transplant recipients diagnosed with severe acute respiratory syndrome coronavirus 2 infection in order to understand the impact of the current coronavirus disease 2019 (COVID-19) pandemic infection on transplant recipients. Given that early reports from heavily affected areas demonstrated a very high mortality rate amongst kidney transplant recipients, ranging between 30% and 40%, we sought to evaluate outcomes at a center with a high burden of cases but not experiencing acute crisis due to COVID-19. In this single center retrospective observational study, medical records of all kidney transplant recipients at the UCLA Medical Center were reviewed for a diagnosis of COVID-19 by polymerase chain reaction, followed by chart review to determine kidney transplant characteristics and clinical course. A total of 41 kidney transplant recipients were identified with COVID-19 positive polymerase chain reaction. Recipients had been transplanted for a median of 47 months before diagnosis. The large proportion of infected individuals were minorities (Hispanic 65.9%, black 14.6%), on prednisone, tacrolimus, and mycophenolate mofetil (95.1%, 87.8%, and 87.8%, respectively), and had excellent allograft function (median 1.25 mg/dL). The most common presenting symptoms were fever, dyspnea, or cough. Most patients were hospitalized (63.4%); mortality was 9.8% and occurred only in patients in the intensive care unit. The most common treatment was reduction or removal of antimetabolite (77.8%). Approximately 26.9% presented with AKI. COVID-19 infection in kidney transplant recipients results in a higher rate of hospitalization and mortality than in the general population. In an area with a high number of infections, the mortality rate was lower compared with earlier reports from areas experiencing early surge and strain on the medical system. Minorities were disproportionately affected. Future studies are needed to determine optimal approach to treatment and management of immunosuppression in kidney transplant recipients with COVID-19 infection. ']]\n",
      "Path: ('C0026549', 'C0209368', 'C5203670') -> Values: [['Therapeutic drug monitoring of non-anticancer drugs in cancer patients. Therapeutic drug monitoring (TDM) or the measurement of drug concentrations in plasma, serum or blood, aims to improve clinical activity, avoid toxicity, and reduce the costs of drug treatment. Specific conditions for TDM to be reasonably applied include the availability of a validated assay, a considerable interindividual pharmacokinetic variability, a high correlation between drug concentration and toxicity, and a narrow therapeutic index. Cancer patients are especially prone to drug-drug interactions due to significant comedication, impaired liver and kidney function and hypoalbuminemia with altered drug binding. This article discusses TDM for various broadly used non-anticancer drugs in cancer patients and gives specific recommendations. Selected drugs covered in this article include those regularly used in febrile neutropenic patients such as the glycopeptide antibiotics, aminoglycosides, the antifungal agents, including flucytosine and azole compounds, the anticonvulsants phenytoin, carbamazepine and valproate, the tricyclic antidepressants, selective-serotonin-reuptake inhibitors, lithium, morphine, digitalis glycosides and the immunosupressants cyclosporin A, tacrolimus, sirolimus and mycophenolate mofetil, crucial compounds in the setting of bone marrow transplantation. In all cases, treating physicians have to consider the variability in patient age, disease stage, comedication, organ function and protein level to weigh the pros and cons of TDM in the individual cancer patient. '], ['COVID-19 morbidity in patients after orthotopic heart transplantation - single center clinical observation. The study is a prospective clinical observation of patients after orthotopic heart transplantation in a large academic medical center in relation to COVID-19 morbidity. The study population was comprised of 552 patients. All patients were consulted and advised by telephone as regards the prophylaxis of SARS-CoV-2 infection. Hospital and outpatient follow-ups were limited to the minimum. Preventive modification of immunosuppression was not recommended in relation to the pandemic. Three patients with multiple comorbidities (a woman aged 60, a man aged 59, and another man aged 83; 2.25 years, 5.5 years, and 7.5 years after heart transplantation, respectively) and one patient with concomitant arterial hypertension (a woman aged 48, 5.5 years after heart transplantation) presented with a symptomatic COVID-19 infection. Three of the patients were on tacrolimus immunosuppression, and both female patients were additionally on therapy with mycophenolate mofetil, which was discontinued following the diagnosis of infection. One male patient received combined therapy of cyclosporine A and mycophenolate mofetil. The 60-year-old woman presented with gastrointestinal manifestations of the COVID-19 infection which were of moderate severity. The recovery was achieved. The 59-year-old man presented with myocardial infarction, exacerbated renal insufficiency that required hemodialysis and cardiorespiratory failure complicated by bacterial sepsis. As a result, the patient died. The 83-year-old male patient reporting fever, myalgia, fatigue, cough and dyspnea was admitted to hospital and deceased due to septic shock two days after admission. The 48-year old woman who presented with mild symptoms of the upper respiratory tract infection recovered after two weeks. Symptomatic treatment was used in all the patients. Another male patient (aged 45 years, 8 years after orthotopic heart transplant with no significant comorbidities) was an asymptomatic carrier of SARS-CoV-2 and remained under hospital care. Of 552 patients after orthotopic heart transplantation, two SARS-CoV-2-related deaths were reported. ', 'Immunosuppressive and immunomodulator therapy for rare or uncommon skin disorders in pandemic days. Immunosuppressive and immunomodulatory therapies are important in dermatology, but indications are influenced by SARS-CoV-2. We will focus on skin disorders such as autoimmune connective tissue disorders, neutrophilic dermatoses, and vasculitis. Immunomodulators such as colchicine and antimalarials can easily be preferred taking their beneficial effects on COVID-19 into consideration and also given their wide spectrum of action. Among the conventional therapies, methotrexate, azathioprine, and mycophenolate mofetil increase the risk of infection, and thus their use is recommended only when necessary and at low doses. On the other hand, use of cyclosporine is also not recommended as it increases the risk of hypertension, which is susceptible to COVID-19. Anti-TNF agents from among the biological therapies appear to be slightly risky in terms of susceptibility to infection. However, there are ongoing studies which suggest that some biological treatments may reduce cytokine storm impeding the COVID-19 progression as a result, in spite of their susceptibilities to COVID-19. Patients, who will be started on immunosuppressive therapy, should be tested for COVID-19 prior to the therapy, and in the event that COVID-19 is suspected, the therapy should be discontinued. ', 'Outcomes of coronavirus disease 2019 in patients with neuromyelitis optica and associated disorders. Outcomes of coronavirus disease 2019 (COVID-19) in patients with neuromyelitis optica spectrum disorders (NMOSD) or myelin oligodendrocyte glycoprotein antibody-associated disease (MOGAD), often treated with immunosuppressive therapies, are still unknown. We conducted a multicenter, retrospective, observational cohort study among all French expert centers for neuromyelitis optica and related disorders. Patients with NMOSD or MOGAD included in the study received a confirmed or highly suspected diagnosis of COVID-19 between 1 March 2020 and 30 June 2020. Main outcome was COVID-19 severity score assessed on a seven-point ordinal scale ranging from 1 (not hospitalized with no limitations on activities) to 7 (death). Fifteen cases (mean [SD] age: 39.3 [14.3] years, 11 female) were included. Five patients (33.3%) were hospitalized, all receiving rituximab. A 24-year-old patient with positive aquaporine-4 antibody, with obesity as comorbidity, needed mechanical ventilation. Outpatients were receiving anti-CD20 (5), mycophenolate mofetil (3) or azathioprine (3). They were younger (mean [SD] age: 37.0 [13.4] years), with a longer disease duration (mean [SD]: 8.3 [6.3] years) and had a lower expanded disability severity score (EDSS) score (median [range] EDSS: 2.5 [0-4]) relative to patients requiring hospitalization (mean [SD] age: 44.0 [16.4] years, mean [SD] disease duration: 5.8 [5.5] years, median [range] EDSS: 4 [0-6.5]). COVID-19 outcome was overall favorable in this cohort. Larger international studies are needed to identify risk factors of severe COVID-19; however, we recommend personal protective measures to reduce risk of SARS-CoV-2 infection in this immunocompromised population. ']]\n",
      "Path: ('C0026549', 'C0020336', 'C5203670') -> Values: [['Hypertrophic Osteoarthropathy and Follicular Thyroid Cancer: A Rare Paraneoplastic Syndrome. Hypertrophic osteoarthropathy (HOA) is a rare condition characterized by bone and joint pain and digital clubbing usually associated with bronchopulmonary diseases. Primary HOA is rare and the pathogenesis remains unclear. Cases of HOA as a paraneoplastic syndrome associated with thyroid carcinoma are very rare - only 2 cases have been described in the literature. We present the first case of a 40-year-old patient affected by HOA associated with invasive differentiated follicular thyroid carcinoma operated in 2 stages. Both operations were followed by radioiodine ablation, and then a rapid unresectable local recurrence developed requiring cervical radiotherapy (70 Gy). A second treatment with 100 mCi of (131)I confirmed it was a refractory thyroid cancer. Further surgery confirmed a poorly differentiated follicular cancer and 12 cycles of chemotherapy by gemcitabine and oxaliplatin followed. During the 8 years of follow-up, cervical recurrence was stable, but severe episodes of hemoptysis occurred requiring iterative embolization of the bronchial and tracheal arteries. Other lung diseases were excluded. Digital clubbing appeared, which was associated with arthritis, bone pain and inflammatory syndrome. X-rays and magnetic resonance imaging found periosteal apposition in the long bones; bone scintigraphy confirmed the HOA diagnosis. Other causes of arthritis were eliminated. She was treated with colchicine, corticosteroids and nonsteroidal anti-inflammatory drugs, but only the combination of methotrexate and hydroxychloroquine reduced the morphine requirements. HOA is exceptionally associated with thyroid cancer and we raised the hypothesis of the secretion of a circulating factor in a patient with invasive and recurrent follicular thyroid cancer, refractory to radioiodine. '], ['', 'The Role of Hydroxychloroquine in COVID-19: A Systematic Review and Meta-Analysis. A systematic review and meta-analysis was carried out to examine the role of hydroxychloroquine (HCQ) in the treatment of COVID-19. We performed a systematic search in PubMed, Scopus, Embase, CochraneLibrary, Web of Science, Google Scholar, and medRxiv pre-print databases using available MeSH terms for COVID-19 and hydroxychloroquine. Data from all studies that focused on the effectiveness of HCQ with or without the addition of azithromycin (AZM) in confirmed COVID-19 patients, which were published up to 12 September 2020, were collated for analysis using CMA v.2.2.064. Our systematic review retrieved 41 studies. Among these, 37 studies including 45,913 participants fulfilled the criteria for subsequent meta-analysis. The data showed no significant difference in treatment efficacy between the HCQ and control groups (RR: 1.02, 95% CI, 0.81-1.27). Combination of HCQ with AZM also did not lead to improved treatment outcomes (RR: 1.26, 95% CI, 0.91-1.74). Furthermore, the mortality difference was not significant, neither in HCQ treatment group (RR: 0.86, 95% CI, 0.71-1.03) nor in HCQ plus AZM treatment group (RR: 1.28, 95% CI, 0.76-2.14) in comparison to controls. Meta-regression analysis showed that age was the factor that significantly affected mortality (P<0.00001). The meta-analysis found that there was no clinical benefit of using either HCQ by itself or in combination with AZM for the treatment of COVID-19 patients. Hence, it may be prudent for clinicians and researchers to focus on other therapeutic options that may show greater promise in this disease. ', 'Clinical characteristics of patients hospitalized with COVID-19 in Spain: Results from the SEMI-COVID-19 Registry. Spain has been one of the countries most affected by the COVID-19 pandemic. To create a registry of patients with COVID-19 hospitalized in Spain, in order to improve our knowledge of the clinical, diagnostic, therapeutic, and prognostic aspects of this disease. A multicentre retrospective cohort study, including consecutive patients hospitalized with confirmed COVID-19 throughout Spain. Epidemiological and clinical data, additional tests at admission and at seven days, treatments administered, and progress at 30 days of hospitalization were collected from electronic medical records. Up to June 30th 2020, 15,111 patients from 150 hospitals were included. Their median age was 69.4 years (range: 18-102 years) and 57.2% were male. Prevalences of hypertension, dyslipidemia, and diabetes mellitus were 50.9%, 39.7%, and 19.4%, respectively. The most frequent symptoms were fever (84.2%) and cough (73.5%). High values of ferritin (73.5%), lactate dehydrogenase (73.9%), and D-dimer (63.8%), as well as lymphopenia (52.8%), were frequent. The most used antiviral drugs were hydroxychloroquine (85.6%) and lopinavir/ritonavir (61.4%); 33.1% developed respiratory distress. Overall mortality rate was 21.0%, with a marked increase with age (50-59 years: 4.7%, 60-69 years: 10.5%, 70-79 years: 26.9%, >=80 years: 46.0%). The SEMI-COVID-19 Network provides data on the clinical characteristics of patients with COVID-19 hospitalized in Spain. Patients with COVID-19 hospitalized in Spain are mostly severe cases, as one in three patients developed respiratory distress and one in five patients died. These findings confirm a close relationship between advanced age and mortality. ']]\n",
      "Path: ('C0026549', 'C1609165', 'C5203670') -> Values: [['Gateways to clinical trials. Aclidinium bromide, AE-37, Alemtuzumab, AMA1-C1/ISA 720, Amlodipine besylate/atorvastatin calcium, Arachidonic acid, Arbaclofen placarbil, Aripiprazole, ARQ-621, Azelnidipine, Azilsartan medoxomil potassium; Bevacizumab, Biphasic insulin aspart, Bortezomib; Choriogonadotropin alfa, CTS-1027; Dapagliflozin, Dasatinib, Deforolimus, Degarelix acetate, Denufosol tetrasodium, Desvenlafaxine succinate, Dronedarone hydrochloride, Duloxetine hydrochloride, Dutasteride; Enfuvirtide, Entecavir, Etaracizumab, Everolimus, Exenatide, Ezetimibe; Ferric carboxymaltose, Fludarabine, Foretinib; Gefitinib, GFT-505, GSK-256066; HPV-6/11/16/18, HuM195/rGel, HyperAcute-Lung cancer vaccine; I5NP, Imatinib mesylate, Imexon, Insulin detemir, Insulin glargine, Ivabradine hydrochloride; L2G7, Lacosamide, Lapatinib ditosylate, Lenalidomide, Lidocaine/prilocaine, Liposomal vincristine, Liraglutide, Lixivaptan; Meningococcal (groups A, C, Y and W-135) oligosaccharide diphtheria CRM197 conjugate vaccine, Methoxy polyethylene glycol-epoetin-beta, Mirabegron, Morphine/oxycodone, MR Vaccine, MSC-1936369B, Mycophenolic acid sodium salt; Narlaprevir, N-Desmethylclozapine; Ocriplasmin, Olaparib, Olmesartan medoxomil, Olmesartan medoxomil/azelnidipine, ONO-5334, ONO-8539; Palifermin, Panitumumab, Pardoprunox hydrochloride, PCV7, Peginterferon alfa-2a, Peginterferon alfa-2b, Pemetrexed disodium, Pexelizumab, PF-337210, Pitavastatin calcium; Raltegravir potassium, Recombinant interleukin-7, Regadenoson, Reniale, Roflumilast, Rosuvastatin calcium; Safinamide mesilate, SB-1518, SCH-527123, Selumetinib, Sipuleucel-T, Solifenacin succinate, Sorafenib, Sunitinib malate; Tadalafil, Talaporfin sodium, Tanespimycin, Technosphere/Insulin, Telaprevir, Telatinib, Telcagepant, Telmisartan/hydrochlorothiazide, Teriparatide, Testosterone transdermal gel, TH-302, Tiotropium bromide, Tocilizumab, Trabedersen, Tremelimumab; Valsartan/amlodipine besylate, Vernakalant hydrochloride, Visilizumab, Voreloxin, Vorinostat. '], ['Spread of OXA-48-producing Klebsiella pneumoniae among COVID-19-infected patients: The storm after the storm. The impact of secondary infections by multidrug-resistant bacteria in COVID-19- infected patients has yet to be evaluated. Here, we report the clinical and molecular features of an outbreak of seven patients carrying CTX-M-15- and OXA-48-producing Klebsiella pneumoniae belonging to ST326 during COVID-19 pandemic in an ICU in northern Spain. Those patients were admitted to beds close to each other, two of them developed ventilator-associated pneumonia (VAP), one exhibited primary bacteremia and the remaining four were considered to be colonized. None of them was colonized prior to admission to the ICU an all, except one of those who developed VAP, were discharged. Hydroxychloroquine and lopinavir/ritonavir were administered to all of them as COVID-19 therapy and additionally, three of them received tocilizumab and corticosteroids, respectively. Reusing of personal protective equipment due to its initial shortage, relaxation in infection control measures and negative-pressure air in ICU rooms recommended for the protection of health care workers (HCWs), could have contributed to this outbreak. Maximization of infection control measures is essential to avoid secondary infections by MDR bacteria in COVID-infected patients. ', 'Epigenetic susceptibility to severe respiratory viral infections and its therapeutic implications: a narrative review. The emergence of highly pathogenic strains of influenza virus and coronavirus (CoV) has been responsible for large epidemic and pandemic outbreaks characterised by severe pulmonary illness associated with high morbidity and mortality. One major challenge for critical care is to stratify and minimise the risk of multi-organ failure during the stay in the intensive care unit (ICU). Epigenetic-sensitive mechanisms, including deoxyribonucleic acid (DNA) and ribonucleic acid (RNA) methylation, histone modifications, and non-coding RNAs may lead to perturbations of the host immune-related transcriptional programmes by regulating chromatin structure and gene expression patterns. Viruses causing severe pulmonary illness can use epigenetic-regulated mechanisms during host-pathogen interaction to interfere with innate and adaptive immunity, adequacy of inflammatory response, and overall outcome of viral infections. For example, Middle East respiratory syndrome-CoV and H5N1 can affect host antigen presentation through DNA methylation and histone modifications. The same mechanisms would presumably occur in patients with coronavirus disease 2019, in which tocilizumab may epigenetically reduce microvascular damage. Targeting epigenetic pathways by immune modulators (e.g. tocilizumab) or repurposed drugs (e.g. statins) may provide novel therapeutic opportunities to control viral-host interaction during critical illness. In this review, we provide an update on epigenetic-sensitive mechanisms and repurposed drugs interfering with epigenetic pathways which may be clinically suitable for risk stratification and beneficial for treatment of patients affected by severe viral respiratory infections. ', 'SAFETY PROFILE OF TREATMENTS ADMINISTERED IN COVID 19 INFECTION IN PREGNANT WOMEN. SARS-CoV-2 infection has unexpectedly arrived in our society. In pregnant women, the situation has been similar to general population. Some drugs have been used empirically, and obstetricians have to consider whether the same treatments used in the general population were valid for pregnant women with severe disease, according to their safety profile for both the mother and the foetus. There has been a wide experience with the use of hydroxychloroquine and lopinavir/ritonavir in pregnant women. Tocilizumab and interferon beta could be used if benefits exceed risks. There is no experience using remdesivir in pregnancy. ']]\n"
     ]
    }
   ],
   "source": [
    "paths_values = {}\n",
    "# Iterate over each key in the dictionary\n",
    "for key in df['sp_w_pmids'][224].keys():\n",
    "    values_list = list(df['sp_w_pmids'][224][key].values())\n",
    "    paths_values[key] = values_list\n",
    "\n",
    "for path, values in paths_values.items():\n",
    "    print(f\"Path: {path} -> Values: {values}\")\n"
   ]
  },
  {
   "cell_type": "code",
   "execution_count": 22,
   "id": "7b93bb0d-33f6-431e-9001-877e9a571bff",
   "metadata": {
    "execution": {
     "iopub.execute_input": "2024-05-06T15:10:51.520741Z",
     "iopub.status.busy": "2024-05-06T15:10:51.520311Z",
     "iopub.status.idle": "2024-05-06T15:10:51.550570Z",
     "shell.execute_reply": "2024-05-06T15:10:51.549838Z",
     "shell.execute_reply.started": "2024-05-06T15:10:51.520712Z"
    }
   },
   "outputs": [
    {
     "data": {
      "text/html": [
       "<div>\n",
       "<style scoped>\n",
       "    .dataframe tbody tr th:only-of-type {\n",
       "        vertical-align: middle;\n",
       "    }\n",
       "\n",
       "    .dataframe tbody tr th {\n",
       "        vertical-align: top;\n",
       "    }\n",
       "\n",
       "    .dataframe thead th {\n",
       "        text-align: right;\n",
       "    }\n",
       "</style>\n",
       "<table border=\"1\" class=\"dataframe\">\n",
       "  <thead>\n",
       "    <tr style=\"text-align: right;\">\n",
       "      <th></th>\n",
       "      <th>Path</th>\n",
       "      <th>Value_1</th>\n",
       "      <th>Value_2</th>\n",
       "    </tr>\n",
       "  </thead>\n",
       "  <tbody>\n",
       "    <tr>\n",
       "      <th>0</th>\n",
       "      <td>(C0026549, C0021760, C5203670)</td>\n",
       "      <td>[Effect of intravenous pentoxifylline in infla...</td>\n",
       "      <td>[Simple predictive models identify patients wi...</td>\n",
       "    </tr>\n",
       "    <tr>\n",
       "      <th>1</th>\n",
       "      <td>(C0026549, C0021756, C5203670)</td>\n",
       "      <td>[Impact of HACA on Immunomodulation and Treatm...</td>\n",
       "      <td>[Continuous tracking of COVID-19 patients' imm...</td>\n",
       "    </tr>\n",
       "    <tr>\n",
       "      <th>2</th>\n",
       "      <td>(C0026549, C0085295, C5203670)</td>\n",
       "      <td>[Differential involvement of RelB in morphine-...</td>\n",
       "      <td>[Analysis of cytokines in SARS-CoV-2 or COVID-...</td>\n",
       "    </tr>\n",
       "    <tr>\n",
       "      <th>3</th>\n",
       "      <td>(C0026549, C1448177, C5203670)</td>\n",
       "      <td>[Withdrawal from morphine in mice suppresses s...</td>\n",
       "      <td>[Inflammation and kidney involvement in human ...</td>\n",
       "    </tr>\n",
       "    <tr>\n",
       "      <th>4</th>\n",
       "      <td>(C0026549, C0042679, C5203670)</td>\n",
       "      <td>[Impact of anti-cancer drugs and other determi...</td>\n",
       "      <td>[Lymphocyte-to-C-Reactive Protein Ratio: A Nov...</td>\n",
       "    </tr>\n",
       "    <tr>\n",
       "      <th>5</th>\n",
       "      <td>(C0026549, C0011777, C5203670)</td>\n",
       "      <td>[2-Allylphenol Reduces IL-1beta and TNF-alpha,...</td>\n",
       "      <td>[Essential medicine selection during the COVID...</td>\n",
       "    </tr>\n",
       "    <tr>\n",
       "      <th>6</th>\n",
       "      <td>(C0026549, C0014563, C5203670)</td>\n",
       "      <td>[A combined chest drain and intrapleural cathe...</td>\n",
       "      <td>[Extracorporeal Membrane Oxygenation for COVID...</td>\n",
       "    </tr>\n",
       "    <tr>\n",
       "      <th>7</th>\n",
       "      <td>(C0026549, C0009079, C5203670)</td>\n",
       "      <td>[Olanzapine- and clozapine-induced stuttering....</td>\n",
       "      <td>[Psychoses by Attacks from Subverted Mast Cell...</td>\n",
       "    </tr>\n",
       "    <tr>\n",
       "      <th>8</th>\n",
       "      <td>(C0026549, C2976303, C5203670)</td>\n",
       "      <td>[Direct-acting antiviral interactions with opi...</td>\n",
       "      <td>[Small-molecule antiviral agents in ongoing cl...</td>\n",
       "    </tr>\n",
       "    <tr>\n",
       "      <th>9</th>\n",
       "      <td>(C0026549, C0006560, C5203670)</td>\n",
       "      <td>[Intravenous Dexamethasone Injection Reduces P...</td>\n",
       "      <td>[Diabetes mellitus as a comorbidity in COVID-1...</td>\n",
       "    </tr>\n",
       "    <tr>\n",
       "      <th>10</th>\n",
       "      <td>(C0026549, C0008269, C5203670)</td>\n",
       "      <td>[Inhibiting effects of morphine, chloroquine, ...</td>\n",
       "      <td>[Chloroquine or hydroxychloroquine for prophyl...</td>\n",
       "    </tr>\n",
       "    <tr>\n",
       "      <th>11</th>\n",
       "      <td>(C0026549, C0085149, C5203670)</td>\n",
       "      <td>[Therapeutic drug monitoring of non-anticancer...</td>\n",
       "      <td>[Unexpected better outcome in a liver transpla...</td>\n",
       "    </tr>\n",
       "    <tr>\n",
       "      <th>12</th>\n",
       "      <td>(C0026549, C0209368, C5203670)</td>\n",
       "      <td>[Therapeutic drug monitoring of non-anticancer...</td>\n",
       "      <td>[COVID-19 morbidity in patients after orthotop...</td>\n",
       "    </tr>\n",
       "    <tr>\n",
       "      <th>13</th>\n",
       "      <td>(C0026549, C0020336, C5203670)</td>\n",
       "      <td>[Hypertrophic Osteoarthropathy and Follicular ...</td>\n",
       "      <td>[, The Role of Hydroxychloroquine in COVID-19:...</td>\n",
       "    </tr>\n",
       "    <tr>\n",
       "      <th>14</th>\n",
       "      <td>(C0026549, C1609165, C5203670)</td>\n",
       "      <td>[Gateways to clinical trials. Aclidinium bromi...</td>\n",
       "      <td>[Spread of OXA-48-producing Klebsiella pneumon...</td>\n",
       "    </tr>\n",
       "  </tbody>\n",
       "</table>\n",
       "</div>"
      ],
      "text/plain": [
       "                              Path  \\\n",
       "0   (C0026549, C0021760, C5203670)   \n",
       "1   (C0026549, C0021756, C5203670)   \n",
       "2   (C0026549, C0085295, C5203670)   \n",
       "3   (C0026549, C1448177, C5203670)   \n",
       "4   (C0026549, C0042679, C5203670)   \n",
       "5   (C0026549, C0011777, C5203670)   \n",
       "6   (C0026549, C0014563, C5203670)   \n",
       "7   (C0026549, C0009079, C5203670)   \n",
       "8   (C0026549, C2976303, C5203670)   \n",
       "9   (C0026549, C0006560, C5203670)   \n",
       "10  (C0026549, C0008269, C5203670)   \n",
       "11  (C0026549, C0085149, C5203670)   \n",
       "12  (C0026549, C0209368, C5203670)   \n",
       "13  (C0026549, C0020336, C5203670)   \n",
       "14  (C0026549, C1609165, C5203670)   \n",
       "\n",
       "                                              Value_1  \\\n",
       "0   [Effect of intravenous pentoxifylline in infla...   \n",
       "1   [Impact of HACA on Immunomodulation and Treatm...   \n",
       "2   [Differential involvement of RelB in morphine-...   \n",
       "3   [Withdrawal from morphine in mice suppresses s...   \n",
       "4   [Impact of anti-cancer drugs and other determi...   \n",
       "5   [2-Allylphenol Reduces IL-1beta and TNF-alpha,...   \n",
       "6   [A combined chest drain and intrapleural cathe...   \n",
       "7   [Olanzapine- and clozapine-induced stuttering....   \n",
       "8   [Direct-acting antiviral interactions with opi...   \n",
       "9   [Intravenous Dexamethasone Injection Reduces P...   \n",
       "10  [Inhibiting effects of morphine, chloroquine, ...   \n",
       "11  [Therapeutic drug monitoring of non-anticancer...   \n",
       "12  [Therapeutic drug monitoring of non-anticancer...   \n",
       "13  [Hypertrophic Osteoarthropathy and Follicular ...   \n",
       "14  [Gateways to clinical trials. Aclidinium bromi...   \n",
       "\n",
       "                                              Value_2  \n",
       "0   [Simple predictive models identify patients wi...  \n",
       "1   [Continuous tracking of COVID-19 patients' imm...  \n",
       "2   [Analysis of cytokines in SARS-CoV-2 or COVID-...  \n",
       "3   [Inflammation and kidney involvement in human ...  \n",
       "4   [Lymphocyte-to-C-Reactive Protein Ratio: A Nov...  \n",
       "5   [Essential medicine selection during the COVID...  \n",
       "6   [Extracorporeal Membrane Oxygenation for COVID...  \n",
       "7   [Psychoses by Attacks from Subverted Mast Cell...  \n",
       "8   [Small-molecule antiviral agents in ongoing cl...  \n",
       "9   [Diabetes mellitus as a comorbidity in COVID-1...  \n",
       "10  [Chloroquine or hydroxychloroquine for prophyl...  \n",
       "11  [Unexpected better outcome in a liver transpla...  \n",
       "12  [COVID-19 morbidity in patients after orthotop...  \n",
       "13  [, The Role of Hydroxychloroquine in COVID-19:...  \n",
       "14  [Spread of OXA-48-producing Klebsiella pneumon...  "
      ]
     },
     "execution_count": 22,
     "metadata": {},
     "output_type": "execute_result"
    }
   ],
   "source": [
    "paths_values = {}\n",
    "\n",
    "for key in df['sp_w_pmids'][224].keys():\n",
    "    values_list = list(df['sp_w_pmids'][224][key].values())\n",
    "    paths_values[key] = values_list\n",
    "\n",
    "max_length = max([len(v) for v in paths_values.values()])\n",
    "for key in paths_values.keys():\n",
    "    if len(paths_values[key]) < max_length:\n",
    "        paths_values[key].extend([None] * (max_length - len(paths_values[key])))\n",
    "\n",
    "paths_df = pd.DataFrame.from_dict(paths_values, orient='index')\n",
    "paths_df.columns = [f\"Value_{i+1}\" for i in range(paths_df.shape[1])]\n",
    "\n",
    "paths_df.reset_index(inplace=True)\n",
    "paths_df.rename(columns={'index': 'Path'}, inplace=True)\n",
    "paths_df"
   ]
  },
  {
   "cell_type": "code",
   "execution_count": 68,
   "id": "b00431a6-cf8b-47c2-a21b-8b72af13fd62",
   "metadata": {
    "execution": {
     "iopub.execute_input": "2024-05-04T09:21:28.703884Z",
     "iopub.status.busy": "2024-05-04T09:21:28.703518Z",
     "iopub.status.idle": "2024-05-04T09:21:28.714961Z",
     "shell.execute_reply": "2024-05-04T09:21:28.713742Z",
     "shell.execute_reply.started": "2024-05-04T09:21:28.703858Z"
    },
    "scrolled": true
   },
   "outputs": [
    {
     "data": {
      "text/plain": [
       "dict_items([(('C0026549', 'C0021760', 'C5203670'), {'C0021760 C0026549': ['Effect of intravenous pentoxifylline in inflammatory response in patients undergoing nephrolithotomy. To determine the potential efficacy of intravenous (IV) infusion of pentoxifylline (PTX) before nephrolithotomy on attenuating plasma level of the tumor necrosis factor (TNF)-alpha and interleukin (IL)-1, and to investigate whether it prevents postoperative pain. In a randomized, double-blind, placebo-controlled study, 32 patients (American Society of Anesthesiologists physical status 1 and 2) who were undergoing general anesthesia for nephrolithotomy were randomized to receive intravenous PTX (500 mg in 500 mL saline for 2 hours followed by 700 mg in 1000 mL saline for 6 hours), or placebo (1500 mL saline) before induction of the anesthesia. Two venous blood samples were obtained 10 minutes before PTX or placebo infusion and after surgery at 24 hours for laboratory examination. After surgery, the amount of narcotics consumption and intensity of pain (Visual Analog Scale and Verbal Rating Scale) were evaluated. At baseline, both placebo and PTX group had similar demographic, clinical, and laboratory characteristics. The use of narcotic analgesia (morphine, pethidine or both) was more common in the control group for pain relief. Also, pain intensity was significantly lower in patients who received PTX in comparison with those in the control group. Patients in the PTX group had lower postoperative plasma levels of TNF-alpha (0.27 pg/mL (0.06/0.74) v 3.35 pg/mL (0.83/6.41)) (median (25%/75%), P < 0.0001) and IL-6 (35.4 +/- 21.1 pg/mL (range 12-100) v 60.4 +/- 16.7 pg/mL (range 38-100), mean +/- standard deviation, P < 0.001) compared with the placebo receivers. There was no significant difference in surgery time, length of hospital stay, and fever occurrence after operation during in-hospital follow-up. Nausea and vomiting developed, however, in 5 (31.2%) of treatment patients. An infusion of IV PTX that is administered preoperatively could be applied to reduce inflammatory changes and pain intensity in patients undergoing nephrolithotomy; it causes no serious side effects. ', 'The effect of morphine upon DNA methylation in ten regions of the rat brain. Morphine is one of the most effective analgesics in medicine. However, its use is associated with the development of tolerance and dependence. Recent studies demonstrating epigenetic changes in the brain after exposure to opiates have provided insight into mechanisms possibly underlying addiction. In this study, we sought to identify epigenetic changes in ten regions of the rat brain following acute and chronic morphine exposure. We analyzed DNA methylation of six nuclear-encoded genes implicated in brain function (Bdnf, Comt, Il1b, Il6, Nr3c1, and Tnf) and three mitochondrially-encoded genes (Mtco1, Mtco2, and Mtco3), and measured global 5-methylcytosine (5mC) and 5-hydroxymethylcytosine (5 hmC) levels. We observed differential methylation of Bdnf and Il6 in the pons, Nr3c1 in the cerebellum, and Il1b in the hippocampus in response to acute morphine exposure (all P value < 0.05). Chronic exposure was associated with differential methylation of Bdnf and Comt in the pons, Nr3c1 in the hippocampus and Il1b in the medulla oblongata (all P value < 0.05). Global 5mC levels significantly decreased in the superior colliculus following both acute and chronic morphine exposure, and increased in the hypothalamus following chronic exposure. Chronic exposure was also associated with significantly increased global 5hmC levels in the cerebral cortex, hippocampus, and hypothalamus, but significantly decreased in the midbrain. Our results demonstrate, for the first time, highly localized epigenetic changes in the rat brain following acute and chronic morphine exposure. Further work is required to elucidate the potential role of these changes in the formation of tolerance and dependence. ', 'Passage of cytokines across the blood-brain barrier. One mechanism by which blood-borne cytokines might affect the function of the central nervous system (CNS) is by crossing the blood-brain barrier (BBB) for direct interaction with CNS tissue. Saturable transport systems from blood to the CNS have been described for interleukin (IL)-1 alpha, IL-1 beta, IL-1 receptor antagonist (IL-1ra), IL-6, and tumor necrosis factor-alpha (TNF-alpha). Blood-borne cytokines have been shown to cross the BBB to enter cerebrospinal fluid and interstitial fluid spaces of the brain and spinal cord. IL-2 does not cross the BBB by a saturable transport system. The blood-to-brain uptakes of IL-1 alpha, IL-beta, and IL-1ra are interrelated for most brain sites, but the posterior division of the septum shows selective uptake of blood-borne IL-1 alpha. The saturable transport systems for IL-6 and TNF-alpha are distinguishable from each other and from the IL-1 systems. The amount of blood-borne cytokines entering the brain is modest but comparable to that of other water-soluble compounds, such as morphine, known to cross the BBB in sufficient amounts to affect brain function. CNS to blood efflux of cytokines has also been shown to occur, but the mechanism of passage is unclear. Taken together, the evidence shows that passage of cytokines across the BBB occurs, providing a route by which blood-borne cytokines could potentially affect brain function. '], 'C0021760 C5203670': [\"Simple predictive models identify patients with COVID-19 pneumonia and poor prognosis. Identification of SARS-CoV-2-infected patients at high-risk of poor prognosis is crucial. We aimed to establish predictive models for COVID-19 pneumonia severity in hospitalized patients. Retrospective study of 430 patients admitted in Vall d'Hebron Hospital (Barcelona) between 03-12-2020 and 04-28-2020 due to COVID-19 pneumonia. Two models to identify the patients who required high-flow-oxygen-support were generated, one using baseline data and another with also follow-up analytical results. Calibration was performed by a 1000-bootstrap replication model. 249 were male, mean age 57.9 years. Overall, 135 (31.4%) required high-flow-oxygen-support. The baseline predictive model showed a ROC of 0.800 based on: SpO2/FiO2 (adjusted Hazard Ratio-aHR = 8), chest x-ray (aHR = 4), prior immunosuppressive therapy (aHR = 4), obesity (aHR = 2), IL-6 (aHR = 2), platelets (aHR = 0.5). The cut-off of 11 presented a specificity of 94.8%. The second model included changes on the analytical parameters: ferritin (aHR = 7.5 if >=200ng/mL) and IL-6 (aHR = 18 if >=64pg/mL) plus chest x-ray (aHR = 2) showing a ROC of 0.877. The cut-off of 12 exhibited a negative predictive value of 92%. SpO2/FiO2 and chest x-ray on admission or changes on inflammatory parameters as IL-6 and ferritin allow us early identification of COVID-19 patients at risk of high-flow-oxygen-support that may benefit from a more intensive disease management. \", 'Early Viral Clearance and Antibody Kinetics of COVID-19 Among Asymptomatic Carriers. Asymptomatic carriers contribute to the spread of Coronavirus Disease 2019 (COVID-19), but their clinical characteristics, viral kinetics, and antibody responses remain unclear. A total of 56 COVID-19 patients without symptoms at admission and 19 age-matched symptomatic patients were enrolled. RNA of SARS-CoV-2 was tested using transcriptase quantitative PCR, and the total antibodies (Ab), IgG, IgA, and IgM against the SARS-CoV-2 were tested using Chemiluminescence Microparticle Immuno Assay. Among 56 patients without symptoms at admission, 33 cases displayed symptoms and 23 remained asymptomatic throughout the follow-up period. 43.8% of the asymptomatic carriers were children and none of the asymptomatic cases had recognizable changes in C-reactive protein or interleukin-6, except one 64-year-old patient. The initial threshold cycle value of nasopharyngeal SARS-CoV-2 in asymptomatic carriers was similar to that in pre-symptomatic and symptomatic patients, but the positive viral nucleic acid detection period of asymptomatic carriers (9.63 days) was shorter than pre-symptomatic patients (13.6 days). There were no obvious differences in the seropositive conversion rate of total Ab, IgG, and IgA among the three groups, though the rates of IgM varied largely. The average peak IgG and IgM COI of asymptomatic cases was 3.5 and 0.8, respectively, which is also lower than those in symptomatic patients with peaked IgG and IgM COI of 4.5 and 2.4 (p < 0.05). Young COVID-19 patients seem to be asymptomatic cases with early clearance of SARS-CoV-2 and low levels of IgM generation but high total Ab, IgG, and IgA. Our findings provide empirical information for viral clearance and antibody kinetics of asymptomatic COVID-19 patients. ', 'Single-Cell RNA Sequencing of Tocilizumab-Treated Peripheral Blood Mononuclear Cells as an in vitro Model of Inflammation. COVID-19 has posed a significant threat to global health. Early data has revealed that IL-6, a key regulatory cytokine, plays an important role in the cytokine storm of COVID-19. Multiple trials are therefore looking at the effects of Tocilizumab, an IL-6 receptor antibody that inhibits IL-6 activity, on treatment of COVID-19, with promising findings. As part of a clinical trial looking at the effects of Tocilizumab treatment on kidney transplant recipients with subclinical rejection, we performed single-cell RNA sequencing of comparing stimulated PBMCs before and after Tocilizumab treatment. We leveraged this data to create an in vitro cytokine storm model, to better understand the effects of Tocilizumab in the presence of inflammation. Tocilizumab-treated cells had reduced expression of inflammatory-mediated genes and biologic pathways, particularly amongst monocytes. These results support the hypothesis that Tocilizumab may hinder the cytokine storm of COVID-19, through a demonstration of biologic impact at the single-cell level. ']}), (('C0026549', 'C0021756', 'C5203670'), {'C0021756 C0026549': ['Impact of HACA on Immunomodulation and Treatment Toxicity Following ch14.18/CHO Long-Term Infusion with Interleukin-2: Results from a SIOPEN Phase 2 Trial. GD2-directed immunotherapies improve survival of high-risk neuroblastoma (NB) patients (pts). Treatment with chimeric anti-GD2 antibodies (Ab), such as ch14.18, can induce development of human anti-chimeric Ab (HACA). Here, we report HACA effects on ch14.18/CHO pharmacokinetics, pharmacodynamics and pain intensity in pts treated by long-term infusion (LTI) of ch14.18/CHO combined with IL-2. 124 pts received up to 5 cycles of ch14.18/CHO 10 days (d) infusion (10 mg/m2/d; d8-18) combined with s.c. IL-2 (6 * 106 IU/m2/d; d1-5, d8-12). HACA, treatment toxicity, ch14.18/CHO levels, Ab-dependent cellular- (ADCC) and complement-dependent cytotoxicity (CDC) were assessed using respective validated assays. HACA-negative pts showed a steadily decreased pain in cycle 1 (74% pts without morphine by d5 of LTI) with further decrease in subsequent cycles. Ch14.18/CHO peak concentrations of 11.26 +/- 0.50 ug/mL found in cycle 1 were further elevated in subsequent cycles and resulted in robust GD2-specific CDC and ADCC. Development of HACA (21% of pts) resulted in strong reduction of ch14.18/CHO levels, abrogated CDC and ADCC. Surprisingly, no difference in pain toxicity between HACA-positive and -negative pts was found. In conclusion, ch14.18/CHO LTI combined with IL-2 results in strong activation of Ab effector functions. Importantly, HACA response abrogated CDC but did not affect pain intensity indicating CDC-independent pain induction. ', 'Impact of IL-2 on Treatment Tolerance in Patients With High-Risk Neuroblastoma Treated With Dinutuximab Beta-Based Immunotherapy. Patients with high-risk neuroblastoma treated with continuous long-term infusion of anti-GD2 antibody dinutuximab beta (DB) in combination with IL-2 show an acceptable safety profile. Here, we compared treatment tolerance with and without IL-2. Ninety-nine patients with high-risk neuroblastoma received up to five cycles of DB given as long-term infusion (10 mg/m2/d, 100 mg/m2; per cycle) with IL-2 (53 patients; regimen A; 6 * 106 IU/m2/d; 60 * 106 IU/m2/cycle) and without IL-2 (46 patients; regimen B) in a single-center compassionate use program. Clinical parameters (body temperature, vital signs, Lansky performance score), laboratory values [C-reactive protein, IFN-gamma, IL-6, and IL-18 (cycle 1)], and requirement of i.v. co-medication (e.g., morphine, metamizole) were systematically assessed. Patients with stable clinical parameters and that did not require co-medication were defined as potential \"outpatient candidates.\" Patients showed higher levels of body temperature and CRP in regimen A compared to B. However, IL-6 serum concentrations were similar in pts of both cohorts in the first cycle. Patients receiving regimen B showed a shorter time to achieve normal vital parameters and required less co-medication compared to patients in regimen A that resulted in a shorter median time period to discharge and to achieve a potential outpatient status (6d regimen A and 3-5d regimen B after start of antibody infusion, respectively). This study shows that omitting IL-2 from immunotherapy with DB allows reduced co-medication and hospitalization time and therefore results in improved quality of life in patients with high-risk neuroblastoma. ', 'Opioid dependency and T-helper cell functions in rhesus monkey. Administration of morphine sulfate to rhesus monkeys may activate the quiescent lymphocyte for proliferation, induce a transient increase in the T cell proliferative response to mitogens, and cause an enhanced interleukin-2 release from the mitogen-stimulated lymphocytes. However, longitudinal studies of the animals dependent upon morphine or L-a-acetyl-methadol, a long-acting opioid, revealed an overall immunosuppression of T helper functions. In vitro studies using morphine and its antagonist naloxone suggested that the immunosuppression was not a result of a direct interaction between the opioids and conventional opiate receptors which might have been present on the lymphocytes. The studies also showed the importance of measuring [3H]thymidine incorporation rather than its uptake into cells to assess T cell activation. '], 'C0021756 C5203670': [\"Continuous tracking of COVID-19 patients' immune status. COVID-19 is threating human health worldwide. We aim to investigate the dynamic changes of immune status in COVID-19 patients with clinical evolution. Sixty-one COVID-19 patients (42 mild cases and 19 severe cases, 51 cases without secondary infection as non-infection group and 10 cases with secondary bacterial/fungal infection as infection group) and 52 healthy controls (HCs) were enrolled from our hospital. Leucocyte classification, lymphocyte subsets and cytokines were detected by full-automatic blood cell analyzer and flow cytometer, respectively. Upon admission, eosinophils and lymphocyte subsets decreased significantly, while neutrophils, monocytes, basophils, IL-2, IL-6, IL-10 and IFN-gamma increased significantly in COVID-19 patients compared to HCs. CD3+ T and DN (CD3+CD4-CD8-) cells appeared sustained decline, leucocytes, neutrophils and IL-10 showed sustained increase in severe group compared to mild group. Compared with the non-infection group, we observed a depletion of eosinophils, CD3+ T and CD4+ T cells, but leucocytes, neutrophils, IL-6 and IL-10 on the contrary in the infection group. Besides, in severe group of COVID-19 patients, DN cells were negatively correlated with IL-10, and DP (CD3+CD4+CD8+) cells were negatively correlated with IL-6. Lymphocytes, eosinophils, CD3+ T cells, CD4+ T cells, IL-6 and IL-10 all had great diagnostic efficacy (AUC, 0.905-0.975) for COVID-19. The laboratory indicators of COVID-19 patients with improved condition also showed a recovery trend with time. The immune status of COVID-19 patients is different in each stage, and dynamic monitoring of related indicators can help predict the disease and may avoid cytokine storms. \", 'Dynamics of cytokines and lymphocyte subsets associated with the poor prognosis of severe COVID-19. We aimed to study the dynamics of cytokines and lymphocyte subsets and their correlation with the prognosis of patients with severe COVID-19. The lymphocyte subsets and cytokines of 31 patients with severe COVID-19 (7 deaths and 24 survivals) were longitudinally analyzed. The mean age of enrolled patients was 64 years, 24 (77.4%) patients were men, and 23 (74.2%) patients had comorbidities. Compared with survival group, the death group showed significant and sustained increases in the levels of IL-6, IL-8, and IL-10 from baseline to 28 days after admission (all p<0.05). No significant differences were observed in the levels of TNF-alpha, IL-1b, IL-2, IL-4, IL-5, IL-12P70, IL-17, IFN-alpha, and IFN-gamma between the death group and survival group during the follow-up (all p>0.05). The absolute counts of CD3+ T cells, CD4+ T cells, CD8+ T cells, and CD45+ T cells were lower in both survival group and death group patients from hospital admission to 3 days after admission, and gradually recovered in 4 to 35 days in the survival group, but continually stayed at low levels in the death group during the follow-up. The kinetic changes of cytokines and lymphocyte subsets are related with the prognosis of patients with severe COVID-19. ', 'The effect of drugs used in rheumatology for treating SARS-CoV2 infection. SARS-CoV-2 is a novel coronavirus that was first isolated from a group of patients hospitalized with pneumonia in China at the end of 2019, and, in February 2020, the syndrome it caused was named coronavirus disease 2019 (COVID-19) by the World Health Organization. In the absence of specific antiviral treatments capable of neutralizing the etiological agent, one therapeutic approach is to control the cytokine storm responsible for the most severe forms of the disease. The characteristic cytokine profile of severely affected patients is increased levels of interleukin (IL)-1beta, IL-2, IL-6, IL-7, IL-8, and tumor necrosis factor alpha (TNF-alpha). This article discusses the pathogenesis of COVID-19 as a rationale for using the biological and targeted synthetic drugs used in rheumatology (anti-TNF, anti-IL-1 and anti-IL-6 agents and baricitinib) to treat the disease, and provides key information concerning their potential benefits and adverse effects. Interleukin inhibition seems to be a promising means of treating COVID-19 patients when respiratory function declines (or even earlier) if there are laboratory data indicating the presence of a cytokine storm because the interleukins are key drivers of inflammation. However, it is important to consider the risks and benefits of biological agents carefully, and critically analyze the evidence concerning their use in COVID-19 patients. ']}), (('C0026549', 'C0085295', 'C5203670'), {'C0026549 C0085295': ['Differential involvement of RelB in morphine-induced modulation of chemotaxis, NO, and cytokine production in murine macrophages and lymphocytes. Acute morphine impairs innate and acquired immunity. The mechanisms involved in immunosuppression have not been well defined yet. The transcription factor NF-kappaB is a central regulator of immunity, and of the NF-kappaB family, RelB is particularly involved in the expression of genes important in immune responses. We investigated the involvement of RelB in morphine-induced immunosuppression in mice deficient for the RelB factor. RelB-/- mice and wild-type (WT) controls were injected s.c. with morphine 20 mg/Kg, and 1 h later, immune parameters were evaluated. Morphine significantly reduced macrophage production of the proinflammatory cytokines IL-1beta, TNF-alpha, and IL-12 in WT animals, and the drug failed to diminish the production of these cytokines in the RelB-/- mice. In contrast, the anti-inflammatory cytokine IL-10 was similarly affected in the two strains. Macrophage NO production was modulated by morphine in WT animals only, and morphine similarly decreased macrophage chemotaxis in the presence or in the absence of RelB. When Th1 and Th2 cytokines were evaluated, we observed a clear morphine-induced reduction of IL-2 and IFN-gamma production by WT splenocytes, whereas no effect of the drug was observed in RelB-/- mice. On the contrary, the production of the Th2 cytokines IL-4 and IL-10 was lessened to the same degree by morphine in WT and RelB-/- mice. In conclusion, our data suggest that RelB is an important target for morphine modulation of proinflammatory and Th1 cytokines. They also indicate that morphine uses multiple intracellular pathways to exert its generalized immunosuppression. ', 'A role for proinflammatory cytokines and fractalkine in analgesia, tolerance, and subsequent pain facilitation induced by chronic intrathecal morphine. The present experiments examined the role of spinal proinflammatory cytokines [interleukin-1beta (IL-1)] and chemokines (fractalkine) in acute analgesia and in the development of analgesic tolerance, thermal hyperalgesia, and tactile allodynia in response to chronic intrathecal morphine. Chronic (5 d), but not acute (1 d), intrathecal morphine was associated with a rapid increase in proinflammatory cytokine protein and/or mRNA in dorsal spinal cord and lumbosacral CSF. To determine whether IL-1 release modulates the effects of morphine, intrathecal morphine was coadministered with intrathecal IL-1 receptor antagonist (IL-1ra). This regimen potentiated acute morphine analgesia and inhibited the development of hyperalgesia, allodynia, and analgesic tolerance. Similarly, intrathecal IL-1ra administered after the establishment of morphine tolerance reversed hyperalgesia and prevented the additional development of tolerance and allodynia. Fractalkine also appears to modulate the effects of intrathecal morphine because coadministration of morphine with intrathecal neutralizing antibody against the fractalkine receptor (CX3CR1) potentiated acute morphine analgesia and attenuated the development of tolerance, hyperalgesia, and allodynia. Fractalkine may be exerting these effects via IL-1 because fractalkine (CX3CL1) induced the release of IL-1 from acutely isolated dorsal spinal cord in vitro. Finally, gene therapy with an adenoviral vector encoding for the release of the anti-inflammatory cytokine IL-10 also potentiated acute morphine analgesia and attenuated the development of tolerance, hyperalgesia, and allodynia. Taken together, these results suggest that IL-1 and fractalkine are endogenous regulators of morphine analgesia and are involved in the increases in pain sensitivity that occur after chronic opiates. ', \"Serum IL-10 involved in morphine tolerance development during adjuvant-induced arthritis. Opioid receptors play an important role in modulation of hyperalgesia in inflamed tissues, but chronic morphine application induces such side effects as tolerance. There is near communications between cytokines and mu opioid receptor expression. This study was aimed to assess the role of serum IL-10 in morphine tolerance development during adjuvant-induced arthritis. Adjuvant arthritis (AA) was induced on day 0 by single injection of Complete Freund's Adjuvant (CFA) into the rats' hindpaw. Hyperalgesia, edema, and spinal mu opioid receptor (mOR) variations were assessed on 0, 7, 14, and 21 days of the study. For assessment of the morphine tolerance development, morphine effective dose (4 mg/kg) was administered from the 14th day after CFA injection and continued until the morphine post-dose paw withdrawal latency (PWL); it did not significantly differ from the baseline. For assessment of the effects of IL-10 on tolerance induction, a neutralizing dose (ND50) of anti-IL-10 was administered daily during different stages of the study. AA induction in the right hindpaw of rats resulted in unilateral inflammation and hyperalgesia within 21 days of the study. Anti-IL-10 antibody administration in the AA rats induced marked elevation of hyperalgesia compared to the AA control group. Our data also indicated that morphine effective anti-hyperalgesic dose significantly decreased in the AA rats compared to the control group, which this symptom was aligned with spinal mu opioid receptor (mOR) expression increase during AA. Moreover, there was a significant difference in morphine tolerance induction between the AA and control rats, and our results also demonstrated that IL-10 played an important role in tolerance-induction process. It can be concluded that morphine tolerance slowly progressed when administered morphine effective dose was reduced during AA chronic inflammation. On the other hand, it seems that increased level of serum IL-10 may affect morphine tolerance development during inflammation. \"], 'C0085295 C5203670': ['Analysis of cytokines in SARS-CoV-2 or COVID-19 patients in Erbil city, Kurdistan Region of Iraq. The emergence of the novel coronavirus and then pandemic outbreak was coined 2019- nCoV or COVID-19 (or SARS-CoV-2 disease 2019). This disease has a mortality rate of about 3.7 percent, and successful therapy is desperately needed to combat it. The exact cellular mechanisms of COVID-19 need to be illustrated in detail. This study aimed to evaluate serum cytokines in COVID-19 patients. In this study, serum was collected from volunteer individuals, moderate COVID-19 patients, severe cases of COVID-19 patients, and patients who recovered from COVID-19 (n = 122). The serum concentrations of interleukins such as IL-1, IL-4, IL-6, IL-8, IL-10, and tumor necrosis factor-alpha (TNF-alpha), were measured by enzyme-linked immunosorbent assays (ELISA). The concentrations of IL-1 and TNF-alpha were did not differ significantly among groups. However, the concentration of IL-6 was significantly higher in moderate COVID-19 and severe cases of COVID-19 groups compared to control and recovered groups indicating it to be an independent predictor in the coronavirus disease. The levels of IFN-gamma and IL-4 were significantly lower in the recovery group than the severe case of the COVID-19 group. In contrast, the level of IL-10 in recovered COVID-19 patients was significantly higher in compare to severe cases, COVID-19 patients. Varying levels of cytokines were detected in COVID-19 group than control group suggesting distinct immunoregulatory mechanisms involved in COVID-19 pathogenesis. However, additional investigations are needed to be to be performed to understand the exact cellular mechanism of this disease. ', 'Correlation analysis between disease severity and inflammation-related parameters in patients with COVID-19: a retrospective study. COVID-19 is highly contagious, and the crude mortality rate could reach 49% in critical patients. Inflammation concerns on disease progression. This study analyzed blood inflammation indicators among mild, severe and critical patients, helping to identify severe or critical patients early. In this cross-sectional study, 100 patients were included and divided into mild, severe or critical groups according to disease condition. Correlation of peripheral blood inflammation-related indicators with disease criticality was analyzed. Cut-off values for critically ill patients were speculated through the ROC curve. Significantly, disease severity was associated with age (R = -0.564, P < 0.001), interleukin-2 receptor (IL2R) (R = -0.534, P < 0.001), interleukin-6 (IL-6) (R = -0.535, P < 0.001), interleukin-8 (IL-8) (R = -0.308, P < 0.001), interleukin-10 (IL-10) (R = -0.422, P < 0.001), tumor necrosis factor alpha (TNFalpha) (R = -0.322, P < 0.001), C-reactive protein (CRP) (R = -0.604, P < 0.001), ferroprotein (R = -0.508, P < 0.001), procalcitonin (R = -0.650, P < 0.001), white cell counts (WBC) (R = -0.54, P < 0.001), lymphocyte counts (LC) (R = 0.56, P < 0.001), neutrophil count (NC) (R = -0.585, P < 0.001) and eosinophil counts (EC) (R = 0.299, P < 0.001). With IL2R > 793.5 U/mL or CRP > 30.7 ng/mL, the progress of COVID-19 to critical stage should be closely observed and possibly prevented. Inflammation is closely related to severity of COVID-19, and IL-6 and TNFalpha might be promising therapeutic targets. ', 'Antiviral effect of fufang yinhua jiedu (FFYH) granules against influenza A virus through regulating the inflammatory responses by TLR7/MyD88 signaling pathway. Fufang-Yinhua-Jiedu Granules (FFYH) optimized from a Yin-Qiao-San, as traditional Chinese medicine (TCM), was used to treat influenza and upper respiratory tract infection and was recommended for the prevention and treatment of SARS in 2003 and current COVID-19 in Anhui Province in 2020. In the clinical studies, FFYH was very effective for the treatment of influenza, but the mechanism of action against influenza A virus remains unclear. In the present study, we investigated the antiviral effect of FFYH against influenza A virus in vitro and vivo. Moreover, the potential mechanism of FFYH against influenza A virus in vivo was investigated for the first time. CPE inhibition assay and HA assay were used to evaluate the in vitro antiviral effects of FFYH against influenza A virus H1N1, H3N2, H5N1, H7N9 and H9N2. Mice were used to evaluate the antiviral effect of FFYH in vivo with ribavirin and lianhuaqingwen as positive controls. RT-PCR was used to quantify the mRNA transcription of TNF-alpha, IL-6, IFN-gamma, IP10, and IL-1beta mRNA. ELISA was used to examine the expression of inflammatory factors such as TNF-alpha, IL-6, IFN-gamma, IP10, and IL-1beta in sera. The blood parameters were analyzed with auto hematology analyzer. Moreover, the potential mechanism of FFYH against influenza A virus in vivo was also investigated. FFYH showed a broad-spectrum of antiviral activity against H1N1, H3N2, H5N1, H7N9, and H9N2 influenza A viruses. Furthermore, FFYH dose-dependently increased the survival rate, significantly prolonged the median survival time of mice, and markedly reduced lung injury caused by influenza A virus. Also, FFYH significantly improve the sick signs, food taken, weight loss, blood parameters, lung index, and lung pathological changes. Moreover, FFYH could markedly inhibit the inflammatory cytokine expression of TNF-alpha, IL-6, IFN-gamma, IP10, IL-10, and IL-1beta mRNA or protein via inhibition of the TLR7/MyD88/NF-kappaB signaling pathway in vivo. FFYH not only showed a broad-spectrum of anti-influenza virus activity in vitro, but also exhibited a significant protective effect against lethal influenza virus infection in vivo. Furthermore, our results indicated that the in vivo antiviral effect of FFYH against influenza virus may be attributed to suppressing the expression of inflammatory cytokines via regulating the TLR7/MyD88/NF-kappaB signaling pathway. These findings provide evidence for the clinical treatment of influenza A virus infection with FFYH. ']}), (('C0026549', 'C1448177', 'C5203670'), {'C0026549 C1448177': ['Withdrawal from morphine in mice suppresses splenic macrophage function, cytokine production, and costimulatory molecules. We have previously shown that abstinence from morphine by either abrupt (AW) or precipitated (PW) withdrawal induces greater than 80% suppression in the capacity to mount an in vitro plaque-forming cell (PFC) response to sheep red blood cells at 24-h post withdrawal. Present studies on the mechanisms of immunosuppression showed that addition of normal unfractionated spleen cells, macrophage-enriched adherent cells, or CD11b(+) purified macrophages, to spleen cells taken from withdrawn mice, restored immune responses. Spleen cells from mice undergoing withdrawal also had decreased splenic mRNA and/or protein levels of IL-1beta, IL-1Ra, TNF-alpha, IL-12, and IFN-gamma. Addition of IL-1beta or IFN-gamma to AW cultures was able to reverse their immunosuppression. These results strongly suggest that morphine withdrawal results in a deficit of macrophage function. ', 'Repeated morphine treatment-mediated hyperalgesia, allodynia and spinal glial activation are blocked by co-administration of a selective cannabinoid receptor type-2 agonist. Spinal glial activation has been implicated in sustained morphine-mediated paradoxical pain sensitization. Since activation of glial CB2 cannabinoid receptors attenuates spinal glial activation in neuropathies, we hypothesized that CB2 agonists may also attenuate sustained morphine-mediated spinal glial activation and pain sensitization. Our data indicate that co-administration of a CB2-selective agonist (AM 1241) attenuates morphine (intraperitoneal; twice daily; 6 days)-mediated thermal hyperalgesia and tactile allodynia in rats. A CB2 (AM 630) but not a CB1 (AM 251) antagonist mitigated this effect. AM 1241 co-treatment also attenuated spinal astrocyte and microglial marker and pro-inflammatory mediator (IL-1beta, TNFalpha) immunoreactivities in morphine-treated rats, suggesting that CB2 agonists may be useful to prevent the neuroinflammatory consequences of sustained morphine treatment. ', 'Comparative analysis of mu-opioid receptor expression in immune and neuronal cells. Morphine modulates neuronal and immune cell functions via mu-opioid receptors. In primary and Jurkat T cells, and Raji B cells mu-opioid receptor transcripts were detected only after stimulation of the cells with IL-4 or TNF-alpha. Moreover, the amount of the induced mu-opioid receptor mRNA in the immune cells was 15 to 200 times less than those in primary cortical and SH SY5Y neuronal cells. Nevertheless, mu-opioid receptor mRNA in immune cells is processed to functional receptors, as demonstrated by morphine-mediated phosphorylation of mitogen activated protein kinase, morphine-mediated up-regulation of IL-4 mRNA and coupling to adenylyl cyclase in Jurkat cells. '], 'C1448177 C5203670': ['Inflammation and kidney involvement in human viral diseases caused by SARS-CoV-2, HIV, HCV and HBV. Inflammation is closely related to renal diseases. This is particularly true for renal diseases caused by infections as in viral diseases. In this review, we highlight the inflammatory mechanisms that underlie kidney dysfunction in SARS-CoV-2, human immunodeficiency (HIV), hepatitis C (HCV), and hepatitis B (HBV) infections. The pathophysiology of renal involvement in COVID-19 is complex, but kidney damage is frequent, and the prognosis is worse when it happens. Virus-like particles were demonstrated mostly in renal tubular epithelial cells and podocytes, which suggest that SARS-CoV-2 directly affects the kidneys. SARS-CoV-2 uses the angiotensin-converting enzyme 2 receptor, which is found in endothelial cells, to infect the human host cells. Critical patients with SARS-CoV-2-associated acute kidney injury (AKI) show an increase in inflammatory cytokines (IL-1beta, IL-8, IFN-gamma, TNF-alpha), known as cytokine storm that favors renal dysfunction by causing intrarenal inflammation, increased vascular permeability, volume depletion, thromboembolic events in microvasculature and persistent local inflammation. Besides AKI, SARS-CoV-2 can also cause glomerular disease, as other viral infections such as in HIV, HBV and HCV. HIV-infected patients present chronic inflammation that can lead to a number of renal diseases. Proinflammatory cytokines and TNF-induced apoptosis are some of the underlying mechanisms that may explain the virus-induced renal diseases that are here reviewed. ', 'Potential mechanism underlying the effect of matrine on COVID-19 patients revealed through network pharmacological approaches and molecular docking analysis. The clinical efficacy of matrine in treating coronavirus disease (COVID-19) has been confirmed; however, its underlying mechanism of action remains unknown. TCMSP, SwissTargetPrediction, SEA, GeneCards, CTD, and TTD were used to identify potential targets for matrine in SARS-CoV-2. Cytoscape software was used to determine the target-pathway network for topographical analysis. The online STRING analysis platform and Cytoscape were together used to generate a PPI network and for GO and KEGG pathway enrichment analysis. Finally, molecular docking simulations were performed to study matrine-Mpro, matrine-ACE2, and matrine-RdRp interactions. Ten common matrine targets were obtained, particularly including TNF-alpha, IL-6, and CASP3. GO and KEGG pathway enrichment analysis revealed five significantly enriched signalling pathways involved in cell proliferation, apoptosis, programmed cell death, and immune responses. During COVID-19 treatment, matrine regulates viral replication, host cell apoptosis, and inflammation by targeting the TNF-alpha, IL-6, and CASP3 in the TNF signalling pathway. ', \"IFN- gamma and TNF- alpha drive a CXCL10 + CCL2 + macrophage phenotype expanded in severe COVID-19 and other diseases with tissue inflammation. Immunosuppressive and anti-cytokine treatment may have a protective effect for patients with COVID-19. Understanding the immune cell states shared between COVID-19 and other inflammatory diseases with established therapies may help nominate immunomodulatory therapies. Using an integrative strategy, we built a reference by meta-analyzing > 300,000 immune cells from COVID-19 and 5 inflammatory diseases including rheumatoid arthritis (RA), Crohn's disease (CD), ulcerative colitis (UC), lupus, and interstitial lung disease. Our cross-disease analysis revealed that an FCN1 + inflammatory macrophage state is common to COVID-19 bronchoalveolar lavage samples, RA synovium, CD ileum, and UC colon. We also observed that a CXCL10 + CCL2 + inflammatory macrophage state is abundant in severe COVID-19, inflamed CD and RA, and expresses inflammatory genes such as GBP1, STAT1 , and IL1B . We found that the CXCL10 + CCL2 + macrophages are transcriptionally similar to blood-derived macrophages stimulated with TNF- alpha and IFN- gamma ex vivo . Our findings suggest that IFN- gamma , alongside TNF- alpha , might be a key driver of this abundant inflammatory macrophage phenotype in severe COVID-19 and other inflammatory diseases, which may be targeted by existing immunomodulatory therapies. \"]}), (('C0026549', 'C0042679', 'C5203670'), {'C0026549 C0042679': ['Impact of anti-cancer drugs and other determinants on serum protein binding of morphine 6-glucuronide. The aim of the present study was to examine factors that may influence the protein binding of morphine 6-glucuronide (M6G), the most active metabolite of morphine. An enzyme-linked immunoabsorbent assay technique was used to measure the M6G concentration in serum of 18 healthy adults, 18 neonatal and 7 children with cancer. Total and free M6G concentrations were measured following equilibrium dialysis for 3 hrs and at physiological pH at 37 degrees C. The influence of vincristine, methotrexate, 6-mercaptopurine, morphine, human albumin, alpha-1-acid glycoprotein, palmitic acid, oleic acid and pH on M6G protein binding was examined. M6G was 66.87+/-0.73 percent free in human serum at physiological pH and temperature. The percentage free (unbound) was increased significantly by vincristine (4.33%) and methotrexate (9.68%), but 6- mercaptopurine and morphine had no significant effect on it. Free percentages of M6G was reduced by decreasing serum albumin concentration but was unaffected by the presence of alpa-1-acid glycoprotein (AAG) or changes in serum pH. Similar results were obtained in human serum albumin (HAS) solutions. Addition of palmitic acid and oleic acid reduced protein binding significantly by 6.3% and 7.4%, respectively. Although M6G in this study was not highly bounded, but because of its high analgesic potency, any change in its free concentration due to concurrent medication or disease caused significant changes in its effects. This dearth of evidence has been implicated in the reluctance of professionals to be cautious in prescribing them to children, particularly in the neonatal period. ', 'Crystal structure of vinorine synthase, the first representative of the BAHD superfamily. Vinorine synthase is an acetyltransferase that occupies a central role in the biosynthesis of the antiarrhythmic monoterpenoid indole alkaloid ajmaline in the plant Rauvolfia. Vinorine synthase belongs to the benzylalcohol acetyl-, anthocyanin-O-hydroxy-cinnamoyl-, anthranilate-N-hydroxy-cinnamoyl/benzoyl-, deacetylvindoline acetyltransferase (BAHD) enzyme superfamily, members of which are involved in the biosynthesis of several important drugs, such as morphine, Taxol, or vindoline, a precursor of the anti-cancer drugs vincaleucoblastine and vincristine. The x-ray structure of vinorine synthase is described at 2.6-angstrom resolution. Despite low sequence identity, the two-domain structure of vinorine synthase shows surprising similarity with structures of several CoA-dependent acyltransferases such as dihydrolipoyl transacetylase, polyketide-associated protein A5, and carnitine acetyltransferase. All conserved residues typical for the BAHD family are found in domain 1. His160 of the HXXXD motif functions as a general base during catalysis. It is located in the center of the reaction channel at the interface of both domains and is accessible from both sides. The channel runs through the entire molecule, allowing the substrate and co-substrate to bind independently. Asp164 points away from the catalytic site and seems to be of structural rather than catalytic importance. Surprisingly, the DFGWG motif, which is indispensable for the catalyzed reaction and unique to the BAHD family, is located far away from the active site and seems to play only a structural role. Vinorine synthase represents the first solved protein structure of the BAHD superfamily. ', 'A Rare Case of Vincristine-Induced Neuropathy Presenting as Foot Drop in the Postoperative Period. Patients with cancer receiving chemotherapy are at risk of neuropathy development. Many of them may have subclinical neuropathies, which may be missed before planning anesthesia, especially in emergency scenarios. This case report highlights the importance of a thorough neurologic examination in patients with subclinical neuropathy to avoid any complications and medicolegal issues. A patient with a diagnosis of diffuse large B-cell lymphoma being treated with vincristine-based chemotherapy was scheduled for an emergency laparotomy. There was no history of any neurologic deficit before surgery. The surgery was done using general anesthesia, and intrathecal morphine was given for postoperative analgesia. This patient experienced bilateral foot drop postoperatively. A bilateral lower limb and upper limb sensory-motor neuropathy was detected on a nerve conduction study, probably due to vincristine-induced peripheral neuropathy. The literature is deficient regarding manifestations of neurologic complications in previously asymptomatic patients in the immediate postoperative period. These patients pose a diagnostic dilemma perioperatively that may lead to medicolegal challenges to the anesthesia provider. Anesthesia providers should be wary of the possibility of exacerbation of any subclinical neuropathy in patients with cancer receiving neurotoxic chemotherapy and should probably avoid any neuraxial intervention in such patients if possible. '], 'C0042679 C5203670': ['Lymphocyte-to-C-Reactive Protein Ratio: A Novel Predictor of Adverse Outcomes in COVID-19. Systemic inflammation elicited by a cytokine storm is considered a hallmark of coronavirus disease 2019 (COVID-19). This study aims to assess the validity and clinical utility of the lymphocyte-to-C-reactive protein (CRP) ratio (LCR), typically used for gastric carcinoma prognostication, versus the neutrophil-to-lymphocyte ratio (NLR) for predicting in-hospital outcomes in COVID-19. A retrospective cohort study was performed to determine the association of LCR and NLR with the need for invasive mechanical ventilation (IMV), dialysis, upgrade to an intensive care unit (ICU) and mortality. Independent t-test and multivariate logistic regression analysis were performed to calculate mean differences and adjusted odds ratios (aORs) with its 95% confidence interval (CI), respectively. The mean age for NLR patients was 63.6 versus 61.6, and for LCR groups, it was 62.6 versus 63.7 years, respectively. The baseline comorbidities across all groups were comparable except that the higher LCR group had female predominance. The mean NLR was significantly higher for patients who died during hospitalization (19 vs. 7, P <= 0.001) and those requiring IMV (12 vs. 7, P = 0.01). Compared to alive patients, a significantly lower mean LCR was observed in patients who did not survive hospitalization (1,011 vs. 632, P = 0.04). For patients with a higher NLR (> 10), the unadjusted odds of mortality (odds ratios (ORs) 11.0, 3.6 - 33.0, P < 0.0001) and need for IMV (OR 3.3, 95% CI 1.4 - 7.7, P = 0.008) were significantly higher compared to patients with lower NLR. By contrast, for patients with lower LCR (< 100), the odds of in-hospital all-cause mortality were significantly higher compared to patients with a higher LCR (OR 0.2, 0.06 - 0.47, P = 0.001). The aORs controlled for baseline comorbidities and medications mirrored the overall results, indicating a genuinely significant correlation between these biomarkers and outcomes. A high NLR and decreased LCR value predict higher odds of in-hospital mortality. A high LCR at presentation might indicate impending clinical deterioration and the need for IMV. ', 'COVID-19 pneumonia in a patient with adult T-cell leukemia-lymphoma. Although some patients with COVID-19 develop only mild symptoms, fatal complications have been observed among those with comorbidities. As patients with cancer are immunocompromised, they are thought to have a high risk of severe illness associated with COVID-19. We report a COVID-19 patient with adult T-cell leukemia-lymphoma (ATL) who was treated using favipiravir. A 69-year-old woman with lymphoma-type ATL was treated using cyclophosphamide, doxorubicin, vincristine, prednisolone and mogamulizumab (M-CHOP) with substantial efficacy. However, in cycle 4 of M-CHOP therapy, she developed fever with mild cough. The patient was admitted to the hospital and CT revealed bilateral ground-glass opacities. SARS-CoV-2 was detected by RT-PCR and the patient was diagnosed with COVID-19. Considering severe immunosuppression caused by ATL, we initiated favipiravir therapy. Subsequently, the fever improved without antipyretics and her C-reactive protein level decreased rapidly. SARS-CoV-2 PCR tests were negative on days 17 and 18 of favipiravir therapy, and the patient was discharged without residual disease on the final CT. This is the first documented case of COVID-19 in a patient with ATL. Although severe immunosuppression caused by ATL was present, severe COVID-19 pneumonia did not develop. The immunosuppressed condition caused by hematological malignancy may not always be a risk factor for severe illness associated with COVID-19. Further accumulation of data regarding COVID-19 in patients with hematological malignancies is warranted to clarify the risk factors for severe illness, the best-in-class antiviral agent, and the optimal treatment strategy in this population. ', 'Clinical Profiles, Characteristics, and Outcomes of the First 100 Admitted COVID-19 Patients in Pakistan: A Single-Center Retrospective Study in a Tertiary Care Hospital of Karachi. Background and objective COVID-19 is a highly disseminating viral disease imparted by severe acute respiratory syndrome coronavirus 2 (SARS-COV-2), which was declared a global pandemic by the World Health Organization. In our study, we aimed to describe the clinical characteristics of the first 100 hospitalized patients of confirmed COVID-19 in a developing country. Materials and methods The study included all the admitted patients (n = 100) having COVID-19 polymerase chain reaction (PCR) positive, and evaluated clinical profiles and characteristics of the patients linking to disease severity. Results Out of the 100 patients, 67 were in the ward, 33 were in ICU, 78 of them recovered, while 22 deaths reported. The mean age was 52.58 +/- 15.68, with most frequent comorbidities are diabetes and hypertension while frequent symptoms are fever and dry cough. Bilateral lower zone patchy infiltrates are frequent chest radiographic findings. Amongst the patients admitted in ICU, there were significant differences in the total leukocyte count (P = 0.001), neutrophils and lymphocytes (P =< 0.001), monocytes (P = 0.027), urea (P =< 0.001), creatinine (P = 0.002), neutrophil-to-lymphocyte ratio (NLR) and platelet-to-lymphocyte ratio (PLR) increasing with disease severity, lymphocyte-to-monocyte ratio (LMR) and lymphocyte-to-C-reactive protein ratio (LCR) decreasing with mortalities. Gamma-glutamyl transferase (GGT) followed by aspartate aminotransferase (AST) are frequent hepatic derangements, while C-reactive protein (CRP) levels predicting ICU admission with area under the curve (AUC): 0.806, positive predictive value (PPV): 85.1% and lactate dehydrogenase (LDH) predicting mortality with AUC: 0.877, PPV: 97.3%, while NLR (AUC: 0.806, PPV: 95.8%) for mortality and neutrophils (AUC: 0.773, PPV: 87.5%) for ICU patients. Conclusion A number of factors are linked with disease severity and mortality along with dynamic changes of the laboratory investigations during hospital stay affecting prognosis. ']}), (('C0026549', 'C0011777', 'C5203670'), {'C0011777 C0026549': ['2-Allylphenol Reduces IL-1beta and TNF-alpha, Promoting Antinociception through Adenosinergic, Anti-Inflammatory, and Antioxidant Mechanisms. 2-Allylphenol (2-AP) is a synthetic phenylpropanoid, structurally related to cardanol, thymol, and ortho-eugenol. Phenylpropanoids are described in the literature as being capable of promoting biological activity. Due to the similarity between 2-AP and other bioactive phenylpropanoids, the present research aims at evaluating the antioxidant, antinociceptive, and anti-inflammatory potential of 2-AP in silico, in vitro, and in vivo. At 30 min prior to the start of in vivo pharmacological testing, administration of 2-AP (25, 50, 75, and 100 mg/kg i.p.), morphine (6 mg/kg i.p.), dexamethasone (2 mg/kg s.c.), or vehicle alone was performed. In the acetic acid-induced abdominal writhing tests, pretreatment with 2-AP significantly reduced the number of abdominal writhes, as well as decreased licking times in the glutamate and formalin tests. Investigation of the mechanism of action using the formalin model led to the conclusion that the opioid system does not participate in its activity. However, the adenosinergic system is involved. In the peritonitis tests, 2-AP inhibited leukocyte migration and reduced releases of proinflammatory mediators TNF-alpha and IL-1beta. In vitro antioxidant assays demonstrated that 2-AP presents significant ability to sequester superoxide radicals. In silico docking studies confirmed interaction between 2-AP and the adenosine A2a receptor through hydrogen bonds with the critical asparagine 253 residues present in the active site. Investigation of 2-AP demonstrated its nociception inhibition and ability to reduce reactive oxygen species. Its interaction with A2a receptors may well be related to proinflammatory cytokines TNF-alpha and IL-1beta reduction activity, corroborating its antinociceptive effect. ', 'A comparison of dexamethasone, ondansetron, and dexamethasone plus ondansetron as prophylactic antiemetic and antipruritic therapy in patients receiving intrathecal morphine for major orthopedic surgery. In a prospective, double-blinded, randomized trial, we evaluated the efficacy of IV (a) dexamethasone 8 mg, (b) ondansetron 8 mg, and (c) dexamethasone 8 mg plus ondansetron 4 mg for the prevention of postoperative nausea, vomiting (PONV), and pruritus in 130 (ASA physical status I to III) patients undergoing elective major orthopedic surgery after spinal anesthesia with hyperbaric 0.5% bupivacaine and intrathecal morphine. After spinal anesthesia, patients were randomized to one of three groups. Failure of PONV prophylaxis in the 24-h postoperative period occurred more frequently in patients who received dexamethasone alone (29 of 40; 73%) compared with those who received either ondansetron alone (23 of 47; 49%) (P = 0.02) or dexamethasone plus ondansetron together (19 of 43; 44%)(P = 0.01). There was no difference in the incidence of failure of prophylaxis of pruritus (70%, 72%, and 70% in dexamethasone 8 mg, ondansetron 8 mg, and dexamethasone 8 mg plus ondansetron 4 mg, respectively) (P > 0.1) in the 24-h postoperative period. We conclude that the administration of dexamethasone 8 mg with ondansetron 4 mg has no added benefit compared with ondansetron 8 mg alone in the prophylaxis of PONV and pruritus. Postoperative nausea and vomiting (PONV) and pruritus are common side effects after spinal opioid administration. In this study, dexamethasone 8 mg plus ondansetron 4 mg was as effective as ondansetron 8 mg. The administration of dexamethasone alone was associated with a frequent incidence of PONV, demonstrating a lack of efficacy. This has important cost implications. ', 'Acceptable effect of multimodal analgesic treatment after a Bascom cleft lift operation. Information on multimodal analgesic efficacy in patients undergoing a Bascom cleft lift operation is limited. The aim of this prospective consecutive study was to evaluate early post-operative pain in patients receiving a standardised multimodal analgesic regimen. A total of 48 patients undergoing a Bascom cleft lift operation were included over an 8-month period in a day-case set-up. The operation was performed under saddle block. In addition, patients received a standardised multi-modal analgesic regimen consisting of gabapentin, ketorolac, dexamethasone, acetaminophen (paracetamol) and ibuprofen. The intensity of pain was registered preoperatively and at 2, 24, 48 h, and 30 days post-operatively. Nausea, vomiting, dizziness, ability to void, morphine consumption and post-anaesthesia care unit (PACU) time were registered. Thirty patients were available for analysis. Post-operative visual analogue scale pain scores were low (at 2, 24, and 48 h (median values: 0 (range: 0-40), 25 (0-70), and 30 (0-60), respectively), but changed significantly over time (p < 0.001). The median overall morphine consumption was 0 (range: 0-30). None of the patients experienced vomiting or dizziness. Only two patients reported mild nausea during the stay in the PACU. This study suggests that the Bascom cleft lift operation is feasible with minimal post-operative pain when using a multimodal analgesic regimen together with saddle block. not relevant. ClinicalTrials.gov: NCT02196727. Regional Ethics Committee Reg. no.: H-3-2013-073. Danish Data Protection Agency Reg. no.: HVH-2013-031, with I-Suite no.: 02408. '], 'C0011777 C5203670': ['Essential medicine selection during the COVID-19 pandemic: Enabling access in uncharted territory. The COVID-19 pandemic requires urgent decisions regarding treatment policy in the face of rapidly evolving evidence. In response, the South African Essential Medicines List Committee established a subcommittee to systematically review and appraise emerging evidence, within very short timelines, in order to inform the National Department of Health COVID-19 treatment guidelines. To date, the subcommittee has reviewed 14 potential treatments, and made recommendations based on local context, feasibility, resource requirements and equity. Here we describe the rapid review and evidence-to-decision process, using remdesivir and dexamethasone as examples. Our experience is that conducting rapid reviews is a practical and efficient way to address medicine policy questions under pandemic conditions. ', 'Bringing evidence from press release to the clinic in the era of COVID-19. The urgent need to develop effective therapeutics and disseminate information from clinical studies has led to data from clinical trials being made available by alternate methods prior to peer-reviewed publication, including press releases, social media and pre-print papers. While this allows clinicians more open access to these data, a trust has to be placed with the investigators releasing these data without the availability of scientifically rigorous peer review. The examples of results from trials studying dexamethasone and hydroxychloroquine for treatment of COVID-19 have had contrasting outcomes, including the potential for significant numbers of lives saved with the early release of results from the RECOVERY trial studying dexamethasone contrasting with unsubstantiated data being presented from trials studying hydroxychloroquine. Clinicians and researchers must maintain a healthy scepticism when reviewing results prior to peer-reviewed publication, but also consider when these opportunities may allow for early implementation of potentially lifesaving interventions for people infected with COVID-19. ', \"Treatment of moderate to severe respiratory COVID-19: a cost-utility analysis. Despite COVID-19's significant morbidity and mortality, considering cost-effectiveness of pharmacologic treatment strategies for hospitalized patients remains critical to support healthcare resource decisions within budgetary constraints. As such, we calculated the cost-effectiveness of using remdesivir and dexamethasone for moderate to severe COVID-19 respiratory infections using the United States health care system as a representative model. A decision analytic model modelled a base case scenario of a 60-year-old patient admitted to hospital with COVID-19. Patients requiring oxygen were considered moderate severity, and patients with severe COVID-19 required intubation with intensive care. Strategies modelled included giving remdesivir to all patients, remdesivir in only moderate and only severe infections, dexamethasone to all patients, dexamethasone in severe infections, remdesivir in moderate/dexamethasone in severe infections, and best supportive care. Data for the model came from the published literature. The time horizon was 1 year; no discounting was performed due to the short duration. The perspective was of the payer in the United States health care system. Supportive care for moderate/severe COVID-19 cost $11,112.98 with 0.7155 quality adjusted life-year (QALY) obtained. Using dexamethasone for all patients was the most-cost effective with an incremental cost-effectiveness ratio of $980.84/QALY; all remdesivir strategies were more costly and less effective. Probabilistic sensitivity analyses showed dexamethasone for all patients was most cost-effective in 98.3% of scenarios. Dexamethasone for moderate-severe COVID-19 infections was the most cost-effective strategy and would have minimal budget impact. Based on current data, remdesivir is unlikely to be a cost-effective treatment for COVID-19. \"]}), (('C0026549', 'C0014563', 'C5203670'), {'C0014563 C0026549': ['A combined chest drain and intrapleural catheter for post-thoracotomy pain relief. This study examined the effectiveness of a new type of chest drain, which incorporates an additional lumen within its wall to facilitate the administration of intrapleural bupivacaine. Nine patients who received a bolus dose of 1.5 mg.kg-1 bupivacaine with 1:200,000 adrenaline through this chest drain used less morphine, and had lower visual analogue pain scores in the first 6 h after thoracotomy than patients in whom a standard chest drain had been used. Bupivacaine levels were found to be within safe limits in all patients. ', 'The Chitranjan Ranawat Award: Periarticular injections and femoral & sciatic blocks provide similar pain relief after TKA: a randomized clinical trial. Two of the more common methods of pain management after TKA are peripheral nerve blocks and intraarticular/periarticular injections. However, we are not aware of any study directly comparing the commonly used combination of a continuous femoral block given with a single-shot sciatic block with that of a periarticular injection after TKA. This randomized clinical trial compared a combined femoral and sciatic nerve block with periarticular injection as part of a multimodal pain protocol after total knee arthroplasty with respect to (1) pain; (2) narcotic use; (3) quadriceps function and length of stay; and (4) peripheral nerve complications. One hundred sixty patients completed randomization into two treatment arms: (1) peripheral nerve blocks (PNB; n=79) with an indwelling femoral nerve catheter and a single shot sciatic block; or (2) periarticular injection (PAI; n=81) using ropivacaine, epinephrine, ketorolac, and morphine. All patients received standardized general anesthesia and oral medications. The primary outcome was postoperative pain, on a 0 to 10 scale, measured on the afternoon of postoperative day 1 (POD 1). Secondary outcomes were narcotic use, quadriceps function, length of stay, and peripheral nerve complications. Mean pain scores on the afternoon of POD 1 were not different between groups (PNB group: 2.9 [SD 2.4]; PAI group: 3.0 [SD 2.2]; 95% confidence interval, -0.8 to 0.6; p=0.76). Mean pain scores taken at three times points on POD 1 were also similar between groups. Hospital length of stay was shorter for the PAI group (2.44 days [SD 0.65] versus 2.84 days [SD 1.34] for the PNB group; p=0.02). Narcotic consumption was higher the day of surgery for the PAI group (PAI group: 11.7 mg morphine equivalents [SD 13.1]; PNB group: 4.6 mg [SD 9.1]; p<0.001), but thereafter, there was no difference. More patients in the PNB group had sequelae of peripheral nerve injury (mainly dysesthesia) at 6-week followup (nine [12%] versus one [1%]; p=0.009). Patients receiving periarticular injections had similar pain scores, shorter lengths of stay, less likelihood of peripheral nerve dysesthesia, but greater narcotic use on the day of surgery compared with patients receiving peripheral nerve blocks. Periarticular injections provide adequate pain relief, are simple to use, and avoid the potential complications associated with nerve blocks. Level I, therapeutic study. See Guidelines for Authors for a complete description of levels of evidence. ', \"Morphine-3-glucuronide: hyperglycemic and neuroendocrine potentiating effects. The greater potency of morphine-6-glucuronide (M6G) as well as the inactivity of morphine-3-glucuronide (M3G) with respect to the antinociceptive effects of the parent molecule, morphine (MOR), have been well established. It has been suggested that M3G is an antagonist of MOR's antinociceptive and respiratory depressive effects. The present study addressed the central nervous system (CNS) interaction of these opiate metabolites on their metabolic and hormonal effects. Whole body glucose kinetics were assessed on conscious, chronically catheterized, unrestrained rats. M3G (5 microg) or H2O (5 microl) was injected intracerebroventricularly (i.c.v.) 15 min prior to the bolus administration of H2O (5 microl), M6G (1 microg), or MOR (80 microg). i.c.v. M3G (5 microg) resulted in behavioral excitation, hyperglycemia (+50%), stimulation of glucose rate of appearance (Ra; +100%), glucose rate of disappearance (Rd; +70%), and metabolic clearance rate (MCR; +33%) within 30 min after injection with no alterations in hormone concentrations. i.c.v. M6G and MOR produced progressive hyperglycemia with significantly high catecholamine and corticosterone levels. M3G pretreatment resulted in enhanced elevations in plasma glucose levels (+52% and + 18%), plasma lactate (+138% and +108%), norepinephrine (+96% and +30%), and epinephrine (+62% and +67%) in response to both i.c.v. MOR and M6G administration. These findings suggest a non-opiate and non-hormonal mechanism for M3G-induced hyperglycemia. In contrast, the metabolic and hormonal responses to i.c.v. M6G and MOR are associated with elevations in catecholamine and corticosterone levels. which are remarkably enhanced by M3G pretreatment, most likely through accelerated catecholamine release. Our findings suggest a modulatory role for MOR glucuronidation, not only by rendering it inactive, as in the case of M3G, but by an interplay of the metabolic effects of the parent molecule and its metabolite. \"], 'C0014563 C5203670': ['Extracorporeal Membrane Oxygenation for COVID-19-Associated Multisystem Inflammatory Syndrome in a 5-year-old. Severe acute respiratory distress syndrome coronavirus 2 (SARS-CoV-2) is associated with multisystem inflammatory syndrome in children (MIS-C) that ranges from mild symptoms to cardiopulmonary collapse. A 5-year-old girl presented with shock and a rapid decline in left ventricular function requiring intubation. SARS-CoV-2 was diagnosed by viral Polymerase Chain Reaction (PCR), and she received remdesivir and COVID-19 convalescent plasma. Initial echocardiogram (ECHO) demonstrated low normal left ventricular function and mild left anterior descending coronary artery dilation. She remained hypotensive, despite high-dose epinephrine and norepinephrine infusions as well as stress-dose hydrocortisone. Admission SARS-CoV-2 IgG assay was positive, meeting the criteria for MIS-C. An ECHO 9 hours after admission demonstrated a severe decline in left ventricular function. Due to severe cardiogenic shock, she was cannulated for venoarterial extracorporeal support (ECMO). During her ECMO course, she was treated with remdesivir, intravenous methylprednisolone, intravenous immunoglobulin, and anakinra. She was decannulated on ECMO day 7, extubated the following day, and discharged home 2 weeks later without respiratory or cardiac support. The use of ECMO for cardiopulmonary support for pediatric patients with MIS-C is feasible and should be considered early as part of the treatment algorithm for patients with severe cardiopulmonary dysfunction. ', 'Acute myocarditis and multisystem inflammatory emerging disease following SARS-CoV-2 infection in critically ill children. A recent increase in children admitted with hypotensive shock and fever in the context of the COVID-19 outbreak requires an urgent characterization and assessment of the involvement of SARS-CoV-2 infection. This is a case series performed at 4 academic tertiary care centers in Paris of all the children admitted to the pediatric intensive care unit (PICU) with shock, fever and suspected SARS-CoV-2 infection between April 15th and April 27th, 2020. 20 critically ill children admitted for shock had an acute myocarditis (left ventricular ejection fraction, 35% (25-55); troponin, 269 ng/mL (31-4607)), and arterial hypotension with mainly vasoplegic clinical presentation. The first symptoms before PICU admission were intense abdominal pain and fever for 6 days (1-10). All children had highly elevated C-reactive protein (> 94 mg/L) and procalcitonin (> 1.6 ng/mL) without microbial cause. At least one feature of Kawasaki disease was found in all children (fever, n = 20, skin rash, n = 10; conjunctivitis, n = 6; cheilitis, n = 5; adenitis, n = 2), but none had the typical form. SARS-CoV-2 PCR and serology were positive for 10 and 15 children, respectively. One child had both negative SARS-CoV-2 PCR and serology, but had a typical SARS-CoV-2 chest tomography scan. All children but one needed an inotropic/vasoactive drug support (epinephrine, n = 12; milrinone, n = 10; dobutamine, n = 6, norepinephrine, n = 4) and 8 were intubated. All children received intravenous immunoglobulin (2 g per kilogram) with adjuvant corticosteroids (n = 2), IL 1 receptor antagonist (n = 1) or a monoclonal antibody against IL-6 receptor (n = 1). All children survived and were afebrile with a full left ventricular function recovery at PICU discharge. Acute myocarditis with intense systemic inflammation and atypical Kawasaki disease is an emerging severe pediatric disease following SARS-CoV-2 infection. Early recognition of this disease is needed and referral to an expert center is recommended. A delayed and inappropriate host immunological response is suspected. While underlying mechanisms remain unclear, further investigations are required to target an optimal treatment. ', 'Acute Epiglottitis Due to COVID-19 Infection. A 53-year-old man presented acutely to the Accident and Emergency department with a 2-day history of progressive odynophagia and shortness of breath. The patient had stridor at rest and acute epiglottitis was suspected. The patient was transferred urgently to theatre for intubation but due to a severely oedematous airway, this was unsuccessful and emergency tracheotomy was performed by the ENT team. Throughout admission the only positive microbiological sample was a nasopharyngeal swab for SARS-CoV-2 infection. In the absence of other positive microbiology, it is highly likely that COVID-19 was the aetiological cause of acute epiglottitis in this instance. COVID-19 infection is a novel disease with multiple presentations; it should be considered as a possible causative organism in patients presenting with acute epiglottitis.Due to the time delay in taking samples for microbiology and results being available, treatment should be commenced with antibiotics, nebulised adrenaline and steroids to cover bacterial infection. Presentation can occur following a delayed inflammatory response and treatment should target the organ system involved. ']}), (('C0026549', 'C0009079', 'C5203670'), {'C0009079 C0026549': ['Olanzapine- and clozapine-induced stuttering. A case series. Drug-induced stuttering has been described in association with several drugs, in particular antidepressants and low-potency neuroleptics. Here we describe a case series of stuttering induced by the atypical neuroleptics olanzapine and clozapine. Patients receiving neuroleptic treatment were carefully screened for stuttering as a possible side effect. We have studied all patients in the outpatient department (800 per year) as well as most inpatients (1300 per year) within 3 years. Seven cases of drug-induced stuttering were observed. Six patients suffered from stuttering in association with olanzapine treatment, and one received clozapine. Stuttering arose on average 2-21 days after initiation of treatment and ceased 2-5 days after discontinuation. Most patients suffered from additional diseases, such as brain pathology due to cortical atrophy or celiac disease, or received concomitant medication (i.e. intrathecal morphine pump). Our case series suggests that the atypical neuroleptic olanzapine can induce stuttering in the absence of a history of stuttering without accompanying akathisia or general decline of function. It appears that preexisting brain pathology or concomitant anti-depressant medication might predispose some patients to this side effect. ', 'Effects of clozapine and sulpiride on morphine state-dependent memory in the step-down passive avoidance test. The effects of antipsychotic drugs sulpiride and clozapine on morphine state-dependent memory of passive avoidance task were examined in mice. Post-training administration of morphine (5 mg/kg) led to state-dependent learning with impaired memory retrieval on the test day which was reversed by pre-test administration of the same dose of the opioid (5 mg/kg). In animals where memory was impaired by post-training morphine, the administration of either sulpiride or clozapine before pre-test morphine reduced the improvement of memory produced by the opioid. Co-administration of sulpiride with clozapine did not potentiate their antagonistic response. In conclusion, the inhibition of improvement of memory retrieval by morphine treatment on the test day by the two dopamine receptor antagonists seems to be induced through two different receptor mechanisms. ', 'Blockade of cannabinoid (CB1) receptors by 141716 selectively antagonizes drug-induced reinstatement of exploratory behaviour in gerbils. A cannabinoid hypothesis of schizophrenia has been proposed according to which cognitive dysfunction could be associated with dysregulation of an endogenous cannabinoid system. The present study investigated whether SR 141716, a selective CB1 receptor antagonist, was able to reduce the hyperactivity induced in gerbils by various stimulant drugs known to produce or exacerbate schizophrenic symptoms. Cocaine, d-amphetamine, morphine, and Win 55212-2 were administered intraperitoneally (IP) either immediately before placing the animals in the test apparatus (non-habituated gerbils) or after a 2- to 3-h habituation period in the actimeter (habituated gerbils). SR 141716 was given IP 30 min before the injection of stimulant drugs. Horizontal activity was recorded every 10 min for 1 h in Digiscan activity monitor. SR 141716 (0.3-3 mg/kg) dose-dependently suppressed the enhanced locomotor activity induced by each stimulant drug in habituated gerbils, but not in non-habituated animals. Clozapine, an atypical antipsychotic compound, but not haloperidol, shared with SR 141716, the ability to differentially affect drug-induced hyperactivity in habituated versus non-habituated gerbils. The activation of cannabinoid systems is a required, permissive element in the ability of cocaine, d-amphetamine, morphine, and Win 55212-2 to reinstate behaviour, i.e., to override stimulus satiation. '], 'C0009079 C5203670': ['Psychoses by Attacks from Subverted Mast Cells: A Role for Arterial Intramural Flow Badly Steered by the Nasal Ganglia? Mechanisms of cortical psychoses are approached by complementing big data-driven genetics and imaging with a putatively subverted neurovascular \"reverse plumbing\" by arteries. The \"cortical spread\" of grey matter loss in schizophrenia and the mid-pericallosal \"congestion\" in fMRI of periodic catatonia - treatable electromagnetically along arteries - are interpreted in terms of the fastest interstitial outflow through the Cerebral IntraMural Reverse Arterial Flow-engine (CIMURAF, Treviranus 2018-19) draining \"waste\" via arterio-adventitial lymphatics to the neck. Such repetitively sliding segments of CIMURAF are wrung downstream by muscles likely steered by the neurovascular pterygopalatine ganglion. At the pericallosal artery, along its ideal long straight segment, this likely happens diverging from the mid-callosum towards the front and the back. In the case of a convergent inversion a mid-callosal clash will result, which is observable in psychoses as a mid-callosal high-flow-spot simultaneously with hyper-perfusions of branches and \"backwatering\" of pial vessels with reactive waste - till date interpreted psycho-mathematically. CIMURAF might also accelerate the perivascular intrusion of MCs by flushing autocrine signals (of which electro-magnetism moves the dipoles) through a putative periadventitial counter-current. Psychoses plausible occur through tryptase-mediated attacks operated by mast cells against oligodendrocytes\\' cytoskeleton (Medic 2009) and probably via complement-4 (Schizophrenia WG, 2014) against neurons. Usually MCs are essential long-lived \"orchestrators\" of homeostases and immune or barrier defences interacting with nerves, immunocytes, organs, and routes. MCs after somatic programming as to \"destination & destiny\" (Treviranus 2017a, 6.2., 2018) rapidly intrude also into the brain\\'s parenchyma, first within the lymphatics and then putatively by crossing-over to extraluminal arterial routes. MCs transverse the BBBs, while macrophages only trespass in \"disease\" (Faraco et al. 2017). Both can be \"subverted\" by a list of microbes (and putatively blown up by COVID-19 within walls). Enuresis and MCs\\' reactions to clozapine add to the interactive support from (epi-)genetics and imaging. ', 'Clozapine prescribing in COVID-19 positive medical inpatients: a case series. There is both uncertainty regarding the safety of clozapine in COVID-19 patients owing to limited published data and a lack of consensus on continuing clozapine in patients with severe respiratory infections. COVID-19 is known to induce an acute immune response which can affect haematological parameters associated with clozapine monitoring, and systemic infection may reduce clozapine clearance. Clozapine, which has been associated with worse outcomes in some pneumonias, may in theory worsen outcomes in COVID-19. Despite these concerns, there are some data to indicate it is safe to continue clozapine in COVID-19 infection. In this retrospective case series, we describe our experiences of clozapine prescribing and disease progression of eight SARS-CoV-2 positive patients on medical wards in a major London teaching hospital. In four cases clozapine was stopped during the hospital admission. A COVID-19 pneumonia developed in four patients: three of these required intensive care unit admission for an average of 34 days. At the time of writing, three patients had died (two directly from COVID-19 pneumonia), two remained in general hospital wards, two were recovering in the community and one had been transferred to an inpatient psychiatric hospital. Follow-up length varied but in each case was not more than 104 days. Delirium was the most common adverse neuropsychiatric event, and in one case a relapse of psychosis occurred after cessation of clozapine. This retrospective case series illustrates the safe use of clozapine during COVID-19 infection. Our experiences suggest that consideration should be made to continuing clozapine even in those most unwell with COVID-19. We also identify areas which require larger scale hypothesis-testing research. ', \"Challenges in Prescribing Clozapine in the Era of COVID-19: A Review Focused on Immunological Implications. The global COVID-19 pandemic has disrupted every aspect of the healthcare system. Apart from the issues surrounding COVID-19 itself, care for existing patients has met many challenges. One such challenge is caring for patients who are on clozapine treatment and have been confirmed positive for COVID-19. Schizophrenia has been considered to have a deep connection with the immune system, and clozapine can induce further changes in this system. COVID-19 can ravage the compromised immune system and aggravate tissue damage. The intricate relations between schizophrenia, clozapine, and COVID-19 make it difficult to predict the clinical course of COVID-19 in clozapine-treated patients. However, the rigid prohibition on using clozapine if COVID-19 is confirmed may harm patients. Patients who have to use clozapine are often refractory cases with no alternatives. Therefore, the decision to maintain or stop clozapine must be made after a comprehensive review of the patient's unique situation. To do this, theoretical and practical issues surrounding the use of clozapine in COVID-19 should be reviewed and discussed. In this review, we gather useful information surrounding this issue and present an overview. Focusing on the immune system, various theoretical possibilities that could arise from schizophrenia, clozapine, and COVID-19 were carefully examined, and practical checklists for the care of these patients were explored. It is hoped that this review will convince many clinicians to pay attention to this momentous issue and facilitate more active sharing of clinical experiences. \"]}), (('C0026549', 'C2976303', 'C5203670'), {'C0026549 C2976303': ['Direct-acting antiviral interactions with opioids, alcohol or illicit drugs of abuse in HCV-infected patients. The hepatitis C virus (HCV) prevalence is extremely high in patients who consume and inject illicit drugs. Concerns about poor adherence and fear of interaction with drugs of abuse could constitute further disincentive for treatment initiation in these patients. We discussed the pharmacokinetics (PKs) and pharmacodynamics (PD) of currently prescribed direct antiviral agents (NSA5 inhibitors: daclatasvir, elbasvir, ledipasvir, pibrentasvir, velpatasvir; NS5B inhibitor: sofosbuvir; NS3/4A protease inhibitors: glecaprevir, grazoprevir, voxilaprevir) and most common substances of abuse (opioids: buprenorphine, fentanyl, heroin, methadone, morphine, oxycodone; stimulants: amphetamines, cathinones, cocaine; cannabinoids; ethanol). Overall, most direct-acting antivirals (DAAs) are substrates and inhibitors of the transmembrane transporter P-glycoprotein (P-gp), and several of them are metabolized by cytochrome P450 enzymes. Clinically relevant interactions are associated with P-gp and CYP3A modulators. Most substances of abuse are eliminated by Phase I and Phase II metabolizing enzymes, but none of them are either major inhibitors or inducers. PK studies did not show any relevant interactions between DAA and methadone or buprenorphine. Based on pharmacological considerations, neither efficacy loss nor adverse drug event associated with detrimental interaction are expected with opioids, stimulants, cannabinoids and ethanol. In summary, our literature review shows that the interaction potential of DAA with most opioids and illicit drugs is limited and should not be a hurdle to the initiate DAA. '], 'C2976303 C5203670': ['Small-molecule antiviral agents in ongoing clinical trials for COVID-19. The coronavirus disease 2019 (COVID-19) pandemic, due to the novel severe acute respiratory syndrome coronavirus 2 (SARS-CoV-2), emerged in December 2019 and has rapidly spread globally. As the confirmed number of cases has reached to 83 million worldwide, the potential severity and the deadly complications of the disease requires urgent development of effective drugs for prevention and treatment. No proven effective treatment for this virus currently exists. Most of the antiviral discovery efforts are focused on the repurposing of approved or clinical stage drugs. This review highlights the small-molecule repurposed antiviral agents that are currently under investigation in clinical trials for COVID19. These include viral polymerase and protease inhibitors remdesivir, galidesivir, favipiravir, ribavirin, sofosbuvir, tenofovir/emtricitabine, baloxavir marboxil, EIDD-2801, lopinavir/ritonavir; virus-/host-directed viral entry and fusion inhibitors arbidol chloroquine/hydroxychloroquine, chlorpromazine, camostat mesylate, nafamostat mesylate, bromhexine and agents with diverse/unclear mechanism of actions as oseltamivir, triazavirin, ivermectin, nitazoxanide, niclosamide and BLD-2660. The published preclinical and clinical data to date on these drugs as well as the mechanisms of action are reviewed. ', \"Minimum costs to manufacture new treatments for COVID-19. 'Repurposing' existing drugs to treat COVID-19 is vital to reducing mortality and controlling the pandemic. Several promising drugs have been identified and are in various stages of clinical trials globally. If efficacy of these drugs is demonstrated, rapid, mass availability at an affordable cost would be essential to ensuring equity and access especially amongst low- and middle-income economies. Minimum costs of production were estimated from the costs of active pharmaceutical ingredients using established methodology, which had good predictive accuracy for medicines for hepatitis C and HIV amongst others. Data were extracted from global export shipment records or analysis of the route of chemical synthesis. The estimated costs were compared with list prices from a range of countries where pricing data were available. Minimum estimated costs of production were US $0.93/day for remdesivir, $1.45/day for favipiravir, $0.08/day for hydroxychloroquine, $0.02/day for chloroquine, $0.10/day for azithromycin, $0.28/day for lopinavir/ritonavir, $0.39/day for sofosbuvir/daclatasvir and $1.09/day for pirfenidone. Costs of production ranged between $0.30 and $31 per treatment course (10-28 days). Current prices of these drugs were far higher than the costs of production, particularly in the US. Should repurposed drugs demonstrate efficacy against COVID-19, they could be manufactured profitably at very low costs, for much less than current list prices. Estimations for the minimum production costs can strengthen price negotiations and help ensure affordable access to vital treatment for COVID-19 at low prices globally. \", 'Nucleotide Analogues as Inhibitors of SARS-CoV-2 Polymerase, a Key Drug Target for COVID-19. SARS-CoV-2 is responsible for the current COVID-19 pandemic. On the basis of our analysis of hepatitis C virus and coronavirus replication, and the molecular structures and activities of viral inhibitors, we previously demonstrated that three nucleotide analogues (the triphosphates of Sofosbuvir, Alovudine, and AZT) inhibit the SARS-CoV RNA-dependent RNA polymerase (RdRp). We also demonstrated that a library of additional nucleotide analogues terminate RNA synthesis catalyzed by the SARS-CoV-2 RdRp, a well-established drug target for COVID-19. Here, we used polymerase extension experiments to demonstrate that the active triphosphate form of Sofosbuvir (an FDA-approved hepatitis C drug) is incorporated by SARS-CoV-2 RdRp and blocks further incorporation. Using the molecular insight gained from the previous studies, we selected the active triphosphate forms of six other antiviral agents, Alovudine, Tenofovir alafenamide, AZT, Abacavir, Lamivudine, and Emtricitabine, for evaluation as inhibitors of the SARS-CoV-2 RdRp and demonstrated the ability of these viral polymerase inhibitors to be incorporated by SARS-CoV-2 RdRp, where they terminate further polymerase extension with varying efficiency. These results provide a molecular basis for inhibition of the SARS-CoV-2 RdRp by these nucleotide analogues. If sufficient efficacy of some of these FDA-approved drugs in inhibiting viral replication in cell culture is established, they may be explored as potential COVID-19 therapeutics. ']}), (('C0026549', 'C0006560', 'C5203670'), {'C0006560 C0026549': ['Intravenous Dexamethasone Injection Reduces Pain From 12 to 21 Hours After Total Knee Arthroplasty: A Double-Blind, Randomized, Placebo-Controlled Trial. Pain after total knee arthroplasty (TKA) affects postoperative recovery and patient satisfaction. The analgesic benefits of corticosteroids have not been well studied. We, therefore, investigated the analgesic effects of intravenous (IV) dexamethasone (DEX) in patients undergoing a TKA. This was a randomized, double-blind, placebo-controlled trial of 0.15 mg/kg of IV DEX vs saline placebo in unilateral TKA. Fifty patients/arm were recruited. Primary outcomes were pain level, determined by a visual analog scale, and the amount of morphine consumption (mg) <=48 hours post-TKA. Secondary outcomes were rates of nausea and vomiting, C-reactive protein concentrations, and functional outcomes. The DEX group had a significantly lower mean visual analog scale score both at rest and during motion at 12, 15, 18, and 21 hours (P < .05). At 21 hours, the mean difference (Delta) in pain at rest was -11 points (95% confidence interval [CI], -21 to -2 points; P = .02) while the mean difference in pain during motion was -15 points (95% CI, -25 to -5 points; P = .004). The DEX group also had lower rates of nausea and vomiting: 29/50 (58%) vs 42/50 (84%) (P = .008) and lower mean C-reactive protein level: 89 vs 167, Delta = -78 mg/L (95% CI, -100 to -58 mg/L, P < .0001). There were no significant differences in mean morphine consumption by 48 hours, modified Western Ontario and McMaster University Osteoarthritis Index scores, and range of motion of the knee at 3-month follow-up (P > .05). IV DEX relieves postoperative pain between 12 to 21 hours after TKA and may be a useful adjunct for controlling pain in patients undergoing TKA. ', 'Morphine consumption during pregnancy exacerbates neonatal hypoxia-ischemia injury in rats. Hypoxia-Ischemia (HI) is the most common cause of death and disability in human infants. The use of opiate in pregnant women affects their children. The aim of this study was to evaluate the effect of morphine consumption during pregnancy and lactation on vulnerability to neonatal HI in rats. Female Wistar rats were randomly assigned into two groups: Group 1-Rats that did not receive any treatment during pregnancy and lactation and Group 2-Rats that received morphine during pregnancy and lactation. After delivery, male offspring were divided into four groups including: (a) SHAM, (b) SHAM/Morphine (SHAM/MO), (c) HI, (d) HI/Morphine (HI/MO). Seven days after HI induction, neurobehavioral tests were performed, and then, brain tissue was taken from the skull to measure cerebral edema, infarct volume, inflammatory factors, oxidative stress, and brain-derived neurotrophic factor (BDNF). Total antioxidant capacity (TAC) and BDNF levels in the HI/MO group were significantly lower than HI and SHAM groups. TNF-alpha, C-reactive protein and total oxidant capacity levels in the HI/MO group were significantly higher than HI and SHAM groups. Cerebral edema and infarct volume in the HI/MO group were significantly higher than the HI group. Based on the results, morphine consumption during pregnancy and lactation enhanced the deleterious effects of HI injury in pups. ', 'Do Corticosteroids Attenuate the Peri-Operative Acute Phase Response After Total Knee Arthroplasty? Following tissue injury, the acute phase response (APR) functions to survive and then repair injured tissue. An exuberant APR, which can be evoked by total knee arthroplasty (TKA), results in a hyper-inflammatory state, leading to pain, nausea, venous thromboembolism, or potentially life-threatening complications. Here, we observed the effects of peri-operative dexamethasone on the APR following TKA by trending C-reactive protein (CRP, mg/L) and fibrinogen (mg/dL). We hypothesize that the anti-inflammatory effects of dexamethasone can attenuate the APR after TKA and will be associated with decreased post-operative pain and nausea. A retrospective case-control study was performed on 188 unilateral TKA procedures. The patients were divided into a group receiving dexamethasone (10 mg intra-operatively and on post-operative day [POD] 1) and a group receiving no corticosteroids. Post-operative CRP, fibrinogen, morphine equivalents, and anti-emetic doses were recorded. Compared to the non-steroid group, patients receiving dexamethasone yielded a significantly decreased CRP on POD0 (5.5 vs 8.3), POD1 (11.8 vs 22.0), and POD2 (85.5 vs 148.9). A significant decrease in fibrinogen in patients receiving dexamethasone was seen on POD2 (460.0 vs 530.2). There was an increase in fibrinogen within the dexamethasone cohort at the 2-week visit (535.4 vs 488.9). Post-operative morphine equivalents administered were significantly decreased in patients receiving dexamethasone, but no difference in anti-emetic use was appreciated. These data support the hypothesis that the APR following TKA can be attenuated pharmacologically by corticosteroids. Further studies are needed to determine whether the attenuation of the APR with the use of corticosteroids prevents complications following TKA. '], 'C0006560 C5203670': ['Diabetes mellitus as a comorbidity in COVID-19 infection in the United Arab Emirates. To compare risk factors and clinical outcomes among COVID-19 patients with or without diabetes in the United Arab Emirates (UAE). Data of 350 COVID-19 positive patients, admitted to Al Kuwait Hospital in Dubai, UAE, from February to May 2020 was collected retrospectively, including demographic data, clinical symptoms, blood tests, as well as radiographical assessments, and clinical outcomes of COVID-19. The design of the study is a retrospective cohort study. COVID-19 patients with diabetes belong to an older age group, had a higher percentage of male patients, exhibited more lymphopenia and neutrophilia, and higher ferritin levels. Additionally, patients with diabetes presented fever and shortness of breath (SOB), displayed more bilateral airspace consolidation and opacities in their chest x-ray and CT scans, compared to non-diabetics. A higher percentage of critical, ICU-admitted, and death of COVID-19 cases in the diabetic group was also reported. This was along with a concomitant increase in C-reactive protein, procalcitonin, and lactate dehydrogenase levels. Diabetes is considered a comorbidity as diabetic patients showed more severe COVID-19 symptoms that led to critical clinical outcomes such as ICU admission and death. ', 'COVID-19 anosmia and gustatory symptoms as a prognosis factor: a subanalysis of the HOPE COVID-19 (Health Outcome Predictive Evaluation for COVID-19) registry. Olfactory and gustatory dysfunctions (OGD) are a frequent symptom of coronavirus disease 2019 (COVID-19). It has been proposed that the neuroinvasive potential of the novel SARS-CoV-2 could be due to olfactory bulb invasion, conversely studies suggest it could be a good prognostic factor. The aim of the current study was to investigate the prognosis value of OGD in COVID-19. These symptoms were recorded on admission from a cohort study of 5868 patients with confirmed or highly suspected COVID-19 infection included in the multicenter international HOPE Registry (NCT04334291). There was statistical relation in multivariate analysis for OGD in gender, more frequent in female 12.41% vs 8.67% in male, related to age, more frequent under 65 years, presence of hypertension, dyslipidemia, diabetes, smoke, renal insufficiency, lung, heart, cancer and neurological disease. We did not find statistical differences in pregnant (p = 0.505), patient suffering cognitive (p = 0.484), liver (p = 0.1) or immune disease (p = 0.32). There was inverse relation (protective) between OGD and prone positioning (0.005) and death (< 0.0001), but no with ICU (0.165) or mechanical ventilation (0.292). On univariable logistic regression, OGD was found to be inversely related to death in COVID-19 patients. The odds ratio was 0.26 (0.15-0.44) (p < 0.001) and Z was - 5.05. The presence of anosmia is fundamental in the diagnosis of SARS.CoV-2 infection, but also could be important in classifying patients and in therapeutic decisions. Even more knowing that it is an early symptom of the disease. Knowing that other situations as being Afro-American or Latino-American, hypertension, renal insufficiency, or increase of C-reactive protein (CRP) imply a worse prognosis we can make a clinical score to estimate the vital prognosis of the patient. The exact pathogenesis of SARS-CoV-2 that causes olfactory and gustative disorders remains unknown but seems related to the prognosis. This point is fundamental, insomuch as could be a plausible way to find a treatment. ', 'Differential Diagnosis of COVID-19: Importance of Measuring Blood Lymphocytes, Serum Electrolytes, and Olfactory and Taste Functions. Coronavirus disease 2019 (COVID-19) is associated with various symptoms and changes in hematological and biochemical variables. However, clinical features, which can differentiate COVID-19 from non-COVID-19, are not clear. We therefore examined the key clinical features of COVID-19 and non-COVID-19 patients. This study included 60 COVID-19 patients and 100 non-COVID-19 patients, diagnosed by PCR, and no significant differences in the age and sex were seen between the two groups. The frequencies of fatigue, loose stool, diarrhea, nasal obstruction, olfactory dysfunction, taste dysfunction, underlying hyperlipidemia, and the prescription of angiotensin II receptor blocker (ARB) were significantly higher in COVID-19 patients than those in non-COVID-19 patients. The counts of leucocytes, neutrophils, lymphocytes, eosinophils, monocytes, and basophils and the levels of chloride and calcium in blood of COVID-19 patients were significantly lower than those of non-COVID-19 patients. The frequencies of atypical lymphocytes and the levels of lactate dehydrogenase (LDH) and potassium were significantly higher in COVID-19 than those in non-COVID-19. The C-reactive protein (CRP) level in COVID-19 patients was significantly lower than that in non-COVID-19 patients, when we compared CRP levels among patients with elevated CRP. This study is the first to indicate that electrolyte levels and the frequency of atypical lymphocytes in COVID-19 are significantly different from those in non-COVID-19. Fatigue, loose stool, diarrhea, nasal obstruction, olfactory dysfunction, and taste dysfunction were the key symptoms of COVID-19. Furthermore, hyperlipidemia and ARB may be risk factors of COVID-19. In conclusion, leucocytes, leucocyte fractions, CRP, LDH, and electrolytes are useful indicators for COVID-19 diagnosis. ']}), (('C0026549', 'C0008269', 'C5203670'), {'C0008269 C0026549': ['Inhibiting effects of morphine, chloroquine, nonsteroidal and steroidal anti-inflammatory drugs on electrically-induced contractions of guinea-pig ileum and the reversing effect of prostaglandins. Twelve different non steroidal antiinflammatory drugs (NSAID), five steroidal antinflammatory drugs, morphine and chloroquine have been added at various concentrations to in vitro electrically-stimulated preparations of guinea-pig ileum. They all inhibit the electrically-induced contractions. Prostaglandins E as well as nicotine reverse this inhibition. These reversing effects are less evident on totally inhibiting drug concentrations than on partially inhibiting drug concentrations. It is suggested that this inhibiting effect could be due mostly to nervous as well as muscular membrane permeability changes induced by these drugs and not to inhibition of prostaglandin synthesis which could be only proposed as partial explanation for NSAID effects. The reversing action of nicotine could be related to a release of acetylcholine while a sensitization of guinea-pig ileum smooth muscle to acetylcholine could explain the reversing properties of prostaglandins. ', 'Binding of organic compounds to rat liver and lung. The binding of various radioisotopically labeled organic compounds to rat liver and lung was investigated in vitro. Pieces of rat lung and slices of rat liver were incubated at 37 degrees C under a nitrogen atmosphere in a modified Krebs-Ringer phosphate solution (pH 7.4) CONTAININg the compound to be studied. Of the neutral compounds investigated, digitoxin, digoxin and dexamethasone were highly bound to both liver and lung tissue, whereas the degree of binding of amitrole, erythritol, and ouabain was 20% or less. The weak acids which were bound to the greatest extent in both liver and lung were phenobarbital, pentobarbital, and diphenylhydantoin. Barbital was poorly bound, and there was no evidence for the binding of 5,5-dimethyloxazolidine-2,4-dione or p-aminohippuric acid in either tissue. Binding of the cardiac glycosides and the barbiturates directly paralleled their lipid solubilities. The degree of binding of neutral compounds and weak acids to lung and liver tissue did not vary greatly with concentration, even though broad concentration ranges were studied. This was also true of the weak base morphine. On the other hand, the binding to liver and lung of the organic bases nicotine, pilocarpine, d-amphetamine, lidocaine, erythromycin, and chloroquine, did vary with concentration. The quaternary ammonium compound decamethonium was bound only to liver, and this binding also varied with concentration. Two additional quaternary ammonium compounds, tetraethylammonium and N1-methylnicotinamide, were not significantly bound to either tissue. Comparisons on the basis of equal content of solids revealed that the binding of diverse organic compounds in liver is greater than or equal to that in lung. ', 'The spinal inhibition of N-type voltage-gated calcium channels selectively prevents scratching behavior in mice. The present study investigated the effects of pharmacological spinal inhibition of voltage-gated calcium channels (VGCC) in mouse pruritus. The epidural administration of P/Q-type MVIIC or PhTx3.3, L-type verapamil, T-type NNC 55-0396 or R-type SNX-482 VGCC blockers failed to alter the scratching behavior caused by the proteinase-activated receptor 2 (PAR-2) activator trypsin, injected into the mouse nape skin. Otherwise, trypsin-elicited pruritus was markedly reduced by the spinal administration of preferential N-type VGCC inhibitors MVIIA and Phalpha1beta. Time-course experiments revealed that Conus magus-derived toxin MVIIA displayed significant effects when dosed from 1h to 4h before trypsin, while the anti-pruritic effects of Phalpha1beta from Phoneutria nigriventer remained significant for up to 12h. In addition to reducing trypsin-evoked itching, MVIIA or Phalpha1beta also prevented the itching elicited by intradermal (i.d.) injection of SLIGRL-NH2, compound 48/80 or chloroquine, although they did not affect H2O2-induced scratching behavior. Furthermore, the co-administration of MVIIA or Phalpha1beta markedly inhibited the pruritus caused by the spinal injection of gastrin-releasing peptide (GRP), but not morphine. Notably, the epidural administration of MVIIA or Phalpha1beta greatly prevented the chronic pruritus allied to dry skin model. However, either tested toxin failed to alter the edema formation or neutrophil influx caused by trypsin, whereas they significantly reduced the c-Fos activation in laminas I, II and III of the spinal cord. Our data bring novel evidence on itching transmission mechanisms, pointing out the therapeutic relevance of N-type VGCC inhibitors to control refractory pruritus. '], 'C0008269 C5203670': ['Chloroquine or hydroxychloroquine for prophylaxis of COVID-19. ', 'Risk Assessment of Drug-Induced Long QT Syndrome for Some COVID-19 Repurposed Drugs. The risk-benefit ratio associated with the use of repurposed drugs to treat severe acute respiratory syndrome-coronavirus 2 (SARS-CoV-2)-related infectious coronavirus disease 2019 (COVID-19) is complicated because benefits are awaited, not proven. A thorough literature search was conducted to source information on the pharmacological properties of 5 drugs and 1 combination (azithromycin, chloroquine, favipiravir, hydroxychloroquine, remdesivir, and lopinavir/ritonavir) repurposed to treat COVID-19. A risk assessment of drug-induced long QT syndrome (LQTS) associated with COVID-19 repurposed drugs was performed and compared with 23 well-known torsadogenic and 10 low torsadogenic risk compounds. Computer calculations were performed using pharmacokinetic and pharmacodynamic data, including affinity to block the rapid component of the delayed rectifier cardiac potassium current (IKr ) encoded by the human ether-a-go-go gene (hERG), propensity to prolong cardiac repolarization (QT interval) and cause torsade de pointes (TdP). Seven different LQTS indices were calculated and compared. The US Food and Drug Administration (FDA) Adverse Event Reporting System (FAERS) database was queried with specific key words relating to arrhythmogenic events. Estimators of LQTS risk levels indicated a very high or moderate risk for all COVID-19 repurposed drugs with the exception for azithromycin, although cases of TdP have been reported with this drug. There was excellent agreement among the various indices used to assess risk of drug-induced LQTS for the 6 repurposed medications and 23 torsadogenic compounds. Based on our results, monitoring of the QT interval shall be performed when some COVID-19 repurposed drugs are used, as such monitoring is possible for hospitalized patients or with the use of biodevices for outpatients. ', 'Characteristics of registered studies for Coronavirus disease 2019 (COVID-19): A systematic review. The World Health Organization characterized the Coronavirus disease 2019 (COVID-19) as a pandemic on March 11th. Many clinical trials on COVID-19 have been registered, and we aim to review the study characteristics and provide guidance for future trials to avoid duplicated effort. Studies on COVID-19 registered before March 3rd, 2020 on eight registry platforms worldwide were searched and the data of design, participants, interventions, and outcomes were extracted and analyzed. Three hundred and ninety-three studies were identified and 380 (96.7%) were from mainland China, while 3 in Japan, 3 in France, 2 in the US, and 3 were international collaborative studies. Two hundred and sixty-six (67.7%) aimed at therapeutic effect, others were for prevention, diagnosis, prognosis, etc. Two hundred and two studies (51.4%) were randomized controlled trials. Two third of therapeutic studies tested Western medicines including antiviral drugs (17.7%), stem cell and cord blood therapy (10.2%), chloroquine and derivatives (8.3%), 16 (6.0%) on Chinese medicines, and 73 (27.4%) on integrated therapy of Western and Chinese medicines. Thirty-one studies among 266 therapeutic studies (11.7%) used mortality as primary outcome, while the most designed secondary outcomes were symptoms and signs (47.0%). Half of the studies (45.5%) had not started recruiting till March 3rd. Inappropriate outcome setting, delayed recruitment and insufficient numbers of new cases in China implied many studies may fail to complete. Strategies and protocols of the studies with robust and rapid data sharing are warranted for emergency public health events, helping the timely evidence-based decision-making. ']}), (('C0026549', 'C0085149', 'C5203670'), {'C0026549 C0085149': ['Therapeutic drug monitoring of non-anticancer drugs in cancer patients. Therapeutic drug monitoring (TDM) or the measurement of drug concentrations in plasma, serum or blood, aims to improve clinical activity, avoid toxicity, and reduce the costs of drug treatment. Specific conditions for TDM to be reasonably applied include the availability of a validated assay, a considerable interindividual pharmacokinetic variability, a high correlation between drug concentration and toxicity, and a narrow therapeutic index. Cancer patients are especially prone to drug-drug interactions due to significant comedication, impaired liver and kidney function and hypoalbuminemia with altered drug binding. This article discusses TDM for various broadly used non-anticancer drugs in cancer patients and gives specific recommendations. Selected drugs covered in this article include those regularly used in febrile neutropenic patients such as the glycopeptide antibiotics, aminoglycosides, the antifungal agents, including flucytosine and azole compounds, the anticonvulsants phenytoin, carbamazepine and valproate, the tricyclic antidepressants, selective-serotonin-reuptake inhibitors, lithium, morphine, digitalis glycosides and the immunosupressants cyclosporin A, tacrolimus, sirolimus and mycophenolate mofetil, crucial compounds in the setting of bone marrow transplantation. In all cases, treating physicians have to consider the variability in patient age, disease stage, comedication, organ function and protein level to weigh the pros and cons of TDM in the individual cancer patient. ', 'High-alert medications for pediatric patients: an international modified Delphi study. The available knowledge about high-alert medications for children is limited. Because children are particularly vulnerable to medication errors, a list of high-alert medication specifically for children would help to develop effective strategies to prevent patient harm. Therefore, we conducted an international modified Delphi study and validated the results with reports on medication incidents in children based on national data. The objective of this study was to generate an internationally accepted list of high-alert medications for a pediatric inpatient population from birth to 18-years old. The rating panel consisted of 34 experts from 13 countries. In total, 14 medications and 4 medication classes were included with the predefined level of consensus of 75%. The high-alert medications were: amiodarone, digoxin, dopamine, epinephrine, fentanyl, gentamycin, heparine, insulin, morphine, norepinephrine, phenytoin, potassium, propofol and tacrolimus. The high-alert medication classes included in the final list were: chemotherapeutic drugs, immunosuppressive medications, lipid/total parenteral nutrition and opioids. An international group of experts defined 14 medications and 4 medication classes as high-alert for children. This list might be helpful as a starting point for individual hospitals to develop their own high-alert list tailored to their unique situation. ', 'Inhibition by immunophilin ligands of morphine-induced tolerance and dependence in guinea pig ileum. Immunophilin ligands, cyclosporine A and FK506 (tacrolimus), besides their immunosuppressive action, have several effects on different neural functions, such as modulation of the release of many neurotransmitters, the reduction of nitric oxide (NO) production by the inhibition of dephosphorylation of neuronal nitric oxide synthase (nNOS) and the alteration of the expression of certain genes. Many of these actions apparently occur through the inhibition of calcineurin, a calcium-calmodulin-dependent phosphatase. On the other hand, several studies have shown that NO has a critical role in opioid-induced tolerance and dependence in both in vivo and in vitro models. In the present study, the effect of cyclosporine A and FK506 on the development of tolerance to and dependence on morphine in the guinea pig ileum was assessed. Morphine inhibited electrically stimulated twitch of ileum in a concentration-dependent manner (pD(2)=7.45+/-0.07). Tolerance to this effect was induced by incubation of ileum with 2 x IC(50) or 4 x IC(50) of morphine for 2 h that induced a degree of tolerance of 6.81 and 18.10, respectively. The co-incubation of ileum with morphine along with either cyclosporine A or FK506 reduced the degree of tolerance significantly (P<0.05) and restored the sensitivity of ileum to the morphine inhibitory effect. Dependence was induced by incubation with 4 x IC(50) of morphine for 2 h and was assessed based on naloxone-induced contractions (10(-5) M). Cyclosporine A (10(-9) M) and FK506 (10(-9) M) can attenuate the development of dependence to morphine as shown by the significant decrease in naloxone-induced contractions (P<0.05). These results suggest that immunophilin ligands at very low concentrations (nanomolar) can reduce the induction of acute tolerance to and dependence on morphine in the myenteric plexus of guinea pig ileum. '], 'C0085149 C5203670': [\"Unexpected better outcome in a liver transplant recipient with COVID-19: a beneficial effect of tacrolimus? Coronavirus disease 2019 (COVID-19) is a serious respiratory illness caused by SARS-CoV-2. There is controversy about whether their immunosuppressive status is a risk factor or a protective factor for developing severe disease. We report herein the clinical outcome of three family members that had COVID-19 infection, presenting with and without different risk factors that have been described in more severe disease. Paradoxically, the patient with more risks of developing a severe disease, a 64-year-old woman, 2-years liver transplant recipient under treatment with tacrolimus, presented a similar outcome compared to the two other members of the family. She showed shorter hospitalization time, similar clinical outcome with fewer oxygen needs. The present clinical observation raises the question about the possible beneficial effect of tacrolimus in patients with COVID-19. Indeed, tacrolimus (FK-506) have an inhibitory effect on human coronaviruses by: 1) an antiviral effect by binding to the FK-506-binding proteins (FKBP) with a subsequent inhibition of their peptidyl-prolyl cis/trans isomerase (PPIase) activity, which seems to be important for the coronavirus life cycle; and 2) regulating the immune response by the inhibition of the activity of the nuclear factor of activated T-cells (NFAT) required for immunosuppression. The present observation states that liver recipients' patients with COVID-19 may not have worse outcomes when compared with other patients that have COVID-19 risk factors and puts in evidence the two mechanisms related to tacrolimus. \", 'COVID-19 infection in a kidney transplant recipient-special emphasis on pharmacokinetic interactions: A case report. Solid organ transplant recipients are considered to be at high-risk of developing coronavirus disease 2019 (COVID-19)-related complications. The optimal treatment for this patient group is unknown. Consequently, the treatment of COVID-19 in kidney transplant recipients should be determined individually, considering patient age and comorbidities, as well as graft function, time of transplant, and immunosuppressive treatment. Immunosuppressive treatments may give rise to severe COVID-19. On the contrary, they may also lead to a milder and atypical presentation by diminishing the immune system overdrive. A 50-year old female kidney transplant recipient presented to the transplant clinic with a progressive dry cough and fever that started three days ago. Although the COVID-19 test was found to be negative, chest computed tomography images showed consolidation typical of the disease; thus, following hospital admission, anti-bacterial and COVID-19 treatments were initiated. However, despite clinical improvement of the lung consolidation, her creatinine levels continued to increase. Ultrasound of the graft showed no pathology. The tacrolimus blood level was determined and the elevation in creatinine was found to be related to an interaction between tacrolimus and azithromycin. During the COVID-19 pandemic, various single or combination drugs have been utilized to find an effective treatment regimen. This has increased the possibility of drug interactions. A limited number of studies published in the literature have highlighted some of these pharmacokinetic interactions. Treatments used for COVID-19 therapy; azithromycin, atazanavir, lopinavir/ritonavir, remdesivir, favipiravir, chloroquine, hydroxychloroquine, nitazoxanide, ribavirin, and tocilizumab, interact with immunosuppressive treatments, most importantly with calcineurin inhibitors. Thus, their levels should be frequently monitored to prevent toxicity. ', 'Spectrum of Coronavirus Disease 2019 Outcomes in Kidney Transplant Recipients: A Single-Center Experience. We reviewed the clinical experience of kidney transplant recipients diagnosed with severe acute respiratory syndrome coronavirus 2 infection in order to understand the impact of the current coronavirus disease 2019 (COVID-19) pandemic infection on transplant recipients. Given that early reports from heavily affected areas demonstrated a very high mortality rate amongst kidney transplant recipients, ranging between 30% and 40%, we sought to evaluate outcomes at a center with a high burden of cases but not experiencing acute crisis due to COVID-19. In this single center retrospective observational study, medical records of all kidney transplant recipients at the UCLA Medical Center were reviewed for a diagnosis of COVID-19 by polymerase chain reaction, followed by chart review to determine kidney transplant characteristics and clinical course. A total of 41 kidney transplant recipients were identified with COVID-19 positive polymerase chain reaction. Recipients had been transplanted for a median of 47 months before diagnosis. The large proportion of infected individuals were minorities (Hispanic 65.9%, black 14.6%), on prednisone, tacrolimus, and mycophenolate mofetil (95.1%, 87.8%, and 87.8%, respectively), and had excellent allograft function (median 1.25 mg/dL). The most common presenting symptoms were fever, dyspnea, or cough. Most patients were hospitalized (63.4%); mortality was 9.8% and occurred only in patients in the intensive care unit. The most common treatment was reduction or removal of antimetabolite (77.8%). Approximately 26.9% presented with AKI. COVID-19 infection in kidney transplant recipients results in a higher rate of hospitalization and mortality than in the general population. In an area with a high number of infections, the mortality rate was lower compared with earlier reports from areas experiencing early surge and strain on the medical system. Minorities were disproportionately affected. Future studies are needed to determine optimal approach to treatment and management of immunosuppression in kidney transplant recipients with COVID-19 infection. ']}), (('C0026549', 'C0209368', 'C5203670'), {'C0026549 C0209368': ['Therapeutic drug monitoring of non-anticancer drugs in cancer patients. Therapeutic drug monitoring (TDM) or the measurement of drug concentrations in plasma, serum or blood, aims to improve clinical activity, avoid toxicity, and reduce the costs of drug treatment. Specific conditions for TDM to be reasonably applied include the availability of a validated assay, a considerable interindividual pharmacokinetic variability, a high correlation between drug concentration and toxicity, and a narrow therapeutic index. Cancer patients are especially prone to drug-drug interactions due to significant comedication, impaired liver and kidney function and hypoalbuminemia with altered drug binding. This article discusses TDM for various broadly used non-anticancer drugs in cancer patients and gives specific recommendations. Selected drugs covered in this article include those regularly used in febrile neutropenic patients such as the glycopeptide antibiotics, aminoglycosides, the antifungal agents, including flucytosine and azole compounds, the anticonvulsants phenytoin, carbamazepine and valproate, the tricyclic antidepressants, selective-serotonin-reuptake inhibitors, lithium, morphine, digitalis glycosides and the immunosupressants cyclosporin A, tacrolimus, sirolimus and mycophenolate mofetil, crucial compounds in the setting of bone marrow transplantation. In all cases, treating physicians have to consider the variability in patient age, disease stage, comedication, organ function and protein level to weigh the pros and cons of TDM in the individual cancer patient. '], 'C0209368 C5203670': ['COVID-19 morbidity in patients after orthotopic heart transplantation - single center clinical observation. The study is a prospective clinical observation of patients after orthotopic heart transplantation in a large academic medical center in relation to COVID-19 morbidity. The study population was comprised of 552 patients. All patients were consulted and advised by telephone as regards the prophylaxis of SARS-CoV-2 infection. Hospital and outpatient follow-ups were limited to the minimum. Preventive modification of immunosuppression was not recommended in relation to the pandemic. Three patients with multiple comorbidities (a woman aged 60, a man aged 59, and another man aged 83; 2.25 years, 5.5 years, and 7.5 years after heart transplantation, respectively) and one patient with concomitant arterial hypertension (a woman aged 48, 5.5 years after heart transplantation) presented with a symptomatic COVID-19 infection. Three of the patients were on tacrolimus immunosuppression, and both female patients were additionally on therapy with mycophenolate mofetil, which was discontinued following the diagnosis of infection. One male patient received combined therapy of cyclosporine A and mycophenolate mofetil. The 60-year-old woman presented with gastrointestinal manifestations of the COVID-19 infection which were of moderate severity. The recovery was achieved. The 59-year-old man presented with myocardial infarction, exacerbated renal insufficiency that required hemodialysis and cardiorespiratory failure complicated by bacterial sepsis. As a result, the patient died. The 83-year-old male patient reporting fever, myalgia, fatigue, cough and dyspnea was admitted to hospital and deceased due to septic shock two days after admission. The 48-year old woman who presented with mild symptoms of the upper respiratory tract infection recovered after two weeks. Symptomatic treatment was used in all the patients. Another male patient (aged 45 years, 8 years after orthotopic heart transplant with no significant comorbidities) was an asymptomatic carrier of SARS-CoV-2 and remained under hospital care. Of 552 patients after orthotopic heart transplantation, two SARS-CoV-2-related deaths were reported. ', 'Immunosuppressive and immunomodulator therapy for rare or uncommon skin disorders in pandemic days. Immunosuppressive and immunomodulatory therapies are important in dermatology, but indications are influenced by SARS-CoV-2. We will focus on skin disorders such as autoimmune connective tissue disorders, neutrophilic dermatoses, and vasculitis. Immunomodulators such as colchicine and antimalarials can easily be preferred taking their beneficial effects on COVID-19 into consideration and also given their wide spectrum of action. Among the conventional therapies, methotrexate, azathioprine, and mycophenolate mofetil increase the risk of infection, and thus their use is recommended only when necessary and at low doses. On the other hand, use of cyclosporine is also not recommended as it increases the risk of hypertension, which is susceptible to COVID-19. Anti-TNF agents from among the biological therapies appear to be slightly risky in terms of susceptibility to infection. However, there are ongoing studies which suggest that some biological treatments may reduce cytokine storm impeding the COVID-19 progression as a result, in spite of their susceptibilities to COVID-19. Patients, who will be started on immunosuppressive therapy, should be tested for COVID-19 prior to the therapy, and in the event that COVID-19 is suspected, the therapy should be discontinued. ', 'Outcomes of coronavirus disease 2019 in patients with neuromyelitis optica and associated disorders. Outcomes of coronavirus disease 2019 (COVID-19) in patients with neuromyelitis optica spectrum disorders (NMOSD) or myelin oligodendrocyte glycoprotein antibody-associated disease (MOGAD), often treated with immunosuppressive therapies, are still unknown. We conducted a multicenter, retrospective, observational cohort study among all French expert centers for neuromyelitis optica and related disorders. Patients with NMOSD or MOGAD included in the study received a confirmed or highly suspected diagnosis of COVID-19 between 1 March 2020 and 30 June 2020. Main outcome was COVID-19 severity score assessed on a seven-point ordinal scale ranging from 1 (not hospitalized with no limitations on activities) to 7 (death). Fifteen cases (mean [SD] age: 39.3 [14.3] years, 11 female) were included. Five patients (33.3%) were hospitalized, all receiving rituximab. A 24-year-old patient with positive aquaporine-4 antibody, with obesity as comorbidity, needed mechanical ventilation. Outpatients were receiving anti-CD20 (5), mycophenolate mofetil (3) or azathioprine (3). They were younger (mean [SD] age: 37.0 [13.4] years), with a longer disease duration (mean [SD]: 8.3 [6.3] years) and had a lower expanded disability severity score (EDSS) score (median [range] EDSS: 2.5 [0-4]) relative to patients requiring hospitalization (mean [SD] age: 44.0 [16.4] years, mean [SD] disease duration: 5.8 [5.5] years, median [range] EDSS: 4 [0-6.5]). COVID-19 outcome was overall favorable in this cohort. Larger international studies are needed to identify risk factors of severe COVID-19; however, we recommend personal protective measures to reduce risk of SARS-CoV-2 infection in this immunocompromised population. ']}), (('C0026549', 'C0020336', 'C5203670'), {'C0020336 C0026549': ['Hypertrophic Osteoarthropathy and Follicular Thyroid Cancer: A Rare Paraneoplastic Syndrome. Hypertrophic osteoarthropathy (HOA) is a rare condition characterized by bone and joint pain and digital clubbing usually associated with bronchopulmonary diseases. Primary HOA is rare and the pathogenesis remains unclear. Cases of HOA as a paraneoplastic syndrome associated with thyroid carcinoma are very rare - only 2 cases have been described in the literature. We present the first case of a 40-year-old patient affected by HOA associated with invasive differentiated follicular thyroid carcinoma operated in 2 stages. Both operations were followed by radioiodine ablation, and then a rapid unresectable local recurrence developed requiring cervical radiotherapy (70 Gy). A second treatment with 100 mCi of (131)I confirmed it was a refractory thyroid cancer. Further surgery confirmed a poorly differentiated follicular cancer and 12 cycles of chemotherapy by gemcitabine and oxaliplatin followed. During the 8 years of follow-up, cervical recurrence was stable, but severe episodes of hemoptysis occurred requiring iterative embolization of the bronchial and tracheal arteries. Other lung diseases were excluded. Digital clubbing appeared, which was associated with arthritis, bone pain and inflammatory syndrome. X-rays and magnetic resonance imaging found periosteal apposition in the long bones; bone scintigraphy confirmed the HOA diagnosis. Other causes of arthritis were eliminated. She was treated with colchicine, corticosteroids and nonsteroidal anti-inflammatory drugs, but only the combination of methotrexate and hydroxychloroquine reduced the morphine requirements. HOA is exceptionally associated with thyroid cancer and we raised the hypothesis of the secretion of a circulating factor in a patient with invasive and recurrent follicular thyroid cancer, refractory to radioiodine. '], 'C0020336 C5203670': ['', 'The Role of Hydroxychloroquine in COVID-19: A Systematic Review and Meta-Analysis. A systematic review and meta-analysis was carried out to examine the role of hydroxychloroquine (HCQ) in the treatment of COVID-19. We performed a systematic search in PubMed, Scopus, Embase, CochraneLibrary, Web of Science, Google Scholar, and medRxiv pre-print databases using available MeSH terms for COVID-19 and hydroxychloroquine. Data from all studies that focused on the effectiveness of HCQ with or without the addition of azithromycin (AZM) in confirmed COVID-19 patients, which were published up to 12 September 2020, were collated for analysis using CMA v.2.2.064. Our systematic review retrieved 41 studies. Among these, 37 studies including 45,913 participants fulfilled the criteria for subsequent meta-analysis. The data showed no significant difference in treatment efficacy between the HCQ and control groups (RR: 1.02, 95% CI, 0.81-1.27). Combination of HCQ with AZM also did not lead to improved treatment outcomes (RR: 1.26, 95% CI, 0.91-1.74). Furthermore, the mortality difference was not significant, neither in HCQ treatment group (RR: 0.86, 95% CI, 0.71-1.03) nor in HCQ plus AZM treatment group (RR: 1.28, 95% CI, 0.76-2.14) in comparison to controls. Meta-regression analysis showed that age was the factor that significantly affected mortality (P<0.00001). The meta-analysis found that there was no clinical benefit of using either HCQ by itself or in combination with AZM for the treatment of COVID-19 patients. Hence, it may be prudent for clinicians and researchers to focus on other therapeutic options that may show greater promise in this disease. ', 'Clinical characteristics of patients hospitalized with COVID-19 in Spain: Results from the SEMI-COVID-19 Registry. Spain has been one of the countries most affected by the COVID-19 pandemic. To create a registry of patients with COVID-19 hospitalized in Spain, in order to improve our knowledge of the clinical, diagnostic, therapeutic, and prognostic aspects of this disease. A multicentre retrospective cohort study, including consecutive patients hospitalized with confirmed COVID-19 throughout Spain. Epidemiological and clinical data, additional tests at admission and at seven days, treatments administered, and progress at 30 days of hospitalization were collected from electronic medical records. Up to June 30th 2020, 15,111 patients from 150 hospitals were included. Their median age was 69.4 years (range: 18-102 years) and 57.2% were male. Prevalences of hypertension, dyslipidemia, and diabetes mellitus were 50.9%, 39.7%, and 19.4%, respectively. The most frequent symptoms were fever (84.2%) and cough (73.5%). High values of ferritin (73.5%), lactate dehydrogenase (73.9%), and D-dimer (63.8%), as well as lymphopenia (52.8%), were frequent. The most used antiviral drugs were hydroxychloroquine (85.6%) and lopinavir/ritonavir (61.4%); 33.1% developed respiratory distress. Overall mortality rate was 21.0%, with a marked increase with age (50-59 years: 4.7%, 60-69 years: 10.5%, 70-79 years: 26.9%, >=80 years: 46.0%). The SEMI-COVID-19 Network provides data on the clinical characteristics of patients with COVID-19 hospitalized in Spain. Patients with COVID-19 hospitalized in Spain are mostly severe cases, as one in three patients developed respiratory distress and one in five patients died. These findings confirm a close relationship between advanced age and mortality. ']}), (('C0026549', 'C1609165', 'C5203670'), {'C0026549 C1609165': ['Gateways to clinical trials. Aclidinium bromide, AE-37, Alemtuzumab, AMA1-C1/ISA 720, Amlodipine besylate/atorvastatin calcium, Arachidonic acid, Arbaclofen placarbil, Aripiprazole, ARQ-621, Azelnidipine, Azilsartan medoxomil potassium; Bevacizumab, Biphasic insulin aspart, Bortezomib; Choriogonadotropin alfa, CTS-1027; Dapagliflozin, Dasatinib, Deforolimus, Degarelix acetate, Denufosol tetrasodium, Desvenlafaxine succinate, Dronedarone hydrochloride, Duloxetine hydrochloride, Dutasteride; Enfuvirtide, Entecavir, Etaracizumab, Everolimus, Exenatide, Ezetimibe; Ferric carboxymaltose, Fludarabine, Foretinib; Gefitinib, GFT-505, GSK-256066; HPV-6/11/16/18, HuM195/rGel, HyperAcute-Lung cancer vaccine; I5NP, Imatinib mesylate, Imexon, Insulin detemir, Insulin glargine, Ivabradine hydrochloride; L2G7, Lacosamide, Lapatinib ditosylate, Lenalidomide, Lidocaine/prilocaine, Liposomal vincristine, Liraglutide, Lixivaptan; Meningococcal (groups A, C, Y and W-135) oligosaccharide diphtheria CRM197 conjugate vaccine, Methoxy polyethylene glycol-epoetin-beta, Mirabegron, Morphine/oxycodone, MR Vaccine, MSC-1936369B, Mycophenolic acid sodium salt; Narlaprevir, N-Desmethylclozapine; Ocriplasmin, Olaparib, Olmesartan medoxomil, Olmesartan medoxomil/azelnidipine, ONO-5334, ONO-8539; Palifermin, Panitumumab, Pardoprunox hydrochloride, PCV7, Peginterferon alfa-2a, Peginterferon alfa-2b, Pemetrexed disodium, Pexelizumab, PF-337210, Pitavastatin calcium; Raltegravir potassium, Recombinant interleukin-7, Regadenoson, Reniale, Roflumilast, Rosuvastatin calcium; Safinamide mesilate, SB-1518, SCH-527123, Selumetinib, Sipuleucel-T, Solifenacin succinate, Sorafenib, Sunitinib malate; Tadalafil, Talaporfin sodium, Tanespimycin, Technosphere/Insulin, Telaprevir, Telatinib, Telcagepant, Telmisartan/hydrochlorothiazide, Teriparatide, Testosterone transdermal gel, TH-302, Tiotropium bromide, Tocilizumab, Trabedersen, Tremelimumab; Valsartan/amlodipine besylate, Vernakalant hydrochloride, Visilizumab, Voreloxin, Vorinostat. '], 'C1609165 C5203670': ['Spread of OXA-48-producing Klebsiella pneumoniae among COVID-19-infected patients: The storm after the storm. The impact of secondary infections by multidrug-resistant bacteria in COVID-19- infected patients has yet to be evaluated. Here, we report the clinical and molecular features of an outbreak of seven patients carrying CTX-M-15- and OXA-48-producing Klebsiella pneumoniae belonging to ST326 during COVID-19 pandemic in an ICU in northern Spain. Those patients were admitted to beds close to each other, two of them developed ventilator-associated pneumonia (VAP), one exhibited primary bacteremia and the remaining four were considered to be colonized. None of them was colonized prior to admission to the ICU an all, except one of those who developed VAP, were discharged. Hydroxychloroquine and lopinavir/ritonavir were administered to all of them as COVID-19 therapy and additionally, three of them received tocilizumab and corticosteroids, respectively. Reusing of personal protective equipment due to its initial shortage, relaxation in infection control measures and negative-pressure air in ICU rooms recommended for the protection of health care workers (HCWs), could have contributed to this outbreak. Maximization of infection control measures is essential to avoid secondary infections by MDR bacteria in COVID-infected patients. ', 'Epigenetic susceptibility to severe respiratory viral infections and its therapeutic implications: a narrative review. The emergence of highly pathogenic strains of influenza virus and coronavirus (CoV) has been responsible for large epidemic and pandemic outbreaks characterised by severe pulmonary illness associated with high morbidity and mortality. One major challenge for critical care is to stratify and minimise the risk of multi-organ failure during the stay in the intensive care unit (ICU). Epigenetic-sensitive mechanisms, including deoxyribonucleic acid (DNA) and ribonucleic acid (RNA) methylation, histone modifications, and non-coding RNAs may lead to perturbations of the host immune-related transcriptional programmes by regulating chromatin structure and gene expression patterns. Viruses causing severe pulmonary illness can use epigenetic-regulated mechanisms during host-pathogen interaction to interfere with innate and adaptive immunity, adequacy of inflammatory response, and overall outcome of viral infections. For example, Middle East respiratory syndrome-CoV and H5N1 can affect host antigen presentation through DNA methylation and histone modifications. The same mechanisms would presumably occur in patients with coronavirus disease 2019, in which tocilizumab may epigenetically reduce microvascular damage. Targeting epigenetic pathways by immune modulators (e.g. tocilizumab) or repurposed drugs (e.g. statins) may provide novel therapeutic opportunities to control viral-host interaction during critical illness. In this review, we provide an update on epigenetic-sensitive mechanisms and repurposed drugs interfering with epigenetic pathways which may be clinically suitable for risk stratification and beneficial for treatment of patients affected by severe viral respiratory infections. ', 'SAFETY PROFILE OF TREATMENTS ADMINISTERED IN COVID 19 INFECTION IN PREGNANT WOMEN. SARS-CoV-2 infection has unexpectedly arrived in our society. In pregnant women, the situation has been similar to general population. Some drugs have been used empirically, and obstetricians have to consider whether the same treatments used in the general population were valid for pregnant women with severe disease, according to their safety profile for both the mother and the foetus. There has been a wide experience with the use of hydroxychloroquine and lopinavir/ritonavir in pregnant women. Tocilizumab and interferon beta could be used if benefits exceed risks. There is no experience using remdesivir in pregnancy. ']})])"
      ]
     },
     "execution_count": 68,
     "metadata": {},
     "output_type": "execute_result"
    }
   ],
   "source": [
    "morphine_covid19_paths_items = df['sp_w_pmids'][224].items()\n",
    "morphine_covid19_paths_items"
   ]
  },
  {
   "cell_type": "markdown",
   "id": "a172e030-2f18-4fae-8afd-9fe4f7227d14",
   "metadata": {},
   "source": [
    "### 2.5. Use SBERT to find top k closest"
   ]
  },
  {
   "cell_type": "code",
   "execution_count": 40,
   "id": "0186e197-8edc-4494-b0f1-2181ff0e7d6e",
   "metadata": {
    "execution": {
     "iopub.execute_input": "2024-05-06T17:07:50.760882Z",
     "iopub.status.busy": "2024-05-06T17:07:50.760481Z",
     "iopub.status.idle": "2024-05-06T17:07:50.767227Z",
     "shell.execute_reply": "2024-05-06T17:07:50.766168Z",
     "shell.execute_reply.started": "2024-05-06T17:07:50.760855Z"
    }
   },
   "outputs": [
    {
     "data": {
      "text/plain": [
       "6"
      ]
     },
     "execution_count": 40,
     "metadata": {},
     "output_type": "execute_result"
    }
   ],
   "source": [
    "len(path1_C0021760_CGF)"
   ]
  },
  {
   "cell_type": "code",
   "execution_count": 41,
   "id": "1bf34a4e-92d7-4d46-bbf7-490026eabd08",
   "metadata": {
    "execution": {
     "iopub.execute_input": "2024-05-06T17:07:53.079064Z",
     "iopub.status.busy": "2024-05-06T17:07:53.078672Z",
     "iopub.status.idle": "2024-05-06T17:08:02.138433Z",
     "shell.execute_reply": "2024-05-06T17:08:02.137473Z",
     "shell.execute_reply.started": "2024-05-06T17:07:53.079038Z"
    }
   },
   "outputs": [
    {
     "name": "stdout",
     "output_type": "stream",
     "text": [
      "[('Early Viral Clearance and Antibody Kinetics of COVID-19 Among Asymptomatic Carriers. Asymptomatic carriers contribute to the spread of Coronavirus Disease 2019 (COVID-19), but their clinical characteristics, viral kinetics, and antibody responses remain unclear. A total of 56 COVID-19 patients without symptoms at admission and 19 age-matched symptomatic patients were enrolled. RNA of SARS-CoV-2 was tested using transcriptase quantitative PCR, and the total antibodies (Ab), IgG, IgA, and IgM against the SARS-CoV-2 were tested using Chemiluminescence Microparticle Immuno Assay. Among 56 patients without symptoms at admission, 33 cases displayed symptoms and 23 remained asymptomatic throughout the follow-up period. 43.8% of the asymptomatic carriers were children and none of the asymptomatic cases had recognizable changes in C-reactive protein or interleukin-6, except one 64-year-old patient. The initial threshold cycle value of nasopharyngeal SARS-CoV-2 in asymptomatic carriers was similar to that in pre-symptomatic and symptomatic patients, but the positive viral nucleic acid detection period of asymptomatic carriers (9.63 days) was shorter than pre-symptomatic patients (13.6 days). There were no obvious differences in the seropositive conversion rate of total Ab, IgG, and IgA among the three groups, though the rates of IgM varied largely. The average peak IgG and IgM COI of asymptomatic cases was 3.5 and 0.8, respectively, which is also lower than those in symptomatic patients with peaked IgG and IgM COI of 4.5 and 2.4 (p < 0.05). Young COVID-19 patients seem to be asymptomatic cases with early clearance of SARS-CoV-2 and low levels of IgM generation but high total Ab, IgG, and IgA. Our findings provide empirical information for viral clearance and antibody kinetics of asymptomatic COVID-19 patients. ', 0.37455451488494873), ('The effect of morphine upon DNA methylation in ten regions of the rat brain. Morphine is one of the most effective analgesics in medicine. However, its use is associated with the development of tolerance and dependence. Recent studies demonstrating epigenetic changes in the brain after exposure to opiates have provided insight into mechanisms possibly underlying addiction. In this study, we sought to identify epigenetic changes in ten regions of the rat brain following acute and chronic morphine exposure. We analyzed DNA methylation of six nuclear-encoded genes implicated in brain function (Bdnf, Comt, Il1b, Il6, Nr3c1, and Tnf) and three mitochondrially-encoded genes (Mtco1, Mtco2, and Mtco3), and measured global 5-methylcytosine (5mC) and 5-hydroxymethylcytosine (5 hmC) levels. We observed differential methylation of Bdnf and Il6 in the pons, Nr3c1 in the cerebellum, and Il1b in the hippocampus in response to acute morphine exposure (all P value < 0.05). Chronic exposure was associated with differential methylation of Bdnf and Comt in the pons, Nr3c1 in the hippocampus and Il1b in the medulla oblongata (all P value < 0.05). Global 5mC levels significantly decreased in the superior colliculus following both acute and chronic morphine exposure, and increased in the hypothalamus following chronic exposure. Chronic exposure was also associated with significantly increased global 5hmC levels in the cerebral cortex, hippocampus, and hypothalamus, but significantly decreased in the midbrain. Our results demonstrate, for the first time, highly localized epigenetic changes in the rat brain following acute and chronic morphine exposure. Further work is required to elucidate the potential role of these changes in the formation of tolerance and dependence. ', 0.32408004999160767), (\"Simple predictive models identify patients with COVID-19 pneumonia and poor prognosis. Identification of SARS-CoV-2-infected patients at high-risk of poor prognosis is crucial. We aimed to establish predictive models for COVID-19 pneumonia severity in hospitalized patients. Retrospective study of 430 patients admitted in Vall d'Hebron Hospital (Barcelona) between 03-12-2020 and 04-28-2020 due to COVID-19 pneumonia. Two models to identify the patients who required high-flow-oxygen-support were generated, one using baseline data and another with also follow-up analytical results. Calibration was performed by a 1000-bootstrap replication model. 249 were male, mean age 57.9 years. Overall, 135 (31.4%) required high-flow-oxygen-support. The baseline predictive model showed a ROC of 0.800 based on: SpO2/FiO2 (adjusted Hazard Ratio-aHR = 8), chest x-ray (aHR = 4), prior immunosuppressive therapy (aHR = 4), obesity (aHR = 2), IL-6 (aHR = 2), platelets (aHR = 0.5). The cut-off of 11 presented a specificity of 94.8%. The second model included changes on the analytical parameters: ferritin (aHR = 7.5 if >=200ng/mL) and IL-6 (aHR = 18 if >=64pg/mL) plus chest x-ray (aHR = 2) showing a ROC of 0.877. The cut-off of 12 exhibited a negative predictive value of 92%. SpO2/FiO2 and chest x-ray on admission or changes on inflammatory parameters as IL-6 and ferritin allow us early identification of COVID-19 patients at risk of high-flow-oxygen-support that may benefit from a more intensive disease management. \", 0.28709205985069275), ('Single-Cell RNA Sequencing of Tocilizumab-Treated Peripheral Blood Mononuclear Cells as an in vitro Model of Inflammation. COVID-19 has posed a significant threat to global health. Early data has revealed that IL-6, a key regulatory cytokine, plays an important role in the cytokine storm of COVID-19. Multiple trials are therefore looking at the effects of Tocilizumab, an IL-6 receptor antibody that inhibits IL-6 activity, on treatment of COVID-19, with promising findings. As part of a clinical trial looking at the effects of Tocilizumab treatment on kidney transplant recipients with subclinical rejection, we performed single-cell RNA sequencing of comparing stimulated PBMCs before and after Tocilizumab treatment. We leveraged this data to create an in vitro cytokine storm model, to better understand the effects of Tocilizumab in the presence of inflammation. Tocilizumab-treated cells had reduced expression of inflammatory-mediated genes and biologic pathways, particularly amongst monocytes. These results support the hypothesis that Tocilizumab may hinder the cytokine storm of COVID-19, through a demonstration of biologic impact at the single-cell level. ', 0.25489184260368347), ('Effect of intravenous pentoxifylline in inflammatory response in patients undergoing nephrolithotomy. To determine the potential efficacy of intravenous (IV) infusion of pentoxifylline (PTX) before nephrolithotomy on attenuating plasma level of the tumor necrosis factor (TNF)-alpha and interleukin (IL)-1, and to investigate whether it prevents postoperative pain. In a randomized, double-blind, placebo-controlled study, 32 patients (American Society of Anesthesiologists physical status 1 and 2) who were undergoing general anesthesia for nephrolithotomy were randomized to receive intravenous PTX (500 mg in 500 mL saline for 2 hours followed by 700 mg in 1000 mL saline for 6 hours), or placebo (1500 mL saline) before induction of the anesthesia. Two venous blood samples were obtained 10 minutes before PTX or placebo infusion and after surgery at 24 hours for laboratory examination. After surgery, the amount of narcotics consumption and intensity of pain (Visual Analog Scale and Verbal Rating Scale) were evaluated. At baseline, both placebo and PTX group had similar demographic, clinical, and laboratory characteristics. The use of narcotic analgesia (morphine, pethidine or both) was more common in the control group for pain relief. Also, pain intensity was significantly lower in patients who received PTX in comparison with those in the control group. Patients in the PTX group had lower postoperative plasma levels of TNF-alpha (0.27 pg/mL (0.06/0.74) v 3.35 pg/mL (0.83/6.41)) (median (25%/75%), P < 0.0001) and IL-6 (35.4 +/- 21.1 pg/mL (range 12-100) v 60.4 +/- 16.7 pg/mL (range 38-100), mean +/- standard deviation, P < 0.001) compared with the placebo receivers. There was no significant difference in surgery time, length of hospital stay, and fever occurrence after operation during in-hospital follow-up. Nausea and vomiting developed, however, in 5 (31.2%) of treatment patients. An infusion of IV PTX that is administered preoperatively could be applied to reduce inflammatory changes and pain intensity in patients undergoing nephrolithotomy; it causes no serious side effects. ', 0.18089701235294342), ('Passage of cytokines across the blood-brain barrier. One mechanism by which blood-borne cytokines might affect the function of the central nervous system (CNS) is by crossing the blood-brain barrier (BBB) for direct interaction with CNS tissue. Saturable transport systems from blood to the CNS have been described for interleukin (IL)-1 alpha, IL-1 beta, IL-1 receptor antagonist (IL-1ra), IL-6, and tumor necrosis factor-alpha (TNF-alpha). Blood-borne cytokines have been shown to cross the BBB to enter cerebrospinal fluid and interstitial fluid spaces of the brain and spinal cord. IL-2 does not cross the BBB by a saturable transport system. The blood-to-brain uptakes of IL-1 alpha, IL-beta, and IL-1ra are interrelated for most brain sites, but the posterior division of the septum shows selective uptake of blood-borne IL-1 alpha. The saturable transport systems for IL-6 and TNF-alpha are distinguishable from each other and from the IL-1 systems. The amount of blood-borne cytokines entering the brain is modest but comparable to that of other water-soluble compounds, such as morphine, known to cross the BBB in sufficient amounts to affect brain function. CNS to blood efflux of cytokines has also been shown to occur, but the mechanism of passage is unclear. Taken together, the evidence shows that passage of cytokines across the BBB occurs, providing a route by which blood-borne cytokines could potentially affect brain function. ', 0.08920243382453918)]\n"
     ]
    }
   ],
   "source": [
    "model_sbert = SentenceTransformer('all-MiniLM-L6-v2')\n",
    "query = \"COVID-19 Virus Disease and morphine\"\n",
    "documents = path1_C0021760_CGF\n",
    "\n",
    "def find_top_documents(query, contexts, top_k=1, return_scores=True):\n",
    "    query_embedding = model_sbert.encode(query, convert_to_tensor=True)\n",
    "    context_embeddings = model_sbert.encode(contexts, convert_to_tensor=True)\n",
    "\n",
    "    search_results = util.semantic_search(query_embedding, context_embeddings, top_k=top_k)[0]\n",
    "    top_documents = [contexts[hit['corpus_id']] for hit in search_results]\n",
    "\n",
    "    if return_scores:\n",
    "        top_scores = [hit['score'] for hit in search_results]\n",
    "        return list(zip(top_documents, top_scores))\n",
    "    else:\n",
    "        return top_documents\n",
    "\n",
    "top_results = find_top_documents(query, documents, top_k=6, return_scores=True)\n",
    "print(top_results)"
   ]
  },
  {
   "cell_type": "code",
   "execution_count": 55,
   "id": "79266754-499b-4ed7-b500-bb2d290b4a25",
   "metadata": {
    "execution": {
     "iopub.execute_input": "2024-05-06T17:12:10.838362Z",
     "iopub.status.busy": "2024-05-06T17:12:10.837948Z",
     "iopub.status.idle": "2024-05-06T17:12:10.890970Z",
     "shell.execute_reply": "2024-05-06T17:12:10.890111Z",
     "shell.execute_reply.started": "2024-05-06T17:12:10.838331Z"
    }
   },
   "outputs": [
    {
     "data": {
      "text/plain": [
       "['Early Viral Clearance and Antibody Kinetics of COVID-19 Among Asymptomatic Carriers. Asymptomatic carriers contribute to the spread of Coronavirus Disease 2019 (COVID-19), but their clinical characteristics, viral kinetics, and antibody responses remain unclear. A total of 56 COVID-19 patients without symptoms at admission and 19 age-matched symptomatic patients were enrolled. RNA of SARS-CoV-2 was tested using transcriptase quantitative PCR, and the total antibodies (Ab), IgG, IgA, and IgM against the SARS-CoV-2 were tested using Chemiluminescence Microparticle Immuno Assay. Among 56 patients without symptoms at admission, 33 cases displayed symptoms and 23 remained asymptomatic throughout the follow-up period. 43.8% of the asymptomatic carriers were children and none of the asymptomatic cases had recognizable changes in C-reactive protein or interleukin-6, except one 64-year-old patient. The initial threshold cycle value of nasopharyngeal SARS-CoV-2 in asymptomatic carriers was similar to that in pre-symptomatic and symptomatic patients, but the positive viral nucleic acid detection period of asymptomatic carriers (9.63 days) was shorter than pre-symptomatic patients (13.6 days). There were no obvious differences in the seropositive conversion rate of total Ab, IgG, and IgA among the three groups, though the rates of IgM varied largely. The average peak IgG and IgM COI of asymptomatic cases was 3.5 and 0.8, respectively, which is also lower than those in symptomatic patients with peaked IgG and IgM COI of 4.5 and 2.4 (p < 0.05). Young COVID-19 patients seem to be asymptomatic cases with early clearance of SARS-CoV-2 and low levels of IgM generation but high total Ab, IgG, and IgA. Our findings provide empirical information for viral clearance and antibody kinetics of asymptomatic COVID-19 patients. ',\n",
       " 'The effect of morphine upon DNA methylation in ten regions of the rat brain. Morphine is one of the most effective analgesics in medicine. However, its use is associated with the development of tolerance and dependence. Recent studies demonstrating epigenetic changes in the brain after exposure to opiates have provided insight into mechanisms possibly underlying addiction. In this study, we sought to identify epigenetic changes in ten regions of the rat brain following acute and chronic morphine exposure. We analyzed DNA methylation of six nuclear-encoded genes implicated in brain function (Bdnf, Comt, Il1b, Il6, Nr3c1, and Tnf) and three mitochondrially-encoded genes (Mtco1, Mtco2, and Mtco3), and measured global 5-methylcytosine (5mC) and 5-hydroxymethylcytosine (5 hmC) levels. We observed differential methylation of Bdnf and Il6 in the pons, Nr3c1 in the cerebellum, and Il1b in the hippocampus in response to acute morphine exposure (all P value < 0.05). Chronic exposure was associated with differential methylation of Bdnf and Comt in the pons, Nr3c1 in the hippocampus and Il1b in the medulla oblongata (all P value < 0.05). Global 5mC levels significantly decreased in the superior colliculus following both acute and chronic morphine exposure, and increased in the hypothalamus following chronic exposure. Chronic exposure was also associated with significantly increased global 5hmC levels in the cerebral cortex, hippocampus, and hypothalamus, but significantly decreased in the midbrain. Our results demonstrate, for the first time, highly localized epigenetic changes in the rat brain following acute and chronic morphine exposure. Further work is required to elucidate the potential role of these changes in the formation of tolerance and dependence. ',\n",
       " \"Simple predictive models identify patients with COVID-19 pneumonia and poor prognosis. Identification of SARS-CoV-2-infected patients at high-risk of poor prognosis is crucial. We aimed to establish predictive models for COVID-19 pneumonia severity in hospitalized patients. Retrospective study of 430 patients admitted in Vall d'Hebron Hospital (Barcelona) between 03-12-2020 and 04-28-2020 due to COVID-19 pneumonia. Two models to identify the patients who required high-flow-oxygen-support were generated, one using baseline data and another with also follow-up analytical results. Calibration was performed by a 1000-bootstrap replication model. 249 were male, mean age 57.9 years. Overall, 135 (31.4%) required high-flow-oxygen-support. The baseline predictive model showed a ROC of 0.800 based on: SpO2/FiO2 (adjusted Hazard Ratio-aHR = 8), chest x-ray (aHR = 4), prior immunosuppressive therapy (aHR = 4), obesity (aHR = 2), IL-6 (aHR = 2), platelets (aHR = 0.5). The cut-off of 11 presented a specificity of 94.8%. The second model included changes on the analytical parameters: ferritin (aHR = 7.5 if >=200ng/mL) and IL-6 (aHR = 18 if >=64pg/mL) plus chest x-ray (aHR = 2) showing a ROC of 0.877. The cut-off of 12 exhibited a negative predictive value of 92%. SpO2/FiO2 and chest x-ray on admission or changes on inflammatory parameters as IL-6 and ferritin allow us early identification of COVID-19 patients at risk of high-flow-oxygen-support that may benefit from a more intensive disease management. \",\n",
       " 'Single-Cell RNA Sequencing of Tocilizumab-Treated Peripheral Blood Mononuclear Cells as an in vitro Model of Inflammation. COVID-19 has posed a significant threat to global health. Early data has revealed that IL-6, a key regulatory cytokine, plays an important role in the cytokine storm of COVID-19. Multiple trials are therefore looking at the effects of Tocilizumab, an IL-6 receptor antibody that inhibits IL-6 activity, on treatment of COVID-19, with promising findings. As part of a clinical trial looking at the effects of Tocilizumab treatment on kidney transplant recipients with subclinical rejection, we performed single-cell RNA sequencing of comparing stimulated PBMCs before and after Tocilizumab treatment. We leveraged this data to create an in vitro cytokine storm model, to better understand the effects of Tocilizumab in the presence of inflammation. Tocilizumab-treated cells had reduced expression of inflammatory-mediated genes and biologic pathways, particularly amongst monocytes. These results support the hypothesis that Tocilizumab may hinder the cytokine storm of COVID-19, through a demonstration of biologic impact at the single-cell level. ',\n",
       " 'Effect of intravenous pentoxifylline in inflammatory response in patients undergoing nephrolithotomy. To determine the potential efficacy of intravenous (IV) infusion of pentoxifylline (PTX) before nephrolithotomy on attenuating plasma level of the tumor necrosis factor (TNF)-alpha and interleukin (IL)-1, and to investigate whether it prevents postoperative pain. In a randomized, double-blind, placebo-controlled study, 32 patients (American Society of Anesthesiologists physical status 1 and 2) who were undergoing general anesthesia for nephrolithotomy were randomized to receive intravenous PTX (500 mg in 500 mL saline for 2 hours followed by 700 mg in 1000 mL saline for 6 hours), or placebo (1500 mL saline) before induction of the anesthesia. Two venous blood samples were obtained 10 minutes before PTX or placebo infusion and after surgery at 24 hours for laboratory examination. After surgery, the amount of narcotics consumption and intensity of pain (Visual Analog Scale and Verbal Rating Scale) were evaluated. At baseline, both placebo and PTX group had similar demographic, clinical, and laboratory characteristics. The use of narcotic analgesia (morphine, pethidine or both) was more common in the control group for pain relief. Also, pain intensity was significantly lower in patients who received PTX in comparison with those in the control group. Patients in the PTX group had lower postoperative plasma levels of TNF-alpha (0.27 pg/mL (0.06/0.74) v 3.35 pg/mL (0.83/6.41)) (median (25%/75%), P < 0.0001) and IL-6 (35.4 +/- 21.1 pg/mL (range 12-100) v 60.4 +/- 16.7 pg/mL (range 38-100), mean +/- standard deviation, P < 0.001) compared with the placebo receivers. There was no significant difference in surgery time, length of hospital stay, and fever occurrence after operation during in-hospital follow-up. Nausea and vomiting developed, however, in 5 (31.2%) of treatment patients. An infusion of IV PTX that is administered preoperatively could be applied to reduce inflammatory changes and pain intensity in patients undergoing nephrolithotomy; it causes no serious side effects. ',\n",
       " 'Passage of cytokines across the blood-brain barrier. One mechanism by which blood-borne cytokines might affect the function of the central nervous system (CNS) is by crossing the blood-brain barrier (BBB) for direct interaction with CNS tissue. Saturable transport systems from blood to the CNS have been described for interleukin (IL)-1 alpha, IL-1 beta, IL-1 receptor antagonist (IL-1ra), IL-6, and tumor necrosis factor-alpha (TNF-alpha). Blood-borne cytokines have been shown to cross the BBB to enter cerebrospinal fluid and interstitial fluid spaces of the brain and spinal cord. IL-2 does not cross the BBB by a saturable transport system. The blood-to-brain uptakes of IL-1 alpha, IL-beta, and IL-1ra are interrelated for most brain sites, but the posterior division of the septum shows selective uptake of blood-borne IL-1 alpha. The saturable transport systems for IL-6 and TNF-alpha are distinguishable from each other and from the IL-1 systems. The amount of blood-borne cytokines entering the brain is modest but comparable to that of other water-soluble compounds, such as morphine, known to cross the BBB in sufficient amounts to affect brain function. CNS to blood efflux of cytokines has also been shown to occur, but the mechanism of passage is unclear. Taken together, the evidence shows that passage of cytokines across the BBB occurs, providing a route by which blood-borne cytokines could potentially affect brain function. ']"
      ]
     },
     "execution_count": 55,
     "metadata": {},
     "output_type": "execute_result"
    }
   ],
   "source": [
    "query = \"COVID-19 Virus Disease and morphine\"\n",
    "results_path1 = find_top_documents(query, documents, top_k=6, return_scores=False)\n",
    "results_path1"
   ]
  },
  {
   "cell_type": "code",
   "execution_count": 46,
   "id": "a4fde9a3-bb13-498c-bee8-6b03b1b7af52",
   "metadata": {
    "execution": {
     "iopub.execute_input": "2024-05-06T17:10:08.106361Z",
     "iopub.status.busy": "2024-05-06T17:10:08.105972Z",
     "iopub.status.idle": "2024-05-06T17:10:08.111949Z",
     "shell.execute_reply": "2024-05-06T17:10:08.111162Z",
     "shell.execute_reply.started": "2024-05-06T17:10:08.106338Z"
    }
   },
   "outputs": [
    {
     "data": {
      "text/plain": [
       "6"
      ]
     },
     "execution_count": 46,
     "metadata": {},
     "output_type": "execute_result"
    }
   ],
   "source": [
    "len(results_path1)"
   ]
  },
  {
   "cell_type": "code",
   "execution_count": null,
   "id": "43525a7c-69fa-450b-9a56-43722aa4330a",
   "metadata": {},
   "outputs": [],
   "source": []
  },
  {
   "cell_type": "markdown",
   "id": "3469af50-c078-4ffb-a720-3a8c5a52b2e8",
   "metadata": {
    "tags": []
   },
   "source": [
    "### 2.6. Full explanation with oai_get_response from LLM (GPT4)"
   ]
  },
  {
   "cell_type": "code",
   "execution_count": 47,
   "id": "4998e278-5c70-4178-ac1a-4290d9dc7b27",
   "metadata": {
    "execution": {
     "iopub.execute_input": "2024-05-06T17:10:16.282904Z",
     "iopub.status.busy": "2024-05-06T17:10:16.282563Z",
     "iopub.status.idle": "2024-05-06T17:10:16.287287Z",
     "shell.execute_reply": "2024-05-06T17:10:16.286195Z",
     "shell.execute_reply.started": "2024-05-06T17:10:16.282877Z"
    },
    "tags": []
   },
   "outputs": [],
   "source": [
    "llm_model = \"gpt-4-0125-preview\""
   ]
  },
  {
   "cell_type": "code",
   "execution_count": 49,
   "id": "dd654096-6683-40ae-99ea-94cf5c2f77e1",
   "metadata": {
    "execution": {
     "iopub.execute_input": "2024-05-06T17:10:22.513126Z",
     "iopub.status.busy": "2024-05-06T17:10:22.512189Z",
     "iopub.status.idle": "2024-05-06T17:10:22.553799Z",
     "shell.execute_reply": "2024-05-06T17:10:22.553122Z",
     "shell.execute_reply.started": "2024-05-06T17:10:22.513087Z"
    },
    "tags": []
   },
   "outputs": [],
   "source": [
    "client = OpenAI(\n",
    "    api_key=open('OAI_CONFIG_LIST').read().strip(),\n",
    ")"
   ]
  },
  {
   "cell_type": "code",
   "execution_count": 50,
   "id": "259439f8-0fff-46f6-95b3-a3e915fb1867",
   "metadata": {
    "execution": {
     "iopub.execute_input": "2024-05-06T17:10:23.875140Z",
     "iopub.status.busy": "2024-05-06T17:10:23.874655Z",
     "iopub.status.idle": "2024-05-06T17:10:25.927376Z",
     "shell.execute_reply": "2024-05-06T17:10:25.926515Z",
     "shell.execute_reply.started": "2024-05-06T17:10:23.875113Z"
    },
    "tags": []
   },
   "outputs": [],
   "source": [
    "chat_completion = client.chat.completions.create(\n",
    "    messages=[\n",
    "        {\n",
    "            \"role\": \"user\",\n",
    "            \"content\": \"Hi, how are you?\",\n",
    "        }\n",
    "    ],\n",
    "    model=llm_model,\n",
    "    temperature=0.5,\n",
    ")"
   ]
  },
  {
   "cell_type": "code",
   "execution_count": 51,
   "id": "2cf9471f-2576-482a-918b-d781de4f76e8",
   "metadata": {
    "execution": {
     "iopub.execute_input": "2024-05-06T17:10:25.928586Z",
     "iopub.status.busy": "2024-05-06T17:10:25.928431Z",
     "iopub.status.idle": "2024-05-06T17:10:25.933502Z",
     "shell.execute_reply": "2024-05-06T17:10:25.932626Z",
     "shell.execute_reply.started": "2024-05-06T17:10:25.928568Z"
    },
    "tags": []
   },
   "outputs": [
    {
     "data": {
      "text/plain": [
       "\"I'm just a computer program, so I don't have feelings, but thanks for asking! How can I help you today?\""
      ]
     },
     "execution_count": 51,
     "metadata": {},
     "output_type": "execute_result"
    }
   ],
   "source": [
    "chat_completion.choices[0].message.content"
   ]
  },
  {
   "cell_type": "code",
   "execution_count": 52,
   "id": "fc9eba5a-24e5-4239-8ed3-9447f474ef7c",
   "metadata": {
    "execution": {
     "iopub.execute_input": "2024-05-06T17:10:28.130146Z",
     "iopub.status.busy": "2024-05-06T17:10:28.129695Z",
     "iopub.status.idle": "2024-05-06T17:10:28.136467Z",
     "shell.execute_reply": "2024-05-06T17:10:28.135539Z",
     "shell.execute_reply.started": "2024-05-06T17:10:28.130115Z"
    },
    "tags": []
   },
   "outputs": [],
   "source": [
    "def oai_get_response(msg, temp):\n",
    "    chat_completion = client.chat.completions.create(\n",
    "        messages=[\n",
    "            {\n",
    "                \"role\": \"user\",\n",
    "                \"content\": msg,\n",
    "            }\n",
    "        ],\n",
    "        model=llm_model,\n",
    "        temperature=temp,\n",
    "    )\n",
    "    \n",
    "    reply_text = chat_completion.choices[0].message.content\n",
    "    \n",
    "    return reply_text"
   ]
  },
  {
   "cell_type": "markdown",
   "id": "e8c74a9b-2c11-43e5-a87d-df3c04eafcee",
   "metadata": {},
   "source": [
    "### 2.7. Generate Prompt text with new Retrieval + Context"
   ]
  },
  {
   "cell_type": "code",
   "execution_count": 56,
   "id": "d7d8d25d-0514-4add-88ff-d46e0a2a86d2",
   "metadata": {
    "execution": {
     "iopub.execute_input": "2024-05-06T17:12:17.369053Z",
     "iopub.status.busy": "2024-05-06T17:12:17.368558Z",
     "iopub.status.idle": "2024-05-06T17:12:17.376053Z",
     "shell.execute_reply": "2024-05-06T17:12:17.374711Z",
     "shell.execute_reply.started": "2024-05-06T17:12:17.369024Z"
    }
   },
   "outputs": [
    {
     "data": {
      "text/plain": [
       "['Early Viral Clearance and Antibody Kinetics of COVID-19 Among Asymptomatic Carriers. Asymptomatic carriers contribute to the spread of Coronavirus Disease 2019 (COVID-19), but their clinical characteristics, viral kinetics, and antibody responses remain unclear. A total of 56 COVID-19 patients without symptoms at admission and 19 age-matched symptomatic patients were enrolled. RNA of SARS-CoV-2 was tested using transcriptase quantitative PCR, and the total antibodies (Ab), IgG, IgA, and IgM against the SARS-CoV-2 were tested using Chemiluminescence Microparticle Immuno Assay. Among 56 patients without symptoms at admission, 33 cases displayed symptoms and 23 remained asymptomatic throughout the follow-up period. 43.8% of the asymptomatic carriers were children and none of the asymptomatic cases had recognizable changes in C-reactive protein or interleukin-6, except one 64-year-old patient. The initial threshold cycle value of nasopharyngeal SARS-CoV-2 in asymptomatic carriers was similar to that in pre-symptomatic and symptomatic patients, but the positive viral nucleic acid detection period of asymptomatic carriers (9.63 days) was shorter than pre-symptomatic patients (13.6 days). There were no obvious differences in the seropositive conversion rate of total Ab, IgG, and IgA among the three groups, though the rates of IgM varied largely. The average peak IgG and IgM COI of asymptomatic cases was 3.5 and 0.8, respectively, which is also lower than those in symptomatic patients with peaked IgG and IgM COI of 4.5 and 2.4 (p < 0.05). Young COVID-19 patients seem to be asymptomatic cases with early clearance of SARS-CoV-2 and low levels of IgM generation but high total Ab, IgG, and IgA. Our findings provide empirical information for viral clearance and antibody kinetics of asymptomatic COVID-19 patients. ',\n",
       " 'The effect of morphine upon DNA methylation in ten regions of the rat brain. Morphine is one of the most effective analgesics in medicine. However, its use is associated with the development of tolerance and dependence. Recent studies demonstrating epigenetic changes in the brain after exposure to opiates have provided insight into mechanisms possibly underlying addiction. In this study, we sought to identify epigenetic changes in ten regions of the rat brain following acute and chronic morphine exposure. We analyzed DNA methylation of six nuclear-encoded genes implicated in brain function (Bdnf, Comt, Il1b, Il6, Nr3c1, and Tnf) and three mitochondrially-encoded genes (Mtco1, Mtco2, and Mtco3), and measured global 5-methylcytosine (5mC) and 5-hydroxymethylcytosine (5 hmC) levels. We observed differential methylation of Bdnf and Il6 in the pons, Nr3c1 in the cerebellum, and Il1b in the hippocampus in response to acute morphine exposure (all P value < 0.05). Chronic exposure was associated with differential methylation of Bdnf and Comt in the pons, Nr3c1 in the hippocampus and Il1b in the medulla oblongata (all P value < 0.05). Global 5mC levels significantly decreased in the superior colliculus following both acute and chronic morphine exposure, and increased in the hypothalamus following chronic exposure. Chronic exposure was also associated with significantly increased global 5hmC levels in the cerebral cortex, hippocampus, and hypothalamus, but significantly decreased in the midbrain. Our results demonstrate, for the first time, highly localized epigenetic changes in the rat brain following acute and chronic morphine exposure. Further work is required to elucidate the potential role of these changes in the formation of tolerance and dependence. ',\n",
       " \"Simple predictive models identify patients with COVID-19 pneumonia and poor prognosis. Identification of SARS-CoV-2-infected patients at high-risk of poor prognosis is crucial. We aimed to establish predictive models for COVID-19 pneumonia severity in hospitalized patients. Retrospective study of 430 patients admitted in Vall d'Hebron Hospital (Barcelona) between 03-12-2020 and 04-28-2020 due to COVID-19 pneumonia. Two models to identify the patients who required high-flow-oxygen-support were generated, one using baseline data and another with also follow-up analytical results. Calibration was performed by a 1000-bootstrap replication model. 249 were male, mean age 57.9 years. Overall, 135 (31.4%) required high-flow-oxygen-support. The baseline predictive model showed a ROC of 0.800 based on: SpO2/FiO2 (adjusted Hazard Ratio-aHR = 8), chest x-ray (aHR = 4), prior immunosuppressive therapy (aHR = 4), obesity (aHR = 2), IL-6 (aHR = 2), platelets (aHR = 0.5). The cut-off of 11 presented a specificity of 94.8%. The second model included changes on the analytical parameters: ferritin (aHR = 7.5 if >=200ng/mL) and IL-6 (aHR = 18 if >=64pg/mL) plus chest x-ray (aHR = 2) showing a ROC of 0.877. The cut-off of 12 exhibited a negative predictive value of 92%. SpO2/FiO2 and chest x-ray on admission or changes on inflammatory parameters as IL-6 and ferritin allow us early identification of COVID-19 patients at risk of high-flow-oxygen-support that may benefit from a more intensive disease management. \",\n",
       " 'Single-Cell RNA Sequencing of Tocilizumab-Treated Peripheral Blood Mononuclear Cells as an in vitro Model of Inflammation. COVID-19 has posed a significant threat to global health. Early data has revealed that IL-6, a key regulatory cytokine, plays an important role in the cytokine storm of COVID-19. Multiple trials are therefore looking at the effects of Tocilizumab, an IL-6 receptor antibody that inhibits IL-6 activity, on treatment of COVID-19, with promising findings. As part of a clinical trial looking at the effects of Tocilizumab treatment on kidney transplant recipients with subclinical rejection, we performed single-cell RNA sequencing of comparing stimulated PBMCs before and after Tocilizumab treatment. We leveraged this data to create an in vitro cytokine storm model, to better understand the effects of Tocilizumab in the presence of inflammation. Tocilizumab-treated cells had reduced expression of inflammatory-mediated genes and biologic pathways, particularly amongst monocytes. These results support the hypothesis that Tocilizumab may hinder the cytokine storm of COVID-19, through a demonstration of biologic impact at the single-cell level. ',\n",
       " 'Effect of intravenous pentoxifylline in inflammatory response in patients undergoing nephrolithotomy. To determine the potential efficacy of intravenous (IV) infusion of pentoxifylline (PTX) before nephrolithotomy on attenuating plasma level of the tumor necrosis factor (TNF)-alpha and interleukin (IL)-1, and to investigate whether it prevents postoperative pain. In a randomized, double-blind, placebo-controlled study, 32 patients (American Society of Anesthesiologists physical status 1 and 2) who were undergoing general anesthesia for nephrolithotomy were randomized to receive intravenous PTX (500 mg in 500 mL saline for 2 hours followed by 700 mg in 1000 mL saline for 6 hours), or placebo (1500 mL saline) before induction of the anesthesia. Two venous blood samples were obtained 10 minutes before PTX or placebo infusion and after surgery at 24 hours for laboratory examination. After surgery, the amount of narcotics consumption and intensity of pain (Visual Analog Scale and Verbal Rating Scale) were evaluated. At baseline, both placebo and PTX group had similar demographic, clinical, and laboratory characteristics. The use of narcotic analgesia (morphine, pethidine or both) was more common in the control group for pain relief. Also, pain intensity was significantly lower in patients who received PTX in comparison with those in the control group. Patients in the PTX group had lower postoperative plasma levels of TNF-alpha (0.27 pg/mL (0.06/0.74) v 3.35 pg/mL (0.83/6.41)) (median (25%/75%), P < 0.0001) and IL-6 (35.4 +/- 21.1 pg/mL (range 12-100) v 60.4 +/- 16.7 pg/mL (range 38-100), mean +/- standard deviation, P < 0.001) compared with the placebo receivers. There was no significant difference in surgery time, length of hospital stay, and fever occurrence after operation during in-hospital follow-up. Nausea and vomiting developed, however, in 5 (31.2%) of treatment patients. An infusion of IV PTX that is administered preoperatively could be applied to reduce inflammatory changes and pain intensity in patients undergoing nephrolithotomy; it causes no serious side effects. ',\n",
       " 'Passage of cytokines across the blood-brain barrier. One mechanism by which blood-borne cytokines might affect the function of the central nervous system (CNS) is by crossing the blood-brain barrier (BBB) for direct interaction with CNS tissue. Saturable transport systems from blood to the CNS have been described for interleukin (IL)-1 alpha, IL-1 beta, IL-1 receptor antagonist (IL-1ra), IL-6, and tumor necrosis factor-alpha (TNF-alpha). Blood-borne cytokines have been shown to cross the BBB to enter cerebrospinal fluid and interstitial fluid spaces of the brain and spinal cord. IL-2 does not cross the BBB by a saturable transport system. The blood-to-brain uptakes of IL-1 alpha, IL-beta, and IL-1ra are interrelated for most brain sites, but the posterior division of the septum shows selective uptake of blood-borne IL-1 alpha. The saturable transport systems for IL-6 and TNF-alpha are distinguishable from each other and from the IL-1 systems. The amount of blood-borne cytokines entering the brain is modest but comparable to that of other water-soluble compounds, such as morphine, known to cross the BBB in sufficient amounts to affect brain function. CNS to blood efflux of cytokines has also been shown to occur, but the mechanism of passage is unclear. Taken together, the evidence shows that passage of cytokines across the BBB occurs, providing a route by which blood-borne cytokines could potentially affect brain function. ']"
      ]
     },
     "execution_count": 56,
     "metadata": {},
     "output_type": "execute_result"
    }
   ],
   "source": [
    "results_path1"
   ]
  },
  {
   "cell_type": "code",
   "execution_count": 57,
   "id": "eee0b40a-e855-4abf-acb9-d1c3124dc656",
   "metadata": {
    "execution": {
     "iopub.execute_input": "2024-05-06T17:12:19.753466Z",
     "iopub.status.busy": "2024-05-06T17:12:19.753020Z",
     "iopub.status.idle": "2024-05-06T17:12:19.758621Z",
     "shell.execute_reply": "2024-05-06T17:12:19.758061Z",
     "shell.execute_reply.started": "2024-05-06T17:12:19.753439Z"
    },
    "tags": []
   },
   "outputs": [
    {
     "data": {
      "text/plain": [
       "\"How would you describe an indirect relationship between COVID-19 Virus Disease and morphine given the following scientific abstracts as context?\\nEarly Viral Clearance and Antibody Kinetics of COVID-19 Among Asymptomatic Carriers. Asymptomatic carriers contribute to the spread of Coronavirus Disease 2019 (COVID-19), but their clinical characteristics, viral kinetics, and antibody responses remain unclear. A total of 56 COVID-19 patients without symptoms at admission and 19 age-matched symptomatic patients were enrolled. RNA of SARS-CoV-2 was tested using transcriptase quantitative PCR, and the total antibodies (Ab), IgG, IgA, and IgM against the SARS-CoV-2 were tested using Chemiluminescence Microparticle Immuno Assay. Among 56 patients without symptoms at admission, 33 cases displayed symptoms and 23 remained asymptomatic throughout the follow-up period. 43.8% of the asymptomatic carriers were children and none of the asymptomatic cases had recognizable changes in C-reactive protein or interleukin-6, except one 64-year-old patient. The initial threshold cycle value of nasopharyngeal SARS-CoV-2 in asymptomatic carriers was similar to that in pre-symptomatic and symptomatic patients, but the positive viral nucleic acid detection period of asymptomatic carriers (9.63 days) was shorter than pre-symptomatic patients (13.6 days). There were no obvious differences in the seropositive conversion rate of total Ab, IgG, and IgA among the three groups, though the rates of IgM varied largely. The average peak IgG and IgM COI of asymptomatic cases was 3.5 and 0.8, respectively, which is also lower than those in symptomatic patients with peaked IgG and IgM COI of 4.5 and 2.4 (p < 0.05). Young COVID-19 patients seem to be asymptomatic cases with early clearance of SARS-CoV-2 and low levels of IgM generation but high total Ab, IgG, and IgA. Our findings provide empirical information for viral clearance and antibody kinetics of asymptomatic COVID-19 patients. \\n\\nThe effect of morphine upon DNA methylation in ten regions of the rat brain. Morphine is one of the most effective analgesics in medicine. However, its use is associated with the development of tolerance and dependence. Recent studies demonstrating epigenetic changes in the brain after exposure to opiates have provided insight into mechanisms possibly underlying addiction. In this study, we sought to identify epigenetic changes in ten regions of the rat brain following acute and chronic morphine exposure. We analyzed DNA methylation of six nuclear-encoded genes implicated in brain function (Bdnf, Comt, Il1b, Il6, Nr3c1, and Tnf) and three mitochondrially-encoded genes (Mtco1, Mtco2, and Mtco3), and measured global 5-methylcytosine (5mC) and 5-hydroxymethylcytosine (5 hmC) levels. We observed differential methylation of Bdnf and Il6 in the pons, Nr3c1 in the cerebellum, and Il1b in the hippocampus in response to acute morphine exposure (all P value < 0.05). Chronic exposure was associated with differential methylation of Bdnf and Comt in the pons, Nr3c1 in the hippocampus and Il1b in the medulla oblongata (all P value < 0.05). Global 5mC levels significantly decreased in the superior colliculus following both acute and chronic morphine exposure, and increased in the hypothalamus following chronic exposure. Chronic exposure was also associated with significantly increased global 5hmC levels in the cerebral cortex, hippocampus, and hypothalamus, but significantly decreased in the midbrain. Our results demonstrate, for the first time, highly localized epigenetic changes in the rat brain following acute and chronic morphine exposure. Further work is required to elucidate the potential role of these changes in the formation of tolerance and dependence. \\n\\nSimple predictive models identify patients with COVID-19 pneumonia and poor prognosis. Identification of SARS-CoV-2-infected patients at high-risk of poor prognosis is crucial. We aimed to establish predictive models for COVID-19 pneumonia severity in hospitalized patients. Retrospective study of 430 patients admitted in Vall d'Hebron Hospital (Barcelona) between 03-12-2020 and 04-28-2020 due to COVID-19 pneumonia. Two models to identify the patients who required high-flow-oxygen-support were generated, one using baseline data and another with also follow-up analytical results. Calibration was performed by a 1000-bootstrap replication model. 249 were male, mean age 57.9 years. Overall, 135 (31.4%) required high-flow-oxygen-support. The baseline predictive model showed a ROC of 0.800 based on: SpO2/FiO2 (adjusted Hazard Ratio-aHR = 8), chest x-ray (aHR = 4), prior immunosuppressive therapy (aHR = 4), obesity (aHR = 2), IL-6 (aHR = 2), platelets (aHR = 0.5). The cut-off of 11 presented a specificity of 94.8%. The second model included changes on the analytical parameters: ferritin (aHR = 7.5 if >=200ng/mL) and IL-6 (aHR = 18 if >=64pg/mL) plus chest x-ray (aHR = 2) showing a ROC of 0.877. The cut-off of 12 exhibited a negative predictive value of 92%. SpO2/FiO2 and chest x-ray on admission or changes on inflammatory parameters as IL-6 and ferritin allow us early identification of COVID-19 patients at risk of high-flow-oxygen-support that may benefit from a more intensive disease management. \\n\\nSingle-Cell RNA Sequencing of Tocilizumab-Treated Peripheral Blood Mononuclear Cells as an in vitro Model of Inflammation. COVID-19 has posed a significant threat to global health. Early data has revealed that IL-6, a key regulatory cytokine, plays an important role in the cytokine storm of COVID-19. Multiple trials are therefore looking at the effects of Tocilizumab, an IL-6 receptor antibody that inhibits IL-6 activity, on treatment of COVID-19, with promising findings. As part of a clinical trial looking at the effects of Tocilizumab treatment on kidney transplant recipients with subclinical rejection, we performed single-cell RNA sequencing of comparing stimulated PBMCs before and after Tocilizumab treatment. We leveraged this data to create an in vitro cytokine storm model, to better understand the effects of Tocilizumab in the presence of inflammation. Tocilizumab-treated cells had reduced expression of inflammatory-mediated genes and biologic pathways, particularly amongst monocytes. These results support the hypothesis that Tocilizumab may hinder the cytokine storm of COVID-19, through a demonstration of biologic impact at the single-cell level. \\n\\nEffect of intravenous pentoxifylline in inflammatory response in patients undergoing nephrolithotomy. To determine the potential efficacy of intravenous (IV) infusion of pentoxifylline (PTX) before nephrolithotomy on attenuating plasma level of the tumor necrosis factor (TNF)-alpha and interleukin (IL)-1, and to investigate whether it prevents postoperative pain. In a randomized, double-blind, placebo-controlled study, 32 patients (American Society of Anesthesiologists physical status 1 and 2) who were undergoing general anesthesia for nephrolithotomy were randomized to receive intravenous PTX (500 mg in 500 mL saline for 2 hours followed by 700 mg in 1000 mL saline for 6 hours), or placebo (1500 mL saline) before induction of the anesthesia. Two venous blood samples were obtained 10 minutes before PTX or placebo infusion and after surgery at 24 hours for laboratory examination. After surgery, the amount of narcotics consumption and intensity of pain (Visual Analog Scale and Verbal Rating Scale) were evaluated. At baseline, both placebo and PTX group had similar demographic, clinical, and laboratory characteristics. The use of narcotic analgesia (morphine, pethidine or both) was more common in the control group for pain relief. Also, pain intensity was significantly lower in patients who received PTX in comparison with those in the control group. Patients in the PTX group had lower postoperative plasma levels of TNF-alpha (0.27 pg/mL (0.06/0.74) v 3.35 pg/mL (0.83/6.41)) (median (25%/75%), P < 0.0001) and IL-6 (35.4 +/- 21.1 pg/mL (range 12-100) v 60.4 +/- 16.7 pg/mL (range 38-100), mean +/- standard deviation, P < 0.001) compared with the placebo receivers. There was no significant difference in surgery time, length of hospital stay, and fever occurrence after operation during in-hospital follow-up. Nausea and vomiting developed, however, in 5 (31.2%) of treatment patients. An infusion of IV PTX that is administered preoperatively could be applied to reduce inflammatory changes and pain intensity in patients undergoing nephrolithotomy; it causes no serious side effects. \\n\\nPassage of cytokines across the blood-brain barrier. One mechanism by which blood-borne cytokines might affect the function of the central nervous system (CNS) is by crossing the blood-brain barrier (BBB) for direct interaction with CNS tissue. Saturable transport systems from blood to the CNS have been described for interleukin (IL)-1 alpha, IL-1 beta, IL-1 receptor antagonist (IL-1ra), IL-6, and tumor necrosis factor-alpha (TNF-alpha). Blood-borne cytokines have been shown to cross the BBB to enter cerebrospinal fluid and interstitial fluid spaces of the brain and spinal cord. IL-2 does not cross the BBB by a saturable transport system. The blood-to-brain uptakes of IL-1 alpha, IL-beta, and IL-1ra are interrelated for most brain sites, but the posterior division of the septum shows selective uptake of blood-borne IL-1 alpha. The saturable transport systems for IL-6 and TNF-alpha are distinguishable from each other and from the IL-1 systems. The amount of blood-borne cytokines entering the brain is modest but comparable to that of other water-soluble compounds, such as morphine, known to cross the BBB in sufficient amounts to affect brain function. CNS to blood efflux of cytokines has also been shown to occur, but the mechanism of passage is unclear. Taken together, the evidence shows that passage of cytokines across the BBB occurs, providing a route by which blood-borne cytokines could potentially affect brain function. \""
      ]
     },
     "execution_count": 57,
     "metadata": {},
     "output_type": "execute_result"
    }
   ],
   "source": [
    "llm_fix_prompt= 'How would you describe an indirect relationship between COVID-19 Virus Disease and morphine given the following scientific abstracts as context?'\n",
    "llm_fix_prompt_str = '\\n\\n'.join(results_path1)\n",
    "llm_fix_prompt_combo = llm_fix_prompt + '\\n' + llm_fix_prompt_str\n",
    "llm_fix_prompt_combo"
   ]
  },
  {
   "cell_type": "markdown",
   "id": "22d5522d-ecf6-4197-af6c-ed05f0567343",
   "metadata": {},
   "source": [
    "### 2.8. LLM generate response "
   ]
  },
  {
   "cell_type": "code",
   "execution_count": 59,
   "id": "e537c5a5-e768-4958-adae-e6e8b21086b3",
   "metadata": {
    "execution": {
     "iopub.execute_input": "2024-05-06T17:14:23.012172Z",
     "iopub.status.busy": "2024-05-06T17:14:23.011711Z",
     "iopub.status.idle": "2024-05-06T17:14:53.591992Z",
     "shell.execute_reply": "2024-05-06T17:14:53.591059Z",
     "shell.execute_reply.started": "2024-05-06T17:14:23.012144Z"
    },
    "tags": []
   },
   "outputs": [
    {
     "data": {
      "text/plain": [
       "\"The indirect relationship between COVID-19 Virus Disease and morphine can be inferred through the interplay of immune response and the potential impact of morphine on the central nervous system (CNS) and immune function. Here's a synthesis of the provided abstracts to illustrate this relationship:\\n\\n1. **COVID-19 Immune Response**: The abstracts on COVID-19 highlight the importance of the immune response in managing the disease, particularly the role of cytokines like IL-6 in the severity of COVID-19 pneumonia and the cytokine storm. Tocilizumab, an IL-6 receptor antibody, has been shown to mitigate the cytokine storm, suggesting that modulation of the immune response is crucial in the treatment of COVID-19.\\n\\n2. **Morphine's Effect on the Brain and Immune System**: Morphine is known to induce epigenetic changes in the brain, affecting genes involved in brain function and the immune response, such as Il6. Morphine's ability to cross the blood-brain barrier (BBB) and affect brain function is well-documented, and it's also known to influence the immune system indirectly through its action in the CNS.\\n\\n3. **Cytokines and the Blood-Brain Barrier**: The passage of cytokines across the BBB is a critical mechanism by which the peripheral immune response can influence the CNS. Given that morphine can affect the CNS and has been shown to influence the immune response indirectly, it's plausible that morphine could modulate the effects of cytokines on the CNS, potentially impacting the CNS's response to infections like COVID-19.\\n\\n4. **Indirect Relationship**: The indirect relationship between COVID-19 and morphine can thus be conceptualized through the lens of immune modulation and CNS impact. While COVID-19's severity is influenced by the immune response, including the cytokine storm, morphine's epigenetic effects on the brain and its potential to modulate the immune response through CNS mechanisms suggest that morphine could indirectly influence the body's response to COVID-19. This could be through altering the expression of genes involved in the immune response, affecting cytokine levels, or influencing the passage of cytokines across the BBB.\\n\\nIn summary, while there is no direct link between morphine use and COVID-19 outcomes, the potential for morphine to influence the immune response and CNS function indirectly suggests a complex interplay that could impact the body's response to COVID-19. Further research would be necessary to explore the clinical significance of this relationship and whether morphine's effects on the immune system and CNS could influence COVID-19 disease progression or severity.\""
      ]
     },
     "execution_count": 59,
     "metadata": {},
     "output_type": "execute_result"
    }
   ],
   "source": [
    "llm_resp_path1 = oai_get_response(llm_fix_prompt_combo,0)\n",
    "llm_resp_path1"
   ]
  },
  {
   "cell_type": "markdown",
   "id": "01f943e1-9a16-40aa-a262-1e8c8e8555b5",
   "metadata": {
    "tags": []
   },
   "source": [
    "## 3. EVALUATION: Eval each sentence according Agatha Rank"
   ]
  },
  {
   "cell_type": "code",
   "execution_count": 60,
   "id": "b1a01e1f-b045-46b6-a2d6-dba423259ac4",
   "metadata": {
    "execution": {
     "iopub.execute_input": "2024-05-06T17:15:08.564465Z",
     "iopub.status.busy": "2024-05-06T17:15:08.564010Z",
     "iopub.status.idle": "2024-05-06T17:15:08.572660Z",
     "shell.execute_reply": "2024-05-06T17:15:08.571644Z",
     "shell.execute_reply.started": "2024-05-06T17:15:08.564433Z"
    },
    "tags": []
   },
   "outputs": [],
   "source": [
    "def generate_negatives(pos_pair, sample_rate=5):\n",
    "    \n",
    "    s = pos_pair[0]\n",
    "    o = pos_pair[1]\n",
    "    \n",
    "    if s[0] != 'm':\n",
    "        s = f'm:{pos_pair[0].lower()}'\n",
    "    \n",
    "    if o[0] != 'm':\n",
    "        o = f'm:{pos_pair[1].lower()}'\n",
    "    \n",
    "    if o in st_nodelbl_dict:\n",
    "        o_st = st_nodelbl_dict[o]\n",
    "        o_sample_list = random.sample(\n",
    "            st_nodelbl_dict[o_st],\n",
    "            sample_rate\n",
    "        )\n",
    "    else:\n",
    "        o_sample_list = []\n",
    "    \n",
    "    out_pairs = []\n",
    "    for o_neg in o_sample_list:\n",
    "        out_pairs.append((s, o_neg))\n",
    "        \n",
    "    return out_pairs"
   ]
  },
  {
   "cell_type": "code",
   "execution_count": 61,
   "id": "307c72af-c0ea-459d-978e-74159dcfb148",
   "metadata": {
    "execution": {
     "iopub.execute_input": "2024-05-06T17:15:09.603142Z",
     "iopub.status.busy": "2024-05-06T17:15:09.602745Z",
     "iopub.status.idle": "2024-05-06T17:15:09.610959Z",
     "shell.execute_reply": "2024-05-06T17:15:09.609874Z",
     "shell.execute_reply.started": "2024-05-06T17:15:09.603116Z"
    },
    "tags": []
   },
   "outputs": [],
   "source": [
    "def eval_pair(pair, sample_rate = 10):\n",
    "    \n",
    "    pair_negs = generate_negatives(pair, sample_rate=sample_rate)\n",
    "    \n",
    "    agatha_queries = [pair] + pair_negs\n",
    "    \n",
    "    pair_labels = [1] + [0]*len(pair_negs)\n",
    "    \n",
    "    scores = model.predict_from_terms(agatha_queries)\n",
    "    \n",
    "    res_list = sorted(\n",
    "        list(zip(scores, pair_labels)),\n",
    "        key=lambda x: x[0],\n",
    "        reverse=True\n",
    "    )\n",
    "    \n",
    "    rank = None\n",
    "    for i, (score, lbl) in enumerate(res_list):\n",
    "        if lbl == 1:\n",
    "            rank = i\n",
    "            break\n",
    "    \n",
    "    return {\n",
    "        'scores': res_list,\n",
    "        'pos_rank': rank + 1\n",
    "    }"
   ]
  },
  {
   "cell_type": "code",
   "execution_count": 62,
   "id": "96dd5f78-e867-4546-8c7f-ce905541d980",
   "metadata": {
    "execution": {
     "iopub.execute_input": "2024-05-06T17:15:22.388185Z",
     "iopub.status.busy": "2024-05-06T17:15:22.387800Z",
     "iopub.status.idle": "2024-05-06T17:15:22.405029Z",
     "shell.execute_reply": "2024-05-06T17:15:22.404079Z",
     "shell.execute_reply.started": "2024-05-06T17:15:22.388158Z"
    },
    "tags": []
   },
   "outputs": [],
   "source": [
    "# EvaluateLLM: if sub,obj exist in Agatha, then based on condition of score out of Agatha is less than Threshold(0.8) mark as bad prediction\n",
    "def evaluate_llm_resp(llm_resp_str):\n",
    "    print(\"This is original generated LLM res: \" + llm_resp_str)\n",
    "\n",
    "    expl_parts_list = []\n",
    "\n",
    "    cleaned_text = llm_resp_str.replace('\\n', '').replace('*', '')\n",
    "\n",
    "    print(\"This is CLEANED generated LLM res :\" + cleaned_text)\n",
    "\n",
    "    print('\\n-----------------------------------------------\\n')\n",
    "    \n",
    "    expl_sr_out = t.ProcessList_parallel([cleaned_text], nthreads=10)\n",
    "    \n",
    "    # print('\\n-----------------------------------------------\\n')\n",
    "\n",
    "    for s_id, sent_data in expl_sr_out.items():\n",
    "        sent_text = sent_data['sent_text']\n",
    "\n",
    "        status = 'ok'\n",
    "        bad_predicates = []\n",
    "        good_predicates = []\n",
    "        for rel in sent_data['relations']:\n",
    "\n",
    "            rel_subj = rel['subj_text']\n",
    "            v = rel['verb']\n",
    "            rel_obj = rel['obj_text']\n",
    "\n",
    "            #pred = [rel_subj, v, rel_obj]\n",
    "            pred = [rel_subj, rel_obj]\n",
    "\n",
    "            rel_pair = tuple(\n",
    "                sorted(\n",
    "                    [\n",
    "                        rel['subj_id'],\n",
    "                        rel['obj_id']\n",
    "                    ]\n",
    "                )\n",
    "            )\n",
    "            if rel_pair in pred_cui_pairs_set:\n",
    "                good_predicates.append(pred)\n",
    "            if rel_pair not in pred_cui_pairs_set:\n",
    "                #status = 'REWORK'\n",
    "                subj_id = f\"m:{rel['subj_id'].lower()}\"\n",
    "                obj_id = f\"m:{rel['obj_id'].lower()}\"\n",
    "                if subj_id in model.graph and obj_id in model.graph:\n",
    "                    agatha_score = model.predict_from_terms([[subj_id, obj_id]])[0]\n",
    "                    agatha_rank = eval_pair([subj_id, obj_id], sample_rate=20)['pos_rank']\n",
    "                    pred.append(agatha_rank)\n",
    "                    # if agatha_score < 0.9:\n",
    "                    if agatha_rank > 1:\n",
    "                        status = 'REWORK'\n",
    "                        bad_predicates.append(pred)\n",
    "                        print(\"Agatha score for predicate: {}\".format(agatha_score))\n",
    "                    else:\n",
    "                        good_predicates.append(pred)\n",
    "\n",
    "\n",
    "        print('Sentence:\\n', sent_text)\n",
    "        print('Status:\\n', status)\n",
    "        if status != 'ok':\n",
    "            print('Reason:')\n",
    "            for p in bad_predicates:\n",
    "                print('\\t', p, 'not in AGATHA KB')\n",
    "        else:\n",
    "            if len(good_predicates):\n",
    "                print('Recognized:')\n",
    "            for p in good_predicates:\n",
    "                print('\\t', p, 'in AGATHA KB')\n",
    "\n",
    "        print('\\n-----\\n')\n",
    "\n",
    "        expl_parts_list.append(\n",
    "            {\n",
    "                'sent_text': sent_text,\n",
    "                'status': status,\n",
    "                'bad_predicates': bad_predicates,\n",
    "                'good_predicates': good_predicates\n",
    "            }\n",
    "        )\n",
    "    print(expl_parts_list)    \n",
    "    return expl_parts_list"
   ]
  },
  {
   "cell_type": "markdown",
   "id": "ede37613-4b75-498f-931e-f06b99294640",
   "metadata": {},
   "source": [
    "### 3.1. First Evaluate llm response for indirect connection"
   ]
  },
  {
   "cell_type": "markdown",
   "id": "3a853976-391f-404a-8963-a02452e5b48f",
   "metadata": {},
   "source": [
    "### 3.1.1 Iteration 1"
   ]
  },
  {
   "cell_type": "code",
   "execution_count": 68,
   "id": "5af5ca98-2947-4937-93ee-bbbd05e7f690",
   "metadata": {
    "execution": {
     "iopub.execute_input": "2024-05-06T17:16:31.773215Z",
     "iopub.status.busy": "2024-05-06T17:16:31.772318Z",
     "iopub.status.idle": "2024-05-06T17:18:00.346657Z",
     "shell.execute_reply": "2024-05-06T17:18:00.345339Z",
     "shell.execute_reply.started": "2024-05-06T17:16:31.773165Z"
    },
    "tags": []
   },
   "outputs": [
    {
     "name": "stdout",
     "output_type": "stream",
     "text": [
      "This is original generated LLM res: The indirect relationship between COVID-19 Virus Disease and morphine can be inferred through the interplay of immune response and the potential impact of morphine on the central nervous system (CNS) and immune function. Here's a synthesis of the provided abstracts to illustrate this relationship:\n",
      "\n",
      "1. **COVID-19 Immune Response**: The abstracts on COVID-19 highlight the importance of the immune response in managing the disease, particularly the role of cytokines like IL-6 in the severity of COVID-19 pneumonia and the cytokine storm. Tocilizumab, an IL-6 receptor antibody, has been shown to mitigate the cytokine storm, suggesting that modulation of the immune response is crucial in the treatment of COVID-19.\n",
      "\n",
      "2. **Morphine's Effect on the Brain and Immune System**: Morphine is known to induce epigenetic changes in the brain, affecting genes involved in brain function and the immune response, such as Il6. Morphine's ability to cross the blood-brain barrier (BBB) and affect brain function is well-documented, and it's also known to influence the immune system indirectly through its action in the CNS.\n",
      "\n",
      "3. **Cytokines and the Blood-Brain Barrier**: The passage of cytokines across the BBB is a critical mechanism by which the peripheral immune response can influence the CNS. Given that morphine can affect the CNS and has been shown to influence the immune response indirectly, it's plausible that morphine could modulate the effects of cytokines on the CNS, potentially impacting the CNS's response to infections like COVID-19.\n",
      "\n",
      "4. **Indirect Relationship**: The indirect relationship between COVID-19 and morphine can thus be conceptualized through the lens of immune modulation and CNS impact. While COVID-19's severity is influenced by the immune response, including the cytokine storm, morphine's epigenetic effects on the brain and its potential to modulate the immune response through CNS mechanisms suggest that morphine could indirectly influence the body's response to COVID-19. This could be through altering the expression of genes involved in the immune response, affecting cytokine levels, or influencing the passage of cytokines across the BBB.\n",
      "\n",
      "In summary, while there is no direct link between morphine use and COVID-19 outcomes, the potential for morphine to influence the immune response and CNS function indirectly suggests a complex interplay that could impact the body's response to COVID-19. Further research would be necessary to explore the clinical significance of this relationship and whether morphine's effects on the immune system and CNS could influence COVID-19 disease progression or severity.\n",
      "This is CLEANED generated LLM res :The indirect relationship between COVID-19 Virus Disease and morphine can be inferred through the interplay of immune response and the potential impact of morphine on the central nervous system (CNS) and immune function. Here's a synthesis of the provided abstracts to illustrate this relationship:1. COVID-19 Immune Response: The abstracts on COVID-19 highlight the importance of the immune response in managing the disease, particularly the role of cytokines like IL-6 in the severity of COVID-19 pneumonia and the cytokine storm. Tocilizumab, an IL-6 receptor antibody, has been shown to mitigate the cytokine storm, suggesting that modulation of the immune response is crucial in the treatment of COVID-19.2. Morphine's Effect on the Brain and Immune System: Morphine is known to induce epigenetic changes in the brain, affecting genes involved in brain function and the immune response, such as Il6. Morphine's ability to cross the blood-brain barrier (BBB) and affect brain function is well-documented, and it's also known to influence the immune system indirectly through its action in the CNS.3. Cytokines and the Blood-Brain Barrier: The passage of cytokines across the BBB is a critical mechanism by which the peripheral immune response can influence the CNS. Given that morphine can affect the CNS and has been shown to influence the immune response indirectly, it's plausible that morphine could modulate the effects of cytokines on the CNS, potentially impacting the CNS's response to infections like COVID-19.4. Indirect Relationship: The indirect relationship between COVID-19 and morphine can thus be conceptualized through the lens of immune modulation and CNS impact. While COVID-19's severity is influenced by the immune response, including the cytokine storm, morphine's epigenetic effects on the brain and its potential to modulate the immune response through CNS mechanisms suggest that morphine could indirectly influence the body's response to COVID-19. This could be through altering the expression of genes involved in the immune response, affecting cytokine levels, or influencing the passage of cytokines across the BBB.In summary, while there is no direct link between morphine use and COVID-19 outcomes, the potential for morphine to influence the immune response and CNS function indirectly suggests a complex interplay that could impact the body's response to COVID-19. Further research would be necessary to explore the clinical significance of this relationship and whether morphine's effects on the immune system and CNS could influence COVID-19 disease progression or severity.\n",
      "\n",
      "-----------------------------------------------\n",
      "\n",
      "Run SemRep in interactive mode...\n",
      "Processing input with replace_utf8.jar utility...\n",
      "Sentence:\n",
      " The indirect relationship between COVID-19 Virus Disease and morphine can be inferred through the interplay of immune response and the potential impact of morphine on the central nervous system (CNS) and immune function. \n",
      "Status:\n",
      " ok\n",
      "Recognized:\n",
      "\t ['impact', 'COVID-19 Virus Disease'] in AGATHA KB\n",
      "\n",
      "-----\n",
      "\n",
      "Sentence:\n",
      " Here's a synthesis of the provided abstracts to illustrate this relationship:1. \n",
      "Status:\n",
      " ok\n",
      "\n",
      "-----\n",
      "\n",
      "Sentence:\n",
      " COVID-19 Immune Response: The abstracts on COVID-19 highlight the importance of the immune response in managing the disease, particularly the role of cytokines like IL-6 in the severity of COVID-19 pneumonia and the cytokine storm. \n",
      "Status:\n",
      " ok\n",
      "\n",
      "-----\n",
      "\n",
      "Sentence:\n",
      " Tocilizumab, an IL-6 receptor antibody, has been shown to mitigate the cytokine storm, suggesting that modulation of the immune response is crucial in the treatment of COVID-19.2. \n",
      "Status:\n",
      " ok\n",
      "Recognized:\n",
      "\t ['Tocilizumab', 'cytokine storm'] in AGATHA KB\n",
      "\n",
      "-----\n",
      "\n",
      "Sentence:\n",
      " Morphine's Effect on the Brain and Immune System: Morphine is known to induce epigenetic changes in the brain, affecting genes involved in brain function and the immune response, such as Il6. \n",
      "Status:\n",
      " ok\n",
      "Recognized:\n",
      "\t ['Morphine', 'epigenetic changes'] in AGATHA KB\n",
      "\t ['genes', 'immune response'] in AGATHA KB\n",
      "\t ['genes', 'brain function'] in AGATHA KB\n",
      "\t ['genes', 'Brain'] in AGATHA KB\n",
      "\t ['genes', 'Immune System'] in AGATHA KB\n",
      "\n",
      "-----\n",
      "\n",
      "Sentence:\n",
      " Morphine's ability to cross the blood-brain barrier (BBB) and affect brain function is well-documented, and it's also known to influence the immune system indirectly through its action in the CNS.3. \n",
      "Status:\n",
      " ok\n",
      "Recognized:\n",
      "\t ['blood-brain barrier', 'brain function'] in AGATHA KB\n",
      "\n",
      "-----\n",
      "\n",
      "Sentence:\n",
      " Cytokines and the Blood-Brain Barrier: The passage of cytokines across the BBB is a critical mechanism by which the peripheral immune response can influence the CNS. \n",
      "Status:\n",
      " ok\n",
      "Recognized:\n",
      "\t ['BBB', 'cytokines'] in AGATHA KB\n",
      "\t ['cytokines', 'CNS'] in AGATHA KB\n",
      "\n",
      "-----\n",
      "\n",
      "Sentence:\n",
      " Given that morphine can affect the CNS and has been shown to influence the immune response indirectly, it's plausible that morphine could modulate the effects of cytokines on the CNS, potentially impacting the CNS's response to infections like COVID-19.4. \n",
      "Status:\n",
      " ok\n",
      "Recognized:\n",
      "\t ['morphine', 'immune response'] in AGATHA KB\n",
      "\n",
      "-----\n",
      "\n",
      "Sentence:\n",
      " Indirect Relationship: The indirect relationship between COVID-19 and morphine can thus be conceptualized through the lens of immune modulation and CNS impact. \n",
      "Status:\n",
      " ok\n",
      "\n",
      "-----\n",
      "\n",
      "Sentence:\n",
      " While COVID-19's severity is influenced by the immune response, including the cytokine storm, morphine's epigenetic effects on the brain and its potential to modulate the immune response through CNS mechanisms suggest that morphine could indirectly influence the body's response to COVID-19. \n",
      "Status:\n",
      " ok\n",
      "\n",
      "-----\n",
      "\n",
      "Agatha score for predicate: 0.769090473651886\n",
      "Sentence:\n",
      " This could be through altering the expression of genes involved in the immune response, affecting cytokine levels, or influencing the passage of cytokines across the BBB.In summary, while there is no direct link between morphine use and COVID-19 outcomes, the potential for morphine to influence the immune response and CNS function indirectly suggests a complex interplay that could impact the body's response to COVID-19. \n",
      "Status:\n",
      " REWORK\n",
      "Reason:\n",
      "\t ['morphine', 'CNS function', 3] not in AGATHA KB\n",
      "\n",
      "-----\n",
      "\n",
      "Sentence:\n",
      " Further research would be necessary to explore the clinical significance of this relationship and whether morphine's effects on the immune system and CNS could influence COVID-19 disease progression or severity. \n",
      "Status:\n",
      " ok\n",
      "\n",
      "-----\n",
      "\n",
      "[{'sent_text': 'The indirect relationship between COVID-19 Virus Disease and morphine can be inferred through the interplay of immune response and the potential impact of morphine on the central nervous system (CNS) and immune function. ', 'status': 'ok', 'bad_predicates': [], 'good_predicates': [['impact', 'COVID-19 Virus Disease']]}, {'sent_text': \"Here's a synthesis of the provided abstracts to illustrate this relationship:1. \", 'status': 'ok', 'bad_predicates': [], 'good_predicates': []}, {'sent_text': 'COVID-19 Immune Response: The abstracts on COVID-19 highlight the importance of the immune response in managing the disease, particularly the role of cytokines like IL-6 in the severity of COVID-19 pneumonia and the cytokine storm. ', 'status': 'ok', 'bad_predicates': [], 'good_predicates': []}, {'sent_text': 'Tocilizumab, an IL-6 receptor antibody, has been shown to mitigate the cytokine storm, suggesting that modulation of the immune response is crucial in the treatment of COVID-19.2. ', 'status': 'ok', 'bad_predicates': [], 'good_predicates': [['Tocilizumab', 'cytokine storm']]}, {'sent_text': \"Morphine's Effect on the Brain and Immune System: Morphine is known to induce epigenetic changes in the brain, affecting genes involved in brain function and the immune response, such as Il6. \", 'status': 'ok', 'bad_predicates': [], 'good_predicates': [['Morphine', 'epigenetic changes'], ['genes', 'immune response'], ['genes', 'brain function'], ['genes', 'Brain'], ['genes', 'Immune System']]}, {'sent_text': \"Morphine's ability to cross the blood-brain barrier (BBB) and affect brain function is well-documented, and it's also known to influence the immune system indirectly through its action in the CNS.3. \", 'status': 'ok', 'bad_predicates': [], 'good_predicates': [['blood-brain barrier', 'brain function']]}, {'sent_text': 'Cytokines and the Blood-Brain Barrier: The passage of cytokines across the BBB is a critical mechanism by which the peripheral immune response can influence the CNS. ', 'status': 'ok', 'bad_predicates': [], 'good_predicates': [['BBB', 'cytokines'], ['cytokines', 'CNS']]}, {'sent_text': \"Given that morphine can affect the CNS and has been shown to influence the immune response indirectly, it's plausible that morphine could modulate the effects of cytokines on the CNS, potentially impacting the CNS's response to infections like COVID-19.4. \", 'status': 'ok', 'bad_predicates': [], 'good_predicates': [['morphine', 'immune response']]}, {'sent_text': 'Indirect Relationship: The indirect relationship between COVID-19 and morphine can thus be conceptualized through the lens of immune modulation and CNS impact. ', 'status': 'ok', 'bad_predicates': [], 'good_predicates': []}, {'sent_text': \"While COVID-19's severity is influenced by the immune response, including the cytokine storm, morphine's epigenetic effects on the brain and its potential to modulate the immune response through CNS mechanisms suggest that morphine could indirectly influence the body's response to COVID-19. \", 'status': 'ok', 'bad_predicates': [], 'good_predicates': []}, {'sent_text': \"This could be through altering the expression of genes involved in the immune response, affecting cytokine levels, or influencing the passage of cytokines across the BBB.In summary, while there is no direct link between morphine use and COVID-19 outcomes, the potential for morphine to influence the immune response and CNS function indirectly suggests a complex interplay that could impact the body's response to COVID-19. \", 'status': 'REWORK', 'bad_predicates': [['morphine', 'CNS function', 3]], 'good_predicates': [['genes', 'immune response'], ['BBB', 'cytokines'], ['morphine', 'immune response']]}, {'sent_text': \"Further research would be necessary to explore the clinical significance of this relationship and whether morphine's effects on the immune system and CNS could influence COVID-19 disease progression or severity. \", 'status': 'ok', 'bad_predicates': [], 'good_predicates': []}]\n"
     ]
    }
   ],
   "source": [
    "evaluation_result = evaluate_llm_resp(llm_resp_path1)"
   ]
  },
  {
   "cell_type": "code",
   "execution_count": 69,
   "id": "f388ac1e-72fe-4a51-8068-e4b93db2053c",
   "metadata": {
    "execution": {
     "iopub.execute_input": "2024-05-06T17:18:22.973729Z",
     "iopub.status.busy": "2024-05-06T17:18:22.973231Z",
     "iopub.status.idle": "2024-05-06T17:18:23.006146Z",
     "shell.execute_reply": "2024-05-06T17:18:23.005434Z",
     "shell.execute_reply.started": "2024-05-06T17:18:22.973694Z"
    }
   },
   "outputs": [
    {
     "data": {
      "text/html": [
       "<div>\n",
       "<style scoped>\n",
       "    .dataframe tbody tr th:only-of-type {\n",
       "        vertical-align: middle;\n",
       "    }\n",
       "\n",
       "    .dataframe tbody tr th {\n",
       "        vertical-align: top;\n",
       "    }\n",
       "\n",
       "    .dataframe thead th {\n",
       "        text-align: right;\n",
       "    }\n",
       "</style>\n",
       "<table border=\"1\" class=\"dataframe\">\n",
       "  <thead>\n",
       "    <tr style=\"text-align: right;\">\n",
       "      <th></th>\n",
       "      <th>index</th>\n",
       "      <th>sent_text</th>\n",
       "      <th>status</th>\n",
       "      <th>bad_predicates</th>\n",
       "      <th>good_predicates</th>\n",
       "      <th>reworked_part</th>\n",
       "    </tr>\n",
       "  </thead>\n",
       "  <tbody>\n",
       "    <tr>\n",
       "      <th>0</th>\n",
       "      <td>0</td>\n",
       "      <td>The indirect relationship between COVID-19 Vir...</td>\n",
       "      <td>ok</td>\n",
       "      <td>[]</td>\n",
       "      <td>[[impact, COVID-19 Virus Disease]]</td>\n",
       "      <td>None</td>\n",
       "    </tr>\n",
       "    <tr>\n",
       "      <th>1</th>\n",
       "      <td>1</td>\n",
       "      <td>Here's a synthesis of the provided abstracts t...</td>\n",
       "      <td>ok</td>\n",
       "      <td>[]</td>\n",
       "      <td>[]</td>\n",
       "      <td>None</td>\n",
       "    </tr>\n",
       "    <tr>\n",
       "      <th>2</th>\n",
       "      <td>2</td>\n",
       "      <td>COVID-19 Immune Response: The abstracts on COV...</td>\n",
       "      <td>ok</td>\n",
       "      <td>[]</td>\n",
       "      <td>[]</td>\n",
       "      <td>None</td>\n",
       "    </tr>\n",
       "    <tr>\n",
       "      <th>3</th>\n",
       "      <td>3</td>\n",
       "      <td>Tocilizumab, an IL-6 receptor antibody, has be...</td>\n",
       "      <td>ok</td>\n",
       "      <td>[]</td>\n",
       "      <td>[[Tocilizumab, cytokine storm]]</td>\n",
       "      <td>None</td>\n",
       "    </tr>\n",
       "    <tr>\n",
       "      <th>4</th>\n",
       "      <td>4</td>\n",
       "      <td>Morphine's Effect on the Brain and Immune Syst...</td>\n",
       "      <td>ok</td>\n",
       "      <td>[]</td>\n",
       "      <td>[[Morphine, epigenetic changes], [genes, immun...</td>\n",
       "      <td>None</td>\n",
       "    </tr>\n",
       "    <tr>\n",
       "      <th>5</th>\n",
       "      <td>5</td>\n",
       "      <td>Morphine's ability to cross the blood-brain ba...</td>\n",
       "      <td>ok</td>\n",
       "      <td>[]</td>\n",
       "      <td>[[blood-brain barrier, brain function]]</td>\n",
       "      <td>None</td>\n",
       "    </tr>\n",
       "    <tr>\n",
       "      <th>6</th>\n",
       "      <td>6</td>\n",
       "      <td>Cytokines and the Blood-Brain Barrier: The pas...</td>\n",
       "      <td>ok</td>\n",
       "      <td>[]</td>\n",
       "      <td>[[BBB, cytokines], [cytokines, CNS]]</td>\n",
       "      <td>None</td>\n",
       "    </tr>\n",
       "    <tr>\n",
       "      <th>7</th>\n",
       "      <td>7</td>\n",
       "      <td>Given that morphine can affect the CNS and has...</td>\n",
       "      <td>ok</td>\n",
       "      <td>[]</td>\n",
       "      <td>[[morphine, immune response]]</td>\n",
       "      <td>None</td>\n",
       "    </tr>\n",
       "    <tr>\n",
       "      <th>8</th>\n",
       "      <td>8</td>\n",
       "      <td>Indirect Relationship: The indirect relationsh...</td>\n",
       "      <td>ok</td>\n",
       "      <td>[]</td>\n",
       "      <td>[]</td>\n",
       "      <td>None</td>\n",
       "    </tr>\n",
       "    <tr>\n",
       "      <th>9</th>\n",
       "      <td>9</td>\n",
       "      <td>While COVID-19's severity is influenced by the...</td>\n",
       "      <td>ok</td>\n",
       "      <td>[]</td>\n",
       "      <td>[]</td>\n",
       "      <td>None</td>\n",
       "    </tr>\n",
       "    <tr>\n",
       "      <th>10</th>\n",
       "      <td>10</td>\n",
       "      <td>This could be through altering the expression ...</td>\n",
       "      <td>REWORK</td>\n",
       "      <td>[[morphine, CNS function, 3]]</td>\n",
       "      <td>[[genes, immune response], [BBB, cytokines], [...</td>\n",
       "      <td>None</td>\n",
       "    </tr>\n",
       "    <tr>\n",
       "      <th>11</th>\n",
       "      <td>11</td>\n",
       "      <td>Further research would be necessary to explore...</td>\n",
       "      <td>ok</td>\n",
       "      <td>[]</td>\n",
       "      <td>[]</td>\n",
       "      <td>None</td>\n",
       "    </tr>\n",
       "  </tbody>\n",
       "</table>\n",
       "</div>"
      ],
      "text/plain": [
       "    index                                          sent_text  status  \\\n",
       "0       0  The indirect relationship between COVID-19 Vir...      ok   \n",
       "1       1  Here's a synthesis of the provided abstracts t...      ok   \n",
       "2       2  COVID-19 Immune Response: The abstracts on COV...      ok   \n",
       "3       3  Tocilizumab, an IL-6 receptor antibody, has be...      ok   \n",
       "4       4  Morphine's Effect on the Brain and Immune Syst...      ok   \n",
       "5       5  Morphine's ability to cross the blood-brain ba...      ok   \n",
       "6       6  Cytokines and the Blood-Brain Barrier: The pas...      ok   \n",
       "7       7  Given that morphine can affect the CNS and has...      ok   \n",
       "8       8  Indirect Relationship: The indirect relationsh...      ok   \n",
       "9       9  While COVID-19's severity is influenced by the...      ok   \n",
       "10     10  This could be through altering the expression ...  REWORK   \n",
       "11     11  Further research would be necessary to explore...      ok   \n",
       "\n",
       "                   bad_predicates  \\\n",
       "0                              []   \n",
       "1                              []   \n",
       "2                              []   \n",
       "3                              []   \n",
       "4                              []   \n",
       "5                              []   \n",
       "6                              []   \n",
       "7                              []   \n",
       "8                              []   \n",
       "9                              []   \n",
       "10  [[morphine, CNS function, 3]]   \n",
       "11                             []   \n",
       "\n",
       "                                      good_predicates reworked_part  \n",
       "0                  [[impact, COVID-19 Virus Disease]]          None  \n",
       "1                                                  []          None  \n",
       "2                                                  []          None  \n",
       "3                     [[Tocilizumab, cytokine storm]]          None  \n",
       "4   [[Morphine, epigenetic changes], [genes, immun...          None  \n",
       "5             [[blood-brain barrier, brain function]]          None  \n",
       "6                [[BBB, cytokines], [cytokines, CNS]]          None  \n",
       "7                       [[morphine, immune response]]          None  \n",
       "8                                                  []          None  \n",
       "9                                                  []          None  \n",
       "10  [[genes, immune response], [BBB, cytokines], [...          None  \n",
       "11                                                 []          None  "
      ]
     },
     "execution_count": 69,
     "metadata": {},
     "output_type": "execute_result"
    }
   ],
   "source": [
    "expl_parts_df = pd.DataFrame(evaluation_result).reset_index()\n",
    "expl_parts_df['reworked_part'] = None\n",
    "expl_parts_df"
   ]
  },
  {
   "cell_type": "code",
   "execution_count": 70,
   "id": "5119f925-658d-4ebb-995a-7475db0d52a8",
   "metadata": {
    "execution": {
     "iopub.execute_input": "2024-05-06T17:18:38.299923Z",
     "iopub.status.busy": "2024-05-06T17:18:38.299168Z",
     "iopub.status.idle": "2024-05-06T17:18:38.304833Z",
     "shell.execute_reply": "2024-05-06T17:18:38.303825Z",
     "shell.execute_reply.started": "2024-05-06T17:18:38.299881Z"
    }
   },
   "outputs": [],
   "source": [
    "expl_parts_enum_dict = dict(enumerate(evaluation_result))"
   ]
  },
  {
   "cell_type": "code",
   "execution_count": 71,
   "id": "31645ecd-a18e-451d-969c-6eadf288c175",
   "metadata": {
    "execution": {
     "iopub.execute_input": "2024-05-06T17:18:39.735185Z",
     "iopub.status.busy": "2024-05-06T17:18:39.734971Z",
     "iopub.status.idle": "2024-05-06T17:18:39.740277Z",
     "shell.execute_reply": "2024-05-06T17:18:39.739501Z",
     "shell.execute_reply.started": "2024-05-06T17:18:39.735168Z"
    }
   },
   "outputs": [
    {
     "data": {
      "text/plain": [
       "11"
      ]
     },
     "execution_count": 71,
     "metadata": {},
     "output_type": "execute_result"
    }
   ],
   "source": [
    "max(expl_parts_enum_dict)"
   ]
  },
  {
   "cell_type": "markdown",
   "id": "16c0c6d4-90bb-46ae-99be-de072d779449",
   "metadata": {},
   "source": [
    "### 3.2. Find out from which Abstract Rework sentence of explanation is comming from."
   ]
  },
  {
   "cell_type": "code",
   "execution_count": 72,
   "id": "45e4e175-6882-49a6-bdc7-dfcd09e417a4",
   "metadata": {
    "execution": {
     "iopub.execute_input": "2024-05-06T17:18:51.138214Z",
     "iopub.status.busy": "2024-05-06T17:18:51.137939Z",
     "iopub.status.idle": "2024-05-06T17:18:51.145013Z",
     "shell.execute_reply": "2024-05-06T17:18:51.143960Z",
     "shell.execute_reply.started": "2024-05-06T17:18:51.138192Z"
    },
    "tags": []
   },
   "outputs": [
    {
     "name": "stdout",
     "output_type": "stream",
     "text": [
      "[\"This could be through altering the expression of genes involved in the immune response, affecting cytokine levels, or influencing the passage of cytokines across the BBB.In summary, while there is no direct link between morphine use and COVID-19 outcomes, the potential for morphine to influence the immune response and CNS function indirectly suggests a complex interplay that could impact the body's response to COVID-19. \"]\n"
     ]
    }
   ],
   "source": [
    "expl_parts_enum_dict = dict(enumerate(evaluation_result))\n",
    "rework_sentences = []\n",
    "\n",
    "for key, value in expl_parts_enum_dict.items():\n",
    "    if value['status'] == 'REWORK':  \n",
    "        rework_sentences.append(value['sent_text']) \n",
    "print(rework_sentences)"
   ]
  },
  {
   "cell_type": "code",
   "execution_count": 73,
   "id": "75166733-2f06-46c7-ac75-48466c1daf41",
   "metadata": {
    "execution": {
     "iopub.execute_input": "2024-05-06T17:18:54.194464Z",
     "iopub.status.busy": "2024-05-06T17:18:54.194012Z",
     "iopub.status.idle": "2024-05-06T17:18:54.200168Z",
     "shell.execute_reply": "2024-05-06T17:18:54.199329Z",
     "shell.execute_reply.started": "2024-05-06T17:18:54.194435Z"
    },
    "tags": []
   },
   "outputs": [
    {
     "data": {
      "text/plain": [
       "\"This could be through altering the expression of genes involved in the immune response, affecting cytokine levels, or influencing the passage of cytokines across the BBB.In summary, while there is no direct link between morphine use and COVID-19 outcomes, the potential for morphine to influence the immune response and CNS function indirectly suggests a complex interplay that could impact the body's response to COVID-19. \""
      ]
     },
     "execution_count": 73,
     "metadata": {},
     "output_type": "execute_result"
    }
   ],
   "source": [
    "rework_sent_to_drop_abst_1 = rework_sentences[0]\n",
    "rework_sent_to_drop_abst_1"
   ]
  },
  {
   "cell_type": "markdown",
   "id": "5c09e223-aa77-483c-a73c-970d55b26a01",
   "metadata": {},
   "source": [
    "### 3.3. find closest abstracts to Rework_sentence ==> by querying db "
   ]
  },
  {
   "cell_type": "code",
   "execution_count": 75,
   "id": "a7a48faa-2a67-4ac5-be03-e7ccc91303b3",
   "metadata": {
    "execution": {
     "iopub.execute_input": "2024-05-06T17:20:39.190893Z",
     "iopub.status.busy": "2024-05-06T17:20:39.190460Z",
     "iopub.status.idle": "2024-05-06T17:20:39.238652Z",
     "shell.execute_reply": "2024-05-06T17:20:39.237561Z",
     "shell.execute_reply.started": "2024-05-06T17:20:39.190864Z"
    },
    "tags": []
   },
   "outputs": [
    {
     "data": {
      "text/plain": [
       "['The effect of morphine upon DNA methylation in ten regions of the rat brain. Morphine is one of the most effective analgesics in medicine. However, its use is associated with the development of tolerance and dependence. Recent studies demonstrating epigenetic changes in the brain after exposure to opiates have provided insight into mechanisms possibly underlying addiction. In this study, we sought to identify epigenetic changes in ten regions of the rat brain following acute and chronic morphine exposure. We analyzed DNA methylation of six nuclear-encoded genes implicated in brain function (Bdnf, Comt, Il1b, Il6, Nr3c1, and Tnf) and three mitochondrially-encoded genes (Mtco1, Mtco2, and Mtco3), and measured global 5-methylcytosine (5mC) and 5-hydroxymethylcytosine (5 hmC) levels. We observed differential methylation of Bdnf and Il6 in the pons, Nr3c1 in the cerebellum, and Il1b in the hippocampus in response to acute morphine exposure (all P value < 0.05). Chronic exposure was associated with differential methylation of Bdnf and Comt in the pons, Nr3c1 in the hippocampus and Il1b in the medulla oblongata (all P value < 0.05). Global 5mC levels significantly decreased in the superior colliculus following both acute and chronic morphine exposure, and increased in the hypothalamus following chronic exposure. Chronic exposure was also associated with significantly increased global 5hmC levels in the cerebral cortex, hippocampus, and hypothalamus, but significantly decreased in the midbrain. Our results demonstrate, for the first time, highly localized epigenetic changes in the rat brain following acute and chronic morphine exposure. Further work is required to elucidate the potential role of these changes in the formation of tolerance and dependence. ']"
      ]
     },
     "execution_count": 75,
     "metadata": {},
     "output_type": "execute_result"
    }
   ],
   "source": [
    "cur_top_n_context_abstr_drop_list_1 = find_top_documents(rework_sent_to_drop_abst_1,results_path1, top_k=1,return_scores=False)\n",
    "cur_top_n_context_abstr_drop_list_1"
   ]
  },
  {
   "cell_type": "markdown",
   "id": "878dcc77-064c-4e4f-8b1c-09d8a2e482f9",
   "metadata": {},
   "source": [
    "### 3.4. Drop that abstract from Context"
   ]
  },
  {
   "cell_type": "code",
   "execution_count": 77,
   "id": "55001766-92ed-4f06-8957-f31fa0647483",
   "metadata": {
    "execution": {
     "iopub.execute_input": "2024-05-06T17:21:19.645321Z",
     "iopub.status.busy": "2024-05-06T17:21:19.644920Z",
     "iopub.status.idle": "2024-05-06T17:21:19.651780Z",
     "shell.execute_reply": "2024-05-06T17:21:19.650799Z",
     "shell.execute_reply.started": "2024-05-06T17:21:19.645292Z"
    }
   },
   "outputs": [
    {
     "data": {
      "text/plain": [
       "'The effect of morphine upon DNA methylation in ten regions of the rat brain. Morphine is one of the most effective analgesics in medicine. However, its use is associated with the development of tolerance and dependence. Recent studies demonstrating epigenetic changes in the brain after exposure to opiates have provided insight into mechanisms possibly underlying addiction. In this study, we sought to identify epigenetic changes in ten regions of the rat brain following acute and chronic morphine exposure. We analyzed DNA methylation of six nuclear-encoded genes implicated in brain function (Bdnf, Comt, Il1b, Il6, Nr3c1, and Tnf) and three mitochondrially-encoded genes (Mtco1, Mtco2, and Mtco3), and measured global 5-methylcytosine (5mC) and 5-hydroxymethylcytosine (5 hmC) levels. We observed differential methylation of Bdnf and Il6 in the pons, Nr3c1 in the cerebellum, and Il1b in the hippocampus in response to acute morphine exposure (all P value < 0.05). Chronic exposure was associated with differential methylation of Bdnf and Comt in the pons, Nr3c1 in the hippocampus and Il1b in the medulla oblongata (all P value < 0.05). Global 5mC levels significantly decreased in the superior colliculus following both acute and chronic morphine exposure, and increased in the hypothalamus following chronic exposure. Chronic exposure was also associated with significantly increased global 5hmC levels in the cerebral cortex, hippocampus, and hypothalamus, but significantly decreased in the midbrain. Our results demonstrate, for the first time, highly localized epigenetic changes in the rat brain following acute and chronic morphine exposure. Further work is required to elucidate the potential role of these changes in the formation of tolerance and dependence. '"
      ]
     },
     "execution_count": 77,
     "metadata": {},
     "output_type": "execute_result"
    }
   ],
   "source": [
    "results_path1[1]"
   ]
  },
  {
   "cell_type": "code",
   "execution_count": 78,
   "id": "43395b5c-489e-4c33-9615-88bf9f446f9f",
   "metadata": {
    "execution": {
     "iopub.execute_input": "2024-05-06T17:21:36.156515Z",
     "iopub.status.busy": "2024-05-06T17:21:36.155968Z",
     "iopub.status.idle": "2024-05-06T17:21:36.163004Z",
     "shell.execute_reply": "2024-05-06T17:21:36.162194Z",
     "shell.execute_reply.started": "2024-05-06T17:21:36.156483Z"
    },
    "scrolled": true
   },
   "outputs": [
    {
     "data": {
      "text/plain": [
       "['Early Viral Clearance and Antibody Kinetics of COVID-19 Among Asymptomatic Carriers. Asymptomatic carriers contribute to the spread of Coronavirus Disease 2019 (COVID-19), but their clinical characteristics, viral kinetics, and antibody responses remain unclear. A total of 56 COVID-19 patients without symptoms at admission and 19 age-matched symptomatic patients were enrolled. RNA of SARS-CoV-2 was tested using transcriptase quantitative PCR, and the total antibodies (Ab), IgG, IgA, and IgM against the SARS-CoV-2 were tested using Chemiluminescence Microparticle Immuno Assay. Among 56 patients without symptoms at admission, 33 cases displayed symptoms and 23 remained asymptomatic throughout the follow-up period. 43.8% of the asymptomatic carriers were children and none of the asymptomatic cases had recognizable changes in C-reactive protein or interleukin-6, except one 64-year-old patient. The initial threshold cycle value of nasopharyngeal SARS-CoV-2 in asymptomatic carriers was similar to that in pre-symptomatic and symptomatic patients, but the positive viral nucleic acid detection period of asymptomatic carriers (9.63 days) was shorter than pre-symptomatic patients (13.6 days). There were no obvious differences in the seropositive conversion rate of total Ab, IgG, and IgA among the three groups, though the rates of IgM varied largely. The average peak IgG and IgM COI of asymptomatic cases was 3.5 and 0.8, respectively, which is also lower than those in symptomatic patients with peaked IgG and IgM COI of 4.5 and 2.4 (p < 0.05). Young COVID-19 patients seem to be asymptomatic cases with early clearance of SARS-CoV-2 and low levels of IgM generation but high total Ab, IgG, and IgA. Our findings provide empirical information for viral clearance and antibody kinetics of asymptomatic COVID-19 patients. ',\n",
       " \"Simple predictive models identify patients with COVID-19 pneumonia and poor prognosis. Identification of SARS-CoV-2-infected patients at high-risk of poor prognosis is crucial. We aimed to establish predictive models for COVID-19 pneumonia severity in hospitalized patients. Retrospective study of 430 patients admitted in Vall d'Hebron Hospital (Barcelona) between 03-12-2020 and 04-28-2020 due to COVID-19 pneumonia. Two models to identify the patients who required high-flow-oxygen-support were generated, one using baseline data and another with also follow-up analytical results. Calibration was performed by a 1000-bootstrap replication model. 249 were male, mean age 57.9 years. Overall, 135 (31.4%) required high-flow-oxygen-support. The baseline predictive model showed a ROC of 0.800 based on: SpO2/FiO2 (adjusted Hazard Ratio-aHR = 8), chest x-ray (aHR = 4), prior immunosuppressive therapy (aHR = 4), obesity (aHR = 2), IL-6 (aHR = 2), platelets (aHR = 0.5). The cut-off of 11 presented a specificity of 94.8%. The second model included changes on the analytical parameters: ferritin (aHR = 7.5 if >=200ng/mL) and IL-6 (aHR = 18 if >=64pg/mL) plus chest x-ray (aHR = 2) showing a ROC of 0.877. The cut-off of 12 exhibited a negative predictive value of 92%. SpO2/FiO2 and chest x-ray on admission or changes on inflammatory parameters as IL-6 and ferritin allow us early identification of COVID-19 patients at risk of high-flow-oxygen-support that may benefit from a more intensive disease management. \",\n",
       " 'Single-Cell RNA Sequencing of Tocilizumab-Treated Peripheral Blood Mononuclear Cells as an in vitro Model of Inflammation. COVID-19 has posed a significant threat to global health. Early data has revealed that IL-6, a key regulatory cytokine, plays an important role in the cytokine storm of COVID-19. Multiple trials are therefore looking at the effects of Tocilizumab, an IL-6 receptor antibody that inhibits IL-6 activity, on treatment of COVID-19, with promising findings. As part of a clinical trial looking at the effects of Tocilizumab treatment on kidney transplant recipients with subclinical rejection, we performed single-cell RNA sequencing of comparing stimulated PBMCs before and after Tocilizumab treatment. We leveraged this data to create an in vitro cytokine storm model, to better understand the effects of Tocilizumab in the presence of inflammation. Tocilizumab-treated cells had reduced expression of inflammatory-mediated genes and biologic pathways, particularly amongst monocytes. These results support the hypothesis that Tocilizumab may hinder the cytokine storm of COVID-19, through a demonstration of biologic impact at the single-cell level. ',\n",
       " 'Effect of intravenous pentoxifylline in inflammatory response in patients undergoing nephrolithotomy. To determine the potential efficacy of intravenous (IV) infusion of pentoxifylline (PTX) before nephrolithotomy on attenuating plasma level of the tumor necrosis factor (TNF)-alpha and interleukin (IL)-1, and to investigate whether it prevents postoperative pain. In a randomized, double-blind, placebo-controlled study, 32 patients (American Society of Anesthesiologists physical status 1 and 2) who were undergoing general anesthesia for nephrolithotomy were randomized to receive intravenous PTX (500 mg in 500 mL saline for 2 hours followed by 700 mg in 1000 mL saline for 6 hours), or placebo (1500 mL saline) before induction of the anesthesia. Two venous blood samples were obtained 10 minutes before PTX or placebo infusion and after surgery at 24 hours for laboratory examination. After surgery, the amount of narcotics consumption and intensity of pain (Visual Analog Scale and Verbal Rating Scale) were evaluated. At baseline, both placebo and PTX group had similar demographic, clinical, and laboratory characteristics. The use of narcotic analgesia (morphine, pethidine or both) was more common in the control group for pain relief. Also, pain intensity was significantly lower in patients who received PTX in comparison with those in the control group. Patients in the PTX group had lower postoperative plasma levels of TNF-alpha (0.27 pg/mL (0.06/0.74) v 3.35 pg/mL (0.83/6.41)) (median (25%/75%), P < 0.0001) and IL-6 (35.4 +/- 21.1 pg/mL (range 12-100) v 60.4 +/- 16.7 pg/mL (range 38-100), mean +/- standard deviation, P < 0.001) compared with the placebo receivers. There was no significant difference in surgery time, length of hospital stay, and fever occurrence after operation during in-hospital follow-up. Nausea and vomiting developed, however, in 5 (31.2%) of treatment patients. An infusion of IV PTX that is administered preoperatively could be applied to reduce inflammatory changes and pain intensity in patients undergoing nephrolithotomy; it causes no serious side effects. ',\n",
       " 'Passage of cytokines across the blood-brain barrier. One mechanism by which blood-borne cytokines might affect the function of the central nervous system (CNS) is by crossing the blood-brain barrier (BBB) for direct interaction with CNS tissue. Saturable transport systems from blood to the CNS have been described for interleukin (IL)-1 alpha, IL-1 beta, IL-1 receptor antagonist (IL-1ra), IL-6, and tumor necrosis factor-alpha (TNF-alpha). Blood-borne cytokines have been shown to cross the BBB to enter cerebrospinal fluid and interstitial fluid spaces of the brain and spinal cord. IL-2 does not cross the BBB by a saturable transport system. The blood-to-brain uptakes of IL-1 alpha, IL-beta, and IL-1ra are interrelated for most brain sites, but the posterior division of the septum shows selective uptake of blood-borne IL-1 alpha. The saturable transport systems for IL-6 and TNF-alpha are distinguishable from each other and from the IL-1 systems. The amount of blood-borne cytokines entering the brain is modest but comparable to that of other water-soluble compounds, such as morphine, known to cross the BBB in sufficient amounts to affect brain function. CNS to blood efflux of cytokines has also been shown to occur, but the mechanism of passage is unclear. Taken together, the evidence shows that passage of cytokines across the BBB occurs, providing a route by which blood-borne cytokines could potentially affect brain function. ']"
      ]
     },
     "execution_count": 78,
     "metadata": {},
     "output_type": "execute_result"
    }
   ],
   "source": [
    "results_path1.pop(1)\n",
    "results_path1"
   ]
  },
  {
   "cell_type": "code",
   "execution_count": 79,
   "id": "7f7c61a4-ee1c-4d82-8f7f-a951b9be899d",
   "metadata": {
    "execution": {
     "iopub.execute_input": "2024-05-06T17:21:49.476615Z",
     "iopub.status.busy": "2024-05-06T17:21:49.476107Z",
     "iopub.status.idle": "2024-05-06T17:21:49.483472Z",
     "shell.execute_reply": "2024-05-06T17:21:49.482329Z",
     "shell.execute_reply.started": "2024-05-06T17:21:49.476585Z"
    }
   },
   "outputs": [
    {
     "data": {
      "text/plain": [
       "5"
      ]
     },
     "execution_count": 79,
     "metadata": {},
     "output_type": "execute_result"
    }
   ],
   "source": [
    "len(results_path1)"
   ]
  },
  {
   "cell_type": "markdown",
   "id": "ba4de646-0ee4-4217-999a-8e5297b3daad",
   "metadata": {},
   "source": [
    "## 4. Feedback Loop Action: -> Regenerate Explanation from LLM after Drop Rework_abstrac from Context:"
   ]
  },
  {
   "cell_type": "markdown",
   "id": "a3419d0a-ecd2-4f7d-9795-4b46ca1a3664",
   "metadata": {},
   "source": [
    "#### 4.1. generate a new sentence processing prompt (Donot include any history of rework sentence)"
   ]
  },
  {
   "cell_type": "markdown",
   "id": "77c1f8a1-b51a-45bb-ac26-5370f08f6df6",
   "metadata": {},
   "source": [
    "#### Iteration 2"
   ]
  },
  {
   "cell_type": "code",
   "execution_count": 80,
   "id": "b349dbbc-7dd4-4d9f-8c01-d4f8aba1642c",
   "metadata": {
    "execution": {
     "iopub.execute_input": "2024-05-06T17:22:33.112748Z",
     "iopub.status.busy": "2024-05-06T17:22:33.112327Z",
     "iopub.status.idle": "2024-05-06T17:22:33.119033Z",
     "shell.execute_reply": "2024-05-06T17:22:33.118127Z",
     "shell.execute_reply.started": "2024-05-06T17:22:33.112720Z"
    }
   },
   "outputs": [
    {
     "data": {
      "text/plain": [
       "\"How would you describe an indirect relationship between Covid Virus disease and morphine the following scientific abstracts as context?\\nEarly Viral Clearance and Antibody Kinetics of COVID-19 Among Asymptomatic Carriers. Asymptomatic carriers contribute to the spread of Coronavirus Disease 2019 (COVID-19), but their clinical characteristics, viral kinetics, and antibody responses remain unclear. A total of 56 COVID-19 patients without symptoms at admission and 19 age-matched symptomatic patients were enrolled. RNA of SARS-CoV-2 was tested using transcriptase quantitative PCR, and the total antibodies (Ab), IgG, IgA, and IgM against the SARS-CoV-2 were tested using Chemiluminescence Microparticle Immuno Assay. Among 56 patients without symptoms at admission, 33 cases displayed symptoms and 23 remained asymptomatic throughout the follow-up period. 43.8% of the asymptomatic carriers were children and none of the asymptomatic cases had recognizable changes in C-reactive protein or interleukin-6, except one 64-year-old patient. The initial threshold cycle value of nasopharyngeal SARS-CoV-2 in asymptomatic carriers was similar to that in pre-symptomatic and symptomatic patients, but the positive viral nucleic acid detection period of asymptomatic carriers (9.63 days) was shorter than pre-symptomatic patients (13.6 days). There were no obvious differences in the seropositive conversion rate of total Ab, IgG, and IgA among the three groups, though the rates of IgM varied largely. The average peak IgG and IgM COI of asymptomatic cases was 3.5 and 0.8, respectively, which is also lower than those in symptomatic patients with peaked IgG and IgM COI of 4.5 and 2.4 (p < 0.05). Young COVID-19 patients seem to be asymptomatic cases with early clearance of SARS-CoV-2 and low levels of IgM generation but high total Ab, IgG, and IgA. Our findings provide empirical information for viral clearance and antibody kinetics of asymptomatic COVID-19 patients. \\n\\nSimple predictive models identify patients with COVID-19 pneumonia and poor prognosis. Identification of SARS-CoV-2-infected patients at high-risk of poor prognosis is crucial. We aimed to establish predictive models for COVID-19 pneumonia severity in hospitalized patients. Retrospective study of 430 patients admitted in Vall d'Hebron Hospital (Barcelona) between 03-12-2020 and 04-28-2020 due to COVID-19 pneumonia. Two models to identify the patients who required high-flow-oxygen-support were generated, one using baseline data and another with also follow-up analytical results. Calibration was performed by a 1000-bootstrap replication model. 249 were male, mean age 57.9 years. Overall, 135 (31.4%) required high-flow-oxygen-support. The baseline predictive model showed a ROC of 0.800 based on: SpO2/FiO2 (adjusted Hazard Ratio-aHR = 8), chest x-ray (aHR = 4), prior immunosuppressive therapy (aHR = 4), obesity (aHR = 2), IL-6 (aHR = 2), platelets (aHR = 0.5). The cut-off of 11 presented a specificity of 94.8%. The second model included changes on the analytical parameters: ferritin (aHR = 7.5 if >=200ng/mL) and IL-6 (aHR = 18 if >=64pg/mL) plus chest x-ray (aHR = 2) showing a ROC of 0.877. The cut-off of 12 exhibited a negative predictive value of 92%. SpO2/FiO2 and chest x-ray on admission or changes on inflammatory parameters as IL-6 and ferritin allow us early identification of COVID-19 patients at risk of high-flow-oxygen-support that may benefit from a more intensive disease management. \\n\\nSingle-Cell RNA Sequencing of Tocilizumab-Treated Peripheral Blood Mononuclear Cells as an in vitro Model of Inflammation. COVID-19 has posed a significant threat to global health. Early data has revealed that IL-6, a key regulatory cytokine, plays an important role in the cytokine storm of COVID-19. Multiple trials are therefore looking at the effects of Tocilizumab, an IL-6 receptor antibody that inhibits IL-6 activity, on treatment of COVID-19, with promising findings. As part of a clinical trial looking at the effects of Tocilizumab treatment on kidney transplant recipients with subclinical rejection, we performed single-cell RNA sequencing of comparing stimulated PBMCs before and after Tocilizumab treatment. We leveraged this data to create an in vitro cytokine storm model, to better understand the effects of Tocilizumab in the presence of inflammation. Tocilizumab-treated cells had reduced expression of inflammatory-mediated genes and biologic pathways, particularly amongst monocytes. These results support the hypothesis that Tocilizumab may hinder the cytokine storm of COVID-19, through a demonstration of biologic impact at the single-cell level. \\n\\nEffect of intravenous pentoxifylline in inflammatory response in patients undergoing nephrolithotomy. To determine the potential efficacy of intravenous (IV) infusion of pentoxifylline (PTX) before nephrolithotomy on attenuating plasma level of the tumor necrosis factor (TNF)-alpha and interleukin (IL)-1, and to investigate whether it prevents postoperative pain. In a randomized, double-blind, placebo-controlled study, 32 patients (American Society of Anesthesiologists physical status 1 and 2) who were undergoing general anesthesia for nephrolithotomy were randomized to receive intravenous PTX (500 mg in 500 mL saline for 2 hours followed by 700 mg in 1000 mL saline for 6 hours), or placebo (1500 mL saline) before induction of the anesthesia. Two venous blood samples were obtained 10 minutes before PTX or placebo infusion and after surgery at 24 hours for laboratory examination. After surgery, the amount of narcotics consumption and intensity of pain (Visual Analog Scale and Verbal Rating Scale) were evaluated. At baseline, both placebo and PTX group had similar demographic, clinical, and laboratory characteristics. The use of narcotic analgesia (morphine, pethidine or both) was more common in the control group for pain relief. Also, pain intensity was significantly lower in patients who received PTX in comparison with those in the control group. Patients in the PTX group had lower postoperative plasma levels of TNF-alpha (0.27 pg/mL (0.06/0.74) v 3.35 pg/mL (0.83/6.41)) (median (25%/75%), P < 0.0001) and IL-6 (35.4 +/- 21.1 pg/mL (range 12-100) v 60.4 +/- 16.7 pg/mL (range 38-100), mean +/- standard deviation, P < 0.001) compared with the placebo receivers. There was no significant difference in surgery time, length of hospital stay, and fever occurrence after operation during in-hospital follow-up. Nausea and vomiting developed, however, in 5 (31.2%) of treatment patients. An infusion of IV PTX that is administered preoperatively could be applied to reduce inflammatory changes and pain intensity in patients undergoing nephrolithotomy; it causes no serious side effects. \\n\\nPassage of cytokines across the blood-brain barrier. One mechanism by which blood-borne cytokines might affect the function of the central nervous system (CNS) is by crossing the blood-brain barrier (BBB) for direct interaction with CNS tissue. Saturable transport systems from blood to the CNS have been described for interleukin (IL)-1 alpha, IL-1 beta, IL-1 receptor antagonist (IL-1ra), IL-6, and tumor necrosis factor-alpha (TNF-alpha). Blood-borne cytokines have been shown to cross the BBB to enter cerebrospinal fluid and interstitial fluid spaces of the brain and spinal cord. IL-2 does not cross the BBB by a saturable transport system. The blood-to-brain uptakes of IL-1 alpha, IL-beta, and IL-1ra are interrelated for most brain sites, but the posterior division of the septum shows selective uptake of blood-borne IL-1 alpha. The saturable transport systems for IL-6 and TNF-alpha are distinguishable from each other and from the IL-1 systems. The amount of blood-borne cytokines entering the brain is modest but comparable to that of other water-soluble compounds, such as morphine, known to cross the BBB in sufficient amounts to affect brain function. CNS to blood efflux of cytokines has also been shown to occur, but the mechanism of passage is unclear. Taken together, the evidence shows that passage of cytokines across the BBB occurs, providing a route by which blood-borne cytokines could potentially affect brain function. \""
      ]
     },
     "execution_count": 80,
     "metadata": {},
     "output_type": "execute_result"
    }
   ],
   "source": [
    "llm_fix_prompt= 'How would you describe an indirect relationship between Covid Virus disease and morphine the following scientific abstracts as context?'\n",
    "llm_fix_prompt_str = '\\n\\n'.join(results_path1)\n",
    "llm_fix_prompt_combo = llm_fix_prompt + '\\n' + llm_fix_prompt_str\n",
    "llm_fix_prompt_combo"
   ]
  },
  {
   "cell_type": "code",
   "execution_count": 81,
   "id": "6d6401ee-f00a-4eaa-9396-2d6859417d43",
   "metadata": {
    "execution": {
     "iopub.execute_input": "2024-05-06T17:22:40.202678Z",
     "iopub.status.busy": "2024-05-06T17:22:40.202315Z",
     "iopub.status.idle": "2024-05-06T17:23:18.348196Z",
     "shell.execute_reply": "2024-05-06T17:23:18.347062Z",
     "shell.execute_reply.started": "2024-05-06T17:22:40.202651Z"
    }
   },
   "outputs": [
    {
     "name": "stdout",
     "output_type": "stream",
     "text": [
      "CPU times: user 17.5 ms, sys: 13.9 ms, total: 31.4 ms\n",
      "Wall time: 38.1 s\n"
     ]
    }
   ],
   "source": [
    "%%time\n",
    "llm_resp_reworked = oai_get_response(llm_fix_prompt_combo,0)"
   ]
  },
  {
   "cell_type": "code",
   "execution_count": 82,
   "id": "be460c3c-c469-4213-aa33-2835bf78825e",
   "metadata": {
    "execution": {
     "iopub.execute_input": "2024-05-06T17:23:24.446220Z",
     "iopub.status.busy": "2024-05-06T17:23:24.445874Z",
     "iopub.status.idle": "2024-05-06T17:23:24.451980Z",
     "shell.execute_reply": "2024-05-06T17:23:24.451212Z",
     "shell.execute_reply.started": "2024-05-06T17:23:24.446192Z"
    }
   },
   "outputs": [
    {
     "data": {
      "text/plain": [
       "\"The indirect relationship between COVID-19 and morphine can be inferred through the understanding of the inflammatory response associated with COVID-19 and the potential impact of morphine on the central nervous system (CNS) via the blood-brain barrier (BBB). The scientific abstracts provided offer insights into various aspects of COVID-19, including its asymptomatic spread, predictive models for severe outcomes, the role of cytokines in the disease's pathology, and the effects of certain treatments on inflammatory markers.\\n\\nCOVID-19 has been shown to induce a significant inflammatory response in the body, characterized by elevated levels of cytokines such as IL-6 and TNF-alpha. This cytokine storm is a hallmark of severe COVID-19 cases and can lead to critical outcomes. The abstracts discuss the role of cytokines in COVID-19 and explore treatments aimed at reducing this inflammatory response, such as the use of Tocilizumab, an IL-6 receptor antibody.\\n\\nMorphine's potential indirect relationship with COVID-19 comes into play through its effects on the CNS and the passage of cytokines across the BBB. The abstract discussing the passage of cytokines across the BBB highlights that blood-borne cytokines can enter the CNS, affecting brain function. It specifically mentions that the amount of blood-borne cytokines entering the brain is modest but comparable to that of other water-soluble compounds, such as morphine, known to cross the BBB in sufficient amounts to affect brain function.\\n\\nGiven this context, the indirect relationship between COVID-19 and morphine could be conceptualized as follows: COVID-19 can lead to an elevated inflammatory response, with cytokines playing a central role in the pathology of the disease. These cytokines can cross the BBB and potentially affect CNS function. Morphine, a compound known to cross the BBB and affect CNS function, could theoretically interact with or modulate the CNS effects of these cytokines. For example, morphine's known immunosuppressive effects could potentially influence the CNS's response to the cytokine storm induced by COVID-19, although this interaction is complex and not fully understood.\\n\\nIt's important to note that this relationship is speculative and based on the indirect connections between the inflammatory response in COVID-19, the role of cytokines, and the known effects of morphine on the CNS. Further research would be necessary to explore the direct effects of morphine on COVID-19-related inflammation and its implications for CNS function.\""
      ]
     },
     "execution_count": 82,
     "metadata": {},
     "output_type": "execute_result"
    }
   ],
   "source": [
    "llm_resp_reworked"
   ]
  },
  {
   "cell_type": "code",
   "execution_count": 83,
   "id": "84d91c09-034d-473e-b7ab-50f1049e681c",
   "metadata": {
    "execution": {
     "iopub.execute_input": "2024-05-06T17:24:21.244446Z",
     "iopub.status.busy": "2024-05-06T17:24:21.243915Z",
     "iopub.status.idle": "2024-05-06T17:25:06.441030Z",
     "shell.execute_reply": "2024-05-06T17:25:06.440502Z",
     "shell.execute_reply.started": "2024-05-06T17:24:21.244417Z"
    }
   },
   "outputs": [
    {
     "name": "stdout",
     "output_type": "stream",
     "text": [
      "This is original generated LLM res: The indirect relationship between COVID-19 and morphine can be inferred through the understanding of the inflammatory response associated with COVID-19 and the potential impact of morphine on the central nervous system (CNS) via the blood-brain barrier (BBB). The scientific abstracts provided offer insights into various aspects of COVID-19, including its asymptomatic spread, predictive models for severe outcomes, the role of cytokines in the disease's pathology, and the effects of certain treatments on inflammatory markers.\n",
      "\n",
      "COVID-19 has been shown to induce a significant inflammatory response in the body, characterized by elevated levels of cytokines such as IL-6 and TNF-alpha. This cytokine storm is a hallmark of severe COVID-19 cases and can lead to critical outcomes. The abstracts discuss the role of cytokines in COVID-19 and explore treatments aimed at reducing this inflammatory response, such as the use of Tocilizumab, an IL-6 receptor antibody.\n",
      "\n",
      "Morphine's potential indirect relationship with COVID-19 comes into play through its effects on the CNS and the passage of cytokines across the BBB. The abstract discussing the passage of cytokines across the BBB highlights that blood-borne cytokines can enter the CNS, affecting brain function. It specifically mentions that the amount of blood-borne cytokines entering the brain is modest but comparable to that of other water-soluble compounds, such as morphine, known to cross the BBB in sufficient amounts to affect brain function.\n",
      "\n",
      "Given this context, the indirect relationship between COVID-19 and morphine could be conceptualized as follows: COVID-19 can lead to an elevated inflammatory response, with cytokines playing a central role in the pathology of the disease. These cytokines can cross the BBB and potentially affect CNS function. Morphine, a compound known to cross the BBB and affect CNS function, could theoretically interact with or modulate the CNS effects of these cytokines. For example, morphine's known immunosuppressive effects could potentially influence the CNS's response to the cytokine storm induced by COVID-19, although this interaction is complex and not fully understood.\n",
      "\n",
      "It's important to note that this relationship is speculative and based on the indirect connections between the inflammatory response in COVID-19, the role of cytokines, and the known effects of morphine on the CNS. Further research would be necessary to explore the direct effects of morphine on COVID-19-related inflammation and its implications for CNS function.\n",
      "This is CLEANED generated LLM res :The indirect relationship between COVID-19 and morphine can be inferred through the understanding of the inflammatory response associated with COVID-19 and the potential impact of morphine on the central nervous system (CNS) via the blood-brain barrier (BBB). The scientific abstracts provided offer insights into various aspects of COVID-19, including its asymptomatic spread, predictive models for severe outcomes, the role of cytokines in the disease's pathology, and the effects of certain treatments on inflammatory markers.COVID-19 has been shown to induce a significant inflammatory response in the body, characterized by elevated levels of cytokines such as IL-6 and TNF-alpha. This cytokine storm is a hallmark of severe COVID-19 cases and can lead to critical outcomes. The abstracts discuss the role of cytokines in COVID-19 and explore treatments aimed at reducing this inflammatory response, such as the use of Tocilizumab, an IL-6 receptor antibody.Morphine's potential indirect relationship with COVID-19 comes into play through its effects on the CNS and the passage of cytokines across the BBB. The abstract discussing the passage of cytokines across the BBB highlights that blood-borne cytokines can enter the CNS, affecting brain function. It specifically mentions that the amount of blood-borne cytokines entering the brain is modest but comparable to that of other water-soluble compounds, such as morphine, known to cross the BBB in sufficient amounts to affect brain function.Given this context, the indirect relationship between COVID-19 and morphine could be conceptualized as follows: COVID-19 can lead to an elevated inflammatory response, with cytokines playing a central role in the pathology of the disease. These cytokines can cross the BBB and potentially affect CNS function. Morphine, a compound known to cross the BBB and affect CNS function, could theoretically interact with or modulate the CNS effects of these cytokines. For example, morphine's known immunosuppressive effects could potentially influence the CNS's response to the cytokine storm induced by COVID-19, although this interaction is complex and not fully understood.It's important to note that this relationship is speculative and based on the indirect connections between the inflammatory response in COVID-19, the role of cytokines, and the known effects of morphine on the CNS. Further research would be necessary to explore the direct effects of morphine on COVID-19-related inflammation and its implications for CNS function.\n",
      "\n",
      "-----------------------------------------------\n",
      "\n",
      "Run SemRep in interactive mode...\n",
      "Processing input with replace_utf8.jar utility...\n",
      "Sentence:\n",
      " The indirect relationship between COVID-19 and morphine can be inferred through the understanding of the inflammatory response associated with COVID-19 and the potential impact of morphine on the central nervous system (CNS) via the blood-brain barrier (BBB). \n",
      "Status:\n",
      " ok\n",
      "Recognized:\n",
      "\t ['COVID-19', 'inflammatory response'] in AGATHA KB\n",
      "\t ['impact', 'COVID-19'] in AGATHA KB\n",
      "\n",
      "-----\n",
      "\n",
      "Sentence:\n",
      " The scientific abstracts provided offer insights into various aspects of COVID-19, including its asymptomatic spread, predictive models for severe outcomes, the role of cytokines in the disease's pathology, and the effects of certain treatments on inflammatory markers.COVID-19 has been shown to induce a significant inflammatory response in the body, characterized by elevated levels of cytokines such as IL-6 and TNF-alpha. \n",
      "Status:\n",
      " ok\n",
      "Recognized:\n",
      "\t ['treatments', 'inflammatory response'] in AGATHA KB\n",
      "\n",
      "-----\n",
      "\n",
      "Sentence:\n",
      " This cytokine storm is a hallmark of severe COVID-19 cases and can lead to critical outcomes. \n",
      "Status:\n",
      " ok\n",
      "\n",
      "-----\n",
      "\n",
      "Sentence:\n",
      " The abstracts discuss the role of cytokines in COVID-19 and explore treatments aimed at reducing this inflammatory response, such as the use of Tocilizumab, an IL-6 receptor antibody.Morphine's potential indirect relationship with COVID-19 comes into play through its effects on the CNS and the passage of cytokines across the BBB. \n",
      "Status:\n",
      " ok\n",
      "Recognized:\n",
      "\t ['BBB', 'cytokines'] in AGATHA KB\n",
      "\t ['Tocilizumab', 'CNS', 1] in AGATHA KB\n",
      "\t ['cytokines', 'COVID-19'] in AGATHA KB\n",
      "\n",
      "-----\n",
      "\n",
      "Sentence:\n",
      " The abstract discussing the passage of cytokines across the BBB highlights that blood-borne cytokines can enter the CNS, affecting brain function. \n",
      "Status:\n",
      " ok\n",
      "Recognized:\n",
      "\t ['BBB', 'cytokines'] in AGATHA KB\n",
      "\t ['cytokines', 'brain function'] in AGATHA KB\n",
      "\n",
      "-----\n",
      "\n",
      "Sentence:\n",
      " It specifically mentions that the amount of blood-borne cytokines entering the brain is modest but comparable to that of other water-soluble compounds, such as morphine, known to cross the BBB in sufficient amounts to affect brain function. \n",
      "Status:\n",
      " ok\n",
      "Recognized:\n",
      "\t ['morphine', 'brain function'] in AGATHA KB\n",
      "\n",
      "-----\n",
      "\n",
      "Sentence:\n",
      " Given this context, the indirect relationship between COVID-19 and morphine could be conceptualized as follows: COVID-19 can lead to an elevated inflammatory response, with cytokines playing a central role in the pathology of the disease. \n",
      "Status:\n",
      " ok\n",
      "Recognized:\n",
      "\t ['COVID-19', 'inflammatory response'] in AGATHA KB\n",
      "\n",
      "-----\n",
      "\n",
      "Sentence:\n",
      " These cytokines can cross the BBB and potentially affect CNS function. \n",
      "Status:\n",
      " ok\n",
      "Recognized:\n",
      "\t ['cytokines', 'CNS function'] in AGATHA KB\n",
      "\n",
      "-----\n",
      "\n",
      "Agatha score for predicate: 0.7542839646339417\n",
      "Sentence:\n",
      " Morphine, a compound known to cross the BBB and affect CNS function, could theoretically interact with or modulate the CNS effects of these cytokines. \n",
      "Status:\n",
      " REWORK\n",
      "Reason:\n",
      "\t ['Morphine', 'CNS function', 2] not in AGATHA KB\n",
      "\n",
      "-----\n",
      "\n",
      "Sentence:\n",
      " For example, morphine's known immunosuppressive effects could potentially influence the CNS's response to the cytokine storm induced by COVID-19, although this interaction is complex and not fully understood.It's important to note that this relationship is speculative and based on the indirect connections between the inflammatory response in COVID-19, the role of cytokines, and the known effects of morphine on the CNS. \n",
      "Status:\n",
      " ok\n",
      "Recognized:\n",
      "\t ['immunosuppressive effects', 'COVID-19'] in AGATHA KB\n",
      "\t ['COVID-19', 'cytokine storm'] in AGATHA KB\n",
      "\t ['cytokines', 'morphine'] in AGATHA KB\n",
      "\n",
      "-----\n",
      "\n",
      "Sentence:\n",
      " Further research would be necessary to explore the direct effects of morphine on COVID-19-related inflammation and its implications for CNS function. \n",
      "Status:\n",
      " ok\n",
      "Recognized:\n",
      "\t ['morphine', 'inflammation'] in AGATHA KB\n",
      "\n",
      "-----\n",
      "\n",
      "[{'sent_text': 'The indirect relationship between COVID-19 and morphine can be inferred through the understanding of the inflammatory response associated with COVID-19 and the potential impact of morphine on the central nervous system (CNS) via the blood-brain barrier (BBB). ', 'status': 'ok', 'bad_predicates': [], 'good_predicates': [['COVID-19', 'inflammatory response'], ['impact', 'COVID-19']]}, {'sent_text': \"The scientific abstracts provided offer insights into various aspects of COVID-19, including its asymptomatic spread, predictive models for severe outcomes, the role of cytokines in the disease's pathology, and the effects of certain treatments on inflammatory markers.COVID-19 has been shown to induce a significant inflammatory response in the body, characterized by elevated levels of cytokines such as IL-6 and TNF-alpha. \", 'status': 'ok', 'bad_predicates': [], 'good_predicates': [['treatments', 'inflammatory response']]}, {'sent_text': 'This cytokine storm is a hallmark of severe COVID-19 cases and can lead to critical outcomes. ', 'status': 'ok', 'bad_predicates': [], 'good_predicates': []}, {'sent_text': \"The abstracts discuss the role of cytokines in COVID-19 and explore treatments aimed at reducing this inflammatory response, such as the use of Tocilizumab, an IL-6 receptor antibody.Morphine's potential indirect relationship with COVID-19 comes into play through its effects on the CNS and the passage of cytokines across the BBB. \", 'status': 'ok', 'bad_predicates': [], 'good_predicates': [['BBB', 'cytokines'], ['Tocilizumab', 'CNS', 1], ['cytokines', 'COVID-19']]}, {'sent_text': 'The abstract discussing the passage of cytokines across the BBB highlights that blood-borne cytokines can enter the CNS, affecting brain function. ', 'status': 'ok', 'bad_predicates': [], 'good_predicates': [['BBB', 'cytokines'], ['cytokines', 'brain function']]}, {'sent_text': 'It specifically mentions that the amount of blood-borne cytokines entering the brain is modest but comparable to that of other water-soluble compounds, such as morphine, known to cross the BBB in sufficient amounts to affect brain function. ', 'status': 'ok', 'bad_predicates': [], 'good_predicates': [['morphine', 'brain function']]}, {'sent_text': 'Given this context, the indirect relationship between COVID-19 and morphine could be conceptualized as follows: COVID-19 can lead to an elevated inflammatory response, with cytokines playing a central role in the pathology of the disease. ', 'status': 'ok', 'bad_predicates': [], 'good_predicates': [['COVID-19', 'inflammatory response']]}, {'sent_text': 'These cytokines can cross the BBB and potentially affect CNS function. ', 'status': 'ok', 'bad_predicates': [], 'good_predicates': [['cytokines', 'CNS function']]}, {'sent_text': 'Morphine, a compound known to cross the BBB and affect CNS function, could theoretically interact with or modulate the CNS effects of these cytokines. ', 'status': 'REWORK', 'bad_predicates': [['Morphine', 'CNS function', 2]], 'good_predicates': []}, {'sent_text': \"For example, morphine's known immunosuppressive effects could potentially influence the CNS's response to the cytokine storm induced by COVID-19, although this interaction is complex and not fully understood.It's important to note that this relationship is speculative and based on the indirect connections between the inflammatory response in COVID-19, the role of cytokines, and the known effects of morphine on the CNS. \", 'status': 'ok', 'bad_predicates': [], 'good_predicates': [['immunosuppressive effects', 'COVID-19'], ['COVID-19', 'cytokine storm'], ['cytokines', 'morphine']]}, {'sent_text': 'Further research would be necessary to explore the direct effects of morphine on COVID-19-related inflammation and its implications for CNS function. ', 'status': 'ok', 'bad_predicates': [], 'good_predicates': [['morphine', 'inflammation']]}]\n"
     ]
    }
   ],
   "source": [
    "evaluation_result = evaluate_llm_resp(llm_resp_reworked)"
   ]
  },
  {
   "cell_type": "code",
   "execution_count": 84,
   "id": "ef7d74aa-b8b0-456e-a9f2-1465599db55e",
   "metadata": {
    "execution": {
     "iopub.execute_input": "2024-05-06T17:25:14.539577Z",
     "iopub.status.busy": "2024-05-06T17:25:14.539176Z",
     "iopub.status.idle": "2024-05-06T17:25:14.559912Z",
     "shell.execute_reply": "2024-05-06T17:25:14.559263Z",
     "shell.execute_reply.started": "2024-05-06T17:25:14.539547Z"
    }
   },
   "outputs": [
    {
     "data": {
      "text/html": [
       "<div>\n",
       "<style scoped>\n",
       "    .dataframe tbody tr th:only-of-type {\n",
       "        vertical-align: middle;\n",
       "    }\n",
       "\n",
       "    .dataframe tbody tr th {\n",
       "        vertical-align: top;\n",
       "    }\n",
       "\n",
       "    .dataframe thead th {\n",
       "        text-align: right;\n",
       "    }\n",
       "</style>\n",
       "<table border=\"1\" class=\"dataframe\">\n",
       "  <thead>\n",
       "    <tr style=\"text-align: right;\">\n",
       "      <th></th>\n",
       "      <th>index</th>\n",
       "      <th>sent_text</th>\n",
       "      <th>status</th>\n",
       "      <th>bad_predicates</th>\n",
       "      <th>good_predicates</th>\n",
       "      <th>reworked_part</th>\n",
       "    </tr>\n",
       "  </thead>\n",
       "  <tbody>\n",
       "    <tr>\n",
       "      <th>0</th>\n",
       "      <td>0</td>\n",
       "      <td>The indirect relationship between COVID-19 and...</td>\n",
       "      <td>ok</td>\n",
       "      <td>[]</td>\n",
       "      <td>[[COVID-19, inflammatory response], [impact, C...</td>\n",
       "      <td>None</td>\n",
       "    </tr>\n",
       "    <tr>\n",
       "      <th>1</th>\n",
       "      <td>1</td>\n",
       "      <td>The scientific abstracts provided offer insigh...</td>\n",
       "      <td>ok</td>\n",
       "      <td>[]</td>\n",
       "      <td>[[treatments, inflammatory response]]</td>\n",
       "      <td>None</td>\n",
       "    </tr>\n",
       "    <tr>\n",
       "      <th>2</th>\n",
       "      <td>2</td>\n",
       "      <td>This cytokine storm is a hallmark of severe CO...</td>\n",
       "      <td>ok</td>\n",
       "      <td>[]</td>\n",
       "      <td>[]</td>\n",
       "      <td>None</td>\n",
       "    </tr>\n",
       "    <tr>\n",
       "      <th>3</th>\n",
       "      <td>3</td>\n",
       "      <td>The abstracts discuss the role of cytokines in...</td>\n",
       "      <td>ok</td>\n",
       "      <td>[]</td>\n",
       "      <td>[[BBB, cytokines], [Tocilizumab, CNS, 1], [cyt...</td>\n",
       "      <td>None</td>\n",
       "    </tr>\n",
       "    <tr>\n",
       "      <th>4</th>\n",
       "      <td>4</td>\n",
       "      <td>The abstract discussing the passage of cytokin...</td>\n",
       "      <td>ok</td>\n",
       "      <td>[]</td>\n",
       "      <td>[[BBB, cytokines], [cytokines, brain function]]</td>\n",
       "      <td>None</td>\n",
       "    </tr>\n",
       "    <tr>\n",
       "      <th>5</th>\n",
       "      <td>5</td>\n",
       "      <td>It specifically mentions that the amount of bl...</td>\n",
       "      <td>ok</td>\n",
       "      <td>[]</td>\n",
       "      <td>[[morphine, brain function]]</td>\n",
       "      <td>None</td>\n",
       "    </tr>\n",
       "    <tr>\n",
       "      <th>6</th>\n",
       "      <td>6</td>\n",
       "      <td>Given this context, the indirect relationship ...</td>\n",
       "      <td>ok</td>\n",
       "      <td>[]</td>\n",
       "      <td>[[COVID-19, inflammatory response]]</td>\n",
       "      <td>None</td>\n",
       "    </tr>\n",
       "    <tr>\n",
       "      <th>7</th>\n",
       "      <td>7</td>\n",
       "      <td>These cytokines can cross the BBB and potentia...</td>\n",
       "      <td>ok</td>\n",
       "      <td>[]</td>\n",
       "      <td>[[cytokines, CNS function]]</td>\n",
       "      <td>None</td>\n",
       "    </tr>\n",
       "    <tr>\n",
       "      <th>8</th>\n",
       "      <td>8</td>\n",
       "      <td>Morphine, a compound known to cross the BBB an...</td>\n",
       "      <td>REWORK</td>\n",
       "      <td>[[Morphine, CNS function, 2]]</td>\n",
       "      <td>[]</td>\n",
       "      <td>None</td>\n",
       "    </tr>\n",
       "    <tr>\n",
       "      <th>9</th>\n",
       "      <td>9</td>\n",
       "      <td>For example, morphine's known immunosuppressiv...</td>\n",
       "      <td>ok</td>\n",
       "      <td>[]</td>\n",
       "      <td>[[immunosuppressive effects, COVID-19], [COVID...</td>\n",
       "      <td>None</td>\n",
       "    </tr>\n",
       "    <tr>\n",
       "      <th>10</th>\n",
       "      <td>10</td>\n",
       "      <td>Further research would be necessary to explore...</td>\n",
       "      <td>ok</td>\n",
       "      <td>[]</td>\n",
       "      <td>[[morphine, inflammation]]</td>\n",
       "      <td>None</td>\n",
       "    </tr>\n",
       "  </tbody>\n",
       "</table>\n",
       "</div>"
      ],
      "text/plain": [
       "    index                                          sent_text  status  \\\n",
       "0       0  The indirect relationship between COVID-19 and...      ok   \n",
       "1       1  The scientific abstracts provided offer insigh...      ok   \n",
       "2       2  This cytokine storm is a hallmark of severe CO...      ok   \n",
       "3       3  The abstracts discuss the role of cytokines in...      ok   \n",
       "4       4  The abstract discussing the passage of cytokin...      ok   \n",
       "5       5  It specifically mentions that the amount of bl...      ok   \n",
       "6       6  Given this context, the indirect relationship ...      ok   \n",
       "7       7  These cytokines can cross the BBB and potentia...      ok   \n",
       "8       8  Morphine, a compound known to cross the BBB an...  REWORK   \n",
       "9       9  For example, morphine's known immunosuppressiv...      ok   \n",
       "10     10  Further research would be necessary to explore...      ok   \n",
       "\n",
       "                   bad_predicates  \\\n",
       "0                              []   \n",
       "1                              []   \n",
       "2                              []   \n",
       "3                              []   \n",
       "4                              []   \n",
       "5                              []   \n",
       "6                              []   \n",
       "7                              []   \n",
       "8   [[Morphine, CNS function, 2]]   \n",
       "9                              []   \n",
       "10                             []   \n",
       "\n",
       "                                      good_predicates reworked_part  \n",
       "0   [[COVID-19, inflammatory response], [impact, C...          None  \n",
       "1               [[treatments, inflammatory response]]          None  \n",
       "2                                                  []          None  \n",
       "3   [[BBB, cytokines], [Tocilizumab, CNS, 1], [cyt...          None  \n",
       "4     [[BBB, cytokines], [cytokines, brain function]]          None  \n",
       "5                        [[morphine, brain function]]          None  \n",
       "6                 [[COVID-19, inflammatory response]]          None  \n",
       "7                         [[cytokines, CNS function]]          None  \n",
       "8                                                  []          None  \n",
       "9   [[immunosuppressive effects, COVID-19], [COVID...          None  \n",
       "10                         [[morphine, inflammation]]          None  "
      ]
     },
     "execution_count": 84,
     "metadata": {},
     "output_type": "execute_result"
    }
   ],
   "source": [
    "expl_parts_df = pd.DataFrame(evaluation_result).reset_index()\n",
    "expl_parts_df['reworked_part'] = None\n",
    "expl_parts_df"
   ]
  },
  {
   "cell_type": "code",
   "execution_count": 85,
   "id": "dc146b2e-3d13-41a4-9fc7-363b13e1df1b",
   "metadata": {
    "execution": {
     "iopub.execute_input": "2024-05-06T17:25:18.758825Z",
     "iopub.status.busy": "2024-05-06T17:25:18.758394Z",
     "iopub.status.idle": "2024-05-06T17:25:18.765399Z",
     "shell.execute_reply": "2024-05-06T17:25:18.764333Z",
     "shell.execute_reply.started": "2024-05-06T17:25:18.758794Z"
    }
   },
   "outputs": [
    {
     "name": "stdout",
     "output_type": "stream",
     "text": [
      "['Morphine, a compound known to cross the BBB and affect CNS function, could theoretically interact with or modulate the CNS effects of these cytokines. ']\n"
     ]
    }
   ],
   "source": [
    "expl_parts_enum_dict = dict(enumerate(evaluation_result))\n",
    "rework_sentences = []\n",
    "\n",
    "for key, value in expl_parts_enum_dict.items():\n",
    "    if value['status'] == 'REWORK':  \n",
    "        rework_sentences.append(value['sent_text']) \n",
    "print(rework_sentences)"
   ]
  },
  {
   "cell_type": "code",
   "execution_count": 86,
   "id": "52af41f2-82d8-4a1f-8b41-554e3cc9db4a",
   "metadata": {
    "execution": {
     "iopub.execute_input": "2024-05-06T17:25:26.668931Z",
     "iopub.status.busy": "2024-05-06T17:25:26.668596Z",
     "iopub.status.idle": "2024-05-06T17:25:26.675394Z",
     "shell.execute_reply": "2024-05-06T17:25:26.674353Z",
     "shell.execute_reply.started": "2024-05-06T17:25:26.668904Z"
    }
   },
   "outputs": [
    {
     "data": {
      "text/plain": [
       "'Morphine, a compound known to cross the BBB and affect CNS function, could theoretically interact with or modulate the CNS effects of these cytokines. '"
      ]
     },
     "execution_count": 86,
     "metadata": {},
     "output_type": "execute_result"
    }
   ],
   "source": [
    "rework_sent_to_drop_abst_3 = rework_sentences[0]\n",
    "rework_sent_to_drop_abst_3"
   ]
  },
  {
   "cell_type": "markdown",
   "id": "da374349-723f-40a6-84d8-341a2584eb26",
   "metadata": {},
   "source": [
    "### Find closest abstract for Rework sentence"
   ]
  },
  {
   "cell_type": "code",
   "execution_count": 87,
   "id": "5093a63c-e8bf-4ff0-b255-8cc0f0c84b70",
   "metadata": {
    "execution": {
     "iopub.execute_input": "2024-05-06T17:27:10.848767Z",
     "iopub.status.busy": "2024-05-06T17:27:10.848249Z",
     "iopub.status.idle": "2024-05-06T17:27:11.043717Z",
     "shell.execute_reply": "2024-05-06T17:27:11.042890Z",
     "shell.execute_reply.started": "2024-05-06T17:27:10.848736Z"
    }
   },
   "outputs": [
    {
     "data": {
      "text/plain": [
       "['Single-Cell RNA Sequencing of Tocilizumab-Treated Peripheral Blood Mononuclear Cells as an in vitro Model of Inflammation. COVID-19 has posed a significant threat to global health. Early data has revealed that IL-6, a key regulatory cytokine, plays an important role in the cytokine storm of COVID-19. Multiple trials are therefore looking at the effects of Tocilizumab, an IL-6 receptor antibody that inhibits IL-6 activity, on treatment of COVID-19, with promising findings. As part of a clinical trial looking at the effects of Tocilizumab treatment on kidney transplant recipients with subclinical rejection, we performed single-cell RNA sequencing of comparing stimulated PBMCs before and after Tocilizumab treatment. We leveraged this data to create an in vitro cytokine storm model, to better understand the effects of Tocilizumab in the presence of inflammation. Tocilizumab-treated cells had reduced expression of inflammatory-mediated genes and biologic pathways, particularly amongst monocytes. These results support the hypothesis that Tocilizumab may hinder the cytokine storm of COVID-19, through a demonstration of biologic impact at the single-cell level. ']"
      ]
     },
     "execution_count": 87,
     "metadata": {},
     "output_type": "execute_result"
    }
   ],
   "source": [
    "cur_top_n_context_abstr_drop_list_2 = find_top_documents(rework_sent_to_drop_abst_1,results_path1, top_k=1,return_scores=False)\n",
    "cur_top_n_context_abstr_drop_list_2"
   ]
  },
  {
   "cell_type": "code",
   "execution_count": 88,
   "id": "031b932c-ddb5-4820-9178-c85db623e10b",
   "metadata": {
    "execution": {
     "iopub.execute_input": "2024-05-06T17:27:23.784540Z",
     "iopub.status.busy": "2024-05-06T17:27:23.784119Z",
     "iopub.status.idle": "2024-05-06T17:27:23.790169Z",
     "shell.execute_reply": "2024-05-06T17:27:23.789410Z",
     "shell.execute_reply.started": "2024-05-06T17:27:23.784510Z"
    }
   },
   "outputs": [
    {
     "data": {
      "text/plain": [
       "5"
      ]
     },
     "execution_count": 88,
     "metadata": {},
     "output_type": "execute_result"
    }
   ],
   "source": [
    "len(results_path1)"
   ]
  },
  {
   "cell_type": "code",
   "execution_count": 91,
   "id": "bb4ea79e-9329-4f3e-a691-77f672035695",
   "metadata": {
    "execution": {
     "iopub.execute_input": "2024-05-06T17:28:02.913832Z",
     "iopub.status.busy": "2024-05-06T17:28:02.913425Z",
     "iopub.status.idle": "2024-05-06T17:28:02.918517Z",
     "shell.execute_reply": "2024-05-06T17:28:02.917912Z",
     "shell.execute_reply.started": "2024-05-06T17:28:02.913802Z"
    }
   },
   "outputs": [
    {
     "data": {
      "text/plain": [
       "['Early Viral Clearance and Antibody Kinetics of COVID-19 Among Asymptomatic Carriers. Asymptomatic carriers contribute to the spread of Coronavirus Disease 2019 (COVID-19), but their clinical characteristics, viral kinetics, and antibody responses remain unclear. A total of 56 COVID-19 patients without symptoms at admission and 19 age-matched symptomatic patients were enrolled. RNA of SARS-CoV-2 was tested using transcriptase quantitative PCR, and the total antibodies (Ab), IgG, IgA, and IgM against the SARS-CoV-2 were tested using Chemiluminescence Microparticle Immuno Assay. Among 56 patients without symptoms at admission, 33 cases displayed symptoms and 23 remained asymptomatic throughout the follow-up period. 43.8% of the asymptomatic carriers were children and none of the asymptomatic cases had recognizable changes in C-reactive protein or interleukin-6, except one 64-year-old patient. The initial threshold cycle value of nasopharyngeal SARS-CoV-2 in asymptomatic carriers was similar to that in pre-symptomatic and symptomatic patients, but the positive viral nucleic acid detection period of asymptomatic carriers (9.63 days) was shorter than pre-symptomatic patients (13.6 days). There were no obvious differences in the seropositive conversion rate of total Ab, IgG, and IgA among the three groups, though the rates of IgM varied largely. The average peak IgG and IgM COI of asymptomatic cases was 3.5 and 0.8, respectively, which is also lower than those in symptomatic patients with peaked IgG and IgM COI of 4.5 and 2.4 (p < 0.05). Young COVID-19 patients seem to be asymptomatic cases with early clearance of SARS-CoV-2 and low levels of IgM generation but high total Ab, IgG, and IgA. Our findings provide empirical information for viral clearance and antibody kinetics of asymptomatic COVID-19 patients. ',\n",
       " \"Simple predictive models identify patients with COVID-19 pneumonia and poor prognosis. Identification of SARS-CoV-2-infected patients at high-risk of poor prognosis is crucial. We aimed to establish predictive models for COVID-19 pneumonia severity in hospitalized patients. Retrospective study of 430 patients admitted in Vall d'Hebron Hospital (Barcelona) between 03-12-2020 and 04-28-2020 due to COVID-19 pneumonia. Two models to identify the patients who required high-flow-oxygen-support were generated, one using baseline data and another with also follow-up analytical results. Calibration was performed by a 1000-bootstrap replication model. 249 were male, mean age 57.9 years. Overall, 135 (31.4%) required high-flow-oxygen-support. The baseline predictive model showed a ROC of 0.800 based on: SpO2/FiO2 (adjusted Hazard Ratio-aHR = 8), chest x-ray (aHR = 4), prior immunosuppressive therapy (aHR = 4), obesity (aHR = 2), IL-6 (aHR = 2), platelets (aHR = 0.5). The cut-off of 11 presented a specificity of 94.8%. The second model included changes on the analytical parameters: ferritin (aHR = 7.5 if >=200ng/mL) and IL-6 (aHR = 18 if >=64pg/mL) plus chest x-ray (aHR = 2) showing a ROC of 0.877. The cut-off of 12 exhibited a negative predictive value of 92%. SpO2/FiO2 and chest x-ray on admission or changes on inflammatory parameters as IL-6 and ferritin allow us early identification of COVID-19 patients at risk of high-flow-oxygen-support that may benefit from a more intensive disease management. \",\n",
       " 'Effect of intravenous pentoxifylline in inflammatory response in patients undergoing nephrolithotomy. To determine the potential efficacy of intravenous (IV) infusion of pentoxifylline (PTX) before nephrolithotomy on attenuating plasma level of the tumor necrosis factor (TNF)-alpha and interleukin (IL)-1, and to investigate whether it prevents postoperative pain. In a randomized, double-blind, placebo-controlled study, 32 patients (American Society of Anesthesiologists physical status 1 and 2) who were undergoing general anesthesia for nephrolithotomy were randomized to receive intravenous PTX (500 mg in 500 mL saline for 2 hours followed by 700 mg in 1000 mL saline for 6 hours), or placebo (1500 mL saline) before induction of the anesthesia. Two venous blood samples were obtained 10 minutes before PTX or placebo infusion and after surgery at 24 hours for laboratory examination. After surgery, the amount of narcotics consumption and intensity of pain (Visual Analog Scale and Verbal Rating Scale) were evaluated. At baseline, both placebo and PTX group had similar demographic, clinical, and laboratory characteristics. The use of narcotic analgesia (morphine, pethidine or both) was more common in the control group for pain relief. Also, pain intensity was significantly lower in patients who received PTX in comparison with those in the control group. Patients in the PTX group had lower postoperative plasma levels of TNF-alpha (0.27 pg/mL (0.06/0.74) v 3.35 pg/mL (0.83/6.41)) (median (25%/75%), P < 0.0001) and IL-6 (35.4 +/- 21.1 pg/mL (range 12-100) v 60.4 +/- 16.7 pg/mL (range 38-100), mean +/- standard deviation, P < 0.001) compared with the placebo receivers. There was no significant difference in surgery time, length of hospital stay, and fever occurrence after operation during in-hospital follow-up. Nausea and vomiting developed, however, in 5 (31.2%) of treatment patients. An infusion of IV PTX that is administered preoperatively could be applied to reduce inflammatory changes and pain intensity in patients undergoing nephrolithotomy; it causes no serious side effects. ',\n",
       " 'Passage of cytokines across the blood-brain barrier. One mechanism by which blood-borne cytokines might affect the function of the central nervous system (CNS) is by crossing the blood-brain barrier (BBB) for direct interaction with CNS tissue. Saturable transport systems from blood to the CNS have been described for interleukin (IL)-1 alpha, IL-1 beta, IL-1 receptor antagonist (IL-1ra), IL-6, and tumor necrosis factor-alpha (TNF-alpha). Blood-borne cytokines have been shown to cross the BBB to enter cerebrospinal fluid and interstitial fluid spaces of the brain and spinal cord. IL-2 does not cross the BBB by a saturable transport system. The blood-to-brain uptakes of IL-1 alpha, IL-beta, and IL-1ra are interrelated for most brain sites, but the posterior division of the septum shows selective uptake of blood-borne IL-1 alpha. The saturable transport systems for IL-6 and TNF-alpha are distinguishable from each other and from the IL-1 systems. The amount of blood-borne cytokines entering the brain is modest but comparable to that of other water-soluble compounds, such as morphine, known to cross the BBB in sufficient amounts to affect brain function. CNS to blood efflux of cytokines has also been shown to occur, but the mechanism of passage is unclear. Taken together, the evidence shows that passage of cytokines across the BBB occurs, providing a route by which blood-borne cytokines could potentially affect brain function. ']"
      ]
     },
     "execution_count": 91,
     "metadata": {},
     "output_type": "execute_result"
    }
   ],
   "source": [
    "results_path1.pop(2)\n",
    "results_path1"
   ]
  },
  {
   "cell_type": "markdown",
   "id": "c35f7ea5-9927-4993-bdc8-2976920bd145",
   "metadata": {},
   "source": [
    "### Iteration 3"
   ]
  },
  {
   "cell_type": "code",
   "execution_count": 92,
   "id": "822e553c-af1d-4eea-b2bb-ace2701c0eb7",
   "metadata": {
    "execution": {
     "iopub.execute_input": "2024-05-06T17:28:48.940800Z",
     "iopub.status.busy": "2024-05-06T17:28:48.939982Z",
     "iopub.status.idle": "2024-05-06T17:28:48.947625Z",
     "shell.execute_reply": "2024-05-06T17:28:48.946547Z",
     "shell.execute_reply.started": "2024-05-06T17:28:48.940767Z"
    },
    "tags": []
   },
   "outputs": [
    {
     "data": {
      "text/plain": [
       "\"How would you describe plausible explanation of potential connection between Covid Virus Disease and morphine given the following scientific abstracts as context?\\nEarly Viral Clearance and Antibody Kinetics of COVID-19 Among Asymptomatic Carriers. Asymptomatic carriers contribute to the spread of Coronavirus Disease 2019 (COVID-19), but their clinical characteristics, viral kinetics, and antibody responses remain unclear. A total of 56 COVID-19 patients without symptoms at admission and 19 age-matched symptomatic patients were enrolled. RNA of SARS-CoV-2 was tested using transcriptase quantitative PCR, and the total antibodies (Ab), IgG, IgA, and IgM against the SARS-CoV-2 were tested using Chemiluminescence Microparticle Immuno Assay. Among 56 patients without symptoms at admission, 33 cases displayed symptoms and 23 remained asymptomatic throughout the follow-up period. 43.8% of the asymptomatic carriers were children and none of the asymptomatic cases had recognizable changes in C-reactive protein or interleukin-6, except one 64-year-old patient. The initial threshold cycle value of nasopharyngeal SARS-CoV-2 in asymptomatic carriers was similar to that in pre-symptomatic and symptomatic patients, but the positive viral nucleic acid detection period of asymptomatic carriers (9.63 days) was shorter than pre-symptomatic patients (13.6 days). There were no obvious differences in the seropositive conversion rate of total Ab, IgG, and IgA among the three groups, though the rates of IgM varied largely. The average peak IgG and IgM COI of asymptomatic cases was 3.5 and 0.8, respectively, which is also lower than those in symptomatic patients with peaked IgG and IgM COI of 4.5 and 2.4 (p < 0.05). Young COVID-19 patients seem to be asymptomatic cases with early clearance of SARS-CoV-2 and low levels of IgM generation but high total Ab, IgG, and IgA. Our findings provide empirical information for viral clearance and antibody kinetics of asymptomatic COVID-19 patients. \\n\\nSimple predictive models identify patients with COVID-19 pneumonia and poor prognosis. Identification of SARS-CoV-2-infected patients at high-risk of poor prognosis is crucial. We aimed to establish predictive models for COVID-19 pneumonia severity in hospitalized patients. Retrospective study of 430 patients admitted in Vall d'Hebron Hospital (Barcelona) between 03-12-2020 and 04-28-2020 due to COVID-19 pneumonia. Two models to identify the patients who required high-flow-oxygen-support were generated, one using baseline data and another with also follow-up analytical results. Calibration was performed by a 1000-bootstrap replication model. 249 were male, mean age 57.9 years. Overall, 135 (31.4%) required high-flow-oxygen-support. The baseline predictive model showed a ROC of 0.800 based on: SpO2/FiO2 (adjusted Hazard Ratio-aHR = 8), chest x-ray (aHR = 4), prior immunosuppressive therapy (aHR = 4), obesity (aHR = 2), IL-6 (aHR = 2), platelets (aHR = 0.5). The cut-off of 11 presented a specificity of 94.8%. The second model included changes on the analytical parameters: ferritin (aHR = 7.5 if >=200ng/mL) and IL-6 (aHR = 18 if >=64pg/mL) plus chest x-ray (aHR = 2) showing a ROC of 0.877. The cut-off of 12 exhibited a negative predictive value of 92%. SpO2/FiO2 and chest x-ray on admission or changes on inflammatory parameters as IL-6 and ferritin allow us early identification of COVID-19 patients at risk of high-flow-oxygen-support that may benefit from a more intensive disease management. \\n\\nEffect of intravenous pentoxifylline in inflammatory response in patients undergoing nephrolithotomy. To determine the potential efficacy of intravenous (IV) infusion of pentoxifylline (PTX) before nephrolithotomy on attenuating plasma level of the tumor necrosis factor (TNF)-alpha and interleukin (IL)-1, and to investigate whether it prevents postoperative pain. In a randomized, double-blind, placebo-controlled study, 32 patients (American Society of Anesthesiologists physical status 1 and 2) who were undergoing general anesthesia for nephrolithotomy were randomized to receive intravenous PTX (500 mg in 500 mL saline for 2 hours followed by 700 mg in 1000 mL saline for 6 hours), or placebo (1500 mL saline) before induction of the anesthesia. Two venous blood samples were obtained 10 minutes before PTX or placebo infusion and after surgery at 24 hours for laboratory examination. After surgery, the amount of narcotics consumption and intensity of pain (Visual Analog Scale and Verbal Rating Scale) were evaluated. At baseline, both placebo and PTX group had similar demographic, clinical, and laboratory characteristics. The use of narcotic analgesia (morphine, pethidine or both) was more common in the control group for pain relief. Also, pain intensity was significantly lower in patients who received PTX in comparison with those in the control group. Patients in the PTX group had lower postoperative plasma levels of TNF-alpha (0.27 pg/mL (0.06/0.74) v 3.35 pg/mL (0.83/6.41)) (median (25%/75%), P < 0.0001) and IL-6 (35.4 +/- 21.1 pg/mL (range 12-100) v 60.4 +/- 16.7 pg/mL (range 38-100), mean +/- standard deviation, P < 0.001) compared with the placebo receivers. There was no significant difference in surgery time, length of hospital stay, and fever occurrence after operation during in-hospital follow-up. Nausea and vomiting developed, however, in 5 (31.2%) of treatment patients. An infusion of IV PTX that is administered preoperatively could be applied to reduce inflammatory changes and pain intensity in patients undergoing nephrolithotomy; it causes no serious side effects. \\n\\nPassage of cytokines across the blood-brain barrier. One mechanism by which blood-borne cytokines might affect the function of the central nervous system (CNS) is by crossing the blood-brain barrier (BBB) for direct interaction with CNS tissue. Saturable transport systems from blood to the CNS have been described for interleukin (IL)-1 alpha, IL-1 beta, IL-1 receptor antagonist (IL-1ra), IL-6, and tumor necrosis factor-alpha (TNF-alpha). Blood-borne cytokines have been shown to cross the BBB to enter cerebrospinal fluid and interstitial fluid spaces of the brain and spinal cord. IL-2 does not cross the BBB by a saturable transport system. The blood-to-brain uptakes of IL-1 alpha, IL-beta, and IL-1ra are interrelated for most brain sites, but the posterior division of the septum shows selective uptake of blood-borne IL-1 alpha. The saturable transport systems for IL-6 and TNF-alpha are distinguishable from each other and from the IL-1 systems. The amount of blood-borne cytokines entering the brain is modest but comparable to that of other water-soluble compounds, such as morphine, known to cross the BBB in sufficient amounts to affect brain function. CNS to blood efflux of cytokines has also been shown to occur, but the mechanism of passage is unclear. Taken together, the evidence shows that passage of cytokines across the BBB occurs, providing a route by which blood-borne cytokines could potentially affect brain function. \""
      ]
     },
     "execution_count": 92,
     "metadata": {},
     "output_type": "execute_result"
    }
   ],
   "source": [
    "llm_fix_prompt_nosummary= 'How would you describe plausible explanation of potential connection between Covid Virus Disease and morphine given the following scientific abstracts as context?'\n",
    "llm_fix_prompt_str = '\\n\\n'.join(results_path1)\n",
    "llm_fix_prompt_combo = llm_fix_prompt_nosummary + '\\n' + llm_fix_prompt_str\n",
    "llm_fix_prompt_combo"
   ]
  },
  {
   "cell_type": "code",
   "execution_count": 93,
   "id": "b08c4e25-d5fd-4d4f-8c80-9b5456e54100",
   "metadata": {
    "execution": {
     "iopub.execute_input": "2024-05-06T17:29:59.697704Z",
     "iopub.status.busy": "2024-05-06T17:29:59.697189Z",
     "iopub.status.idle": "2024-05-06T17:30:29.688522Z",
     "shell.execute_reply": "2024-05-06T17:30:29.687682Z",
     "shell.execute_reply.started": "2024-05-06T17:29:59.697675Z"
    },
    "tags": []
   },
   "outputs": [
    {
     "name": "stdout",
     "output_type": "stream",
     "text": [
      "CPU times: user 19.4 ms, sys: 8.11 ms, total: 27.5 ms\n",
      "Wall time: 30 s\n"
     ]
    },
    {
     "data": {
      "text/plain": [
       "\"Given the scientific abstracts provided, a plausible explanation of the potential connection between COVID-19 and morphine could be hypothesized through the lens of inflammation and the central nervous system's (CNS) response to infection and pain management.\\n\\n1. **COVID-19 and Inflammatory Response**: The abstracts highlight the significant role of inflammatory markers, such as interleukin-6 (IL-6) and tumor necrosis factor-alpha (TNF-alpha), in the pathophysiology of COVID-19. Elevated levels of these cytokines are associated with severe disease outcomes and are indicative of the cytokine storm syndrome observed in critical COVID-19 cases.\\n\\n2. **Morphine and Inflammation**: Morphine is known to have immunomodulatory effects, potentially influencing the inflammatory response. While not directly mentioned in the abstracts, morphine's ability to modulate the immune response could theoretically impact the progression of COVID-19 by either exacerbating or alleviating the cytokine storm. However, the exact effect would depend on the timing, dosage, and patient-specific factors.\\n\\n3. **Cytokines and the Blood-Brain Barrier (BBB)**: The passage of cytokines across the BBB, as described in the abstracts, suggests a mechanism by which systemic inflammation can affect CNS function. Morphine's known ability to cross the BBB and affect brain function, including pain perception and modulation of the immune response within the CNS, could intersect with the passage of cytokines into the CNS during COVID-19 infection.\\n\\n4. **Potential Therapeutic Implications**: Considering the abstract discussing the effect of pentoxifylline (a TNF-alpha inhibitor) on reducing postoperative pain and inflammation, one could speculate about the potential use of morphine not only for its analgesic properties but also for its potential effects on the inflammatory response in COVID-19. Morphine could theoretically influence the CNS's response to the systemic inflammation seen in COVID-19, potentially impacting symptoms related to CNS involvement, such as headaches, dizziness, or even more severe neurological complications.\\n\\nIn summary, while the direct connection between COVID-19 and morphine use is not explicitly detailed in the abstracts, a plausible link could be hypothesized through the shared pathways of inflammation, particularly involving cytokines like IL-6 and TNF-alpha, and their effects on the CNS. Morphine's immunomodulatory effects, combined with its ability to cross the BBB, suggest a complex potential interaction with the pathophysiology of COVID-19 that warrants further investigation. However, it is crucial to approach this hypothesis with caution, as morphine's immunosuppressive effects could potentially worsen outcomes in some patients by impairing viral clearance or exacerbating the cytokine storm.\""
      ]
     },
     "execution_count": 93,
     "metadata": {},
     "output_type": "execute_result"
    }
   ],
   "source": [
    "%%time\n",
    "llm_resp_reworked_2 = oai_get_response(llm_fix_prompt_combo,0)\n",
    "llm_resp_reworked_2"
   ]
  },
  {
   "cell_type": "code",
   "execution_count": 94,
   "id": "0962076a-3fcf-4218-bc05-71fd81e20a0e",
   "metadata": {
    "execution": {
     "iopub.execute_input": "2024-05-06T17:30:43.897110Z",
     "iopub.status.busy": "2024-05-06T17:30:43.896751Z",
     "iopub.status.idle": "2024-05-06T17:31:14.909205Z",
     "shell.execute_reply": "2024-05-06T17:31:14.908654Z",
     "shell.execute_reply.started": "2024-05-06T17:30:43.897082Z"
    },
    "tags": []
   },
   "outputs": [
    {
     "name": "stdout",
     "output_type": "stream",
     "text": [
      "This is original generated LLM res: Given the scientific abstracts provided, a plausible explanation of the potential connection between COVID-19 and morphine could be hypothesized through the lens of inflammation and the central nervous system's (CNS) response to infection and pain management.\n",
      "\n",
      "1. **COVID-19 and Inflammatory Response**: The abstracts highlight the significant role of inflammatory markers, such as interleukin-6 (IL-6) and tumor necrosis factor-alpha (TNF-alpha), in the pathophysiology of COVID-19. Elevated levels of these cytokines are associated with severe disease outcomes and are indicative of the cytokine storm syndrome observed in critical COVID-19 cases.\n",
      "\n",
      "2. **Morphine and Inflammation**: Morphine is known to have immunomodulatory effects, potentially influencing the inflammatory response. While not directly mentioned in the abstracts, morphine's ability to modulate the immune response could theoretically impact the progression of COVID-19 by either exacerbating or alleviating the cytokine storm. However, the exact effect would depend on the timing, dosage, and patient-specific factors.\n",
      "\n",
      "3. **Cytokines and the Blood-Brain Barrier (BBB)**: The passage of cytokines across the BBB, as described in the abstracts, suggests a mechanism by which systemic inflammation can affect CNS function. Morphine's known ability to cross the BBB and affect brain function, including pain perception and modulation of the immune response within the CNS, could intersect with the passage of cytokines into the CNS during COVID-19 infection.\n",
      "\n",
      "4. **Potential Therapeutic Implications**: Considering the abstract discussing the effect of pentoxifylline (a TNF-alpha inhibitor) on reducing postoperative pain and inflammation, one could speculate about the potential use of morphine not only for its analgesic properties but also for its potential effects on the inflammatory response in COVID-19. Morphine could theoretically influence the CNS's response to the systemic inflammation seen in COVID-19, potentially impacting symptoms related to CNS involvement, such as headaches, dizziness, or even more severe neurological complications.\n",
      "\n",
      "In summary, while the direct connection between COVID-19 and morphine use is not explicitly detailed in the abstracts, a plausible link could be hypothesized through the shared pathways of inflammation, particularly involving cytokines like IL-6 and TNF-alpha, and their effects on the CNS. Morphine's immunomodulatory effects, combined with its ability to cross the BBB, suggest a complex potential interaction with the pathophysiology of COVID-19 that warrants further investigation. However, it is crucial to approach this hypothesis with caution, as morphine's immunosuppressive effects could potentially worsen outcomes in some patients by impairing viral clearance or exacerbating the cytokine storm.\n",
      "This is CLEANED generated LLM res :Given the scientific abstracts provided, a plausible explanation of the potential connection between COVID-19 and morphine could be hypothesized through the lens of inflammation and the central nervous system's (CNS) response to infection and pain management.1. COVID-19 and Inflammatory Response: The abstracts highlight the significant role of inflammatory markers, such as interleukin-6 (IL-6) and tumor necrosis factor-alpha (TNF-alpha), in the pathophysiology of COVID-19. Elevated levels of these cytokines are associated with severe disease outcomes and are indicative of the cytokine storm syndrome observed in critical COVID-19 cases.2. Morphine and Inflammation: Morphine is known to have immunomodulatory effects, potentially influencing the inflammatory response. While not directly mentioned in the abstracts, morphine's ability to modulate the immune response could theoretically impact the progression of COVID-19 by either exacerbating or alleviating the cytokine storm. However, the exact effect would depend on the timing, dosage, and patient-specific factors.3. Cytokines and the Blood-Brain Barrier (BBB): The passage of cytokines across the BBB, as described in the abstracts, suggests a mechanism by which systemic inflammation can affect CNS function. Morphine's known ability to cross the BBB and affect brain function, including pain perception and modulation of the immune response within the CNS, could intersect with the passage of cytokines into the CNS during COVID-19 infection.4. Potential Therapeutic Implications: Considering the abstract discussing the effect of pentoxifylline (a TNF-alpha inhibitor) on reducing postoperative pain and inflammation, one could speculate about the potential use of morphine not only for its analgesic properties but also for its potential effects on the inflammatory response in COVID-19. Morphine could theoretically influence the CNS's response to the systemic inflammation seen in COVID-19, potentially impacting symptoms related to CNS involvement, such as headaches, dizziness, or even more severe neurological complications.In summary, while the direct connection between COVID-19 and morphine use is not explicitly detailed in the abstracts, a plausible link could be hypothesized through the shared pathways of inflammation, particularly involving cytokines like IL-6 and TNF-alpha, and their effects on the CNS. Morphine's immunomodulatory effects, combined with its ability to cross the BBB, suggest a complex potential interaction with the pathophysiology of COVID-19 that warrants further investigation. However, it is crucial to approach this hypothesis with caution, as morphine's immunosuppressive effects could potentially worsen outcomes in some patients by impairing viral clearance or exacerbating the cytokine storm.\n",
      "\n",
      "-----------------------------------------------\n",
      "\n",
      "Run SemRep in interactive mode...\n",
      "Processing input with replace_utf8.jar utility...\n",
      "Sentence:\n",
      " Given the scientific abstracts provided, a plausible explanation of the potential connection between COVID-19 and morphine could be hypothesized through the lens of inflammation and the central nervous system's (CNS) response to infection and pain management.1. \n",
      "Status:\n",
      " ok\n",
      "\n",
      "-----\n",
      "\n",
      "Sentence:\n",
      " COVID-19 and Inflammatory Response: The abstracts highlight the significant role of inflammatory markers, such as interleukin-6 (IL-6) and tumor necrosis factor-alpha (TNF-alpha), in the pathophysiology of COVID-19. \n",
      "Status:\n",
      " ok\n",
      "\n",
      "-----\n",
      "\n",
      "Sentence:\n",
      " Elevated levels of these cytokines are associated with severe disease outcomes and are indicative of the cytokine storm syndrome observed in critical COVID-19 cases.2. \n",
      "Status:\n",
      " ok\n",
      "\n",
      "-----\n",
      "\n",
      "Sentence:\n",
      " Morphine and Inflammation: Morphine is known to have immunomodulatory effects, potentially influencing the inflammatory response. \n",
      "Status:\n",
      " ok\n",
      "Recognized:\n",
      "\t ['Morphine', 'immunomodulatory'] in AGATHA KB\n",
      "\n",
      "-----\n",
      "\n",
      "Sentence:\n",
      " While not directly mentioned in the abstracts, morphine's ability to modulate the immune response could theoretically impact the progression of COVID-19 by either exacerbating or alleviating the cytokine storm. \n",
      "Status:\n",
      " ok\n",
      "\n",
      "-----\n",
      "\n",
      "Sentence:\n",
      " However, the exact effect would depend on the timing, dosage, and patient-specific factors.3. \n",
      "Status:\n",
      " ok\n",
      "\n",
      "-----\n",
      "\n",
      "Sentence:\n",
      " Cytokines and the Blood-Brain Barrier (BBB): The passage of cytokines across the BBB, as described in the abstracts, suggests a mechanism by which systemic inflammation can affect CNS function. \n",
      "Status:\n",
      " ok\n",
      "Recognized:\n",
      "\t ['BBB', 'cytokines'] in AGATHA KB\n",
      "\n",
      "-----\n",
      "\n",
      "Sentence:\n",
      " Morphine's known ability to cross the BBB and affect brain function, including pain perception and modulation of the immune response within the CNS, could intersect with the passage of cytokines into the CNS during COVID-19 infection.4. \n",
      "Status:\n",
      " ok\n",
      "\n",
      "-----\n",
      "\n",
      "Agatha score for predicate: 0.6785727739334106\n",
      "Sentence:\n",
      " Potential Therapeutic Implications: Considering the abstract discussing the effect of pentoxifylline (a TNF-alpha inhibitor) on reducing postoperative pain and inflammation, one could speculate about the potential use of morphine not only for its analgesic properties but also for its potential effects on the inflammatory response in COVID-19. \n",
      "Status:\n",
      " REWORK\n",
      "Reason:\n",
      "\t ['TNF-alpha inhibitor', 'postoperative pain', 2] not in AGATHA KB\n",
      "\n",
      "-----\n",
      "\n",
      "Sentence:\n",
      " Morphine could theoretically influence the CNS's response to the systemic inflammation seen in COVID-19, potentially impacting symptoms related to CNS involvement, such as headaches, dizziness, or even more severe neurological complications.In summary, while the direct connection between COVID-19 and morphine use is not explicitly detailed in the abstracts, a plausible link could be hypothesized through the shared pathways of inflammation, particularly involving cytokines like IL-6 and TNF-alpha, and their effects on the CNS. \n",
      "Status:\n",
      " ok\n",
      "Recognized:\n",
      "\t ['inflammation', 'COVID-19'] in AGATHA KB\n",
      "\t ['inflammation', 'cytokines'] in AGATHA KB\n",
      "\n",
      "-----\n",
      "\n",
      "Sentence:\n",
      " Morphine's immunomodulatory effects, combined with its ability to cross the BBB, suggest a complex potential interaction with the pathophysiology of COVID-19 that warrants further investigation. \n",
      "Status:\n",
      " ok\n",
      "\n",
      "-----\n",
      "\n",
      "Sentence:\n",
      " However, it is crucial to approach this hypothesis with caution, as morphine's immunosuppressive effects could potentially worsen outcomes in some patients by impairing viral clearance or exacerbating the cytokine storm. \n",
      "Status:\n",
      " ok\n",
      "Recognized:\n",
      "\t ['immunosuppressive effects', 'patients'] in AGATHA KB\n",
      "\n",
      "-----\n",
      "\n",
      "[{'sent_text': \"Given the scientific abstracts provided, a plausible explanation of the potential connection between COVID-19 and morphine could be hypothesized through the lens of inflammation and the central nervous system's (CNS) response to infection and pain management.1. \", 'status': 'ok', 'bad_predicates': [], 'good_predicates': []}, {'sent_text': 'COVID-19 and Inflammatory Response: The abstracts highlight the significant role of inflammatory markers, such as interleukin-6 (IL-6) and tumor necrosis factor-alpha (TNF-alpha), in the pathophysiology of COVID-19. ', 'status': 'ok', 'bad_predicates': [], 'good_predicates': []}, {'sent_text': 'Elevated levels of these cytokines are associated with severe disease outcomes and are indicative of the cytokine storm syndrome observed in critical COVID-19 cases.2. ', 'status': 'ok', 'bad_predicates': [], 'good_predicates': []}, {'sent_text': 'Morphine and Inflammation: Morphine is known to have immunomodulatory effects, potentially influencing the inflammatory response. ', 'status': 'ok', 'bad_predicates': [], 'good_predicates': [['Morphine', 'immunomodulatory']]}, {'sent_text': \"While not directly mentioned in the abstracts, morphine's ability to modulate the immune response could theoretically impact the progression of COVID-19 by either exacerbating or alleviating the cytokine storm. \", 'status': 'ok', 'bad_predicates': [], 'good_predicates': []}, {'sent_text': 'However, the exact effect would depend on the timing, dosage, and patient-specific factors.3. ', 'status': 'ok', 'bad_predicates': [], 'good_predicates': []}, {'sent_text': 'Cytokines and the Blood-Brain Barrier (BBB): The passage of cytokines across the BBB, as described in the abstracts, suggests a mechanism by which systemic inflammation can affect CNS function. ', 'status': 'ok', 'bad_predicates': [], 'good_predicates': [['BBB', 'cytokines']]}, {'sent_text': \"Morphine's known ability to cross the BBB and affect brain function, including pain perception and modulation of the immune response within the CNS, could intersect with the passage of cytokines into the CNS during COVID-19 infection.4. \", 'status': 'ok', 'bad_predicates': [], 'good_predicates': []}, {'sent_text': 'Potential Therapeutic Implications: Considering the abstract discussing the effect of pentoxifylline (a TNF-alpha inhibitor) on reducing postoperative pain and inflammation, one could speculate about the potential use of morphine not only for its analgesic properties but also for its potential effects on the inflammatory response in COVID-19. ', 'status': 'REWORK', 'bad_predicates': [['TNF-alpha inhibitor', 'postoperative pain', 2]], 'good_predicates': [['TNF-alpha inhibitor', 'inflammation']]}, {'sent_text': \"Morphine could theoretically influence the CNS's response to the systemic inflammation seen in COVID-19, potentially impacting symptoms related to CNS involvement, such as headaches, dizziness, or even more severe neurological complications.In summary, while the direct connection between COVID-19 and morphine use is not explicitly detailed in the abstracts, a plausible link could be hypothesized through the shared pathways of inflammation, particularly involving cytokines like IL-6 and TNF-alpha, and their effects on the CNS. \", 'status': 'ok', 'bad_predicates': [], 'good_predicates': [['inflammation', 'COVID-19'], ['inflammation', 'cytokines']]}, {'sent_text': \"Morphine's immunomodulatory effects, combined with its ability to cross the BBB, suggest a complex potential interaction with the pathophysiology of COVID-19 that warrants further investigation. \", 'status': 'ok', 'bad_predicates': [], 'good_predicates': []}, {'sent_text': \"However, it is crucial to approach this hypothesis with caution, as morphine's immunosuppressive effects could potentially worsen outcomes in some patients by impairing viral clearance or exacerbating the cytokine storm. \", 'status': 'ok', 'bad_predicates': [], 'good_predicates': [['immunosuppressive effects', 'patients']]}]\n"
     ]
    }
   ],
   "source": [
    "evaluation_result = evaluate_llm_resp(llm_resp_reworked_2)"
   ]
  },
  {
   "cell_type": "code",
   "execution_count": 95,
   "id": "d81bafda-5be6-4e81-bfff-3e6acc2b25aa",
   "metadata": {
    "execution": {
     "iopub.execute_input": "2024-05-06T17:33:49.665413Z",
     "iopub.status.busy": "2024-05-06T17:33:49.664839Z",
     "iopub.status.idle": "2024-05-06T17:33:49.691017Z",
     "shell.execute_reply": "2024-05-06T17:33:49.690351Z",
     "shell.execute_reply.started": "2024-05-06T17:33:49.665378Z"
    }
   },
   "outputs": [
    {
     "data": {
      "text/html": [
       "<div>\n",
       "<style scoped>\n",
       "    .dataframe tbody tr th:only-of-type {\n",
       "        vertical-align: middle;\n",
       "    }\n",
       "\n",
       "    .dataframe tbody tr th {\n",
       "        vertical-align: top;\n",
       "    }\n",
       "\n",
       "    .dataframe thead th {\n",
       "        text-align: right;\n",
       "    }\n",
       "</style>\n",
       "<table border=\"1\" class=\"dataframe\">\n",
       "  <thead>\n",
       "    <tr style=\"text-align: right;\">\n",
       "      <th></th>\n",
       "      <th>index</th>\n",
       "      <th>sent_text</th>\n",
       "      <th>status</th>\n",
       "      <th>bad_predicates</th>\n",
       "      <th>good_predicates</th>\n",
       "      <th>reworked_part</th>\n",
       "    </tr>\n",
       "  </thead>\n",
       "  <tbody>\n",
       "    <tr>\n",
       "      <th>0</th>\n",
       "      <td>0</td>\n",
       "      <td>Given the scientific abstracts provided, a pla...</td>\n",
       "      <td>ok</td>\n",
       "      <td>[]</td>\n",
       "      <td>[]</td>\n",
       "      <td>None</td>\n",
       "    </tr>\n",
       "    <tr>\n",
       "      <th>1</th>\n",
       "      <td>1</td>\n",
       "      <td>COVID-19 and Inflammatory Response: The abstra...</td>\n",
       "      <td>ok</td>\n",
       "      <td>[]</td>\n",
       "      <td>[]</td>\n",
       "      <td>None</td>\n",
       "    </tr>\n",
       "    <tr>\n",
       "      <th>2</th>\n",
       "      <td>2</td>\n",
       "      <td>Elevated levels of these cytokines are associa...</td>\n",
       "      <td>ok</td>\n",
       "      <td>[]</td>\n",
       "      <td>[]</td>\n",
       "      <td>None</td>\n",
       "    </tr>\n",
       "    <tr>\n",
       "      <th>3</th>\n",
       "      <td>3</td>\n",
       "      <td>Morphine and Inflammation: Morphine is known t...</td>\n",
       "      <td>ok</td>\n",
       "      <td>[]</td>\n",
       "      <td>[[Morphine, immunomodulatory]]</td>\n",
       "      <td>None</td>\n",
       "    </tr>\n",
       "    <tr>\n",
       "      <th>4</th>\n",
       "      <td>4</td>\n",
       "      <td>While not directly mentioned in the abstracts,...</td>\n",
       "      <td>ok</td>\n",
       "      <td>[]</td>\n",
       "      <td>[]</td>\n",
       "      <td>None</td>\n",
       "    </tr>\n",
       "    <tr>\n",
       "      <th>5</th>\n",
       "      <td>5</td>\n",
       "      <td>However, the exact effect would depend on the ...</td>\n",
       "      <td>ok</td>\n",
       "      <td>[]</td>\n",
       "      <td>[]</td>\n",
       "      <td>None</td>\n",
       "    </tr>\n",
       "    <tr>\n",
       "      <th>6</th>\n",
       "      <td>6</td>\n",
       "      <td>Cytokines and the Blood-Brain Barrier (BBB): T...</td>\n",
       "      <td>ok</td>\n",
       "      <td>[]</td>\n",
       "      <td>[[BBB, cytokines]]</td>\n",
       "      <td>None</td>\n",
       "    </tr>\n",
       "    <tr>\n",
       "      <th>7</th>\n",
       "      <td>7</td>\n",
       "      <td>Morphine's known ability to cross the BBB and ...</td>\n",
       "      <td>ok</td>\n",
       "      <td>[]</td>\n",
       "      <td>[]</td>\n",
       "      <td>None</td>\n",
       "    </tr>\n",
       "    <tr>\n",
       "      <th>8</th>\n",
       "      <td>8</td>\n",
       "      <td>Potential Therapeutic Implications: Considerin...</td>\n",
       "      <td>REWORK</td>\n",
       "      <td>[[TNF-alpha inhibitor, postoperative pain, 2]]</td>\n",
       "      <td>[[TNF-alpha inhibitor, inflammation]]</td>\n",
       "      <td>None</td>\n",
       "    </tr>\n",
       "    <tr>\n",
       "      <th>9</th>\n",
       "      <td>9</td>\n",
       "      <td>Morphine could theoretically influence the CNS...</td>\n",
       "      <td>ok</td>\n",
       "      <td>[]</td>\n",
       "      <td>[[inflammation, COVID-19], [inflammation, cyto...</td>\n",
       "      <td>None</td>\n",
       "    </tr>\n",
       "    <tr>\n",
       "      <th>10</th>\n",
       "      <td>10</td>\n",
       "      <td>Morphine's immunomodulatory effects, combined ...</td>\n",
       "      <td>ok</td>\n",
       "      <td>[]</td>\n",
       "      <td>[]</td>\n",
       "      <td>None</td>\n",
       "    </tr>\n",
       "    <tr>\n",
       "      <th>11</th>\n",
       "      <td>11</td>\n",
       "      <td>However, it is crucial to approach this hypoth...</td>\n",
       "      <td>ok</td>\n",
       "      <td>[]</td>\n",
       "      <td>[[immunosuppressive effects, patients]]</td>\n",
       "      <td>None</td>\n",
       "    </tr>\n",
       "  </tbody>\n",
       "</table>\n",
       "</div>"
      ],
      "text/plain": [
       "    index                                          sent_text  status  \\\n",
       "0       0  Given the scientific abstracts provided, a pla...      ok   \n",
       "1       1  COVID-19 and Inflammatory Response: The abstra...      ok   \n",
       "2       2  Elevated levels of these cytokines are associa...      ok   \n",
       "3       3  Morphine and Inflammation: Morphine is known t...      ok   \n",
       "4       4  While not directly mentioned in the abstracts,...      ok   \n",
       "5       5  However, the exact effect would depend on the ...      ok   \n",
       "6       6  Cytokines and the Blood-Brain Barrier (BBB): T...      ok   \n",
       "7       7  Morphine's known ability to cross the BBB and ...      ok   \n",
       "8       8  Potential Therapeutic Implications: Considerin...  REWORK   \n",
       "9       9  Morphine could theoretically influence the CNS...      ok   \n",
       "10     10  Morphine's immunomodulatory effects, combined ...      ok   \n",
       "11     11  However, it is crucial to approach this hypoth...      ok   \n",
       "\n",
       "                                    bad_predicates  \\\n",
       "0                                               []   \n",
       "1                                               []   \n",
       "2                                               []   \n",
       "3                                               []   \n",
       "4                                               []   \n",
       "5                                               []   \n",
       "6                                               []   \n",
       "7                                               []   \n",
       "8   [[TNF-alpha inhibitor, postoperative pain, 2]]   \n",
       "9                                               []   \n",
       "10                                              []   \n",
       "11                                              []   \n",
       "\n",
       "                                      good_predicates reworked_part  \n",
       "0                                                  []          None  \n",
       "1                                                  []          None  \n",
       "2                                                  []          None  \n",
       "3                      [[Morphine, immunomodulatory]]          None  \n",
       "4                                                  []          None  \n",
       "5                                                  []          None  \n",
       "6                                  [[BBB, cytokines]]          None  \n",
       "7                                                  []          None  \n",
       "8               [[TNF-alpha inhibitor, inflammation]]          None  \n",
       "9   [[inflammation, COVID-19], [inflammation, cyto...          None  \n",
       "10                                                 []          None  \n",
       "11            [[immunosuppressive effects, patients]]          None  "
      ]
     },
     "execution_count": 95,
     "metadata": {},
     "output_type": "execute_result"
    }
   ],
   "source": [
    "expl_parts_df = pd.DataFrame(evaluation_result).reset_index()\n",
    "expl_parts_df['reworked_part'] = None\n",
    "expl_parts_df"
   ]
  },
  {
   "cell_type": "code",
   "execution_count": 96,
   "id": "43192edd-683b-447f-8208-4e8d29a7d47d",
   "metadata": {
    "execution": {
     "iopub.execute_input": "2024-05-06T17:34:00.029311Z",
     "iopub.status.busy": "2024-05-06T17:34:00.028312Z",
     "iopub.status.idle": "2024-05-06T17:34:00.035052Z",
     "shell.execute_reply": "2024-05-06T17:34:00.034154Z",
     "shell.execute_reply.started": "2024-05-06T17:34:00.029226Z"
    }
   },
   "outputs": [
    {
     "name": "stdout",
     "output_type": "stream",
     "text": [
      "['Potential Therapeutic Implications: Considering the abstract discussing the effect of pentoxifylline (a TNF-alpha inhibitor) on reducing postoperative pain and inflammation, one could speculate about the potential use of morphine not only for its analgesic properties but also for its potential effects on the inflammatory response in COVID-19. ']\n"
     ]
    }
   ],
   "source": [
    "expl_parts_enum_dict = dict(enumerate(evaluation_result))\n",
    "rework_sentences = []\n",
    "\n",
    "for key, value in expl_parts_enum_dict.items():\n",
    "    if value['status'] == 'REWORK':  \n",
    "        rework_sentences.append(value['sent_text']) \n",
    "print(rework_sentences)"
   ]
  },
  {
   "cell_type": "code",
   "execution_count": 97,
   "id": "125f0844-288e-4faa-8851-61bfc46a8398",
   "metadata": {
    "execution": {
     "iopub.execute_input": "2024-05-06T17:34:06.256300Z",
     "iopub.status.busy": "2024-05-06T17:34:06.255462Z",
     "iopub.status.idle": "2024-05-06T17:34:06.261717Z",
     "shell.execute_reply": "2024-05-06T17:34:06.260961Z",
     "shell.execute_reply.started": "2024-05-06T17:34:06.256228Z"
    }
   },
   "outputs": [
    {
     "data": {
      "text/plain": [
       "'Potential Therapeutic Implications: Considering the abstract discussing the effect of pentoxifylline (a TNF-alpha inhibitor) on reducing postoperative pain and inflammation, one could speculate about the potential use of morphine not only for its analgesic properties but also for its potential effects on the inflammatory response in COVID-19. '"
      ]
     },
     "execution_count": 97,
     "metadata": {},
     "output_type": "execute_result"
    }
   ],
   "source": [
    "rework_sent_to_drop_abst_6= rework_sentences[0]\n",
    "rework_sent_to_drop_abst_6"
   ]
  },
  {
   "cell_type": "code",
   "execution_count": 98,
   "id": "2a937118-df67-4ed1-8c97-d2fd4e7224c0",
   "metadata": {
    "execution": {
     "iopub.execute_input": "2024-05-06T17:36:10.090216Z",
     "iopub.status.busy": "2024-05-06T17:36:10.089904Z",
     "iopub.status.idle": "2024-05-06T17:36:10.095886Z",
     "shell.execute_reply": "2024-05-06T17:36:10.095296Z",
     "shell.execute_reply.started": "2024-05-06T17:36:10.090189Z"
    }
   },
   "outputs": [
    {
     "data": {
      "text/plain": [
       "4"
      ]
     },
     "execution_count": 98,
     "metadata": {},
     "output_type": "execute_result"
    }
   ],
   "source": [
    "len(results_path1)"
   ]
  },
  {
   "cell_type": "code",
   "execution_count": 99,
   "id": "1c8ac1fe-1110-41e9-a62b-38107580a46d",
   "metadata": {
    "execution": {
     "iopub.execute_input": "2024-05-06T17:36:13.085114Z",
     "iopub.status.busy": "2024-05-06T17:36:13.084796Z",
     "iopub.status.idle": "2024-05-06T17:36:13.125646Z",
     "shell.execute_reply": "2024-05-06T17:36:13.124993Z",
     "shell.execute_reply.started": "2024-05-06T17:36:13.085088Z"
    }
   },
   "outputs": [
    {
     "data": {
      "text/plain": [
       "['Effect of intravenous pentoxifylline in inflammatory response in patients undergoing nephrolithotomy. To determine the potential efficacy of intravenous (IV) infusion of pentoxifylline (PTX) before nephrolithotomy on attenuating plasma level of the tumor necrosis factor (TNF)-alpha and interleukin (IL)-1, and to investigate whether it prevents postoperative pain. In a randomized, double-blind, placebo-controlled study, 32 patients (American Society of Anesthesiologists physical status 1 and 2) who were undergoing general anesthesia for nephrolithotomy were randomized to receive intravenous PTX (500 mg in 500 mL saline for 2 hours followed by 700 mg in 1000 mL saline for 6 hours), or placebo (1500 mL saline) before induction of the anesthesia. Two venous blood samples were obtained 10 minutes before PTX or placebo infusion and after surgery at 24 hours for laboratory examination. After surgery, the amount of narcotics consumption and intensity of pain (Visual Analog Scale and Verbal Rating Scale) were evaluated. At baseline, both placebo and PTX group had similar demographic, clinical, and laboratory characteristics. The use of narcotic analgesia (morphine, pethidine or both) was more common in the control group for pain relief. Also, pain intensity was significantly lower in patients who received PTX in comparison with those in the control group. Patients in the PTX group had lower postoperative plasma levels of TNF-alpha (0.27 pg/mL (0.06/0.74) v 3.35 pg/mL (0.83/6.41)) (median (25%/75%), P < 0.0001) and IL-6 (35.4 +/- 21.1 pg/mL (range 12-100) v 60.4 +/- 16.7 pg/mL (range 38-100), mean +/- standard deviation, P < 0.001) compared with the placebo receivers. There was no significant difference in surgery time, length of hospital stay, and fever occurrence after operation during in-hospital follow-up. Nausea and vomiting developed, however, in 5 (31.2%) of treatment patients. An infusion of IV PTX that is administered preoperatively could be applied to reduce inflammatory changes and pain intensity in patients undergoing nephrolithotomy; it causes no serious side effects. ']"
      ]
     },
     "execution_count": 99,
     "metadata": {},
     "output_type": "execute_result"
    }
   ],
   "source": [
    "cur_top_n_context_abstr_drop_list_2 = find_top_documents(rework_sent_to_drop_abst_6,results_path1, top_k=1,return_scores=False)\n",
    "cur_top_n_context_abstr_drop_list_2"
   ]
  },
  {
   "cell_type": "code",
   "execution_count": 101,
   "id": "937b06e0-c8b6-419a-acc1-68f7cecc2b85",
   "metadata": {
    "execution": {
     "iopub.execute_input": "2024-05-06T17:36:38.812544Z",
     "iopub.status.busy": "2024-05-06T17:36:38.812068Z",
     "iopub.status.idle": "2024-05-06T17:36:38.818980Z",
     "shell.execute_reply": "2024-05-06T17:36:38.818184Z",
     "shell.execute_reply.started": "2024-05-06T17:36:38.812515Z"
    }
   },
   "outputs": [
    {
     "data": {
      "text/plain": [
       "['Early Viral Clearance and Antibody Kinetics of COVID-19 Among Asymptomatic Carriers. Asymptomatic carriers contribute to the spread of Coronavirus Disease 2019 (COVID-19), but their clinical characteristics, viral kinetics, and antibody responses remain unclear. A total of 56 COVID-19 patients without symptoms at admission and 19 age-matched symptomatic patients were enrolled. RNA of SARS-CoV-2 was tested using transcriptase quantitative PCR, and the total antibodies (Ab), IgG, IgA, and IgM against the SARS-CoV-2 were tested using Chemiluminescence Microparticle Immuno Assay. Among 56 patients without symptoms at admission, 33 cases displayed symptoms and 23 remained asymptomatic throughout the follow-up period. 43.8% of the asymptomatic carriers were children and none of the asymptomatic cases had recognizable changes in C-reactive protein or interleukin-6, except one 64-year-old patient. The initial threshold cycle value of nasopharyngeal SARS-CoV-2 in asymptomatic carriers was similar to that in pre-symptomatic and symptomatic patients, but the positive viral nucleic acid detection period of asymptomatic carriers (9.63 days) was shorter than pre-symptomatic patients (13.6 days). There were no obvious differences in the seropositive conversion rate of total Ab, IgG, and IgA among the three groups, though the rates of IgM varied largely. The average peak IgG and IgM COI of asymptomatic cases was 3.5 and 0.8, respectively, which is also lower than those in symptomatic patients with peaked IgG and IgM COI of 4.5 and 2.4 (p < 0.05). Young COVID-19 patients seem to be asymptomatic cases with early clearance of SARS-CoV-2 and low levels of IgM generation but high total Ab, IgG, and IgA. Our findings provide empirical information for viral clearance and antibody kinetics of asymptomatic COVID-19 patients. ',\n",
       " \"Simple predictive models identify patients with COVID-19 pneumonia and poor prognosis. Identification of SARS-CoV-2-infected patients at high-risk of poor prognosis is crucial. We aimed to establish predictive models for COVID-19 pneumonia severity in hospitalized patients. Retrospective study of 430 patients admitted in Vall d'Hebron Hospital (Barcelona) between 03-12-2020 and 04-28-2020 due to COVID-19 pneumonia. Two models to identify the patients who required high-flow-oxygen-support were generated, one using baseline data and another with also follow-up analytical results. Calibration was performed by a 1000-bootstrap replication model. 249 were male, mean age 57.9 years. Overall, 135 (31.4%) required high-flow-oxygen-support. The baseline predictive model showed a ROC of 0.800 based on: SpO2/FiO2 (adjusted Hazard Ratio-aHR = 8), chest x-ray (aHR = 4), prior immunosuppressive therapy (aHR = 4), obesity (aHR = 2), IL-6 (aHR = 2), platelets (aHR = 0.5). The cut-off of 11 presented a specificity of 94.8%. The second model included changes on the analytical parameters: ferritin (aHR = 7.5 if >=200ng/mL) and IL-6 (aHR = 18 if >=64pg/mL) plus chest x-ray (aHR = 2) showing a ROC of 0.877. The cut-off of 12 exhibited a negative predictive value of 92%. SpO2/FiO2 and chest x-ray on admission or changes on inflammatory parameters as IL-6 and ferritin allow us early identification of COVID-19 patients at risk of high-flow-oxygen-support that may benefit from a more intensive disease management. \",\n",
       " 'Effect of intravenous pentoxifylline in inflammatory response in patients undergoing nephrolithotomy. To determine the potential efficacy of intravenous (IV) infusion of pentoxifylline (PTX) before nephrolithotomy on attenuating plasma level of the tumor necrosis factor (TNF)-alpha and interleukin (IL)-1, and to investigate whether it prevents postoperative pain. In a randomized, double-blind, placebo-controlled study, 32 patients (American Society of Anesthesiologists physical status 1 and 2) who were undergoing general anesthesia for nephrolithotomy were randomized to receive intravenous PTX (500 mg in 500 mL saline for 2 hours followed by 700 mg in 1000 mL saline for 6 hours), or placebo (1500 mL saline) before induction of the anesthesia. Two venous blood samples were obtained 10 minutes before PTX or placebo infusion and after surgery at 24 hours for laboratory examination. After surgery, the amount of narcotics consumption and intensity of pain (Visual Analog Scale and Verbal Rating Scale) were evaluated. At baseline, both placebo and PTX group had similar demographic, clinical, and laboratory characteristics. The use of narcotic analgesia (morphine, pethidine or both) was more common in the control group for pain relief. Also, pain intensity was significantly lower in patients who received PTX in comparison with those in the control group. Patients in the PTX group had lower postoperative plasma levels of TNF-alpha (0.27 pg/mL (0.06/0.74) v 3.35 pg/mL (0.83/6.41)) (median (25%/75%), P < 0.0001) and IL-6 (35.4 +/- 21.1 pg/mL (range 12-100) v 60.4 +/- 16.7 pg/mL (range 38-100), mean +/- standard deviation, P < 0.001) compared with the placebo receivers. There was no significant difference in surgery time, length of hospital stay, and fever occurrence after operation during in-hospital follow-up. Nausea and vomiting developed, however, in 5 (31.2%) of treatment patients. An infusion of IV PTX that is administered preoperatively could be applied to reduce inflammatory changes and pain intensity in patients undergoing nephrolithotomy; it causes no serious side effects. ']"
      ]
     },
     "execution_count": 101,
     "metadata": {},
     "output_type": "execute_result"
    }
   ],
   "source": [
    "results_path1.pop(3)\n",
    "results_path1"
   ]
  },
  {
   "cell_type": "code",
   "execution_count": 102,
   "id": "1fbc311e-d527-4412-8def-546a1cb76c64",
   "metadata": {
    "execution": {
     "iopub.execute_input": "2024-05-06T17:37:42.938991Z",
     "iopub.status.busy": "2024-05-06T17:37:42.938769Z",
     "iopub.status.idle": "2024-05-06T17:37:42.943804Z",
     "shell.execute_reply": "2024-05-06T17:37:42.943189Z",
     "shell.execute_reply.started": "2024-05-06T17:37:42.938971Z"
    }
   },
   "outputs": [
    {
     "data": {
      "text/plain": [
       "3"
      ]
     },
     "execution_count": 102,
     "metadata": {},
     "output_type": "execute_result"
    }
   ],
   "source": [
    "len(results_path1)"
   ]
  },
  {
   "cell_type": "markdown",
   "id": "c8576863-7d1d-4686-b4d8-1f0e8799fa0d",
   "metadata": {},
   "source": [
    "### Iteration 4"
   ]
  },
  {
   "cell_type": "code",
   "execution_count": 103,
   "id": "2a759139-486b-4971-ab04-546da6803e28",
   "metadata": {
    "execution": {
     "iopub.execute_input": "2024-05-06T17:37:47.814778Z",
     "iopub.status.busy": "2024-05-06T17:37:47.814463Z",
     "iopub.status.idle": "2024-05-06T17:37:47.821193Z",
     "shell.execute_reply": "2024-05-06T17:37:47.820313Z",
     "shell.execute_reply.started": "2024-05-06T17:37:47.814753Z"
    }
   },
   "outputs": [
    {
     "data": {
      "text/plain": [
       "\"How would you describe plausible explanation of potential connection between Covid Virus Disease and morphine given the following scientific abstracts as context?\\nEarly Viral Clearance and Antibody Kinetics of COVID-19 Among Asymptomatic Carriers. Asymptomatic carriers contribute to the spread of Coronavirus Disease 2019 (COVID-19), but their clinical characteristics, viral kinetics, and antibody responses remain unclear. A total of 56 COVID-19 patients without symptoms at admission and 19 age-matched symptomatic patients were enrolled. RNA of SARS-CoV-2 was tested using transcriptase quantitative PCR, and the total antibodies (Ab), IgG, IgA, and IgM against the SARS-CoV-2 were tested using Chemiluminescence Microparticle Immuno Assay. Among 56 patients without symptoms at admission, 33 cases displayed symptoms and 23 remained asymptomatic throughout the follow-up period. 43.8% of the asymptomatic carriers were children and none of the asymptomatic cases had recognizable changes in C-reactive protein or interleukin-6, except one 64-year-old patient. The initial threshold cycle value of nasopharyngeal SARS-CoV-2 in asymptomatic carriers was similar to that in pre-symptomatic and symptomatic patients, but the positive viral nucleic acid detection period of asymptomatic carriers (9.63 days) was shorter than pre-symptomatic patients (13.6 days). There were no obvious differences in the seropositive conversion rate of total Ab, IgG, and IgA among the three groups, though the rates of IgM varied largely. The average peak IgG and IgM COI of asymptomatic cases was 3.5 and 0.8, respectively, which is also lower than those in symptomatic patients with peaked IgG and IgM COI of 4.5 and 2.4 (p < 0.05). Young COVID-19 patients seem to be asymptomatic cases with early clearance of SARS-CoV-2 and low levels of IgM generation but high total Ab, IgG, and IgA. Our findings provide empirical information for viral clearance and antibody kinetics of asymptomatic COVID-19 patients. \\n\\nSimple predictive models identify patients with COVID-19 pneumonia and poor prognosis. Identification of SARS-CoV-2-infected patients at high-risk of poor prognosis is crucial. We aimed to establish predictive models for COVID-19 pneumonia severity in hospitalized patients. Retrospective study of 430 patients admitted in Vall d'Hebron Hospital (Barcelona) between 03-12-2020 and 04-28-2020 due to COVID-19 pneumonia. Two models to identify the patients who required high-flow-oxygen-support were generated, one using baseline data and another with also follow-up analytical results. Calibration was performed by a 1000-bootstrap replication model. 249 were male, mean age 57.9 years. Overall, 135 (31.4%) required high-flow-oxygen-support. The baseline predictive model showed a ROC of 0.800 based on: SpO2/FiO2 (adjusted Hazard Ratio-aHR = 8), chest x-ray (aHR = 4), prior immunosuppressive therapy (aHR = 4), obesity (aHR = 2), IL-6 (aHR = 2), platelets (aHR = 0.5). The cut-off of 11 presented a specificity of 94.8%. The second model included changes on the analytical parameters: ferritin (aHR = 7.5 if >=200ng/mL) and IL-6 (aHR = 18 if >=64pg/mL) plus chest x-ray (aHR = 2) showing a ROC of 0.877. The cut-off of 12 exhibited a negative predictive value of 92%. SpO2/FiO2 and chest x-ray on admission or changes on inflammatory parameters as IL-6 and ferritin allow us early identification of COVID-19 patients at risk of high-flow-oxygen-support that may benefit from a more intensive disease management. \\n\\nEffect of intravenous pentoxifylline in inflammatory response in patients undergoing nephrolithotomy. To determine the potential efficacy of intravenous (IV) infusion of pentoxifylline (PTX) before nephrolithotomy on attenuating plasma level of the tumor necrosis factor (TNF)-alpha and interleukin (IL)-1, and to investigate whether it prevents postoperative pain. In a randomized, double-blind, placebo-controlled study, 32 patients (American Society of Anesthesiologists physical status 1 and 2) who were undergoing general anesthesia for nephrolithotomy were randomized to receive intravenous PTX (500 mg in 500 mL saline for 2 hours followed by 700 mg in 1000 mL saline for 6 hours), or placebo (1500 mL saline) before induction of the anesthesia. Two venous blood samples were obtained 10 minutes before PTX or placebo infusion and after surgery at 24 hours for laboratory examination. After surgery, the amount of narcotics consumption and intensity of pain (Visual Analog Scale and Verbal Rating Scale) were evaluated. At baseline, both placebo and PTX group had similar demographic, clinical, and laboratory characteristics. The use of narcotic analgesia (morphine, pethidine or both) was more common in the control group for pain relief. Also, pain intensity was significantly lower in patients who received PTX in comparison with those in the control group. Patients in the PTX group had lower postoperative plasma levels of TNF-alpha (0.27 pg/mL (0.06/0.74) v 3.35 pg/mL (0.83/6.41)) (median (25%/75%), P < 0.0001) and IL-6 (35.4 +/- 21.1 pg/mL (range 12-100) v 60.4 +/- 16.7 pg/mL (range 38-100), mean +/- standard deviation, P < 0.001) compared with the placebo receivers. There was no significant difference in surgery time, length of hospital stay, and fever occurrence after operation during in-hospital follow-up. Nausea and vomiting developed, however, in 5 (31.2%) of treatment patients. An infusion of IV PTX that is administered preoperatively could be applied to reduce inflammatory changes and pain intensity in patients undergoing nephrolithotomy; it causes no serious side effects. \""
      ]
     },
     "execution_count": 103,
     "metadata": {},
     "output_type": "execute_result"
    }
   ],
   "source": [
    "llm_fix_prompt_nosummary= 'How would you describe plausible explanation of potential connection between Covid Virus Disease and morphine given the following scientific abstracts as context?'\n",
    "llm_fix_prompt_str = '\\n\\n'.join(results_path1)\n",
    "llm_fix_prompt_combo = llm_fix_prompt_nosummary + '\\n' + llm_fix_prompt_str\n",
    "llm_fix_prompt_combo"
   ]
  },
  {
   "cell_type": "code",
   "execution_count": 104,
   "id": "c9734669-f977-4710-9501-06636a106e19",
   "metadata": {
    "execution": {
     "iopub.execute_input": "2024-05-06T17:38:01.733785Z",
     "iopub.status.busy": "2024-05-06T17:38:01.733222Z",
     "iopub.status.idle": "2024-05-06T17:38:28.363435Z",
     "shell.execute_reply": "2024-05-06T17:38:28.362643Z",
     "shell.execute_reply.started": "2024-05-06T17:38:01.733758Z"
    }
   },
   "outputs": [
    {
     "name": "stdout",
     "output_type": "stream",
     "text": [
      "CPU times: user 16 ms, sys: 9.27 ms, total: 25.2 ms\n",
      "Wall time: 26.6 s\n"
     ]
    },
    {
     "data": {
      "text/plain": [
       "\"Given the context provided by the scientific abstracts, a plausible explanation for a potential connection between COVID-19 and morphine could be hypothesized around the management of symptoms and the modulation of the immune response in COVID-19 patients. However, it's important to note that none of the abstracts directly address the use of morphine in COVID-19 patients. Instead, they focus on the characteristics of asymptomatic carriers, predictive models for COVID-19 pneumonia severity, and the effects of pentoxifylline (PTX) on inflammatory responses in a surgical context. To draw a connection, we must extrapolate from the information provided and known pharmacological principles.\\n\\n1. **Management of Symptoms in COVID-19**: The abstracts do not directly mention morphine, but morphine is a potent opioid analgesic commonly used to manage severe pain. In the context of COVID-19, patients with severe pneumonia and those requiring high-flow-oxygen-support might experience significant discomfort or pain, potentially necessitating the use of analgesics like morphine. The predictive models for COVID-19 pneumonia severity highlight the importance of early identification of patients at risk of severe outcomes, which could indirectly suggest a need for symptom management strategies, including pain management in severe cases.\\n\\n2. **Modulation of the Immune Response**: The third abstract discusses the use of pentoxifylline (PTX) to attenuate inflammatory responses in patients undergoing nephrolithotomy, showing a reduction in TNF-alpha and IL-6 levels. While PTX is not morphine, this finding is relevant because it illustrates the potential for certain drugs to modulate the immune response. Morphine has been shown in various studies to have immunomodulatory effects, although its impact can be complex, potentially suppressing some aspects of the immune response. In the context of COVID-19, where the cytokine storm and excessive inflammation are key features of severe disease, there could be theoretical considerations around the effects of morphine on the immune response. However, it's crucial to approach this with caution, as immunosuppression in the context of an active viral infection could have negative consequences.\\n\\n3. **Lack of Direct Evidence**: It's important to emphasize that the abstracts provided do not offer direct evidence linking morphine use with outcomes in COVID-19 patients. Any potential connection between morphine and COVID-19, whether through symptom management or immune modulation, would require specific research focused on those aspects. The information from the abstracts can only serve as a starting point for hypothesizing potential areas of interest.\\n\\nIn summary, while a direct connection between COVID-19 and morphine use is not established in the provided abstracts, one could speculate about the role of morphine in managing severe pain in COVID-19 patients and its potential immunomodulatory effects. However, these hypotheses would need to be rigorously tested in clinical studies specifically designed to assess the safety and efficacy of morphine in the context of COVID-19.\""
      ]
     },
     "execution_count": 104,
     "metadata": {},
     "output_type": "execute_result"
    }
   ],
   "source": [
    "%%time\n",
    "llm_resp_reworked_6 = oai_get_response(llm_fix_prompt_combo,0)\n",
    "llm_resp_reworked_6"
   ]
  },
  {
   "cell_type": "code",
   "execution_count": 105,
   "id": "8caa863d-9175-4fa4-8e19-6c4d32aadd8e",
   "metadata": {
    "execution": {
     "iopub.execute_input": "2024-05-06T17:39:15.919476Z",
     "iopub.status.busy": "2024-05-06T17:39:15.919015Z",
     "iopub.status.idle": "2024-05-06T17:39:43.234296Z",
     "shell.execute_reply": "2024-05-06T17:39:43.233299Z",
     "shell.execute_reply.started": "2024-05-06T17:39:15.919444Z"
    }
   },
   "outputs": [
    {
     "name": "stdout",
     "output_type": "stream",
     "text": [
      "This is original generated LLM res: Given the context provided by the scientific abstracts, a plausible explanation for a potential connection between COVID-19 and morphine could be hypothesized around the management of symptoms and the modulation of the immune response in COVID-19 patients. However, it's important to note that none of the abstracts directly address the use of morphine in COVID-19 patients. Instead, they focus on the characteristics of asymptomatic carriers, predictive models for COVID-19 pneumonia severity, and the effects of pentoxifylline (PTX) on inflammatory responses in a surgical context. To draw a connection, we must extrapolate from the information provided and known pharmacological principles.\n",
      "\n",
      "1. **Management of Symptoms in COVID-19**: The abstracts do not directly mention morphine, but morphine is a potent opioid analgesic commonly used to manage severe pain. In the context of COVID-19, patients with severe pneumonia and those requiring high-flow-oxygen-support might experience significant discomfort or pain, potentially necessitating the use of analgesics like morphine. The predictive models for COVID-19 pneumonia severity highlight the importance of early identification of patients at risk of severe outcomes, which could indirectly suggest a need for symptom management strategies, including pain management in severe cases.\n",
      "\n",
      "2. **Modulation of the Immune Response**: The third abstract discusses the use of pentoxifylline (PTX) to attenuate inflammatory responses in patients undergoing nephrolithotomy, showing a reduction in TNF-alpha and IL-6 levels. While PTX is not morphine, this finding is relevant because it illustrates the potential for certain drugs to modulate the immune response. Morphine has been shown in various studies to have immunomodulatory effects, although its impact can be complex, potentially suppressing some aspects of the immune response. In the context of COVID-19, where the cytokine storm and excessive inflammation are key features of severe disease, there could be theoretical considerations around the effects of morphine on the immune response. However, it's crucial to approach this with caution, as immunosuppression in the context of an active viral infection could have negative consequences.\n",
      "\n",
      "3. **Lack of Direct Evidence**: It's important to emphasize that the abstracts provided do not offer direct evidence linking morphine use with outcomes in COVID-19 patients. Any potential connection between morphine and COVID-19, whether through symptom management or immune modulation, would require specific research focused on those aspects. The information from the abstracts can only serve as a starting point for hypothesizing potential areas of interest.\n",
      "\n",
      "In summary, while a direct connection between COVID-19 and morphine use is not established in the provided abstracts, one could speculate about the role of morphine in managing severe pain in COVID-19 patients and its potential immunomodulatory effects. However, these hypotheses would need to be rigorously tested in clinical studies specifically designed to assess the safety and efficacy of morphine in the context of COVID-19.\n",
      "This is CLEANED generated LLM res :Given the context provided by the scientific abstracts, a plausible explanation for a potential connection between COVID-19 and morphine could be hypothesized around the management of symptoms and the modulation of the immune response in COVID-19 patients. However, it's important to note that none of the abstracts directly address the use of morphine in COVID-19 patients. Instead, they focus on the characteristics of asymptomatic carriers, predictive models for COVID-19 pneumonia severity, and the effects of pentoxifylline (PTX) on inflammatory responses in a surgical context. To draw a connection, we must extrapolate from the information provided and known pharmacological principles.1. Management of Symptoms in COVID-19: The abstracts do not directly mention morphine, but morphine is a potent opioid analgesic commonly used to manage severe pain. In the context of COVID-19, patients with severe pneumonia and those requiring high-flow-oxygen-support might experience significant discomfort or pain, potentially necessitating the use of analgesics like morphine. The predictive models for COVID-19 pneumonia severity highlight the importance of early identification of patients at risk of severe outcomes, which could indirectly suggest a need for symptom management strategies, including pain management in severe cases.2. Modulation of the Immune Response: The third abstract discusses the use of pentoxifylline (PTX) to attenuate inflammatory responses in patients undergoing nephrolithotomy, showing a reduction in TNF-alpha and IL-6 levels. While PTX is not morphine, this finding is relevant because it illustrates the potential for certain drugs to modulate the immune response. Morphine has been shown in various studies to have immunomodulatory effects, although its impact can be complex, potentially suppressing some aspects of the immune response. In the context of COVID-19, where the cytokine storm and excessive inflammation are key features of severe disease, there could be theoretical considerations around the effects of morphine on the immune response. However, it's crucial to approach this with caution, as immunosuppression in the context of an active viral infection could have negative consequences.3. Lack of Direct Evidence: It's important to emphasize that the abstracts provided do not offer direct evidence linking morphine use with outcomes in COVID-19 patients. Any potential connection between morphine and COVID-19, whether through symptom management or immune modulation, would require specific research focused on those aspects. The information from the abstracts can only serve as a starting point for hypothesizing potential areas of interest.In summary, while a direct connection between COVID-19 and morphine use is not established in the provided abstracts, one could speculate about the role of morphine in managing severe pain in COVID-19 patients and its potential immunomodulatory effects. However, these hypotheses would need to be rigorously tested in clinical studies specifically designed to assess the safety and efficacy of morphine in the context of COVID-19.\n",
      "\n",
      "-----------------------------------------------\n",
      "\n",
      "Run SemRep in interactive mode...\n",
      "Processing input with replace_utf8.jar utility...\n",
      "Sentence:\n",
      " Given the context provided by the scientific abstracts, a plausible explanation for a potential connection between COVID-19 and morphine could be hypothesized around the management of symptoms and the modulation of the immune response in COVID-19 patients. \n",
      "Status:\n",
      " ok\n",
      "Recognized:\n",
      "\t ['COVID-19', 'patients'] in AGATHA KB\n",
      "\t ['morphine', 'symptoms'] in AGATHA KB\n",
      "\t ['immune response', 'patients'] in AGATHA KB\n",
      "\n",
      "-----\n",
      "\n",
      "Sentence:\n",
      " However, it's important to note that none of the abstracts directly address the use of morphine in COVID-19 patients. \n",
      "Status:\n",
      " ok\n",
      "Recognized:\n",
      "\t ['morphine', 'COVID-19'] in AGATHA KB\n",
      "\t ['COVID-19', 'patients'] in AGATHA KB\n",
      "\t ['morphine', 'patients'] in AGATHA KB\n",
      "\n",
      "-----\n",
      "\n",
      "Sentence:\n",
      " Instead, they focus on the characteristics of asymptomatic carriers, predictive models for COVID-19 pneumonia severity, and the effects of pentoxifylline (PTX) on inflammatory responses in a surgical context. \n",
      "Status:\n",
      " ok\n",
      "Recognized:\n",
      "\t ['pentoxifylline', 'inflammatory responses'] in AGATHA KB\n",
      "\n",
      "-----\n",
      "\n",
      "Sentence:\n",
      " To draw a connection, we must extrapolate from the information provided and known pharmacological principles.1. \n",
      "Status:\n",
      " ok\n",
      "\n",
      "-----\n",
      "\n",
      "Sentence:\n",
      " Management of Symptoms in COVID-19: The abstracts do not directly mention morphine, but morphine is a potent opioid analgesic commonly used to manage severe pain. \n",
      "Status:\n",
      " ok\n",
      "Recognized:\n",
      "\t ['Symptoms', 'COVID-19'] in AGATHA KB\n",
      "\t ['opioid analgesic', 'severe pain'] in AGATHA KB\n",
      "\t ['morphine', 'Symptoms'] in AGATHA KB\n",
      "\n",
      "-----\n",
      "\n",
      "Sentence:\n",
      " In the context of COVID-19, patients with severe pneumonia and those requiring high-flow-oxygen-support might experience significant discomfort or pain, potentially necessitating the use of analgesics like morphine. \n",
      "Status:\n",
      " ok\n",
      "Recognized:\n",
      "\t ['pain', 'patients'] in AGATHA KB\n",
      "\t ['discomfort', 'patients'] in AGATHA KB\n",
      "\t ['pneumonia', 'patients'] in AGATHA KB\n",
      "\n",
      "-----\n",
      "\n",
      "Sentence:\n",
      " The predictive models for COVID-19 pneumonia severity highlight the importance of early identification of patients at risk of severe outcomes, which could indirectly suggest a need for symptom management strategies, including pain management in severe cases.2. \n",
      "Status:\n",
      " ok\n",
      "\n",
      "-----\n",
      "\n",
      "Sentence:\n",
      " Modulation of the Immune Response: The third abstract discusses the use of pentoxifylline (PTX) to attenuate inflammatory responses in patients undergoing nephrolithotomy, showing a reduction in TNF-alpha and IL-6 levels. \n",
      "Status:\n",
      " ok\n",
      "Recognized:\n",
      "\t ['nephrolithotomy', 'inflammatory responses'] in AGATHA KB\n",
      "\t ['nephrolithotomy', 'patients'] in AGATHA KB\n",
      "\t ['pentoxifylline', 'inflammatory responses'] in AGATHA KB\n",
      "\t ['inflammatory responses', 'patients'] in AGATHA KB\n",
      "\n",
      "-----\n",
      "\n",
      "Sentence:\n",
      " While PTX is not morphine, this finding is relevant because it illustrates the potential for certain drugs to modulate the immune response. \n",
      "Status:\n",
      " ok\n",
      "Recognized:\n",
      "\t ['drugs', 'immune response'] in AGATHA KB\n",
      "\n",
      "-----\n",
      "\n",
      "Sentence:\n",
      " Morphine has been shown in various studies to have immunomodulatory effects, although its impact can be complex, potentially suppressing some aspects of the immune response. \n",
      "Status:\n",
      " ok\n",
      "Recognized:\n",
      "\t ['Morphine', 'immunomodulatory'] in AGATHA KB\n",
      "\n",
      "-----\n",
      "\n",
      "Sentence:\n",
      " In the context of COVID-19, where the cytokine storm and excessive inflammation are key features of severe disease, there could be theoretical considerations around the effects of morphine on the immune response. \n",
      "Status:\n",
      " ok\n",
      "Recognized:\n",
      "\t ['morphine', 'immune response'] in AGATHA KB\n",
      "\n",
      "-----\n",
      "\n",
      "Sentence:\n",
      " Lack of Direct Evidence: It's important to emphasize that the abstracts provided do not offer direct evidence linking morphine use with outcomes in COVID-19 patients. \n",
      "Status:\n",
      " ok\n",
      "Recognized:\n",
      "\t ['However', 'However'] in AGATHA KB\n",
      "\n",
      "-----\n",
      "\n",
      "Sentence:\n",
      " Any potential connection between morphine and COVID-19, whether through symptom management or immune modulation, would require specific research focused on those aspects. \n",
      "Status:\n",
      " ok\n",
      "\n",
      "-----\n",
      "\n",
      "Sentence:\n",
      " The information from the abstracts can only serve as a starting point for hypothesizing potential areas of interest.In summary, while a direct connection between COVID-19 and morphine use is not established in the provided abstracts, one could speculate about the role of morphine in managing severe pain in COVID-19 patients and its potential immunomodulatory effects. \n",
      "Status:\n",
      " ok\n",
      "\n",
      "-----\n",
      "\n",
      "Sentence:\n",
      " However, these hypotheses would need to be rigorously tested in clinical studies specifically designed to assess the safety and efficacy of morphine in the context of COVID-19. \n",
      "Status:\n",
      " ok\n",
      "\n",
      "-----\n",
      "\n",
      "[{'sent_text': 'Given the context provided by the scientific abstracts, a plausible explanation for a potential connection between COVID-19 and morphine could be hypothesized around the management of symptoms and the modulation of the immune response in COVID-19 patients. ', 'status': 'ok', 'bad_predicates': [], 'good_predicates': [['COVID-19', 'patients'], ['morphine', 'symptoms'], ['immune response', 'patients']]}, {'sent_text': \"However, it's important to note that none of the abstracts directly address the use of morphine in COVID-19 patients. \", 'status': 'ok', 'bad_predicates': [], 'good_predicates': [['morphine', 'COVID-19'], ['COVID-19', 'patients'], ['morphine', 'patients']]}, {'sent_text': 'Instead, they focus on the characteristics of asymptomatic carriers, predictive models for COVID-19 pneumonia severity, and the effects of pentoxifylline (PTX) on inflammatory responses in a surgical context. ', 'status': 'ok', 'bad_predicates': [], 'good_predicates': [['pentoxifylline', 'inflammatory responses']]}, {'sent_text': 'To draw a connection, we must extrapolate from the information provided and known pharmacological principles.1. ', 'status': 'ok', 'bad_predicates': [], 'good_predicates': []}, {'sent_text': 'Management of Symptoms in COVID-19: The abstracts do not directly mention morphine, but morphine is a potent opioid analgesic commonly used to manage severe pain. ', 'status': 'ok', 'bad_predicates': [], 'good_predicates': [['Symptoms', 'COVID-19'], ['opioid analgesic', 'severe pain'], ['morphine', 'Symptoms']]}, {'sent_text': 'In the context of COVID-19, patients with severe pneumonia and those requiring high-flow-oxygen-support might experience significant discomfort or pain, potentially necessitating the use of analgesics like morphine. ', 'status': 'ok', 'bad_predicates': [], 'good_predicates': [['pain', 'patients'], ['discomfort', 'patients'], ['pneumonia', 'patients']]}, {'sent_text': 'The predictive models for COVID-19 pneumonia severity highlight the importance of early identification of patients at risk of severe outcomes, which could indirectly suggest a need for symptom management strategies, including pain management in severe cases.2. ', 'status': 'ok', 'bad_predicates': [], 'good_predicates': []}, {'sent_text': 'Modulation of the Immune Response: The third abstract discusses the use of pentoxifylline (PTX) to attenuate inflammatory responses in patients undergoing nephrolithotomy, showing a reduction in TNF-alpha and IL-6 levels. ', 'status': 'ok', 'bad_predicates': [], 'good_predicates': [['nephrolithotomy', 'inflammatory responses'], ['nephrolithotomy', 'patients'], ['pentoxifylline', 'inflammatory responses'], ['inflammatory responses', 'patients']]}, {'sent_text': 'While PTX is not morphine, this finding is relevant because it illustrates the potential for certain drugs to modulate the immune response. ', 'status': 'ok', 'bad_predicates': [], 'good_predicates': [['drugs', 'immune response']]}, {'sent_text': 'Morphine has been shown in various studies to have immunomodulatory effects, although its impact can be complex, potentially suppressing some aspects of the immune response. ', 'status': 'ok', 'bad_predicates': [], 'good_predicates': [['Morphine', 'immunomodulatory']]}, {'sent_text': 'In the context of COVID-19, where the cytokine storm and excessive inflammation are key features of severe disease, there could be theoretical considerations around the effects of morphine on the immune response. ', 'status': 'ok', 'bad_predicates': [], 'good_predicates': [['morphine', 'immune response']]}, {'sent_text': \"Lack of Direct Evidence: It's important to emphasize that the abstracts provided do not offer direct evidence linking morphine use with outcomes in COVID-19 patients. \", 'status': 'ok', 'bad_predicates': [], 'good_predicates': [['However', 'However']]}, {'sent_text': 'Any potential connection between morphine and COVID-19, whether through symptom management or immune modulation, would require specific research focused on those aspects. ', 'status': 'ok', 'bad_predicates': [], 'good_predicates': []}, {'sent_text': 'The information from the abstracts can only serve as a starting point for hypothesizing potential areas of interest.In summary, while a direct connection between COVID-19 and morphine use is not established in the provided abstracts, one could speculate about the role of morphine in managing severe pain in COVID-19 patients and its potential immunomodulatory effects. ', 'status': 'ok', 'bad_predicates': [], 'good_predicates': []}, {'sent_text': 'However, these hypotheses would need to be rigorously tested in clinical studies specifically designed to assess the safety and efficacy of morphine in the context of COVID-19. ', 'status': 'ok', 'bad_predicates': [], 'good_predicates': []}]\n",
      "CPU times: user 81.7 ms, sys: 1.17 s, total: 1.25 s\n",
      "Wall time: 27.3 s\n"
     ]
    }
   ],
   "source": [
    "%%time\n",
    "evaluation_result = evaluate_llm_resp(llm_resp_reworked_6)"
   ]
  },
  {
   "cell_type": "code",
   "execution_count": 106,
   "id": "5db1ff6b-ad2b-4ec9-b268-7b719b85dfe8",
   "metadata": {
    "execution": {
     "iopub.execute_input": "2024-05-06T17:39:58.576539Z",
     "iopub.status.busy": "2024-05-06T17:39:58.575770Z",
     "iopub.status.idle": "2024-05-06T17:39:58.604343Z",
     "shell.execute_reply": "2024-05-06T17:39:58.603658Z",
     "shell.execute_reply.started": "2024-05-06T17:39:58.576504Z"
    }
   },
   "outputs": [
    {
     "data": {
      "text/html": [
       "<div>\n",
       "<style scoped>\n",
       "    .dataframe tbody tr th:only-of-type {\n",
       "        vertical-align: middle;\n",
       "    }\n",
       "\n",
       "    .dataframe tbody tr th {\n",
       "        vertical-align: top;\n",
       "    }\n",
       "\n",
       "    .dataframe thead th {\n",
       "        text-align: right;\n",
       "    }\n",
       "</style>\n",
       "<table border=\"1\" class=\"dataframe\">\n",
       "  <thead>\n",
       "    <tr style=\"text-align: right;\">\n",
       "      <th></th>\n",
       "      <th>index</th>\n",
       "      <th>sent_text</th>\n",
       "      <th>status</th>\n",
       "      <th>bad_predicates</th>\n",
       "      <th>good_predicates</th>\n",
       "      <th>reworked_part</th>\n",
       "    </tr>\n",
       "  </thead>\n",
       "  <tbody>\n",
       "    <tr>\n",
       "      <th>0</th>\n",
       "      <td>0</td>\n",
       "      <td>Given the context provided by the scientific a...</td>\n",
       "      <td>ok</td>\n",
       "      <td>[]</td>\n",
       "      <td>[[COVID-19, patients], [morphine, symptoms], [...</td>\n",
       "      <td>None</td>\n",
       "    </tr>\n",
       "    <tr>\n",
       "      <th>1</th>\n",
       "      <td>1</td>\n",
       "      <td>However, it's important to note that none of t...</td>\n",
       "      <td>ok</td>\n",
       "      <td>[]</td>\n",
       "      <td>[[morphine, COVID-19], [COVID-19, patients], [...</td>\n",
       "      <td>None</td>\n",
       "    </tr>\n",
       "    <tr>\n",
       "      <th>2</th>\n",
       "      <td>2</td>\n",
       "      <td>Instead, they focus on the characteristics of ...</td>\n",
       "      <td>ok</td>\n",
       "      <td>[]</td>\n",
       "      <td>[[pentoxifylline, inflammatory responses]]</td>\n",
       "      <td>None</td>\n",
       "    </tr>\n",
       "    <tr>\n",
       "      <th>3</th>\n",
       "      <td>3</td>\n",
       "      <td>To draw a connection, we must extrapolate from...</td>\n",
       "      <td>ok</td>\n",
       "      <td>[]</td>\n",
       "      <td>[]</td>\n",
       "      <td>None</td>\n",
       "    </tr>\n",
       "    <tr>\n",
       "      <th>4</th>\n",
       "      <td>4</td>\n",
       "      <td>Management of Symptoms in COVID-19: The abstra...</td>\n",
       "      <td>ok</td>\n",
       "      <td>[]</td>\n",
       "      <td>[[Symptoms, COVID-19], [opioid analgesic, seve...</td>\n",
       "      <td>None</td>\n",
       "    </tr>\n",
       "    <tr>\n",
       "      <th>5</th>\n",
       "      <td>5</td>\n",
       "      <td>In the context of COVID-19, patients with seve...</td>\n",
       "      <td>ok</td>\n",
       "      <td>[]</td>\n",
       "      <td>[[pain, patients], [discomfort, patients], [pn...</td>\n",
       "      <td>None</td>\n",
       "    </tr>\n",
       "    <tr>\n",
       "      <th>6</th>\n",
       "      <td>6</td>\n",
       "      <td>The predictive models for COVID-19 pneumonia s...</td>\n",
       "      <td>ok</td>\n",
       "      <td>[]</td>\n",
       "      <td>[]</td>\n",
       "      <td>None</td>\n",
       "    </tr>\n",
       "    <tr>\n",
       "      <th>7</th>\n",
       "      <td>7</td>\n",
       "      <td>Modulation of the Immune Response: The third a...</td>\n",
       "      <td>ok</td>\n",
       "      <td>[]</td>\n",
       "      <td>[[nephrolithotomy, inflammatory responses], [n...</td>\n",
       "      <td>None</td>\n",
       "    </tr>\n",
       "    <tr>\n",
       "      <th>8</th>\n",
       "      <td>8</td>\n",
       "      <td>While PTX is not morphine, this finding is rel...</td>\n",
       "      <td>ok</td>\n",
       "      <td>[]</td>\n",
       "      <td>[[drugs, immune response]]</td>\n",
       "      <td>None</td>\n",
       "    </tr>\n",
       "    <tr>\n",
       "      <th>9</th>\n",
       "      <td>9</td>\n",
       "      <td>Morphine has been shown in various studies to ...</td>\n",
       "      <td>ok</td>\n",
       "      <td>[]</td>\n",
       "      <td>[[Morphine, immunomodulatory]]</td>\n",
       "      <td>None</td>\n",
       "    </tr>\n",
       "    <tr>\n",
       "      <th>10</th>\n",
       "      <td>10</td>\n",
       "      <td>In the context of COVID-19, where the cytokine...</td>\n",
       "      <td>ok</td>\n",
       "      <td>[]</td>\n",
       "      <td>[[morphine, immune response]]</td>\n",
       "      <td>None</td>\n",
       "    </tr>\n",
       "    <tr>\n",
       "      <th>11</th>\n",
       "      <td>11</td>\n",
       "      <td>Lack of Direct Evidence: It's important to emp...</td>\n",
       "      <td>ok</td>\n",
       "      <td>[]</td>\n",
       "      <td>[[However, However]]</td>\n",
       "      <td>None</td>\n",
       "    </tr>\n",
       "    <tr>\n",
       "      <th>12</th>\n",
       "      <td>12</td>\n",
       "      <td>Any potential connection between morphine and ...</td>\n",
       "      <td>ok</td>\n",
       "      <td>[]</td>\n",
       "      <td>[]</td>\n",
       "      <td>None</td>\n",
       "    </tr>\n",
       "    <tr>\n",
       "      <th>13</th>\n",
       "      <td>13</td>\n",
       "      <td>The information from the abstracts can only se...</td>\n",
       "      <td>ok</td>\n",
       "      <td>[]</td>\n",
       "      <td>[]</td>\n",
       "      <td>None</td>\n",
       "    </tr>\n",
       "    <tr>\n",
       "      <th>14</th>\n",
       "      <td>14</td>\n",
       "      <td>However, these hypotheses would need to be rig...</td>\n",
       "      <td>ok</td>\n",
       "      <td>[]</td>\n",
       "      <td>[]</td>\n",
       "      <td>None</td>\n",
       "    </tr>\n",
       "  </tbody>\n",
       "</table>\n",
       "</div>"
      ],
      "text/plain": [
       "    index                                          sent_text status  \\\n",
       "0       0  Given the context provided by the scientific a...     ok   \n",
       "1       1  However, it's important to note that none of t...     ok   \n",
       "2       2  Instead, they focus on the characteristics of ...     ok   \n",
       "3       3  To draw a connection, we must extrapolate from...     ok   \n",
       "4       4  Management of Symptoms in COVID-19: The abstra...     ok   \n",
       "5       5  In the context of COVID-19, patients with seve...     ok   \n",
       "6       6  The predictive models for COVID-19 pneumonia s...     ok   \n",
       "7       7  Modulation of the Immune Response: The third a...     ok   \n",
       "8       8  While PTX is not morphine, this finding is rel...     ok   \n",
       "9       9  Morphine has been shown in various studies to ...     ok   \n",
       "10     10  In the context of COVID-19, where the cytokine...     ok   \n",
       "11     11  Lack of Direct Evidence: It's important to emp...     ok   \n",
       "12     12  Any potential connection between morphine and ...     ok   \n",
       "13     13  The information from the abstracts can only se...     ok   \n",
       "14     14  However, these hypotheses would need to be rig...     ok   \n",
       "\n",
       "   bad_predicates                                    good_predicates  \\\n",
       "0              []  [[COVID-19, patients], [morphine, symptoms], [...   \n",
       "1              []  [[morphine, COVID-19], [COVID-19, patients], [...   \n",
       "2              []         [[pentoxifylline, inflammatory responses]]   \n",
       "3              []                                                 []   \n",
       "4              []  [[Symptoms, COVID-19], [opioid analgesic, seve...   \n",
       "5              []  [[pain, patients], [discomfort, patients], [pn...   \n",
       "6              []                                                 []   \n",
       "7              []  [[nephrolithotomy, inflammatory responses], [n...   \n",
       "8              []                         [[drugs, immune response]]   \n",
       "9              []                     [[Morphine, immunomodulatory]]   \n",
       "10             []                      [[morphine, immune response]]   \n",
       "11             []                               [[However, However]]   \n",
       "12             []                                                 []   \n",
       "13             []                                                 []   \n",
       "14             []                                                 []   \n",
       "\n",
       "   reworked_part  \n",
       "0           None  \n",
       "1           None  \n",
       "2           None  \n",
       "3           None  \n",
       "4           None  \n",
       "5           None  \n",
       "6           None  \n",
       "7           None  \n",
       "8           None  \n",
       "9           None  \n",
       "10          None  \n",
       "11          None  \n",
       "12          None  \n",
       "13          None  \n",
       "14          None  "
      ]
     },
     "execution_count": 106,
     "metadata": {},
     "output_type": "execute_result"
    }
   ],
   "source": [
    "expl_parts_df = pd.DataFrame(evaluation_result).reset_index()\n",
    "expl_parts_df['reworked_part'] = None\n",
    "expl_parts_df"
   ]
  },
  {
   "cell_type": "markdown",
   "id": "7a3399d1-9724-427b-a0b4-3337d31d9d24",
   "metadata": {},
   "source": [
    "No Rework Sentence find out so we end up path here."
   ]
  }
 ],
 "metadata": {
  "kernelspec": {
   "display_name": "Python [conda env:agatha_cgp_2024]",
   "language": "python",
   "name": "conda-env-agatha_cgp_2024-py"
  },
  "language_info": {
   "codemirror_mode": {
    "name": "ipython",
    "version": 3
   },
   "file_extension": ".py",
   "mimetype": "text/x-python",
   "name": "python",
   "nbconvert_exporter": "python",
   "pygments_lexer": "ipython3",
   "version": "3.8.19"
  }
 },
 "nbformat": 4,
 "nbformat_minor": 5
}
